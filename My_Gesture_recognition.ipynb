{
 "cells": [
  {
   "cell_type": "code",
   "execution_count": 1,
   "id": "2e767abf-7ce2-4ed5-8fd9-592434077b13",
   "metadata": {},
   "outputs": [],
   "source": [
    "import numpy as np\n",
    "import os\n",
    "\n",
    "#from scipy.misc import imread, imresize\n",
    "#from imageio import imread #using instead of imread from scipy.misc\n",
    "#from scipy.misc import imresize\n",
    "from skimage.io import imread #using instead of imread from scipy.misc\n",
    "from skimage.transform import resize #use resize instead of imresize\n",
    "import datetime\n",
    "import os\n",
    "\n",
    "import keras\n",
    "from keras.models import Sequential, Model\n",
    "from keras.layers import Dense, Dropout, Flatten, BatchNormalization, Activation\n",
    "from keras.layers import Conv3D, MaxPooling3D, Conv2D, MaxPooling2D\n",
    "from keras.regularizers import l2\n",
    "from keras import optimizers\n",
    "from tensorflow.python.keras.utils.data_utils import Sequence\n"
   ]
  },
  {
   "cell_type": "code",
   "execution_count": null,
   "id": "0f156edb-3a35-4b94-ba07-75dd28a6de37",
   "metadata": {},
   "outputs": [],
   "source": []
  },
  {
   "cell_type": "code",
   "execution_count": 2,
   "id": "5ec983c7-b1f0-4588-bbb5-61995d0dffdc",
   "metadata": {},
   "outputs": [],
   "source": [
    "np.random.seed(30)\n",
    "import random as rn\n",
    "rn.seed(30)\n",
    "from keras import backend as K\n",
    "import tensorflow as tf\n",
    "#tf.set_random_seed(30)"
   ]
  },
  {
   "cell_type": "code",
   "execution_count": 3,
   "id": "c8d57876-877b-4a8a-9a11-c6c06afc9c77",
   "metadata": {},
   "outputs": [
    {
     "name": "stdout",
     "output_type": "stream",
     "text": [
      "Training data: 663\n",
      "Validation data: 100\n"
     ]
    }
   ],
   "source": [
    "#train_doc = np.random.permutation(open('/notebooks/storage/Final_data/Collated_training/train.csv').readlines())\n",
    "#val_doc = np.random.permutation(open('/notebooks/storage/Final_data/Collated_training/val.csv').readlines())\n",
    "\n",
    "train_doc = np.random.permutation(open('Project_data/train.csv').readlines())\n",
    "val_doc = np.random.permutation(open('Project_data/val.csv').readlines())\n",
    "\n",
    "batch_size = 20 #experiment with the batch size\n",
    "print(\"Training data:\" , len(train_doc))\n",
    "print(\"Validation data:\", len(val_doc))"
   ]
  },
  {
   "cell_type": "code",
   "execution_count": 4,
   "id": "71c35aef-409e-44f9-90fe-1355e4a3e503",
   "metadata": {},
   "outputs": [],
   "source": [
    "height = 100 # image width\n",
    "width = 100 # image height\n",
    "img_idx = np.arange(0, 30, 2) #create a list of image numbers you want to use for a particular video"
   ]
  },
  {
   "cell_type": "code",
   "execution_count": 5,
   "id": "415be0ab-925c-4eac-a816-8d3c52e55de4",
   "metadata": {},
   "outputs": [
    {
     "name": "stdout",
     "output_type": "stream",
     "text": [
      "['Thumbs up', 'Thumbs down', 'Left swipe', 'Right swipe', 'Stop']\n",
      "5\n"
     ]
    }
   ],
   "source": [
    "classes = ['Thumbs up', 'Thumbs down','Left swipe', 'Right swipe', 'Stop']\n",
    "print(classes)\n",
    "num_classes = len(classes)\n",
    "print(num_classes)"
   ]
  },
  {
   "cell_type": "markdown",
   "id": "617e7493-b0e1-47de-a035-53654d30c70f",
   "metadata": {},
   "source": [
    "## Generator\r\n",
    "This is one of the most important part of the code. The overall structure of the generator has been given. In the generator, you are going to preprocess the images as you have images of 2 different dimensions as well as create a batch of video frames. You have to experiment with img_idx, y,z and normalization such that you get high accuracy."
   ]
  },
  {
   "cell_type": "markdown",
   "id": "37f11be2-dab5-4ba5-a66a-9d0165d0fda5",
   "metadata": {
    "jp-MarkdownHeadingCollapsed": true
   },
   "source": [
    "##### Starter Generator Logic"
   ]
  },
  {
   "cell_type": "markdown",
   "id": "4074f198-4241-46d8-8295-18bc2b128d50",
   "metadata": {},
   "source": [
    "def generator(source_path, folder_list, batch_size):\n",
    "    y = 100 # image width\n",
    "    z = 100 # image height\n",
    "\n",
    "    print( 'Source path = ', source_path, '; batch size =', batch_size)\n",
    "    img_idx = np.arange(0,30,2) #create a list of image numbers you want to use for a particular video\n",
    "    while True:\n",
    "        t = np.random.permutation(folder_list)\n",
    "        num_batches = len(t)//batch_size  # calculate the number of batches #no. of sequences/batch_size... #1 seq = 1 video... #eg: seq => 100/10 = 10\n",
    "        print('Total Sequences :', num_batches * batch_size)\n",
    "        x = len(img_idx)\n",
    "        for batch in range(num_batches): # we iterate over the number of batches\n",
    "            batch_data = np.zeros((batch_size,x,y,z,3)) # x is the number of images you use for each video, (y,z) is the final size of the input images and 3 is the number of channels RGB\n",
    "            batch_labels = np.zeros((batch_size,5)) # batch_labels is the one hot representation of the output\n",
    "            for folder in range(batch_size): # iterate over the batch_size\n",
    "                imgs = os.listdir(source_path+'/'+ t[folder + (batch*batch_size)].split(';')[0]) # read all the images in the folder\n",
    "                for idx,item in enumerate(img_idx): #  Iterate iver the frames/images of a folder to read them in\n",
    "                    image = imread(source_path+'/'+ t[folder + (batch*batch_size)].strip().split(';')[0]+'/'+imgs[item]).astype(np.float32)\n",
    "\n",
    "                    #crop the images and resize them. Note that the images are of 2 different shape\n",
    "                    #and the conv3D will throw error if the inputs in a batch have different shapes\n",
    "                    if image.shape[1] == 160:\n",
    "                        image = image[:, 20:140, :] # Cropping  20 px from the sides...  to make it a square image.\n",
    "\n",
    "                    res_image = resize(image=image, output_shape=(y, z), anti_aliasing=True)\n",
    "\n",
    "                    batch_data[folder,idx,:,:,0] = res_image[:,:,0] #normalise and feed in the image\n",
    "                    batch_data[folder,idx,:,:,1] = res_image[:,:,1] #normalise and feed in the image\n",
    "                    batch_data[folder,idx,:,:,2] = res_image[:,:,2] #normalise and feed in the image\n",
    "\n",
    "                batch_labels[folder, int(t[folder + (batch*batch_size)].strip().split(';')[2])] = 1\n",
    "            yield batch_data, batch_labels #you yield the batch_data and the batch_labels, remember what does yield do\n",
    "        # write the code for the remaining data points which are left after full batches"
   ]
  },
  {
   "cell_type": "markdown",
   "id": "beb2acc4-c329-4ba6-98e1-2f1ceb9d723b",
   "metadata": {},
   "source": [
    "#### Generator & Support Functions"
   ]
  },
  {
   "cell_type": "code",
   "execution_count": 6,
   "id": "cefbba76-27a7-49a4-ae50-36787fa79d3a",
   "metadata": {},
   "outputs": [],
   "source": [
    "def process_batch(source_path, batch, batch_size, frame_ids, height, width):\n",
    "    frame_rate = len(frame_ids)\n",
    "    batch_data   = np.zeros((batch_size, frame_rate, height, width, 3)) # 3 is the number of channels RGB\n",
    "    batch_labels = np.zeros((batch_size, 5)) # batch_labels is the one hot representation of the output\n",
    "\n",
    "    for folder in range(batch_size): # iterate over the batch_size\n",
    "        #print('Processing Dir:', source_path+'/'+ t[folder + (batch*batch_size)].split(';')[0])\n",
    "        imgs = os.listdir(source_path+'/'+ t[folder + (batch*batch_size)].split(';')[0]) # read all the images in the folder\n",
    "        for idx,item in enumerate(frame_ids): #  Iterate over the frames/images of a folder to read them in\n",
    "            image = imread(source_path+'/'+ t[folder + (batch*batch_size)].strip().split(';')[0]+'/'+imgs[item]).astype(np.float32)\n",
    "\n",
    "            #crop the images and resize them. Note that the images are of 2 different shape\n",
    "            #and the conv3D will throw error if the inputs in a batch have different shapes\n",
    "            #h, w, c = image.shape\n",
    "            image = resize(image, (height, width), anti_aliasing=True)\n",
    "\n",
    "            batch_data[folder,idx,:,:,0] = (image[...,0])/255 #normalise and feed in the image\n",
    "            batch_data[folder,idx,:,:,1] = (image[...,1])/255 #normalise and feed in the image\n",
    "            batch_data[folder,idx,:,:,2] = (image[...,2])/255 #normalise and feed in the image\n",
    "        batch_labels[folder, int(t[folder + (batch*batch_size)].strip().split(';')[2])] = 1\n",
    "    yield batch_data, batch_labels\n"
   ]
  },
  {
   "cell_type": "code",
   "execution_count": 7,
   "id": "a7b2fc78-8ab6-45c5-aa28-f0af7055c3bc",
   "metadata": {},
   "outputs": [],
   "source": [
    "def gesture_generator(source_path, folder_list, batch_size, frame_ids, height, width):\n",
    "    print( 'Source path = ', source_path, '; batch size =', batch_size)\n",
    "    #img_ids = np.arange(0,30,2) #create a list of image numbers you want to use for a particular video\n",
    "    while True:\n",
    "        t = np.random.permutation(folder_list)\n",
    "        num_batches = len(folder_list)//batch_size  # calculate the number of batches #no. of sequences/batch_size... @ 1 seq = 1 video.. (eg: seq => 100/10 = 10)\n",
    "        print('Total Sequences :', num_batches * batch_size)\n",
    "        for batch in range(num_batches): # we iterate over the number of batches\n",
    "            frame_rate = len(frame_ids)\n",
    "            for X, y in process_batch(source_path, batch, batch_size, frame_ids, height, width):\n",
    "                yield X, y\n",
    "        # write the code for the remaining data points which are left after full batches\n",
    "        rem_batches = len(folder_list) % batch_size\n",
    "        if rem_batches > 0:\n",
    "            for X, y in process_batch(source_path, batch, rem_batches, frame_ids, height, width):\n",
    "                yield X, y"
   ]
  },
  {
   "cell_type": "code",
   "execution_count": null,
   "id": "6cd96d00-8818-4f2a-acde-2456bc5ee200",
   "metadata": {},
   "outputs": [],
   "source": []
  },
  {
   "cell_type": "code",
   "execution_count": 8,
   "id": "1c5edeb3-1a81-47bb-8805-e8d080cd6941",
   "metadata": {},
   "outputs": [
    {
     "data": {
      "text/plain": [
       "range(0, 33)"
      ]
     },
     "execution_count": 8,
     "metadata": {},
     "output_type": "execute_result"
    }
   ],
   "source": [
    "t = np.random.permutation(train_doc)\n",
    "nb = len(t)//batch_size\n",
    "range(nb)"
   ]
  },
  {
   "cell_type": "markdown",
   "id": "a62d9a0f-1b6a-4f19-a6f7-99ade99780f0",
   "metadata": {},
   "source": [
    "## Prepare a Model"
   ]
  },
  {
   "cell_type": "markdown",
   "id": "b876f842-c13c-4a29-ab18-aa233aea4203",
   "metadata": {},
   "source": [
    "### 1. Create a Conv3D + RNN (GRU)"
   ]
  },
  {
   "cell_type": "code",
   "execution_count": 9,
   "id": "7acffdb9-c15c-4bb2-be45-c36431d0bdc3",
   "metadata": {},
   "outputs": [],
   "source": [
    "import keras\n",
    "from keras.models import Sequential, Model\n",
    "from keras.layers import Dense, Dropout, Flatten, BatchNormalization, Activation\n",
    "from keras.layers import Conv3D, MaxPooling3D, Conv2D, MaxPooling2D\n",
    "from keras.callbacks import ModelCheckpoint, ReduceLROnPlateau\n",
    "from keras.regularizers import l2\n",
    "from keras import optimizers\n",
    "from tensorflow.python.keras.utils.data_utils import Sequence"
   ]
  },
  {
   "cell_type": "code",
   "execution_count": 10,
   "id": "d8dccd8b-024c-4b99-8220-3d7331e7530b",
   "metadata": {},
   "outputs": [],
   "source": [
    "def prepare_conv3d_model():\n",
    "    model = Sequential()\n",
    "    model.add(Conv3D(32, (3,3,3), padding='same', input_shape=(len(img_idx), height, width, 3)))\n",
    "    model.add(Activation('relu'))\n",
    "    model.add(MaxPooling3D(pool_size=(2, 2, 2)))\n",
    "\n",
    "    model.add(Conv3D(64, (3,3,3), padding='same'))\n",
    "    model.add(Activation('relu'))\n",
    "    model.add(BatchNormalization())\n",
    "    model.add(MaxPooling3D(pool_size=(2, 2, 2)))\n",
    "\n",
    "    model.add(Conv3D(64, (3,3,3), padding='same'))\n",
    "    model.add(Activation('relu'))\n",
    "    model.add(MaxPooling3D(pool_size=(2, 2, 2)))\n",
    "\n",
    "    model.add(Flatten())\n",
    "    model.add(Dense(128))\n",
    "    model.add(Activation('relu'))\n",
    "    model.add(Dropout(0.20))\n",
    "\n",
    "    model.add(Dense(num_classes))\n",
    "    model.add(Activation('softmax'))\n",
    "    return model"
   ]
  },
  {
   "cell_type": "code",
   "execution_count": null,
   "id": "012bc23c-284b-490d-9413-5ef1b08e6cf7",
   "metadata": {},
   "outputs": [],
   "source": []
  },
  {
   "cell_type": "code",
   "execution_count": 11,
   "id": "457c5b39-a5ea-489b-b283-3699e61d56bb",
   "metadata": {},
   "outputs": [],
   "source": [
    "def model_callbacks(curr_dt_time, save_folder_name):\n",
    "    model_name = 'model_init' + '_' + str(curr_dt_time).replace(' ','').replace(':','_') + '/'\n",
    "    save_file_path = save_folder_name + '/' + model_name + '/'\n",
    "    if not os.path.exists(save_file_path):\n",
    "        os.makedirs(save_file_path, mode=0o666)\n",
    "    filepath = save_file_path + 'model-{epoch:05d}-{loss:.5f}-{categorical_accuracy:.5f}-{val_loss:.5f}-{val_categorical_accuracy:.5f}.h5'\n",
    "    checkpoint = ModelCheckpoint(filepath, monitor='val_loss', verbose=1, save_best_only=False, save_weights_only=False, mode='auto', period=1)\n",
    "    #LR = # write the REducelronplateau code here\n",
    "    LR = ReduceLROnPlateau(monitor='val_loss', factor=0.1, patience=2, fmin_lr=0.00001, verbose=1)\n",
    "    return [checkpoint, LR]"
   ]
  },
  {
   "cell_type": "code",
   "execution_count": 12,
   "id": "fc047270-2be9-4827-8bcf-b995287f42fb",
   "metadata": {},
   "outputs": [],
   "source": [
    "def get_steps_info(num_train_sequences, num_val_sequences, batch_size):\n",
    "    if (num_train_sequences%batch_size) == 0:\n",
    "        steps_per_epoch = int(num_train_sequences/batch_size)\n",
    "    else:\n",
    "        steps_per_epoch = (num_train_sequences//batch_size) + 1\n",
    "\n",
    "    if (num_val_sequences%batch_size) == 0:\n",
    "        validation_steps = int(num_val_sequences/batch_size)\n",
    "    else:\n",
    "        validation_steps = (num_val_sequences//batch_size) + 1\n",
    "    return steps_per_epoch, validation_steps"
   ]
  },
  {
   "cell_type": "code",
   "execution_count": 13,
   "id": "29ad8d5c-3f8b-4d23-b23e-587fa5f1e412",
   "metadata": {},
   "outputs": [
    {
     "name": "stdout",
     "output_type": "stream",
     "text": [
      "Model: \"sequential\"\n",
      "_________________________________________________________________\n",
      " Layer (type)                Output Shape              Param #   \n",
      "=================================================================\n",
      " conv3d (Conv3D)             (None, 15, 100, 100, 32   2624      \n",
      "                             )                                   \n",
      "                                                                 \n",
      " activation (Activation)     (None, 15, 100, 100, 32   0         \n",
      "                             )                                   \n",
      "                                                                 \n",
      " max_pooling3d (MaxPooling3  (None, 7, 50, 50, 32)     0         \n",
      " D)                                                              \n",
      "                                                                 \n",
      " conv3d_1 (Conv3D)           (None, 7, 50, 50, 64)     55360     \n",
      "                                                                 \n",
      " activation_1 (Activation)   (None, 7, 50, 50, 64)     0         \n",
      "                                                                 \n",
      " batch_normalization (Batch  (None, 7, 50, 50, 64)     256       \n",
      " Normalization)                                                  \n",
      "                                                                 \n",
      " max_pooling3d_1 (MaxPoolin  (None, 3, 25, 25, 64)     0         \n",
      " g3D)                                                            \n",
      "                                                                 \n",
      " conv3d_2 (Conv3D)           (None, 3, 25, 25, 64)     110656    \n",
      "                                                                 \n",
      " activation_2 (Activation)   (None, 3, 25, 25, 64)     0         \n",
      "                                                                 \n",
      " max_pooling3d_2 (MaxPoolin  (None, 1, 12, 12, 64)     0         \n",
      " g3D)                                                            \n",
      "                                                                 \n",
      " flatten (Flatten)           (None, 9216)              0         \n",
      "                                                                 \n",
      " dense (Dense)               (None, 128)               1179776   \n",
      "                                                                 \n",
      " activation_3 (Activation)   (None, 128)               0         \n",
      "                                                                 \n",
      " dropout (Dropout)           (None, 128)               0         \n",
      "                                                                 \n",
      " dense_1 (Dense)             (None, 5)                 645       \n",
      "                                                                 \n",
      " activation_4 (Activation)   (None, 5)                 0         \n",
      "                                                                 \n",
      "=================================================================\n",
      "Total params: 1349317 (5.15 MB)\n",
      "Trainable params: 1349189 (5.15 MB)\n",
      "Non-trainable params: 128 (512.00 Byte)\n",
      "_________________________________________________________________\n"
     ]
    }
   ],
   "source": [
    "conv_3d_model = prepare_conv3d_model()\n",
    "optimizer = optimizers.Adam()\n",
    "conv_3d_model.compile(optimizer, loss='categorical_crossentropy', metrics=['categorical_accuracy'])\n",
    "conv_3d_model.summary()"
   ]
  },
  {
   "cell_type": "code",
   "execution_count": 14,
   "id": "3bb89209-c274-4bf8-88fa-f07d2068555d",
   "metadata": {},
   "outputs": [
    {
     "name": "stdout",
     "output_type": "stream",
     "text": [
      "WARNING:tensorflow:`period` argument is deprecated. Please use `save_freq` to specify the frequency in number of batches seen.\n"
     ]
    }
   ],
   "source": [
    "curr_dt_time = datetime.datetime.now()\n",
    "num_epochs = 10\n",
    "callbacks_list = model_callbacks(curr_dt_time, \"d:\\model_conv3D_1\")\n",
    "steps_per_epoch, validation_steps = get_steps_info(len(train_doc), len(val_doc), batch_size)"
   ]
  },
  {
   "cell_type": "code",
   "execution_count": 15,
   "id": "6b02a905-692b-4ae5-8026-925012888438",
   "metadata": {},
   "outputs": [
    {
     "name": "stdout",
     "output_type": "stream",
     "text": [
      "Epochs 10\n",
      "steps_per_epoch 34\n",
      "validation_steps 5\n"
     ]
    }
   ],
   "source": [
    "print('Epochs', num_epochs)\n",
    "print('steps_per_epoch', steps_per_epoch)\n",
    "print('validation_steps', validation_steps)"
   ]
  },
  {
   "cell_type": "code",
   "execution_count": 16,
   "id": "d5dea41e-0433-4c5a-bbd5-014832eb5538",
   "metadata": {},
   "outputs": [],
   "source": [
    "training_data_gen = gesture_generator('Project_data/train', train_doc, batch_size,img_idx, height, width)\n",
    "validation_data_gen = gesture_generator('Project_data/val', val_doc, batch_size, img_idx, height, width)"
   ]
  },
  {
   "cell_type": "code",
   "execution_count": 17,
   "id": "89008481-53b7-4c5f-9a4d-445bd5ada92f",
   "metadata": {},
   "outputs": [
    {
     "name": "stdout",
     "output_type": "stream",
     "text": [
      "Source path =  Project_data/train ; batch size = 20\n",
      "Total Sequences : 660\n",
      "Epoch 1/10\n",
      "32/34 [===========================>..] - ETA: 11s - loss: 2.4795 - categorical_accuracy: 0.3063Total Sequences : 660\n",
      "34/34 [==============================] - ETA: 0s - loss: 2.4526 - categorical_accuracy: 0.3062Source path =  Project_data/val ; batch size = 20\n",
      "Total Sequences : 100\n"
     ]
    },
    {
     "ename": "FileNotFoundError",
     "evalue": "[WinError 3] The system cannot find the path specified: 'Project_data/val/WIN_20180926_17_24_58_Pro_Right_Swipe_new'",
     "output_type": "error",
     "traceback": [
      "\u001b[1;31m---------------------------------------------------------------------------\u001b[0m",
      "\u001b[1;31mFileNotFoundError\u001b[0m                         Traceback (most recent call last)",
      "Cell \u001b[1;32mIn[17], line 1\u001b[0m\n\u001b[1;32m----> 1\u001b[0m history \u001b[38;5;241m=\u001b[39m \u001b[43mconv_3d_model\u001b[49m\u001b[38;5;241;43m.\u001b[39;49m\u001b[43mfit\u001b[49m\u001b[43m(\u001b[49m\u001b[43mx\u001b[49m\u001b[38;5;241;43m=\u001b[39;49m\u001b[43mtraining_data_gen\u001b[49m\u001b[43m,\u001b[49m\u001b[43m \u001b[49m\u001b[43msteps_per_epoch\u001b[49m\u001b[38;5;241;43m=\u001b[39;49m\u001b[43msteps_per_epoch\u001b[49m\u001b[43m,\u001b[49m\u001b[43m \u001b[49m\u001b[43mepochs\u001b[49m\u001b[38;5;241;43m=\u001b[39;49m\u001b[43mnum_epochs\u001b[49m\u001b[43m,\u001b[49m\u001b[43m \u001b[49m\u001b[43mverbose\u001b[49m\u001b[38;5;241;43m=\u001b[39;49m\u001b[38;5;241;43m1\u001b[39;49m\u001b[43m,\u001b[49m\n\u001b[0;32m      2\u001b[0m \u001b[43m                              \u001b[49m\u001b[43mcallbacks\u001b[49m\u001b[38;5;241;43m=\u001b[39;49m\u001b[43mcallbacks_list\u001b[49m\u001b[43m,\u001b[49m\u001b[43m \u001b[49m\u001b[43mvalidation_data\u001b[49m\u001b[38;5;241;43m=\u001b[39;49m\u001b[43mvalidation_data_gen\u001b[49m\u001b[43m,\u001b[49m\n\u001b[0;32m      3\u001b[0m \u001b[43m                              \u001b[49m\u001b[43mvalidation_steps\u001b[49m\u001b[38;5;241;43m=\u001b[39;49m\u001b[43mvalidation_steps\u001b[49m\u001b[43m)\u001b[49m\n",
      "File \u001b[1;32mC:\\Program Files\\Python39\\lib\\site-packages\\keras\\src\\utils\\traceback_utils.py:70\u001b[0m, in \u001b[0;36mfilter_traceback.<locals>.error_handler\u001b[1;34m(*args, **kwargs)\u001b[0m\n\u001b[0;32m     67\u001b[0m     filtered_tb \u001b[38;5;241m=\u001b[39m _process_traceback_frames(e\u001b[38;5;241m.\u001b[39m__traceback__)\n\u001b[0;32m     68\u001b[0m     \u001b[38;5;66;03m# To get the full stack trace, call:\u001b[39;00m\n\u001b[0;32m     69\u001b[0m     \u001b[38;5;66;03m# `tf.debugging.disable_traceback_filtering()`\u001b[39;00m\n\u001b[1;32m---> 70\u001b[0m     \u001b[38;5;28;01mraise\u001b[39;00m e\u001b[38;5;241m.\u001b[39mwith_traceback(filtered_tb) \u001b[38;5;28;01mfrom\u001b[39;00m \u001b[38;5;28;01mNone\u001b[39;00m\n\u001b[0;32m     71\u001b[0m \u001b[38;5;28;01mfinally\u001b[39;00m:\n\u001b[0;32m     72\u001b[0m     \u001b[38;5;28;01mdel\u001b[39;00m filtered_tb\n",
      "Cell \u001b[1;32mIn[7], line 10\u001b[0m, in \u001b[0;36mgesture_generator\u001b[1;34m(source_path, folder_list, batch_size, frame_ids, height, width)\u001b[0m\n\u001b[0;32m      8\u001b[0m \u001b[38;5;28;01mfor\u001b[39;00m batch \u001b[38;5;129;01min\u001b[39;00m \u001b[38;5;28mrange\u001b[39m(num_batches): \u001b[38;5;66;03m# we iterate over the number of batches\u001b[39;00m\n\u001b[0;32m      9\u001b[0m     frame_rate \u001b[38;5;241m=\u001b[39m \u001b[38;5;28mlen\u001b[39m(frame_ids)\n\u001b[1;32m---> 10\u001b[0m     \u001b[38;5;28;01mfor\u001b[39;00m X, y \u001b[38;5;129;01min\u001b[39;00m process_batch(source_path, batch, batch_size, frame_ids, height, width):\n\u001b[0;32m     11\u001b[0m         \u001b[38;5;28;01myield\u001b[39;00m X, y\n\u001b[0;32m     12\u001b[0m \u001b[38;5;66;03m# write the code for the remaining data points which are left after full batches\u001b[39;00m\n",
      "Cell \u001b[1;32mIn[6], line 8\u001b[0m, in \u001b[0;36mprocess_batch\u001b[1;34m(source_path, batch, batch_size, frame_ids, height, width)\u001b[0m\n\u001b[0;32m      4\u001b[0m batch_labels \u001b[38;5;241m=\u001b[39m np\u001b[38;5;241m.\u001b[39mzeros((batch_size, \u001b[38;5;241m5\u001b[39m)) \u001b[38;5;66;03m# batch_labels is the one hot representation of the output\u001b[39;00m\n\u001b[0;32m      6\u001b[0m \u001b[38;5;28;01mfor\u001b[39;00m folder \u001b[38;5;129;01min\u001b[39;00m \u001b[38;5;28mrange\u001b[39m(batch_size): \u001b[38;5;66;03m# iterate over the batch_size\u001b[39;00m\n\u001b[0;32m      7\u001b[0m     \u001b[38;5;66;03m#print('Processing Dir:', source_path+'/'+ t[folder + (batch*batch_size)].split(';')[0])\u001b[39;00m\n\u001b[1;32m----> 8\u001b[0m     imgs \u001b[38;5;241m=\u001b[39m \u001b[43mos\u001b[49m\u001b[38;5;241;43m.\u001b[39;49m\u001b[43mlistdir\u001b[49m\u001b[43m(\u001b[49m\u001b[43msource_path\u001b[49m\u001b[38;5;241;43m+\u001b[39;49m\u001b[38;5;124;43m'\u001b[39;49m\u001b[38;5;124;43m/\u001b[39;49m\u001b[38;5;124;43m'\u001b[39;49m\u001b[38;5;241;43m+\u001b[39;49m\u001b[43m \u001b[49m\u001b[43mt\u001b[49m\u001b[43m[\u001b[49m\u001b[43mfolder\u001b[49m\u001b[43m \u001b[49m\u001b[38;5;241;43m+\u001b[39;49m\u001b[43m \u001b[49m\u001b[43m(\u001b[49m\u001b[43mbatch\u001b[49m\u001b[38;5;241;43m*\u001b[39;49m\u001b[43mbatch_size\u001b[49m\u001b[43m)\u001b[49m\u001b[43m]\u001b[49m\u001b[38;5;241;43m.\u001b[39;49m\u001b[43msplit\u001b[49m\u001b[43m(\u001b[49m\u001b[38;5;124;43m'\u001b[39;49m\u001b[38;5;124;43m;\u001b[39;49m\u001b[38;5;124;43m'\u001b[39;49m\u001b[43m)\u001b[49m\u001b[43m[\u001b[49m\u001b[38;5;241;43m0\u001b[39;49m\u001b[43m]\u001b[49m\u001b[43m)\u001b[49m \u001b[38;5;66;03m# read all the images in the folder\u001b[39;00m\n\u001b[0;32m      9\u001b[0m     \u001b[38;5;28;01mfor\u001b[39;00m idx,item \u001b[38;5;129;01min\u001b[39;00m \u001b[38;5;28menumerate\u001b[39m(frame_ids): \u001b[38;5;66;03m#  Iterate over the frames/images of a folder to read them in\u001b[39;00m\n\u001b[0;32m     10\u001b[0m         image \u001b[38;5;241m=\u001b[39m imread(source_path\u001b[38;5;241m+\u001b[39m\u001b[38;5;124m'\u001b[39m\u001b[38;5;124m/\u001b[39m\u001b[38;5;124m'\u001b[39m\u001b[38;5;241m+\u001b[39m t[folder \u001b[38;5;241m+\u001b[39m (batch\u001b[38;5;241m*\u001b[39mbatch_size)]\u001b[38;5;241m.\u001b[39mstrip()\u001b[38;5;241m.\u001b[39msplit(\u001b[38;5;124m'\u001b[39m\u001b[38;5;124m;\u001b[39m\u001b[38;5;124m'\u001b[39m)[\u001b[38;5;241m0\u001b[39m]\u001b[38;5;241m+\u001b[39m\u001b[38;5;124m'\u001b[39m\u001b[38;5;124m/\u001b[39m\u001b[38;5;124m'\u001b[39m\u001b[38;5;241m+\u001b[39mimgs[item])\u001b[38;5;241m.\u001b[39mastype(np\u001b[38;5;241m.\u001b[39mfloat32)\n",
      "\u001b[1;31mFileNotFoundError\u001b[0m: [WinError 3] The system cannot find the path specified: 'Project_data/val/WIN_20180926_17_24_58_Pro_Right_Swipe_new'"
     ]
    }
   ],
   "source": [
    "history = conv_3d_model.fit(x=training_data_gen, steps_per_epoch=steps_per_epoch, epochs=num_epochs, verbose=1,\n",
    "                              callbacks=callbacks_list, validation_data=validation_data_gen,\n",
    "                              validation_steps=validation_steps)"
   ]
  },
  {
   "cell_type": "code",
   "execution_count": null,
   "id": "362a8dcc-7baf-4cca-9b7e-eb01cf105404",
   "metadata": {},
   "outputs": [],
   "source": [
    "#---------------------------------------#\n"
   ]
  }
 ],
 "metadata": {
  "kernelspec": {
   "display_name": "Python 3 (ipykernel)",
   "language": "python",
   "name": "python3"
  },
  "language_info": {
   "codemirror_mode": {
    "name": "ipython",
    "version": 3
   },
   "file_extension": ".py",
   "mimetype": "text/x-python",
   "name": "python",
   "nbconvert_exporter": "python",
   "pygments_lexer": "ipython3",
   "version": "3.9.13"
  }
 },
 "nbformat": 4,
 "nbformat_minor": 5
}
