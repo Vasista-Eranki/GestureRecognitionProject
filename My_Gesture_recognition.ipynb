{
 "cells": [
  {
   "cell_type": "code",
   "execution_count": 1,
   "id": "2e767abf-7ce2-4ed5-8fd9-592434077b13",
   "metadata": {},
   "outputs": [],
   "source": [
    "import numpy as np\n",
    "import os\n",
    "import matplotlib.pyplot as plt\n",
    "#from scipy.misc import imread, imresize\n",
    "#from imageio import imread #using instead of imread from scipy.misc\n",
    "#from scipy.misc import imresize\n",
    "from skimage.io import imread #using instead of imread from scipy.misc\n",
    "from skimage.transform import resize #use resize instead of imresize\n",
    "import datetime\n",
    "import os\n",
    "\n",
    "import keras\n",
    "from keras.models import Sequential, Model\n",
    "from keras.layers import Dense, Dropout, Flatten, BatchNormalization, Activation\n",
    "from keras.layers import Conv3D, MaxPooling3D, Conv2D, MaxPooling2D\n",
    "from keras.regularizers import l2\n",
    "from keras import optimizers\n",
    "from tensorflow.python.keras.utils.data_utils import Sequence\n"
   ]
  },
  {
   "cell_type": "code",
   "execution_count": null,
   "id": "0f156edb-3a35-4b94-ba07-75dd28a6de37",
   "metadata": {},
   "outputs": [],
   "source": []
  },
  {
   "cell_type": "code",
   "execution_count": 2,
   "id": "5ec983c7-b1f0-4588-bbb5-61995d0dffdc",
   "metadata": {},
   "outputs": [],
   "source": [
    "np.random.seed(30)\n",
    "import random as rn\n",
    "rn.seed(30)\n",
    "from keras import backend as K\n",
    "import tensorflow as tf\n",
    "#tf.set_random_seed(30)"
   ]
  },
  {
   "cell_type": "code",
   "execution_count": 3,
   "id": "c8d57876-877b-4a8a-9a11-c6c06afc9c77",
   "metadata": {},
   "outputs": [
    {
     "name": "stdout",
     "output_type": "stream",
     "text": [
      "Training data: 663\n",
      "Validation data: 100\n"
     ]
    }
   ],
   "source": [
    "#train_doc = np.random.permutation(open('/notebooks/storage/Final_data/Collated_training/train.csv').readlines())\n",
    "#val_doc = np.random.permutation(open('/notebooks/storage/Final_data/Collated_training/val.csv').readlines())\n",
    "\n",
    "train_doc = np.random.permutation(open('Project_data/train.csv').readlines())\n",
    "val_doc = np.random.permutation(open('Project_data/val.csv').readlines())\n",
    "\n",
    "batch_size = 20 #experiment with the batch size\n",
    "print(\"Training data:\" , len(train_doc))\n",
    "print(\"Validation data:\", len(val_doc))"
   ]
  },
  {
   "cell_type": "code",
   "execution_count": 4,
   "id": "71c35aef-409e-44f9-90fe-1355e4a3e503",
   "metadata": {},
   "outputs": [],
   "source": [
    "height = 120 # image width\n",
    "width = 120 # image height\n",
    "img_idx = np.arange(0, 30, 2) #create a list of image numbers you want to use for a particular video"
   ]
  },
  {
   "cell_type": "code",
   "execution_count": 5,
   "id": "415be0ab-925c-4eac-a816-8d3c52e55de4",
   "metadata": {},
   "outputs": [
    {
     "name": "stdout",
     "output_type": "stream",
     "text": [
      "['Thumbs up', 'Thumbs down', 'Left swipe', 'Right swipe', 'Stop']\n",
      "5\n"
     ]
    }
   ],
   "source": [
    "classes = ['Thumbs up', 'Thumbs down','Left swipe', 'Right swipe', 'Stop']\n",
    "print(classes)\n",
    "num_classes = len(classes)\n",
    "print(num_classes)"
   ]
  },
  {
   "cell_type": "markdown",
   "id": "617e7493-b0e1-47de-a035-53654d30c70f",
   "metadata": {},
   "source": [
    "## Generator\r\n",
    "This is one of the most important part of the code. The overall structure of the generator has been given. In the generator, you are going to preprocess the images as you have images of 2 different dimensions as well as create a batch of video frames. You have to experiment with img_idx, y,z and normalization such that you get high accuracy."
   ]
  },
  {
   "cell_type": "markdown",
   "id": "37f11be2-dab5-4ba5-a66a-9d0165d0fda5",
   "metadata": {
    "jp-MarkdownHeadingCollapsed": true
   },
   "source": [
    "##### Starter Generator Logic"
   ]
  },
  {
   "cell_type": "markdown",
   "id": "4074f198-4241-46d8-8295-18bc2b128d50",
   "metadata": {},
   "source": [
    "def generator(source_path, folder_list, batch_size):\n",
    "    y = 100 # image width\n",
    "    z = 100 # image height\n",
    "\n",
    "    print( 'Source path = ', source_path, '; batch size =', batch_size)\n",
    "    img_idx = np.arange(0,30,2) #create a list of image numbers you want to use for a particular video\n",
    "    while True:\n",
    "        t = np.random.permutation(folder_list)\n",
    "        num_batches = len(t)//batch_size  # calculate the number of batches #no. of sequences/batch_size... #1 seq = 1 video... #eg: seq => 100/10 = 10\n",
    "        print('Total Sequences :', num_batches * batch_size)\n",
    "        x = len(img_idx)\n",
    "        for batch in range(num_batches): # we iterate over the number of batches\n",
    "            batch_data = np.zeros((batch_size,x,y,z,3)) # x is the number of images you use for each video, (y,z) is the final size of the input images and 3 is the number of channels RGB\n",
    "            batch_labels = np.zeros((batch_size,5)) # batch_labels is the one hot representation of the output\n",
    "            for folder in range(batch_size): # iterate over the batch_size\n",
    "                imgs = os.listdir(source_path+'/'+ t[folder + (batch*batch_size)].split(';')[0]) # read all the images in the folder\n",
    "                for idx,item in enumerate(img_idx): #  Iterate iver the frames/images of a folder to read them in\n",
    "                    image = imread(source_path+'/'+ t[folder + (batch*batch_size)].strip().split(';')[0]+'/'+imgs[item]).astype(np.float32)\n",
    "\n",
    "                    #crop the images and resize them. Note that the images are of 2 different shape\n",
    "                    #and the conv3D will throw error if the inputs in a batch have different shapes\n",
    "                    if image.shape[1] == 160:\n",
    "                        image = image[:, 20:140, :] # Cropping  20 px from the sides...  to make it a square image.\n",
    "\n",
    "                    res_image = resize(image=image, output_shape=(y, z), anti_aliasing=True)\n",
    "\n",
    "                    batch_data[folder,idx,:,:,0] = res_image[:,:,0] #normalise and feed in the image\n",
    "                    batch_data[folder,idx,:,:,1] = res_image[:,:,1] #normalise and feed in the image\n",
    "                    batch_data[folder,idx,:,:,2] = res_image[:,:,2] #normalise and feed in the image\n",
    "\n",
    "                batch_labels[folder, int(t[folder + (batch*batch_size)].strip().split(';')[2])] = 1\n",
    "            yield batch_data, batch_labels #you yield the batch_data and the batch_labels, remember what does yield do\n",
    "        # write the code for the remaining data points which are left after full batches"
   ]
  },
  {
   "cell_type": "markdown",
   "id": "beb2acc4-c329-4ba6-98e1-2f1ceb9d723b",
   "metadata": {},
   "source": [
    "#### Generator & Support Functions"
   ]
  },
  {
   "cell_type": "code",
   "execution_count": 6,
   "id": "3dcb7617-1b0d-433b-adb6-feaf1691d6b2",
   "metadata": {},
   "outputs": [],
   "source": [
    "def process_batch(source_path, folders_list, batch, batch_size, img_idx, height=120, width=120):\n",
    "    num_images = len(img_idx)\n",
    "    batch_data   = np.zeros((batch_size, num_images, height, width, 3)) # 3 is the number of channels RGB\n",
    "    batch_labels = np.zeros((batch_size, 5)) # batch_labels is the one hot representation of the output\n",
    "\n",
    "    for folder in range(batch_size): # iterate over the batch_size\n",
    "        imgs = os.listdir(source_path+'/'+ folders_list[folder + (batch*batch_size)].split(';')[0]) # read all the images in the folder\n",
    "        for idx,item in enumerate(img_idx): #  Iterate over the frames/images of a folder to read them in\n",
    "            image = imread(source_path+'/'+ folders_list[folder + (batch*batch_size)].strip().split(';')[0]+'/'+imgs[item]).astype(np.float32)\n",
    "\n",
    "            #crop the images and resize them. Note that the images are of 2 different shape\n",
    "            #and the conv3D will throw error if the inputs in a batch have different shapes\n",
    "            h, w, c = image.shape\n",
    "            if w == 160:\n",
    "                image = image[: 20:140, :] #Crop Horizontal edges to make it a square image\n",
    "            image = resize(image, (height, width), anti_aliasing=True)\n",
    "\n",
    "            batch_data[folder,idx,:,:,0] = (image[...,0])/255 #normalise and feed in the image\n",
    "            batch_data[folder,idx,:,:,1] = (image[...,1])/255 #normalise and feed in the image\n",
    "            batch_data[folder,idx,:,:,2] = (image[...,2])/255 #normalise and feed in the image\n",
    "\n",
    "        batch_labels[folder, int(folders_list[folder + (batch*batch_size)].strip().split(';')[2])] = 1\n",
    "\n",
    "    yield batch_data, batch_labels #you yield the batch_data and the batch_labels, remember what does yield do"
   ]
  },
  {
   "cell_type": "code",
   "execution_count": 7,
   "id": "cefbba76-27a7-49a4-ae50-36787fa79d3a",
   "metadata": {},
   "outputs": [],
   "source": [
    "def gesture_generator(source_path, folder_list, batch_size, img_idx, height=120, width=120):\n",
    "    #total_frames = 30\n",
    "    #num_images = len(img_idx)\n",
    "    while True:\n",
    "        number_of_batches = len(folder_list)//batch_size # calculate the number of batches\n",
    "        randomized_folders_list = np.random.permutation(folder_list)\n",
    "\n",
    "        for batch in range(number_of_batches): # we iterate over the number of batches\n",
    "            for batch_data, batch_labels in process_batch(source_path, randomized_folders_list, batch, batch_size, img_idx, height, width):\n",
    "                yield batch_data, batch_labels\n",
    "\n",
    "            # Remaining (would be < than the batch size) = total - (number_of_batches * batch_size)\n",
    "            remaining_batch_size = len(folder_list) - (number_of_batches * batch_size)\n",
    "            if (remaining_batch_size > 0):\n",
    "                for batch_data, batch_labels in process_batch(source_path, randomized_folders_list, batch, remaining_batch_size, img_idx, height, width):\n",
    "                    yield batch_data, batch_labels"
   ]
  },
  {
   "cell_type": "code",
   "execution_count": 8,
   "id": "a7b2fc78-8ab6-45c5-aa28-f0af7055c3bc",
   "metadata": {},
   "outputs": [],
   "source": [
    "def plot_loss_accuracy(history):\n",
    "    # list all data in history\n",
    "    print(history.history.keys())\n",
    "    # summarize history for accuracy\n",
    "    plt.plot(history.history['categorical_accuracy'])\n",
    "    plt.plot(history.history['val_categorical_accuracy'])\n",
    "    plt.title('model accuracy')\n",
    "    plt.ylabel('accuracy')\n",
    "    plt.xlabel('epoch')\n",
    "    plt.legend(['train', 'test'], loc='upper left')\n",
    "    plt.show()\n",
    "    # summarize history for loss\n",
    "    plt.plot(history.history['loss'])\n",
    "    plt.plot(history.history['val_loss'])\n",
    "    plt.title('model loss')\n",
    "    plt.ylabel('loss')\n",
    "    plt.xlabel('epoch')\n",
    "    plt.legend(['train', 'test'], loc='upper left')\n",
    "    plt.show()"
   ]
  },
  {
   "cell_type": "code",
   "execution_count": 9,
   "id": "6cd96d00-8818-4f2a-acde-2456bc5ee200",
   "metadata": {},
   "outputs": [],
   "source": [
    "def visualize_outputs(fit_data, epoch):\n",
    "    acc = fit_data.history['categorical_accuracy']\n",
    "    val_acc = fit_data.history['val_categorical_accuracy']\n",
    "\n",
    "    loss = fit_data.history['loss']\n",
    "    val_loss = fit_data.history['val_loss']\n",
    "\n",
    "    epochs_range = range(epoch)\n",
    "\n",
    "    plt.figure(figsize=(8, 8))\n",
    "    plt.subplot(1, 2, 1)\n",
    "    plt.plot(epochs_range, acc, label='Training Accuracy')\n",
    "    plt.plot(epochs_range, val_acc, label='Validation Accuracy')\n",
    "    plt.legend(loc='lower right')\n",
    "    plt.title('Training and Validation Accuracy')\n",
    "\n",
    "    plt.subplot(1, 2, 2)\n",
    "    plt.plot(epochs_range, loss, label='Training Loss')\n",
    "    plt.plot(epochs_range, val_loss, label='Validation Loss')\n",
    "    plt.legend(loc='upper right')\n",
    "    plt.title('Training and Validation Loss')\n",
    "    plt.show()"
   ]
  },
  {
   "cell_type": "code",
   "execution_count": 10,
   "id": "1c5edeb3-1a81-47bb-8805-e8d080cd6941",
   "metadata": {},
   "outputs": [
    {
     "data": {
      "text/plain": [
       "range(0, 33)"
      ]
     },
     "execution_count": 10,
     "metadata": {},
     "output_type": "execute_result"
    }
   ],
   "source": [
    "t = np.random.permutation(train_doc)\n",
    "nb = len(t)//batch_size\n",
    "range(nb)"
   ]
  },
  {
   "cell_type": "markdown",
   "id": "a62d9a0f-1b6a-4f19-a6f7-99ade99780f0",
   "metadata": {},
   "source": [
    "## Prepare a Model"
   ]
  },
  {
   "cell_type": "markdown",
   "id": "b876f842-c13c-4a29-ab18-aa233aea4203",
   "metadata": {},
   "source": [
    "### 1. Create a Conv3D + RNN (GRU)"
   ]
  },
  {
   "cell_type": "code",
   "execution_count": 11,
   "id": "7acffdb9-c15c-4bb2-be45-c36431d0bdc3",
   "metadata": {},
   "outputs": [],
   "source": [
    "import keras\n",
    "from keras.models import Sequential, Model\n",
    "from keras.layers import Dense, Dropout, Flatten, BatchNormalization, Activation\n",
    "from keras.layers import Conv3D, MaxPooling3D, Conv2D, MaxPooling2D\n",
    "from keras.callbacks import ModelCheckpoint, ReduceLROnPlateau\n",
    "from keras.regularizers import l2\n",
    "from keras import optimizers\n",
    "from tensorflow.python.keras.utils.data_utils import Sequence"
   ]
  },
  {
   "cell_type": "code",
   "execution_count": 12,
   "id": "d8dccd8b-024c-4b99-8220-3d7331e7530b",
   "metadata": {},
   "outputs": [],
   "source": [
    "def prepare_conv3d_model():\n",
    "    model = Sequential()\n",
    "    model.add(Conv3D(32, (3,3,3), padding='same', input_shape=(len(img_idx), height, width, 3)))\n",
    "    model.add(Activation('relu'))\n",
    "    model.add(MaxPooling3D(pool_size=(2, 2, 2)))\n",
    "\n",
    "    model.add(Conv3D(64, (3,3,3), padding='same'))\n",
    "    model.add(Activation('relu'))\n",
    "    model.add(BatchNormalization())\n",
    "    model.add(MaxPooling3D(pool_size=(2, 2, 2)))\n",
    "\n",
    "    model.add(Conv3D(64, (3,3,3), padding='same'))\n",
    "    model.add(Activation('relu'))\n",
    "    model.add(MaxPooling3D(pool_size=(2, 2, 2)))\n",
    "\n",
    "    model.add(Flatten())\n",
    "    model.add(Dense(128))\n",
    "    model.add(Activation('relu'))\n",
    "    model.add(Dropout(0.20))\n",
    "\n",
    "    model.add(Dense(num_classes))\n",
    "    model.add(Activation('softmax'))\n",
    "    return model"
   ]
  },
  {
   "cell_type": "code",
   "execution_count": null,
   "id": "012bc23c-284b-490d-9413-5ef1b08e6cf7",
   "metadata": {},
   "outputs": [],
   "source": []
  },
  {
   "cell_type": "code",
   "execution_count": 13,
   "id": "457c5b39-a5ea-489b-b283-3699e61d56bb",
   "metadata": {},
   "outputs": [],
   "source": [
    "def model_callbacks(curr_dt_time, save_folder_name):\n",
    "    model_name = 'model_init' + '_' + str(curr_dt_time).replace(' ','').replace(':','_') + '/'\n",
    "    save_file_path = save_folder_name + '/' + model_name + '/'\n",
    "    if not os.path.exists(save_file_path):\n",
    "        os.makedirs(save_file_path, mode=0o666)\n",
    "    filepath = save_file_path + 'model-{epoch:05d}-{loss:.5f}-{categorical_accuracy:.5f}-{val_loss:.5f}-{val_categorical_accuracy:.5f}.h5'\n",
    "    checkpoint = ModelCheckpoint(filepath, monitor='val_loss', verbose=1, save_best_only=False, save_weights_only=False, mode='auto', period=1)\n",
    "    #LR = # write the REducelronplateau code here\n",
    "    LR = ReduceLROnPlateau(monitor='val_loss', factor=0.1, patience=2, fmin_lr=0.00001, verbose=1)\n",
    "    return [checkpoint, LR]"
   ]
  },
  {
   "cell_type": "code",
   "execution_count": 14,
   "id": "fc047270-2be9-4827-8bcf-b995287f42fb",
   "metadata": {},
   "outputs": [],
   "source": [
    "def get_steps_info(num_train_sequences, num_val_sequences, batch_size):\n",
    "    if (num_train_sequences%batch_size) == 0:\n",
    "        steps_per_epoch = int(num_train_sequences/batch_size)\n",
    "    else:\n",
    "        steps_per_epoch = (num_train_sequences//batch_size) + 1\n",
    "\n",
    "    if (num_val_sequences%batch_size) == 0:\n",
    "        validation_steps = int(num_val_sequences/batch_size)\n",
    "    else:\n",
    "        validation_steps = (num_val_sequences//batch_size) + 1\n",
    "    return steps_per_epoch, validation_steps"
   ]
  },
  {
   "cell_type": "code",
   "execution_count": 15,
   "id": "29ad8d5c-3f8b-4d23-b23e-587fa5f1e412",
   "metadata": {},
   "outputs": [
    {
     "name": "stdout",
     "output_type": "stream",
     "text": [
      "Model: \"sequential\"\n",
      "_________________________________________________________________\n",
      " Layer (type)                Output Shape              Param #   \n",
      "=================================================================\n",
      " conv3d (Conv3D)             (None, 15, 120, 120, 32   2624      \n",
      "                             )                                   \n",
      "                                                                 \n",
      " activation (Activation)     (None, 15, 120, 120, 32   0         \n",
      "                             )                                   \n",
      "                                                                 \n",
      " max_pooling3d (MaxPooling3  (None, 7, 60, 60, 32)     0         \n",
      " D)                                                              \n",
      "                                                                 \n",
      " conv3d_1 (Conv3D)           (None, 7, 60, 60, 64)     55360     \n",
      "                                                                 \n",
      " activation_1 (Activation)   (None, 7, 60, 60, 64)     0         \n",
      "                                                                 \n",
      " batch_normalization (Batch  (None, 7, 60, 60, 64)     256       \n",
      " Normalization)                                                  \n",
      "                                                                 \n",
      " max_pooling3d_1 (MaxPoolin  (None, 3, 30, 30, 64)     0         \n",
      " g3D)                                                            \n",
      "                                                                 \n",
      " conv3d_2 (Conv3D)           (None, 3, 30, 30, 64)     110656    \n",
      "                                                                 \n",
      " activation_2 (Activation)   (None, 3, 30, 30, 64)     0         \n",
      "                                                                 \n",
      " max_pooling3d_2 (MaxPoolin  (None, 1, 15, 15, 64)     0         \n",
      " g3D)                                                            \n",
      "                                                                 \n",
      " flatten (Flatten)           (None, 14400)             0         \n",
      "                                                                 \n",
      " dense (Dense)               (None, 128)               1843328   \n",
      "                                                                 \n",
      " activation_3 (Activation)   (None, 128)               0         \n",
      "                                                                 \n",
      " dropout (Dropout)           (None, 128)               0         \n",
      "                                                                 \n",
      " dense_1 (Dense)             (None, 5)                 645       \n",
      "                                                                 \n",
      " activation_4 (Activation)   (None, 5)                 0         \n",
      "                                                                 \n",
      "=================================================================\n",
      "Total params: 2012869 (7.68 MB)\n",
      "Trainable params: 2012741 (7.68 MB)\n",
      "Non-trainable params: 128 (512.00 Byte)\n",
      "_________________________________________________________________\n"
     ]
    }
   ],
   "source": [
    "conv_3d_model = prepare_conv3d_model()\n",
    "optimizer = optimizers.Adam()\n",
    "conv_3d_model.compile(optimizer, loss='categorical_crossentropy', metrics=['categorical_accuracy'])\n",
    "conv_3d_model.summary()"
   ]
  },
  {
   "cell_type": "code",
   "execution_count": 16,
   "id": "3bb89209-c274-4bf8-88fa-f07d2068555d",
   "metadata": {},
   "outputs": [
    {
     "name": "stdout",
     "output_type": "stream",
     "text": [
      "WARNING:tensorflow:`period` argument is deprecated. Please use `save_freq` to specify the frequency in number of batches seen.\n"
     ]
    }
   ],
   "source": [
    "curr_dt_time = datetime.datetime.now()\n",
    "num_epochs = 20\n",
    "callbacks_list = model_callbacks(curr_dt_time, \"d:\\model_conv3D_1\")\n",
    "steps_per_epoch, validation_steps = get_steps_info(len(train_doc), len(val_doc), batch_size)"
   ]
  },
  {
   "cell_type": "code",
   "execution_count": 17,
   "id": "6b02a905-692b-4ae5-8026-925012888438",
   "metadata": {},
   "outputs": [
    {
     "name": "stdout",
     "output_type": "stream",
     "text": [
      "Epochs 20\n",
      "steps_per_epoch 34\n",
      "validation_steps 5\n"
     ]
    }
   ],
   "source": [
    "print('Epochs', num_epochs)\n",
    "print('steps_per_epoch', steps_per_epoch)\n",
    "print('validation_steps', validation_steps)"
   ]
  },
  {
   "cell_type": "code",
   "execution_count": 18,
   "id": "d5dea41e-0433-4c5a-bbd5-014832eb5538",
   "metadata": {},
   "outputs": [],
   "source": [
    "training_data_gen = gesture_generator('Project_data/train', train_doc, batch_size, img_idx, height, width)\n",
    "validation_data_gen = gesture_generator('Project_data/val', val_doc, batch_size, img_idx, height, width)"
   ]
  },
  {
   "cell_type": "code",
   "execution_count": 19,
   "id": "89008481-53b7-4c5f-9a4d-445bd5ada92f",
   "metadata": {},
   "outputs": [
    {
     "name": "stdout",
     "output_type": "stream",
     "text": [
      "Epoch 1/20\n",
      "34/34 [==============================] - ETA: 0s - loss: 3.2302 - categorical_accuracy: 0.1765\n",
      "Epoch 1: saving model to d:\\model_conv3D_1/model_init_2023-09-2822_27_33.024042\\model-00001-3.23015-0.17647-1.58981-0.23000.h5\n",
      "34/34 [==============================] - 179s 5s/step - loss: 3.2302 - categorical_accuracy: 0.1765 - val_loss: 1.5898 - val_categorical_accuracy: 0.2300 - lr: 0.0010\n",
      "Epoch 2/20\n"
     ]
    },
    {
     "name": "stderr",
     "output_type": "stream",
     "text": [
      "C:\\Program Files\\Python39\\lib\\site-packages\\keras\\src\\engine\\training.py:3000: UserWarning: You are saving your model as an HDF5 file via `model.save()`. This file format is considered legacy. We recommend using instead the native Keras format, e.g. `model.save('my_model.keras')`.\n",
      "  saving_api.save_model(\n"
     ]
    },
    {
     "name": "stdout",
     "output_type": "stream",
     "text": [
      "34/34 [==============================] - ETA: 0s - loss: 1.6127 - categorical_accuracy: 0.2455\n",
      "Epoch 2: saving model to d:\\model_conv3D_1/model_init_2023-09-2822_27_33.024042\\model-00002-1.61273-0.24552-1.56255-0.25000.h5\n",
      "34/34 [==============================] - 178s 5s/step - loss: 1.6127 - categorical_accuracy: 0.2455 - val_loss: 1.5626 - val_categorical_accuracy: 0.2500 - lr: 0.0010\n",
      "Epoch 3/20\n",
      "34/34 [==============================] - ETA: 0s - loss: 1.6150 - categorical_accuracy: 0.2583\n",
      "Epoch 3: saving model to d:\\model_conv3D_1/model_init_2023-09-2822_27_33.024042\\model-00003-1.61503-0.25831-1.55387-0.28000.h5\n",
      "34/34 [==============================] - 181s 5s/step - loss: 1.6150 - categorical_accuracy: 0.2583 - val_loss: 1.5539 - val_categorical_accuracy: 0.2800 - lr: 0.0010\n",
      "Epoch 4/20\n",
      "34/34 [==============================] - ETA: 0s - loss: 1.5512 - categorical_accuracy: 0.3248\n",
      "Epoch 4: saving model to d:\\model_conv3D_1/model_init_2023-09-2822_27_33.024042\\model-00004-1.55118-0.32481-1.59191-0.34000.h5\n",
      "34/34 [==============================] - 179s 5s/step - loss: 1.5512 - categorical_accuracy: 0.3248 - val_loss: 1.5919 - val_categorical_accuracy: 0.3400 - lr: 0.0010\n",
      "Epoch 5/20\n",
      "34/34 [==============================] - ETA: 0s - loss: 1.4526 - categorical_accuracy: 0.3555\n",
      "Epoch 5: saving model to d:\\model_conv3D_1/model_init_2023-09-2822_27_33.024042\\model-00005-1.45259-0.35550-1.58108-0.30000.h5\n",
      "\n",
      "Epoch 5: ReduceLROnPlateau reducing learning rate to 0.00010000000474974513.\n",
      "34/34 [==============================] - 178s 5s/step - loss: 1.4526 - categorical_accuracy: 0.3555 - val_loss: 1.5811 - val_categorical_accuracy: 0.3000 - lr: 0.0010\n",
      "Epoch 6/20\n",
      "34/34 [==============================] - ETA: 0s - loss: 1.4818 - categorical_accuracy: 0.3325\n",
      "Epoch 6: saving model to d:\\model_conv3D_1/model_init_2023-09-2822_27_33.024042\\model-00006-1.48185-0.33248-1.56473-0.34000.h5\n",
      "34/34 [==============================] - 174s 5s/step - loss: 1.4818 - categorical_accuracy: 0.3325 - val_loss: 1.5647 - val_categorical_accuracy: 0.3400 - lr: 1.0000e-04\n",
      "Epoch 7/20\n",
      "34/34 [==============================] - ETA: 0s - loss: 1.3981 - categorical_accuracy: 0.3862\n",
      "Epoch 7: saving model to d:\\model_conv3D_1/model_init_2023-09-2822_27_33.024042\\model-00007-1.39806-0.38619-1.54758-0.30000.h5\n",
      "34/34 [==============================] - 179s 5s/step - loss: 1.3981 - categorical_accuracy: 0.3862 - val_loss: 1.5476 - val_categorical_accuracy: 0.3000 - lr: 1.0000e-04\n",
      "Epoch 8/20\n",
      "34/34 [==============================] - ETA: 0s - loss: 1.4089 - categorical_accuracy: 0.3785\n",
      "Epoch 8: saving model to d:\\model_conv3D_1/model_init_2023-09-2822_27_33.024042\\model-00008-1.40890-0.37852-1.51555-0.29000.h5\n",
      "34/34 [==============================] - 182s 5s/step - loss: 1.4089 - categorical_accuracy: 0.3785 - val_loss: 1.5156 - val_categorical_accuracy: 0.2900 - lr: 1.0000e-04\n",
      "Epoch 9/20\n",
      "34/34 [==============================] - ETA: 0s - loss: 1.3878 - categorical_accuracy: 0.3964\n",
      "Epoch 9: saving model to d:\\model_conv3D_1/model_init_2023-09-2822_27_33.024042\\model-00009-1.38777-0.39642-1.45459-0.36000.h5\n",
      "34/34 [==============================] - 184s 5s/step - loss: 1.3878 - categorical_accuracy: 0.3964 - val_loss: 1.4546 - val_categorical_accuracy: 0.3600 - lr: 1.0000e-04\n",
      "Epoch 10/20\n",
      "34/34 [==============================] - ETA: 0s - loss: 1.3131 - categorical_accuracy: 0.4680\n",
      "Epoch 10: saving model to d:\\model_conv3D_1/model_init_2023-09-2822_27_33.024042\\model-00010-1.31305-0.46803-1.40187-0.39000.h5\n",
      "34/34 [==============================] - 181s 5s/step - loss: 1.3131 - categorical_accuracy: 0.4680 - val_loss: 1.4019 - val_categorical_accuracy: 0.3900 - lr: 1.0000e-04\n",
      "Epoch 11/20\n",
      "34/34 [==============================] - ETA: 0s - loss: 1.3337 - categorical_accuracy: 0.4348\n",
      "Epoch 11: saving model to d:\\model_conv3D_1/model_init_2023-09-2822_27_33.024042\\model-00011-1.33366-0.43478-1.35350-0.43000.h5\n",
      "34/34 [==============================] - 205s 6s/step - loss: 1.3337 - categorical_accuracy: 0.4348 - val_loss: 1.3535 - val_categorical_accuracy: 0.4300 - lr: 1.0000e-04\n",
      "Epoch 12/20\n",
      "34/34 [==============================] - ETA: 0s - loss: 1.3214 - categorical_accuracy: 0.4731\n",
      "Epoch 12: saving model to d:\\model_conv3D_1/model_init_2023-09-2822_27_33.024042\\model-00012-1.32144-0.47315-1.33268-0.42000.h5\n",
      "34/34 [==============================] - 202s 6s/step - loss: 1.3214 - categorical_accuracy: 0.4731 - val_loss: 1.3327 - val_categorical_accuracy: 0.4200 - lr: 1.0000e-04\n",
      "Epoch 13/20\n",
      "34/34 [==============================] - ETA: 0s - loss: 1.2533 - categorical_accuracy: 0.4783\n",
      "Epoch 13: saving model to d:\\model_conv3D_1/model_init_2023-09-2822_27_33.024042\\model-00013-1.25331-0.47826-1.32857-0.41000.h5\n",
      "34/34 [==============================] - 196s 6s/step - loss: 1.2533 - categorical_accuracy: 0.4783 - val_loss: 1.3286 - val_categorical_accuracy: 0.4100 - lr: 1.0000e-04\n",
      "Epoch 14/20\n",
      "34/34 [==============================] - ETA: 0s - loss: 1.2755 - categorical_accuracy: 0.4527\n",
      "Epoch 14: saving model to d:\\model_conv3D_1/model_init_2023-09-2822_27_33.024042\\model-00014-1.27549-0.45269-1.32606-0.40000.h5\n",
      "34/34 [==============================] - 204s 6s/step - loss: 1.2755 - categorical_accuracy: 0.4527 - val_loss: 1.3261 - val_categorical_accuracy: 0.4000 - lr: 1.0000e-04\n",
      "Epoch 15/20\n",
      "34/34 [==============================] - ETA: 0s - loss: 1.2865 - categorical_accuracy: 0.4578\n",
      "Epoch 15: saving model to d:\\model_conv3D_1/model_init_2023-09-2822_27_33.024042\\model-00015-1.28655-0.45780-1.22425-0.45000.h5\n",
      "34/34 [==============================] - 192s 6s/step - loss: 1.2865 - categorical_accuracy: 0.4578 - val_loss: 1.2242 - val_categorical_accuracy: 0.4500 - lr: 1.0000e-04\n",
      "Epoch 16/20\n",
      "34/34 [==============================] - ETA: 0s - loss: 1.1830 - categorical_accuracy: 0.5141\n",
      "Epoch 16: saving model to d:\\model_conv3D_1/model_init_2023-09-2822_27_33.024042\\model-00016-1.18305-0.51407-1.22903-0.45000.h5\n",
      "34/34 [==============================] - 204s 6s/step - loss: 1.1830 - categorical_accuracy: 0.5141 - val_loss: 1.2290 - val_categorical_accuracy: 0.4500 - lr: 1.0000e-04\n",
      "Epoch 17/20\n",
      "34/34 [==============================] - ETA: 0s - loss: 1.2225 - categorical_accuracy: 0.4859\n",
      "Epoch 17: saving model to d:\\model_conv3D_1/model_init_2023-09-2822_27_33.024042\\model-00017-1.22249-0.48593-1.27979-0.46000.h5\n",
      "\n",
      "Epoch 17: ReduceLROnPlateau reducing learning rate to 1.0000000474974514e-05.\n",
      "34/34 [==============================] - 197s 6s/step - loss: 1.2225 - categorical_accuracy: 0.4859 - val_loss: 1.2798 - val_categorical_accuracy: 0.4600 - lr: 1.0000e-04\n",
      "Epoch 18/20\n",
      "34/34 [==============================] - ETA: 0s - loss: 1.1761 - categorical_accuracy: 0.4936\n",
      "Epoch 18: saving model to d:\\model_conv3D_1/model_init_2023-09-2822_27_33.024042\\model-00018-1.17613-0.49361-1.21003-0.45000.h5\n",
      "34/34 [==============================] - 201s 6s/step - loss: 1.1761 - categorical_accuracy: 0.4936 - val_loss: 1.2100 - val_categorical_accuracy: 0.4500 - lr: 1.0000e-05\n",
      "Epoch 19/20\n",
      "34/34 [==============================] - ETA: 0s - loss: 1.1978 - categorical_accuracy: 0.4936\n",
      "Epoch 19: saving model to d:\\model_conv3D_1/model_init_2023-09-2822_27_33.024042\\model-00019-1.19780-0.49361-1.19715-0.49000.h5\n",
      "34/34 [==============================] - 195s 6s/step - loss: 1.1978 - categorical_accuracy: 0.4936 - val_loss: 1.1971 - val_categorical_accuracy: 0.4900 - lr: 1.0000e-05\n",
      "Epoch 20/20\n",
      "34/34 [==============================] - ETA: 0s - loss: 1.2198 - categorical_accuracy: 0.4834\n",
      "Epoch 20: saving model to d:\\model_conv3D_1/model_init_2023-09-2822_27_33.024042\\model-00020-1.21978-0.48338-1.21972-0.47000.h5\n",
      "34/34 [==============================] - 191s 6s/step - loss: 1.2198 - categorical_accuracy: 0.4834 - val_loss: 1.2197 - val_categorical_accuracy: 0.4700 - lr: 1.0000e-05\n"
     ]
    }
   ],
   "source": [
    "history = conv_3d_model.fit(x=training_data_gen, steps_per_epoch=steps_per_epoch, epochs=num_epochs, verbose=1,\n",
    "                              callbacks=callbacks_list, validation_data=validation_data_gen,\n",
    "                              validation_steps=validation_steps)"
   ]
  },
  {
   "cell_type": "code",
   "execution_count": 20,
   "id": "362a8dcc-7baf-4cca-9b7e-eb01cf105404",
   "metadata": {},
   "outputs": [
    {
     "data": {
      "image/png": "[encoded data removed]",
      "text/plain": [
       "<Figure size 800x800 with 2 Axes>"
      ]
     },
     "metadata": {},
     "output_type": "display_data"
    }
   ],
   "source": [
    "visualize_outputs(history, epoch=num_epochs)"
   ]
  },
  {
   "cell_type": "markdown",
   "id": "1e1e147b-d5d1-48d2-9fdc-59ce83156103",
   "metadata": {},
   "source": [
    "len(train_doc)%batch_size"
   ]
  },
  {
   "cell_type": "markdown",
   "id": "7d75756e-b0b7-4f50-8153-1ca8391200cf",
   "metadata": {},
   "source": [
    "len(train_doc)"
   ]
  },
  {
   "cell_type": "markdown",
   "id": "b4501bbc-208a-448a-9ed4-37c274f05c78",
   "metadata": {},
   "source": [
    "def process_batch(source_path, folders_list, batch, batch_size, img_idx, height=120, width=120):\n",
    "    num_images = len(img_idx)\n",
    "    batch_data   = np.zeros((batch_size, num_images, height, width, 3)) # 3 is the number of channels RGB\n",
    "    batch_labels = np.zeros((batch_size, 5)) # batch_labels is the one hot representation of the output\n",
    "\n",
    "    for folder in range(batch_size): # iterate over the batch_size\n",
    "        imgs = os.listdir(source_path+'/'+ folders_list[folder + (batch*batch_size)].split(';')[0]) # read all the images in the folder\n",
    "        for idx,item in enumerate(img_idx): #  Iterate over the frames/images of a folder to read them in\n",
    "            image = imread(source_path+'/'+ folders_list[folder + (batch*batch_size)].strip().split(';')[0]+'/'+imgs[item]).astype(np.float32)\n",
    "\n",
    "            #crop the images and resize them. Note that the images are of 2 different shape\n",
    "            #and the conv3D will throw error if the inputs in a batch have different shapes\n",
    "            h, w, c = image.shape\n",
    "            if w == 160:\n",
    "                image = image[: 20:140, :] #Crop Horizontal edges to make it a square image\n",
    "            image = resize(image, (height, width), anti_aliasing=True)\n",
    "\n",
    "            batch_data[folder,idx,:,:,0] = (image[...,0])/255 #normalise and feed in the image\n",
    "            batch_data[folder,idx,:,:,1] = (image[...,1])/255 #normalise and feed in the image\n",
    "            batch_data[folder,idx,:,:,2] = (image[...,2])/255 #normalise and feed in the image\n",
    "\n",
    "        batch_labels[folder, int(folders_list[folder + (batch*batch_size)].strip().split(';')[2])] = 1\n",
    "\n",
    "    yield batch_data, batch_labels #you yield the batch_data and the batch_labels, remember what does yield do"
   ]
  },
  {
   "cell_type": "code",
   "execution_count": 24,
   "id": "83e5a27e-5572-439c-9d39-06a475eebf6d",
   "metadata": {},
   "outputs": [],
   "source": [
    "\n",
    "def gesture_generator_beta(source_path, folder_list, batch_size, img_idx, height=120, width=120):\n",
    "    total_frames = 30\n",
    "    #num_images = len(img_idx)\n",
    "    while True:\n",
    "        number_of_batches = len(folder_list)//batch_size # calculate the number of batches\n",
    "        randomized_folders_list = np.random.permutation(folder_list)\n",
    "\n",
    "        for batch in range(number_of_batches): # we iterate over the number of batches\n",
    "            for batch_data, batch_labels in process_batch(source_path, randomized_folders_list, batch, batch_size, img_idx, height, width):\n",
    "                yield batch_data, batch_labels\n",
    "\n",
    "            # Remaining (would be < than the batch size) = total - (number_of_batches * batch_size)\n",
    "            remaining_batch_size = len(folder_list) - (number_of_batches * batch_size)\n",
    "            if (remaining_batch_size > 0):\n",
    "                for batch_data, batch_labels in process_batch(source_path, randomized_folders_list, batch, remaining_batch_size, img_idx, height, width):\n",
    "                    yield batch_data, batch_labels"
   ]
  },
  {
   "cell_type": "markdown",
   "id": "cee42f30-15f0-4802-b69a-e55f8c104a2e",
   "metadata": {},
   "source": [
    "\n",
    "training_data_gen = gesture_generator_beta('Project_data/train', train_doc, batch_size, img_idx, height, width)\n",
    "validation_data_gen = gesture_generator_beta('Project_data/val', val_doc, batch_size, img_idx, height, width)"
   ]
  },
  {
   "cell_type": "markdown",
   "id": "1e750cb4-a1db-45cb-bbe0-9c278f5e3667",
   "metadata": {},
   "source": [
    "h2 = conv_3d_model.fit(x=training_data_gen, steps_per_epoch=steps_per_epoch, epochs=num_epochs, verbose=1,\n",
    "                              callbacks=callbacks_list, validation_data=validation_data_gen,\n",
    "                              validation_steps=validation_steps)"
   ]
  },
  {
   "cell_type": "markdown",
   "id": "4e5884ba-c575-4ff8-8920-a2b80442c05d",
   "metadata": {},
   "source": [
    "visualize_outputs(h2, epoch=num_epochs)"
   ]
  },
  {
   "cell_type": "code",
   "execution_count": null,
   "id": "9284a05e-6923-41d4-bbbd-a289c502aa3b",
   "metadata": {},
   "outputs": [],
   "source": []
  }
 ],
 "metadata": {
  "kernelspec": {
   "display_name": "Python 3 (ipykernel)",
   "language": "python",
   "name": "python3"
  },
  "language_info": {
   "codemirror_mode": {
    "name": "ipython",
    "version": 3
   },
   "file_extension": ".py",
   "mimetype": "text/x-python",
   "name": "python",
   "nbconvert_exporter": "python",
   "pygments_lexer": "ipython3",
   "version": "3.9.13"
  }
 },
 "nbformat": 4,
 "nbformat_minor": 5
}
