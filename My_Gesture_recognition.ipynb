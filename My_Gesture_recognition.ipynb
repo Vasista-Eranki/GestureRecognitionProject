{
 "cells": [
  {
   "cell_type": "markdown",
   "id": "4e9449c3",
   "metadata": {},
   "source": [
    "# Gesture Recognition Project\n",
    "\n",
    "**To Run on JarvisLabs.ai**"
   ]
  },
  {
   "cell_type": "code",
   "execution_count": 1,
   "id": "5a29d494",
   "metadata": {},
   "outputs": [],
   "source": [
    "import numpy as np\n",
    "import os\n",
    "import matplotlib.pyplot as plt\n",
    "#from scipy.misc import imread, imresize\n",
    "#from imageio import imread #using instead of imread from scipy.misc\n",
    "#from scipy.misc import imresize\n",
    "from skimage.io import imread #using instead of imread from scipy.misc\n",
    "from skimage.transform import resize #use resize instead of imresize\n",
    "import datetime\n",
    "import os\n",
    "import tensorflow as tf\n",
    "import keras\n",
    "from keras.models import Sequential, Model\n",
    "from keras.layers import Dense, Dropout, Flatten, BatchNormalization, Activation\n",
    "from keras.layers import Conv3D, MaxPooling3D, Conv2D, MaxPooling2D\n",
    "from keras.regularizers import l2\n",
    "from keras import optimizers\n",
    "from tensorflow.python.keras.utils.data_utils import Sequence\n",
    "from keras.callbacks import ModelCheckpoint, ReduceLROnPlateau"
   ]
  },
  {
   "cell_type": "code",
   "execution_count": 2,
   "id": "4917eb2e",
   "metadata": {},
   "outputs": [
    {
     "name": "stdout",
     "output_type": "stream",
     "text": [
      "Training data:  /datasets/Project_data/train\n",
      "Validation data:  /datasets/Project_data/val\n"
     ]
    }
   ],
   "source": [
    "BASE_DIRECTORY = '/datasets/Project_data'\n",
    "TRAIN_DIR = '{0}/train'.format(BASE_DIRECTORY)\n",
    "VAL_DIR = '{0}/val'.format(BASE_DIRECTORY)\n",
    "MODEL_SAVE_DIR = 'MODELS'\n",
    "\n",
    "total_frames = 30\n",
    "\n",
    "print('Training data: ', TRAIN_DIR)\n",
    "print('Validation data: ', VAL_DIR)"
   ]
  },
  {
   "cell_type": "code",
   "execution_count": 3,
   "id": "0c6f7fbe",
   "metadata": {},
   "outputs": [],
   "source": [
    "np.random.seed(30)\n",
    "import random as rn\n",
    "rn.seed(30)\n",
    "from keras import backend as K\n",
    "import tensorflow as tf\n",
    "#tf.set_random_seed(30)\n",
    "tf.random.set_seed(30)"
   ]
  },
  {
   "cell_type": "code",
   "execution_count": 4,
   "id": "cca10e33",
   "metadata": {},
   "outputs": [
    {
     "name": "stdout",
     "output_type": "stream",
     "text": [
      "Training data: 663\n",
      "Validation data: 100\n"
     ]
    }
   ],
   "source": [
    "#train_doc = np.random.permutation(open('/notebooks/storage/Final_data/Collated_training/train.csv').readlines())\n",
    "#val_doc = np.random.permutation(open('/notebooks/storage/Final_data/Collated_training/val.csv').readlines())\n",
    "\n",
    "train_doc = np.random.permutation(open('{0}/train.csv'.format(BASE_DIRECTORY)).readlines())\n",
    "val_doc = np.random.permutation(open('{0}/val.csv'.format(BASE_DIRECTORY)).readlines())\n",
    "\n",
    "batch_size = 20 #experiment with the batch size\n",
    "print(\"Training data:\" , len(train_doc))\n",
    "print(\"Validation data:\", len(val_doc))"
   ]
  },
  {
   "cell_type": "code",
   "execution_count": null,
   "id": "23cf5275",
   "metadata": {},
   "outputs": [],
   "source": []
  },
  {
   "cell_type": "code",
   "execution_count": 5,
   "id": "92aa66cc",
   "metadata": {},
   "outputs": [
    {
     "name": "stdout",
     "output_type": "stream",
     "text": [
      "['Thumbs up', 'Thumbs down', 'Left swipe', 'Right swipe', 'Stop']\n",
      "5\n"
     ]
    }
   ],
   "source": [
    "classes = ['Thumbs up', 'Thumbs down','Left swipe', 'Right swipe', 'Stop']\n",
    "print(classes)\n",
    "num_classes = len(classes)\n",
    "print(num_classes)"
   ]
  },
  {
   "cell_type": "markdown",
   "id": "e6ab79f4",
   "metadata": {},
   "source": [
    "## Generator\r\n",
    "This is one of the most important part of the code. The overall structure of the generator has been given. In the generator, you are going to preprocess the images as you have images of 2 different dimensions as well as create a batch of video frames. You have to experiment with img_idx, y,z and normalization such that you get high accuracy."
   ]
  },
  {
   "cell_type": "markdown",
   "id": "3ed30c2a",
   "metadata": {},
   "source": [
    "#### Generator & Support Functions"
   ]
  },
  {
   "cell_type": "code",
   "execution_count": 74,
   "id": "435aaaec",
   "metadata": {},
   "outputs": [],
   "source": [
    "import cv2\n",
    "def process_batch(source_path, folders_list, batch, batch_size, num_frames, img_idx,  height, width, channels = 3): #num_frames=20,\n",
    "    #num_frames = len(img_idx)\n",
    "    batch_data   = np.zeros((batch_size, num_frames, height, width, channels)) # 3 is the number of channels RGB\n",
    "    batch_labels = np.zeros((batch_size, 5)) # batch_labels is the one hot representation of the output           \n",
    "\n",
    "    for folder in range(batch_size): # iterate over the batch_size\n",
    "        imgs = os.listdir(source_path+'/'+ folders_list[folder + (batch*batch_size)].split(';')[0]) # read all the images in the folder\n",
    "        for idx,item in enumerate(img_idx): #  Iterate over the frames/images of a folder to read them in\n",
    "            image = imread(source_path+'/'+ folders_list[folder + (batch*batch_size)].strip().split(';')[0]+'/'+imgs[item]).astype(np.float32)\n",
    "\n",
    "            #crop the images and resize them. Note that the images are of 2 different shape \n",
    "            #and the conv3D will throw error if the inputs in a batch have different shapes                    \n",
    "            h, w, c = image.shape\n",
    "            image = resize(image, (height, width), anti_aliasing=True)\n",
    "            \n",
    "            if(channels == 3):\n",
    "                batch_data[folder,idx,:,:,0] = (image[...,0])/255 #normalise and feed in the image\n",
    "                batch_data[folder,idx,:,:,1] = (image[...,1])/255 #normalise and feed in the image\n",
    "                batch_data[folder,idx,:,:,2] = (image[...,2])/255 #normalise and feed in the image\n",
    "            else:\n",
    "                batch_data[folder,idx,:,:,0] =  cv2.cvtColor(image, cv2.COLOR_BGR2GRAY)\n",
    "        batch_labels[folder, int(folders_list[folder + (batch*batch_size)].strip().split(';')[2])] = 1\n",
    "    yield batch_data, batch_labels #you yield the batch_data and the batch_labels, remember what does yield do"
   ]
  },
  {
   "cell_type": "markdown",
   "id": "366eec73",
   "metadata": {},
   "source": [
    "def OLD___process_batch(source_path, folders_list, batch, batch_size, img_idx, height=120, width=120):\n",
    "    num_images = len(img_idx)\n",
    "    batch_data   = np.zeros((batch_size, num_images, height, width, 3)) # 3 is the number of channels RGB\n",
    "    batch_labels = np.zeros((batch_size, 5)) # batch_labels is the one hot representation of the output\n",
    "\n",
    "    for folder in range(batch_size): # iterate over the batch_size\n",
    "        imgs = os.listdir(source_path+'/'+ folders_list[folder + (batch*batch_size)].split(';')[0]) # read all the images in the folder\n",
    "        for idx,item in enumerate(img_idx): #  Iterate over the frames/images of a folder to read them in\n",
    "            image = imread(source_path+'/'+ folders_list[folder + (batch*batch_size)].strip().split(';')[0]+'/'+imgs[item]).astype(np.float32)\n",
    "\n",
    "            #crop the images and resize them. Note that the images are of 2 different shape\n",
    "            #and the conv3D will throw error if the inputs in a batch have different shapes\n",
    "            h, w, c = image.shape\n",
    "            if w == 160:\n",
    "                image = image[: 20:140, :] #Crop Horizontal edges to make it a square image\n",
    "            image = resize(image, (height, width), anti_aliasing=True)\n",
    "\n",
    "            batch_data[folder,idx,:,:,0] = (image[...,0])/255 #normalise and feed in the image\n",
    "            batch_data[folder,idx,:,:,1] = (image[...,1])/255 #normalise and feed in the image\n",
    "            batch_data[folder,idx,:,:,2] = (image[...,2])/255 #normalise and feed in the image\n",
    "\n",
    "        batch_labels[folder, int(folders_list[folder + (batch*batch_size)].strip().split(';')[2])] = 1\n",
    "\n",
    "    yield batch_data, batch_labels #you yield the batch_data and the batch_labels, remember what does yield do"
   ]
  },
  {
   "cell_type": "code",
   "execution_count": 31,
   "id": "60f86001",
   "metadata": {},
   "outputs": [],
   "source": [
    "def gesture_generator(source_path, folder_list, batch_size, num_images = 20, height=120, width=120, channels=3):\n",
    "    img_idx = len(np.round(np.linspace(0,total_frames-1, num_images)).astype(int))\n",
    "    while True:\n",
    "        randomized_folders_list = np.random.permutation(folder_list)\n",
    "        num_batches = len(randomized_folders_list)//batch_size # calculate the number of batches\n",
    "        img_idx = np.round(np.linspace(0,total_frames-1, num_images)).astype(int) #create a list of image numbers you want to use for a particular video\n",
    "\n",
    "        for batch in range(num_batches): # we iterate over the number of batches\n",
    "            for X, y in process_batch(source_path, randomized_folders_list, batch, batch_size, num_images, img_idx, height, width, channels):\n",
    "                yield X, y\n",
    "        \n",
    "        remaining_batch_size = len(folder_list)%batch_size\n",
    "        if(remaining_batch_size):\n",
    "            for X, y in process_batch(source_path, randomized_folders_list, batch, remaining_batch_size, num_images, img_idx, height, width, channels):\n",
    "                yield X, y"
   ]
  },
  {
   "cell_type": "markdown",
   "id": "4e1fd4b2",
   "metadata": {},
   "source": [
    "def gesture_generator(source_path, folder_list, batch_size, img_idx, height=120, width=120):\n",
    "    #total_frames = 30\n",
    "    #num_images = len(img_idx)\n",
    "    while True:\n",
    "        number_of_batches = len(folder_list)//batch_size # calculate the number of batches\n",
    "        randomized_folders_list = np.random.permutation(folder_list)\n",
    "\n",
    "        for batch in range(number_of_batches): # we iterate over the number of batches\n",
    "            for batch_data, batch_labels in process_batch(source_path, randomized_folders_list, batch, batch_size, img_idx, height, width):\n",
    "                yield batch_data, batch_labels\n",
    "\n",
    "            # Remaining (would be < than the batch size) = total - (number_of_batches * batch_size)\n",
    "            remaining_batch_size = len(folder_list) - (number_of_batches * batch_size)\n",
    "            if (remaining_batch_size > 0):\n",
    "                for batch_data, batch_labels in process_batch(source_path, randomized_folders_list, batch, remaining_batch_size, img_idx, height, width):\n",
    "                    yield batch_data, batch_labels"
   ]
  },
  {
   "cell_type": "code",
   "execution_count": 8,
   "id": "64099ce2",
   "metadata": {},
   "outputs": [],
   "source": [
    "def plot_loss_accuracy(history):\n",
    "    # list all data in history\n",
    "    print(history.history.keys())\n",
    "    # summarize history for accuracy\n",
    "    plt.plot(history.history['categorical_accuracy'])\n",
    "    plt.plot(history.history['val_categorical_accuracy'])\n",
    "    plt.title('model accuracy')\n",
    "    plt.ylabel('accuracy')\n",
    "    plt.xlabel('epoch')\n",
    "    plt.legend(['train', 'test'], loc='upper left')\n",
    "    plt.show()\n",
    "    # summarize history for loss\n",
    "    plt.plot(history.history['loss'])\n",
    "    plt.plot(history.history['val_loss'])\n",
    "    plt.title('model loss')\n",
    "    plt.ylabel('loss')\n",
    "    plt.xlabel('epoch')\n",
    "    plt.legend(['train', 'test'], loc='upper left')\n",
    "    plt.show()"
   ]
  },
  {
   "cell_type": "code",
   "execution_count": 9,
   "id": "973776da",
   "metadata": {},
   "outputs": [],
   "source": [
    "def visualize_outputs(fit_data, epoch):\n",
    "    acc = fit_data.history['categorical_accuracy']\n",
    "    val_acc = fit_data.history['val_categorical_accuracy']\n",
    "\n",
    "    loss = fit_data.history['loss']\n",
    "    val_loss = fit_data.history['val_loss']\n",
    "\n",
    "    epochs_range = range(epoch)\n",
    "\n",
    "    plt.figure(figsize=(8, 8))\n",
    "    plt.subplot(1, 2, 1)\n",
    "    plt.plot(epochs_range, acc, label='Training Accuracy')\n",
    "    plt.plot(epochs_range, val_acc, label='Validation Accuracy')\n",
    "    plt.legend(loc='lower right')\n",
    "    plt.title('Training and Validation Accuracy')\n",
    "\n",
    "    plt.subplot(1, 2, 2)\n",
    "    plt.plot(epochs_range, loss, label='Training Loss')\n",
    "    plt.plot(epochs_range, val_loss, label='Validation Loss')\n",
    "    plt.legend(loc='upper right')\n",
    "    plt.title('Training and Validation Loss')\n",
    "    plt.show()"
   ]
  },
  {
   "cell_type": "code",
   "execution_count": 10,
   "id": "b54ffd16",
   "metadata": {},
   "outputs": [
    {
     "data": {
      "text/plain": [
       "range(0, 33)"
      ]
     },
     "execution_count": 10,
     "metadata": {},
     "output_type": "execute_result"
    }
   ],
   "source": [
    "t = np.random.permutation(train_doc)\n",
    "nb = len(t)//batch_size\n",
    "range(nb)"
   ]
  },
  {
   "cell_type": "markdown",
   "id": "f679cf3c",
   "metadata": {},
   "source": [
    "## Prepare a Model\n",
    "### 1. Create a Conv3D + RNN (GRU)"
   ]
  },
  {
   "cell_type": "markdown",
   "id": "489294d6",
   "metadata": {},
   "source": [
    "### Model-01"
   ]
  },
  {
   "cell_type": "markdown",
   "id": "b72b30e8",
   "metadata": {},
   "source": [
    "import keras\n",
    "from keras.models import Sequential, Model\n",
    "from keras.layers import Dense, Dropout, Flatten, BatchNormalization, Activation\n",
    "from keras.layers import Conv3D, MaxPooling3D, Conv2D, MaxPooling2D\n",
    "from keras.callbacks import ModelCheckpoint, ReduceLROnPlateau\n",
    "from keras.regularizers import l2\n",
    "from keras import optimizers\n",
    "from tensorflow.python.keras.utils.data_utils import Sequence"
   ]
  },
  {
   "cell_type": "code",
   "execution_count": 32,
   "id": "3eb0891e",
   "metadata": {},
   "outputs": [],
   "source": [
    "height = 120 # image width\n",
    "width = 120 # image height\n",
    "\n",
    "num_images = 20\n",
    "batch_size = 20 #experiment with the batch size\n",
    "#img_idx = len(np.round(np.linspace(0,total_frames-1,num_images)).astype(int))\n",
    "\n",
    "num_epochs = 15\n",
    "LrPlateau_patience = 2\n",
    "LrPlateau_mode = 'auto'\n",
    "LrPlateau_factor = 0.1\n",
    "LrPlateau_fmin_lr = 0.00001"
   ]
  },
  {
   "cell_type": "code",
   "execution_count": 33,
   "id": "a05cb812",
   "metadata": {},
   "outputs": [],
   "source": [
    "def prepare_conv3d_model(channels=3):\n",
    "    model = Sequential()\n",
    "    model.add(Conv3D(32, (3,3, 3), padding='same', input_shape=(num_images, height, width, channels)))\n",
    "    model.add(Activation('relu'))\n",
    "    model.add(MaxPooling3D(pool_size=(2, 2, 2)))\n",
    "\n",
    "    model.add(Conv3D(64, (3,3,3), padding='same'))\n",
    "    model.add(Activation('relu'))\n",
    "    model.add(BatchNormalization())\n",
    "    model.add(MaxPooling3D(pool_size=(2, 2, 2)))\n",
    "\n",
    "    model.add(Conv3D(64, (3,3,3), padding='same'))\n",
    "    model.add(Activation('relu'))\n",
    "    model.add(MaxPooling3D(pool_size=(2, 2, 2)))\n",
    "\n",
    "    model.add(Flatten())\n",
    "    model.add(Dense(128))\n",
    "    model.add(Activation('relu'))\n",
    "    model.add(Dropout(0.20))\n",
    "\n",
    "    model.add(Dense(num_classes))\n",
    "    model.add(Activation('softmax'))\n",
    "    return model"
   ]
  },
  {
   "cell_type": "code",
   "execution_count": null,
   "id": "f4c22e35",
   "metadata": {},
   "outputs": [],
   "source": []
  },
  {
   "cell_type": "code",
   "execution_count": 34,
   "id": "b6a26d78",
   "metadata": {},
   "outputs": [],
   "source": [
    "def model_callbacks(curr_dt_time, save_folder_name):\n",
    "    model_name = 'model_init' + '_' + str(curr_dt_time).replace(' ','').replace(':','_') + '/'\n",
    "    save_file_path = save_folder_name + '/' + model_name + '/'\n",
    "    if not os.path.exists(save_file_path):\n",
    "        os.makedirs(save_file_path, mode=0o666)\n",
    "    filepath = save_file_path + 'model-{epoch:05d}-{loss:.5f}-{categorical_accuracy:.5f}-{val_loss:.5f}-{val_categorical_accuracy:.5f}.h5'\n",
    "    checkpoint = ModelCheckpoint(filepath, monitor='val_loss', verbose=1, save_best_only=True, save_weights_only=False, mode='auto', period=1)\n",
    "\n",
    "    #LR = # write the REducelronplateau code here\n",
    "    #LR = ReduceLROnPlateau(monitor='val_loss', factor=0.1, patience=2, fmin_lr=0.00001, verbose=1)\n",
    "    #return [checkpoint, LR]\n",
    "    return checkpoint"
   ]
  },
  {
   "cell_type": "code",
   "execution_count": 35,
   "id": "f149c1de",
   "metadata": {},
   "outputs": [],
   "source": [
    "def get_steps_info(num_train_sequences, num_val_sequences, batch_size):\n",
    "    if (num_train_sequences%batch_size) == 0:\n",
    "        steps_per_epoch = int(num_train_sequences/batch_size)\n",
    "    else:\n",
    "        steps_per_epoch = (num_train_sequences//batch_size) + 1\n",
    "\n",
    "    if (num_val_sequences%batch_size) == 0:\n",
    "        validation_steps = int(num_val_sequences/batch_size)\n",
    "    else:\n",
    "        validation_steps = (num_val_sequences//batch_size) + 1\n",
    "    return steps_per_epoch, validation_steps"
   ]
  },
  {
   "cell_type": "code",
   "execution_count": 36,
   "id": "572a1daa",
   "metadata": {},
   "outputs": [
    {
     "name": "stdout",
     "output_type": "stream",
     "text": [
      "Model: \"sequential_3\"\n",
      "_________________________________________________________________\n",
      " Layer (type)                Output Shape              Param #   \n",
      "=================================================================\n",
      " conv3d_3 (Conv3D)           (None, 20, 120, 120, 32)  2624      \n",
      "                                                                 \n",
      " activation_5 (Activation)   (None, 20, 120, 120, 32)  0         \n",
      "                                                                 \n",
      " max_pooling3d_3 (MaxPooling  (None, 10, 60, 60, 32)   0         \n",
      " 3D)                                                             \n",
      "                                                                 \n",
      " conv3d_4 (Conv3D)           (None, 10, 60, 60, 64)    55360     \n",
      "                                                                 \n",
      " activation_6 (Activation)   (None, 10, 60, 60, 64)    0         \n",
      "                                                                 \n",
      " batch_normalization_1 (Batc  (None, 10, 60, 60, 64)   256       \n",
      " hNormalization)                                                 \n",
      "                                                                 \n",
      " max_pooling3d_4 (MaxPooling  (None, 5, 30, 30, 64)    0         \n",
      " 3D)                                                             \n",
      "                                                                 \n",
      " conv3d_5 (Conv3D)           (None, 5, 30, 30, 64)     110656    \n",
      "                                                                 \n",
      " activation_7 (Activation)   (None, 5, 30, 30, 64)     0         \n",
      "                                                                 \n",
      " max_pooling3d_5 (MaxPooling  (None, 2, 15, 15, 64)    0         \n",
      " 3D)                                                             \n",
      "                                                                 \n",
      " flatten_1 (Flatten)         (None, 28800)             0         \n",
      "                                                                 \n",
      " dense_2 (Dense)             (None, 128)               3686528   \n",
      "                                                                 \n",
      " activation_8 (Activation)   (None, 128)               0         \n",
      "                                                                 \n",
      " dropout_1 (Dropout)         (None, 128)               0         \n",
      "                                                                 \n",
      " dense_3 (Dense)             (None, 5)                 645       \n",
      "                                                                 \n",
      " activation_9 (Activation)   (None, 5)                 0         \n",
      "                                                                 \n",
      "=================================================================\n",
      "Total params: 3,856,069\n",
      "Trainable params: 3,855,941\n",
      "Non-trainable params: 128\n",
      "_________________________________________________________________\n"
     ]
    }
   ],
   "source": [
    "model_01 = prepare_conv3d_model()\n",
    "optimizer = keras.optimizers.adam_v2.Adam()\n",
    "model_01.compile(optimizer, loss='categorical_crossentropy', metrics=['categorical_accuracy'])\n",
    "model_01.summary()"
   ]
  },
  {
   "cell_type": "code",
   "execution_count": 37,
   "id": "5a024cf4",
   "metadata": {},
   "outputs": [],
   "source": [
    "height = 120 # image width\n",
    "width = 120 # image height\n",
    "\n",
    "num_images = 20\n",
    "batch_size = 20 #experiment with the batch size\n",
    "img_idx = len(np.round(np.linspace(0,total_frames-1,num_images)).astype(int))\n",
    "\n",
    "num_epochs = 15\n",
    "LrPlateau_patience = 2\n",
    "LrPlateau_mode = 'auto'\n",
    "LrPlateau_factor = 0.1\n",
    "LrPlateau_fmin_lr = 0.00001"
   ]
  },
  {
   "cell_type": "code",
   "execution_count": 38,
   "id": "cb8aa9a1",
   "metadata": {},
   "outputs": [
    {
     "name": "stdout",
     "output_type": "stream",
     "text": [
      "WARNING:tensorflow:`period` argument is deprecated. Please use `save_freq` to specify the frequency in number of batches seen.\n"
     ]
    }
   ],
   "source": [
    "curr_dt_time = datetime.datetime.now()\n",
    "LR = ReduceLROnPlateau(monitor='val_loss',\n",
    "                       factor=LrPlateau_factor,\n",
    "                       patience=LrPlateau_patience,\n",
    "                       fmin_lr=LrPlateau_fmin_lr, verbose=1)\n",
    "\n",
    "callbacks_list = [model_callbacks(curr_dt_time, MODEL_SAVE_DIR), LR]\n",
    "steps_per_epoch, validation_steps = get_steps_info(len(train_doc), len(val_doc), batch_size)"
   ]
  },
  {
   "cell_type": "code",
   "execution_count": 39,
   "id": "83563702",
   "metadata": {},
   "outputs": [
    {
     "name": "stdout",
     "output_type": "stream",
     "text": [
      "Epochs 15\n",
      "steps_per_epoch 34\n",
      "validation_steps 5\n"
     ]
    }
   ],
   "source": [
    "print('Epochs', num_epochs)\n",
    "print('steps_per_epoch', steps_per_epoch)\n",
    "print('validation_steps', validation_steps)"
   ]
  },
  {
   "cell_type": "code",
   "execution_count": 40,
   "id": "78deaba3",
   "metadata": {},
   "outputs": [],
   "source": [
    "training_data_gen = gesture_generator(source_path=TRAIN_DIR, folder_list=train_doc, batch_size=batch_size, num_images=20, height=height, width=width)\n",
    "validation_data_gen = gesture_generator(source_path=VAL_DIR, folder_list=val_doc, batch_size=batch_size, num_images=20, height=height, width=width)"
   ]
  },
  {
   "cell_type": "code",
   "execution_count": 41,
   "id": "5aac5721",
   "metadata": {},
   "outputs": [
    {
     "name": "stdout",
     "output_type": "stream",
     "text": [
      "Epoch 1/15\n"
     ]
    },
    {
     "name": "stderr",
     "output_type": "stream",
     "text": [
      "2023-10-01 16:24:45.501897: I tensorflow/stream_executor/cuda/cuda_dnn.cc:377] Loaded cuDNN version 8302\n",
      "2023-10-01 16:24:49.817502: I tensorflow/stream_executor/cuda/cuda_blas.cc:1792] TensorFloat-32 will be used for the matrix multiplication. This will only be logged once.\n"
     ]
    },
    {
     "name": "stdout",
     "output_type": "stream",
     "text": [
      "34/34 [==============================] - ETA: 0s - loss: 3.8520 - categorical_accuracy: 0.3137\n",
      "Epoch 00001: val_loss improved from inf to 1.58935, saving model to MODELS/model_init_2023-10-0116_24_36.808265/model-00001-3.85200-0.31373-1.58935-0.24000.h5\n",
      "34/34 [==============================] - 128s 4s/step - loss: 3.8520 - categorical_accuracy: 0.3137 - val_loss: 1.5893 - val_categorical_accuracy: 0.2400 - lr: 0.0010\n",
      "Epoch 2/15\n",
      "34/34 [==============================] - ETA: 0s - loss: 1.1666 - categorical_accuracy: 0.5294\n",
      "Epoch 00002: val_loss improved from 1.58935 to 1.57039, saving model to MODELS/model_init_2023-10-0116_24_36.808265/model-00002-1.16660-0.52941-1.57039-0.20000.h5\n",
      "34/34 [==============================] - 105s 3s/step - loss: 1.1666 - categorical_accuracy: 0.5294 - val_loss: 1.5704 - val_categorical_accuracy: 0.2000 - lr: 0.0010\n",
      "Epoch 3/15\n",
      "34/34 [==============================] - ETA: 0s - loss: 0.8654 - categorical_accuracy: 0.6621\n",
      "Epoch 00003: val_loss improved from 1.57039 to 1.46263, saving model to MODELS/model_init_2023-10-0116_24_36.808265/model-00003-0.86542-0.66214-1.46263-0.24000.h5\n",
      "34/34 [==============================] - 104s 3s/step - loss: 0.8654 - categorical_accuracy: 0.6621 - val_loss: 1.4626 - val_categorical_accuracy: 0.2400 - lr: 0.0010\n",
      "Epoch 4/15\n",
      "34/34 [==============================] - ETA: 0s - loss: 0.6299 - categorical_accuracy: 0.7602\n",
      "Epoch 00004: val_loss improved from 1.46263 to 1.21449, saving model to MODELS/model_init_2023-10-0116_24_36.808265/model-00004-0.62986-0.76018-1.21449-0.48000.h5\n",
      "34/34 [==============================] - 105s 3s/step - loss: 0.6299 - categorical_accuracy: 0.7602 - val_loss: 1.2145 - val_categorical_accuracy: 0.4800 - lr: 0.0010\n",
      "Epoch 5/15\n",
      "34/34 [==============================] - ETA: 0s - loss: 0.4967 - categorical_accuracy: 0.8205\n",
      "Epoch 00005: val_loss did not improve from 1.21449\n",
      "34/34 [==============================] - 105s 3s/step - loss: 0.4967 - categorical_accuracy: 0.8205 - val_loss: 1.2334 - val_categorical_accuracy: 0.4300 - lr: 0.0010\n",
      "Epoch 6/15\n",
      "34/34 [==============================] - ETA: 0s - loss: 0.3100 - categorical_accuracy: 0.8899\n",
      "Epoch 00006: val_loss improved from 1.21449 to 1.18941, saving model to MODELS/model_init_2023-10-0116_24_36.808265/model-00006-0.31004-0.88989-1.18941-0.52000.h5\n",
      "34/34 [==============================] - 104s 3s/step - loss: 0.3100 - categorical_accuracy: 0.8899 - val_loss: 1.1894 - val_categorical_accuracy: 0.5200 - lr: 0.0010\n",
      "Epoch 7/15\n",
      "34/34 [==============================] - ETA: 0s - loss: 0.2417 - categorical_accuracy: 0.9080\n",
      "Epoch 00007: val_loss improved from 1.18941 to 0.80947, saving model to MODELS/model_init_2023-10-0116_24_36.808265/model-00007-0.24169-0.90799-0.80947-0.73000.h5\n",
      "34/34 [==============================] - 104s 3s/step - loss: 0.2417 - categorical_accuracy: 0.9080 - val_loss: 0.8095 - val_categorical_accuracy: 0.7300 - lr: 0.0010\n",
      "Epoch 8/15\n",
      "34/34 [==============================] - ETA: 0s - loss: 0.1794 - categorical_accuracy: 0.9427\n",
      "Epoch 00008: val_loss improved from 0.80947 to 0.71634, saving model to MODELS/model_init_2023-10-0116_24_36.808265/model-00008-0.17945-0.94268-0.71634-0.79000.h5\n",
      "34/34 [==============================] - 104s 3s/step - loss: 0.1794 - categorical_accuracy: 0.9427 - val_loss: 0.7163 - val_categorical_accuracy: 0.7900 - lr: 0.0010\n",
      "Epoch 9/15\n",
      "34/34 [==============================] - ETA: 0s - loss: 0.1485 - categorical_accuracy: 0.9532\n",
      "Epoch 00009: val_loss improved from 0.71634 to 0.67415, saving model to MODELS/model_init_2023-10-0116_24_36.808265/model-00009-0.14852-0.95324-0.67415-0.74000.h5\n",
      "34/34 [==============================] - 104s 3s/step - loss: 0.1485 - categorical_accuracy: 0.9532 - val_loss: 0.6742 - val_categorical_accuracy: 0.7400 - lr: 0.0010\n",
      "Epoch 10/15\n",
      "34/34 [==============================] - ETA: 0s - loss: 0.1336 - categorical_accuracy: 0.9578\n",
      "Epoch 00010: val_loss did not improve from 0.67415\n",
      "34/34 [==============================] - 105s 3s/step - loss: 0.1336 - categorical_accuracy: 0.9578 - val_loss: 0.8914 - val_categorical_accuracy: 0.7200 - lr: 0.0010\n",
      "Epoch 11/15\n",
      "34/34 [==============================] - ETA: 0s - loss: 0.1781 - categorical_accuracy: 0.9382\n",
      "Epoch 00011: val_loss did not improve from 0.67415\n",
      "\n",
      "Epoch 00011: ReduceLROnPlateau reducing learning rate to 0.00010000000474974513.\n",
      "34/34 [==============================] - 104s 3s/step - loss: 0.1781 - categorical_accuracy: 0.9382 - val_loss: 1.7715 - val_categorical_accuracy: 0.5000 - lr: 0.0010\n",
      "Epoch 12/15\n",
      "34/34 [==============================] - ETA: 0s - loss: 0.1042 - categorical_accuracy: 0.9623\n",
      "Epoch 00012: val_loss improved from 0.67415 to 0.59323, saving model to MODELS/model_init_2023-10-0116_24_36.808265/model-00012-0.10417-0.96229-0.59323-0.84000.h5\n",
      "34/34 [==============================] - 104s 3s/step - loss: 0.1042 - categorical_accuracy: 0.9623 - val_loss: 0.5932 - val_categorical_accuracy: 0.8400 - lr: 1.0000e-04\n",
      "Epoch 13/15\n",
      "34/34 [==============================] - ETA: 0s - loss: 0.0626 - categorical_accuracy: 0.9819\n",
      "Epoch 00013: val_loss improved from 0.59323 to 0.51398, saving model to MODELS/model_init_2023-10-0116_24_36.808265/model-00013-0.06255-0.98190-0.51398-0.89000.h5\n",
      "34/34 [==============================] - 104s 3s/step - loss: 0.0626 - categorical_accuracy: 0.9819 - val_loss: 0.5140 - val_categorical_accuracy: 0.8900 - lr: 1.0000e-04\n",
      "Epoch 14/15\n",
      "34/34 [==============================] - ETA: 0s - loss: 0.0515 - categorical_accuracy: 0.9879\n",
      "Epoch 00014: val_loss improved from 0.51398 to 0.34432, saving model to MODELS/model_init_2023-10-0116_24_36.808265/model-00014-0.05152-0.98793-0.34432-0.91000.h5\n",
      "34/34 [==============================] - 104s 3s/step - loss: 0.0515 - categorical_accuracy: 0.9879 - val_loss: 0.3443 - val_categorical_accuracy: 0.9100 - lr: 1.0000e-04\n",
      "Epoch 15/15\n",
      "34/34 [==============================] - ETA: 0s - loss: 0.0508 - categorical_accuracy: 0.9819\n",
      "Epoch 00015: val_loss did not improve from 0.34432\n",
      "34/34 [==============================] - 104s 3s/step - loss: 0.0508 - categorical_accuracy: 0.9819 - val_loss: 0.3765 - val_categorical_accuracy: 0.9000 - lr: 1.0000e-04\n"
     ]
    }
   ],
   "source": [
    "#fit_generator is deprecated.. using model.fit with generator objects...\n",
    "\n",
    "history = model_01.fit(x=training_data_gen, steps_per_epoch=steps_per_epoch, epochs=num_epochs, verbose=1,\n",
    "                       callbacks=callbacks_list, validation_data=validation_data_gen,\n",
    "                       validation_steps=validation_steps)"
   ]
  },
  {
   "cell_type": "code",
   "execution_count": 42,
   "id": "bdfe0dc5",
   "metadata": {},
   "outputs": [
    {
     "data": {
      "image/png": "[encoded data removed]",
      "text/plain": [
       "<Figure size 576x576 with 2 Axes>"
      ]
     },
     "metadata": {
      "needs_background": "light"
     },
     "output_type": "display_data"
    }
   ],
   "source": [
    "visualize_outputs(history, epoch=num_epochs)"
   ]
  },
  {
   "cell_type": "markdown",
   "id": "36001e5b",
   "metadata": {},
   "source": [
    "#### Observations\n",
    "\n",
    "- The model is able to achieve only 98% accuracy. The validation loss is ~90%. \n",
    "- The diff. is not huge. however the loss doesn't get a flatline.. \n",
    "- The model is trained for 15 epochs. We can try to increase the epochs count to check for better accuracy metrics.\n",
    "- The model shows no signs of overfitting as the difference between the train and validation loss is very less.\n",
    "- Total params: 3,856,069\n",
    "Trainable params: 3,855,941\n",
    "Non-trainable params: 128)"
   ]
  },
  {
   "cell_type": "markdown",
   "id": "baa10610",
   "metadata": {},
   "source": [
    "### Model-02:"
   ]
  },
  {
   "cell_type": "markdown",
   "id": "cdd83cae",
   "metadata": {},
   "source": [
    "- Increasig the epochs to 20\n",
    "- Increasing the batch size from 20 -> 30\n",
    "- Adjust the Learning Rate Factor to a smaller value... "
   ]
  },
  {
   "cell_type": "code",
   "execution_count": 50,
   "id": "08038ccd",
   "metadata": {},
   "outputs": [],
   "source": [
    "def prepare_conv3d_model_02():\n",
    "    model = Sequential()\n",
    "    model.add(Conv3D(32, (3,3,3), padding='same', input_shape=(num_images, height, width, 3)))\n",
    "    model.add(Activation('relu'))\n",
    "    model.add(MaxPooling3D(pool_size=(2, 2, 2), padding='same'))\n",
    "\n",
    "    model.add(Conv3D(64, (3,3,3), padding='same'))\n",
    "    model.add(Activation('relu'))\n",
    "    model.add(MaxPooling3D(pool_size=(2, 2, 2), padding='same'))\n",
    "\n",
    "    model.add(Conv3D(64, (3,3,3), padding='same'))\n",
    "    model.add(Activation('relu'))\n",
    "    model.add(MaxPooling3D(pool_size=(2, 2, 2), padding='same'))\n",
    "\n",
    "    model.add(Conv3D(128, (3,3,3), padding='same'))\n",
    "    model.add(Activation('relu'))\n",
    "    model.add(MaxPooling3D(pool_size=(3, 3, 3), padding='same'))\n",
    "\n",
    "    model.add(Conv3D(128, (3,3,3), padding='same'))\n",
    "    model.add(Activation('relu'))\n",
    "    model.add(BatchNormalization())\n",
    "    model.add(MaxPooling3D(pool_size=(2, 2, 2), padding='same'))\n",
    "\n",
    "    model.add(Flatten())\n",
    "    model.add(Dense(128))\n",
    "    model.add(Activation('relu'))\n",
    "    model.add(Dropout(0.20))\n",
    "\n",
    "    model.add(Dense(num_classes))\n",
    "    model.add(Activation('softmax'))\n",
    "    return model"
   ]
  },
  {
   "cell_type": "code",
   "execution_count": 51,
   "id": "b6560d51",
   "metadata": {},
   "outputs": [],
   "source": [
    "height = 120 # image width\n",
    "width = 120 # image height\n",
    "\n",
    "num_images = 20\n",
    "batch_size = 30 #experiment with the batch size\n",
    "img_idx = len(np.round(np.linspace(0,total_frames-1,num_images)).astype(int))\n",
    "\n",
    "num_epochs = 20\n",
    "\n",
    "LrPlateau_patience = 2\n",
    "LrPlateau_mode = 'auto'\n",
    "LrPlateau_factor = 0.1\n",
    "LrPlateau_fmin_lr = 0.0001\n"
   ]
  },
  {
   "cell_type": "code",
   "execution_count": 52,
   "id": "7382812c",
   "metadata": {},
   "outputs": [
    {
     "name": "stdout",
     "output_type": "stream",
     "text": [
      "WARNING:tensorflow:`period` argument is deprecated. Please use `save_freq` to specify the frequency in number of batches seen.\n"
     ]
    }
   ],
   "source": [
    "curr_dt_time = datetime.datetime.now()\n",
    "LR = ReduceLROnPlateau(monitor='val_loss',\n",
    "                       factor=LrPlateau_factor,\n",
    "                       patience=LrPlateau_patience,\n",
    "                       fmin_lr=LrPlateau_fmin_lr, verbose=1)\n",
    "\n",
    "callbacks_list = [model_callbacks(curr_dt_time, MODEL_SAVE_DIR), LR]\n",
    "steps_per_epoch, validation_steps = get_steps_info(len(train_doc), len(val_doc), batch_size)"
   ]
  },
  {
   "cell_type": "code",
   "execution_count": 53,
   "id": "0e59ae47",
   "metadata": {},
   "outputs": [
    {
     "name": "stdout",
     "output_type": "stream",
     "text": [
      "Epochs 20\n",
      "steps_per_epoch 23\n",
      "validation_steps 4\n"
     ]
    }
   ],
   "source": [
    "print('Epochs', num_epochs)\n",
    "print('steps_per_epoch', steps_per_epoch)\n",
    "print('validation_steps', validation_steps)"
   ]
  },
  {
   "cell_type": "code",
   "execution_count": 54,
   "id": "a7b983ef",
   "metadata": {},
   "outputs": [
    {
     "name": "stdout",
     "output_type": "stream",
     "text": [
      "Model: \"sequential_5\"\n",
      "_________________________________________________________________\n",
      " Layer (type)                Output Shape              Param #   \n",
      "=================================================================\n",
      " conv3d_6 (Conv3D)           (None, 20, 120, 120, 32)  2624      \n",
      "                                                                 \n",
      " activation_10 (Activation)  (None, 20, 120, 120, 32)  0         \n",
      "                                                                 \n",
      " max_pooling3d_6 (MaxPooling  (None, 10, 60, 60, 32)   0         \n",
      " 3D)                                                             \n",
      "                                                                 \n",
      " conv3d_7 (Conv3D)           (None, 10, 60, 60, 64)    55360     \n",
      "                                                                 \n",
      " activation_11 (Activation)  (None, 10, 60, 60, 64)    0         \n",
      "                                                                 \n",
      " max_pooling3d_7 (MaxPooling  (None, 5, 30, 30, 64)    0         \n",
      " 3D)                                                             \n",
      "                                                                 \n",
      " conv3d_8 (Conv3D)           (None, 5, 30, 30, 64)     110656    \n",
      "                                                                 \n",
      " activation_12 (Activation)  (None, 5, 30, 30, 64)     0         \n",
      "                                                                 \n",
      " max_pooling3d_8 (MaxPooling  (None, 3, 15, 15, 64)    0         \n",
      " 3D)                                                             \n",
      "                                                                 \n",
      " conv3d_9 (Conv3D)           (None, 3, 15, 15, 128)    221312    \n",
      "                                                                 \n",
      " activation_13 (Activation)  (None, 3, 15, 15, 128)    0         \n",
      "                                                                 \n",
      " max_pooling3d_9 (MaxPooling  (None, 1, 5, 5, 128)     0         \n",
      " 3D)                                                             \n",
      "                                                                 \n",
      " conv3d_10 (Conv3D)          (None, 1, 5, 5, 128)      442496    \n",
      "                                                                 \n",
      " activation_14 (Activation)  (None, 1, 5, 5, 128)      0         \n",
      "                                                                 \n",
      " batch_normalization_2 (Batc  (None, 1, 5, 5, 128)     512       \n",
      " hNormalization)                                                 \n",
      "                                                                 \n",
      " max_pooling3d_10 (MaxPoolin  (None, 1, 3, 3, 128)     0         \n",
      " g3D)                                                            \n",
      "                                                                 \n",
      " flatten_2 (Flatten)         (None, 1152)              0         \n",
      "                                                                 \n",
      " dense_4 (Dense)             (None, 128)               147584    \n",
      "                                                                 \n",
      " activation_15 (Activation)  (None, 128)               0         \n",
      "                                                                 \n",
      " dropout_2 (Dropout)         (None, 128)               0         \n",
      "                                                                 \n",
      " dense_5 (Dense)             (None, 5)                 645       \n",
      "                                                                 \n",
      " activation_16 (Activation)  (None, 5)                 0         \n",
      "                                                                 \n",
      "=================================================================\n",
      "Total params: 981,189\n",
      "Trainable params: 980,933\n",
      "Non-trainable params: 256\n",
      "_________________________________________________________________\n"
     ]
    }
   ],
   "source": [
    "model_02 = prepare_conv3d_model_02()\n",
    "optimizer = optimizers.adam_v2.Adam()\n",
    "model_02.compile(optimizer, loss='categorical_crossentropy', metrics=['categorical_accuracy'])\n",
    "model_02.summary()"
   ]
  },
  {
   "cell_type": "code",
   "execution_count": 55,
   "id": "d969d1c6",
   "metadata": {},
   "outputs": [],
   "source": [
    "training_data_gen = gesture_generator(TRAIN_DIR, train_doc, batch_size, img_idx, height, width)\n",
    "validation_data_gen = gesture_generator(VAL_DIR, val_doc, batch_size, img_idx, height, width)"
   ]
  },
  {
   "cell_type": "code",
   "execution_count": 56,
   "id": "97ae6a52",
   "metadata": {},
   "outputs": [
    {
     "name": "stdout",
     "output_type": "stream",
     "text": [
      "Epoch 1/20\n",
      "23/23 [==============================] - ETA: 0s - loss: 1.3608 - categorical_accuracy: 0.3906\n",
      "Epoch 00001: val_loss improved from inf to 1.51263, saving model to MODELS/model_init_2023-10-0117_15_58.407071/model-00001-1.36077-0.39065-1.51263-0.25000.h5\n",
      "23/23 [==============================] - 105s 5s/step - loss: 1.3608 - categorical_accuracy: 0.3906 - val_loss: 1.5126 - val_categorical_accuracy: 0.2500 - lr: 0.0010\n",
      "Epoch 2/20\n",
      "23/23 [==============================] - ETA: 0s - loss: 1.0056 - categorical_accuracy: 0.5732\n",
      "Epoch 00002: val_loss did not improve from 1.51263\n",
      "23/23 [==============================] - 104s 5s/step - loss: 1.0056 - categorical_accuracy: 0.5732 - val_loss: 1.5459 - val_categorical_accuracy: 0.2800 - lr: 0.0010\n",
      "Epoch 3/20\n",
      "23/23 [==============================] - ETA: 0s - loss: 0.7678 - categorical_accuracy: 0.6953\n",
      "Epoch 00003: val_loss improved from 1.51263 to 1.34116, saving model to MODELS/model_init_2023-10-0117_15_58.407071/model-00003-0.76783-0.69532-1.34116-0.37000.h5\n",
      "23/23 [==============================] - 105s 5s/step - loss: 0.7678 - categorical_accuracy: 0.6953 - val_loss: 1.3412 - val_categorical_accuracy: 0.3700 - lr: 0.0010\n",
      "Epoch 4/20\n",
      "23/23 [==============================] - ETA: 0s - loss: 0.6190 - categorical_accuracy: 0.7436\n",
      "Epoch 00004: val_loss improved from 1.34116 to 1.27609, saving model to MODELS/model_init_2023-10-0117_15_58.407071/model-00004-0.61903-0.74359-1.27609-0.43000.h5\n",
      "23/23 [==============================] - 102s 5s/step - loss: 0.6190 - categorical_accuracy: 0.7436 - val_loss: 1.2761 - val_categorical_accuracy: 0.4300 - lr: 0.0010\n",
      "Epoch 5/20\n",
      "23/23 [==============================] - ETA: 0s - loss: 0.5059 - categorical_accuracy: 0.7828\n",
      "Epoch 00005: val_loss improved from 1.27609 to 0.96155, saving model to MODELS/model_init_2023-10-0117_15_58.407071/model-00005-0.50590-0.78281-0.96155-0.71000.h5\n",
      "23/23 [==============================] - 104s 5s/step - loss: 0.5059 - categorical_accuracy: 0.7828 - val_loss: 0.9615 - val_categorical_accuracy: 0.7100 - lr: 0.0010\n",
      "Epoch 6/20\n",
      "23/23 [==============================] - ETA: 0s - loss: 0.3729 - categorical_accuracy: 0.8567\n",
      "Epoch 00006: val_loss improved from 0.96155 to 0.84047, saving model to MODELS/model_init_2023-10-0117_15_58.407071/model-00006-0.37294-0.85671-0.84047-0.83000.h5\n",
      "23/23 [==============================] - 105s 5s/step - loss: 0.3729 - categorical_accuracy: 0.8567 - val_loss: 0.8405 - val_categorical_accuracy: 0.8300 - lr: 0.0010\n",
      "Epoch 7/20\n",
      "23/23 [==============================] - ETA: 0s - loss: 0.3503 - categorical_accuracy: 0.8612\n",
      "Epoch 00007: val_loss improved from 0.84047 to 0.82378, saving model to MODELS/model_init_2023-10-0117_15_58.407071/model-00007-0.35025-0.86124-0.82378-0.68000.h5\n",
      "23/23 [==============================] - 104s 5s/step - loss: 0.3503 - categorical_accuracy: 0.8612 - val_loss: 0.8238 - val_categorical_accuracy: 0.6800 - lr: 0.0010\n",
      "Epoch 8/20\n",
      "23/23 [==============================] - ETA: 0s - loss: 0.3114 - categorical_accuracy: 0.8793\n",
      "Epoch 00008: val_loss improved from 0.82378 to 0.57602, saving model to MODELS/model_init_2023-10-0117_15_58.407071/model-00008-0.31144-0.87934-0.57602-0.87000.h5\n",
      "23/23 [==============================] - 101s 5s/step - loss: 0.3114 - categorical_accuracy: 0.8793 - val_loss: 0.5760 - val_categorical_accuracy: 0.8700 - lr: 0.0010\n",
      "Epoch 9/20\n",
      "23/23 [==============================] - ETA: 0s - loss: 0.2228 - categorical_accuracy: 0.9216\n",
      "Epoch 00009: val_loss improved from 0.57602 to 0.54845, saving model to MODELS/model_init_2023-10-0117_15_58.407071/model-00009-0.22279-0.92157-0.54845-0.81000.h5\n",
      "23/23 [==============================] - 104s 5s/step - loss: 0.2228 - categorical_accuracy: 0.9216 - val_loss: 0.5485 - val_categorical_accuracy: 0.8100 - lr: 0.0010\n",
      "Epoch 10/20\n",
      "23/23 [==============================] - ETA: 0s - loss: 0.2523 - categorical_accuracy: 0.9080\n",
      "Epoch 00010: val_loss did not improve from 0.54845\n",
      "23/23 [==============================] - 106s 5s/step - loss: 0.2523 - categorical_accuracy: 0.9080 - val_loss: 0.8335 - val_categorical_accuracy: 0.6800 - lr: 0.0010\n",
      "Epoch 11/20\n",
      "23/23 [==============================] - ETA: 0s - loss: 0.2707 - categorical_accuracy: 0.9080\n",
      "Epoch 00011: val_loss did not improve from 0.54845\n",
      "\n",
      "Epoch 00011: ReduceLROnPlateau reducing learning rate to 0.00010000000474974513.\n",
      "23/23 [==============================] - 104s 5s/step - loss: 0.2707 - categorical_accuracy: 0.9080 - val_loss: 0.7656 - val_categorical_accuracy: 0.6700 - lr: 0.0010\n",
      "Epoch 12/20\n",
      "23/23 [==============================] - ETA: 0s - loss: 0.1840 - categorical_accuracy: 0.9382\n",
      "Epoch 00012: val_loss improved from 0.54845 to 0.45081, saving model to MODELS/model_init_2023-10-0117_15_58.407071/model-00012-0.18398-0.93816-0.45081-0.84000.h5\n",
      "23/23 [==============================] - 102s 5s/step - loss: 0.1840 - categorical_accuracy: 0.9382 - val_loss: 0.4508 - val_categorical_accuracy: 0.8400 - lr: 1.0000e-04\n",
      "Epoch 13/20\n",
      "23/23 [==============================] - ETA: 0s - loss: 0.1152 - categorical_accuracy: 0.9623\n",
      "Epoch 00013: val_loss improved from 0.45081 to 0.36644, saving model to MODELS/model_init_2023-10-0117_15_58.407071/model-00013-0.11524-0.96229-0.36644-0.87000.h5\n",
      "23/23 [==============================] - 104s 5s/step - loss: 0.1152 - categorical_accuracy: 0.9623 - val_loss: 0.3664 - val_categorical_accuracy: 0.8700 - lr: 1.0000e-04\n",
      "Epoch 14/20\n",
      "23/23 [==============================] - ETA: 0s - loss: 0.0729 - categorical_accuracy: 0.9864\n",
      "Epoch 00014: val_loss improved from 0.36644 to 0.34443, saving model to MODELS/model_init_2023-10-0117_15_58.407071/model-00014-0.07288-0.98643-0.34443-0.88000.h5\n",
      "23/23 [==============================] - 104s 5s/step - loss: 0.0729 - categorical_accuracy: 0.9864 - val_loss: 0.3444 - val_categorical_accuracy: 0.8800 - lr: 1.0000e-04\n",
      "Epoch 15/20\n",
      "23/23 [==============================] - ETA: 0s - loss: 0.0694 - categorical_accuracy: 0.9819\n",
      "Epoch 00015: val_loss improved from 0.34443 to 0.21853, saving model to MODELS/model_init_2023-10-0117_15_58.407071/model-00015-0.06936-0.98190-0.21853-0.92000.h5\n",
      "23/23 [==============================] - 104s 5s/step - loss: 0.0694 - categorical_accuracy: 0.9819 - val_loss: 0.2185 - val_categorical_accuracy: 0.9200 - lr: 1.0000e-04\n",
      "Epoch 16/20\n",
      "23/23 [==============================] - ETA: 0s - loss: 0.0567 - categorical_accuracy: 0.9879\n",
      "Epoch 00016: val_loss did not improve from 0.21853\n",
      "23/23 [==============================] - 102s 5s/step - loss: 0.0567 - categorical_accuracy: 0.9879 - val_loss: 0.2815 - val_categorical_accuracy: 0.9100 - lr: 1.0000e-04\n",
      "Epoch 17/20\n",
      "23/23 [==============================] - ETA: 0s - loss: 0.0531 - categorical_accuracy: 0.9925\n",
      "Epoch 00017: val_loss did not improve from 0.21853\n",
      "\n",
      "Epoch 00017: ReduceLROnPlateau reducing learning rate to 1.0000000474974514e-05.\n",
      "23/23 [==============================] - 105s 5s/step - loss: 0.0531 - categorical_accuracy: 0.9925 - val_loss: 0.3046 - val_categorical_accuracy: 0.9000 - lr: 1.0000e-04\n",
      "Epoch 18/20\n",
      "23/23 [==============================] - ETA: 0s - loss: 0.0574 - categorical_accuracy: 0.9864\n",
      "Epoch 00018: val_loss improved from 0.21853 to 0.21484, saving model to MODELS/model_init_2023-10-0117_15_58.407071/model-00018-0.05745-0.98643-0.21484-0.93000.h5\n",
      "23/23 [==============================] - 104s 5s/step - loss: 0.0574 - categorical_accuracy: 0.9864 - val_loss: 0.2148 - val_categorical_accuracy: 0.9300 - lr: 1.0000e-05\n",
      "Epoch 19/20\n",
      "23/23 [==============================] - ETA: 0s - loss: 0.0553 - categorical_accuracy: 0.9834\n",
      "Epoch 00019: val_loss did not improve from 0.21484\n",
      "23/23 [==============================] - 104s 5s/step - loss: 0.0553 - categorical_accuracy: 0.9834 - val_loss: 0.2752 - val_categorical_accuracy: 0.9300 - lr: 1.0000e-05\n",
      "Epoch 20/20\n",
      "23/23 [==============================] - ETA: 0s - loss: 0.0474 - categorical_accuracy: 0.9925\n",
      "Epoch 00020: val_loss did not improve from 0.21484\n",
      "\n",
      "Epoch 00020: ReduceLROnPlateau reducing learning rate to 1.0000000656873453e-06.\n",
      "23/23 [==============================] - 102s 5s/step - loss: 0.0474 - categorical_accuracy: 0.9925 - val_loss: 0.3113 - val_categorical_accuracy: 0.9100 - lr: 1.0000e-05\n"
     ]
    }
   ],
   "source": [
    "#fit_generator is deprecated.. using model.fit with generator objects...\n",
    "\n",
    "history_02 = model_02.fit(x=training_data_gen, steps_per_epoch=steps_per_epoch, epochs=num_epochs, verbose=1,\n",
    "                       callbacks=callbacks_list, validation_data=validation_data_gen,\n",
    "                       validation_steps=validation_steps)"
   ]
  },
  {
   "cell_type": "code",
   "execution_count": 57,
   "id": "84ae4e63",
   "metadata": {},
   "outputs": [
    {
     "data": {
      "image/png": "[encoded data removed]",
      "text/plain": [
       "<Figure size 576x576 with 2 Axes>"
      ]
     },
     "metadata": {
      "needs_background": "light"
     },
     "output_type": "display_data"
    }
   ],
   "source": [
    "visualize_outputs(history_02, epoch=num_epochs)"
   ]
  },
  {
   "cell_type": "markdown",
   "id": "93185284",
   "metadata": {},
   "source": [
    "### Observations\n",
    "\n",
    "- The Loss graph is not stablized and also the there is no improvement in the accuracy. \n",
    "- Total params: 981,189 Trainable params: 980,933 Non-trainable params: 256"
   ]
  },
  {
   "cell_type": "markdown",
   "id": "6d7b35ea",
   "metadata": {},
   "source": [
    "### MODEL-03\n",
    "\n",
    "- Experiment with increasing the Dense layers.\n",
    "- Adjust Learning Rate Plateau factor."
   ]
  },
  {
   "cell_type": "code",
   "execution_count": null,
   "id": "a4fb32d3",
   "metadata": {},
   "outputs": [],
   "source": []
  },
  {
   "cell_type": "code",
   "execution_count": 59,
   "id": "dc954685",
   "metadata": {},
   "outputs": [],
   "source": [
    "def prepare_conv3d_model_03():\n",
    "    model = Sequential()\n",
    "    model.add(Conv3D(32, (3,3,3), padding='same', input_shape=(num_images, height, width, 3)))\n",
    "    model.add(Activation('relu'))\n",
    "    model.add(MaxPooling3D(pool_size=(2, 2, 2), padding='same'))\n",
    "\n",
    "    model.add(Conv3D(64, (3,3,3), padding='same'))\n",
    "    model.add(Activation('relu'))\n",
    "    model.add(MaxPooling3D(pool_size=(2, 2, 2), padding='same'))\n",
    "\n",
    "    model.add(Conv3D(64, (3,3,3), padding='same'))\n",
    "    model.add(Activation('relu'))\n",
    "    model.add(MaxPooling3D(pool_size=(2, 2, 2), padding='same'))\n",
    "\n",
    "    model.add(Conv3D(128, (3,3,3), padding='same'))\n",
    "    model.add(Activation('relu'))\n",
    "    model.add(MaxPooling3D(pool_size=(3, 3, 3), padding='same'))\n",
    "\n",
    "    model.add(Conv3D(128, (3,3,3), padding='same'))\n",
    "    model.add(Activation('relu'))\n",
    "    model.add(MaxPooling3D(pool_size=(2, 2, 2), padding='same'))\n",
    "\n",
    "    model.add(Flatten())\n",
    "    model.add(Dense(256))\n",
    "    model.add(Dense(128))\n",
    "    model.add(Dense(64))\n",
    "    model.add(Activation('relu'))\n",
    "    model.add(Dropout(0.20))\n",
    "\n",
    "    model.add(Dense(num_classes))\n",
    "    model.add(Activation('softmax'))\n",
    "    return model"
   ]
  },
  {
   "cell_type": "code",
   "execution_count": null,
   "id": "01f566c8",
   "metadata": {},
   "outputs": [],
   "source": []
  },
  {
   "cell_type": "code",
   "execution_count": 60,
   "id": "cbdee7e4",
   "metadata": {},
   "outputs": [],
   "source": [
    "height = 120 # image width\n",
    "width = 120 # image height\n",
    "\n",
    "batch_size = 20 #experiment with the batch size\n",
    "img_idx = len(np.round(np.linspace(0,total_frames-1,num_images)).astype(int))\n",
    "num_epochs = 20\n",
    "\n",
    "LrPlateau_patience = 2\n",
    "LrPlateau_mode = 'auto'\n",
    "LrPlateau_factor = 0.1\n",
    "LrPlateau_fmin_lr = 0.0001\n"
   ]
  },
  {
   "cell_type": "code",
   "execution_count": 61,
   "id": "132c4d05",
   "metadata": {},
   "outputs": [
    {
     "name": "stdout",
     "output_type": "stream",
     "text": [
      "WARNING:tensorflow:`period` argument is deprecated. Please use `save_freq` to specify the frequency in number of batches seen.\n"
     ]
    }
   ],
   "source": [
    "curr_dt_time = datetime.datetime.now()\n",
    "LR = ReduceLROnPlateau(monitor='val_loss',\n",
    "                       factor=LrPlateau_factor,\n",
    "                       patience=LrPlateau_patience,\n",
    "                       fmin_lr=LrPlateau_fmin_lr, verbose=1)\n",
    "\n",
    "callbacks_list = [model_callbacks(curr_dt_time, MODEL_SAVE_DIR), LR]\n",
    "steps_per_epoch, validation_steps = get_steps_info(len(train_doc), len(val_doc), batch_size)"
   ]
  },
  {
   "cell_type": "code",
   "execution_count": 62,
   "id": "2bb7db3c",
   "metadata": {},
   "outputs": [
    {
     "name": "stdout",
     "output_type": "stream",
     "text": [
      "Epochs 20\n",
      "steps_per_epoch 34\n",
      "validation_steps 5\n"
     ]
    }
   ],
   "source": [
    "print('Epochs', num_epochs)\n",
    "print('steps_per_epoch', steps_per_epoch)\n",
    "print('validation_steps', validation_steps)"
   ]
  },
  {
   "cell_type": "code",
   "execution_count": 63,
   "id": "99289dfc",
   "metadata": {},
   "outputs": [
    {
     "name": "stdout",
     "output_type": "stream",
     "text": [
      "Model: \"sequential_6\"\n",
      "_________________________________________________________________\n",
      " Layer (type)                Output Shape              Param #   \n",
      "=================================================================\n",
      " conv3d_11 (Conv3D)          (None, 20, 120, 120, 32)  2624      \n",
      "                                                                 \n",
      " activation_17 (Activation)  (None, 20, 120, 120, 32)  0         \n",
      "                                                                 \n",
      " max_pooling3d_11 (MaxPoolin  (None, 10, 60, 60, 32)   0         \n",
      " g3D)                                                            \n",
      "                                                                 \n",
      " conv3d_12 (Conv3D)          (None, 10, 60, 60, 64)    55360     \n",
      "                                                                 \n",
      " activation_18 (Activation)  (None, 10, 60, 60, 64)    0         \n",
      "                                                                 \n",
      " max_pooling3d_12 (MaxPoolin  (None, 5, 30, 30, 64)    0         \n",
      " g3D)                                                            \n",
      "                                                                 \n",
      " conv3d_13 (Conv3D)          (None, 5, 30, 30, 64)     110656    \n",
      "                                                                 \n",
      " activation_19 (Activation)  (None, 5, 30, 30, 64)     0         \n",
      "                                                                 \n",
      " max_pooling3d_13 (MaxPoolin  (None, 3, 15, 15, 64)    0         \n",
      " g3D)                                                            \n",
      "                                                                 \n",
      " conv3d_14 (Conv3D)          (None, 3, 15, 15, 128)    221312    \n",
      "                                                                 \n",
      " activation_20 (Activation)  (None, 3, 15, 15, 128)    0         \n",
      "                                                                 \n",
      " max_pooling3d_14 (MaxPoolin  (None, 1, 5, 5, 128)     0         \n",
      " g3D)                                                            \n",
      "                                                                 \n",
      " conv3d_15 (Conv3D)          (None, 1, 5, 5, 128)      442496    \n",
      "                                                                 \n",
      " activation_21 (Activation)  (None, 1, 5, 5, 128)      0         \n",
      "                                                                 \n",
      " max_pooling3d_15 (MaxPoolin  (None, 1, 3, 3, 128)     0         \n",
      " g3D)                                                            \n",
      "                                                                 \n",
      " flatten_3 (Flatten)         (None, 1152)              0         \n",
      "                                                                 \n",
      " dense_6 (Dense)             (None, 256)               295168    \n",
      "                                                                 \n",
      " dense_7 (Dense)             (None, 128)               32896     \n",
      "                                                                 \n",
      " dense_8 (Dense)             (None, 64)                8256      \n",
      "                                                                 \n",
      " activation_22 (Activation)  (None, 64)                0         \n",
      "                                                                 \n",
      " dropout_3 (Dropout)         (None, 64)                0         \n",
      "                                                                 \n",
      " dense_9 (Dense)             (None, 5)                 325       \n",
      "                                                                 \n",
      " activation_23 (Activation)  (None, 5)                 0         \n",
      "                                                                 \n",
      "=================================================================\n",
      "Total params: 1,169,093\n",
      "Trainable params: 1,169,093\n",
      "Non-trainable params: 0\n",
      "_________________________________________________________________\n"
     ]
    }
   ],
   "source": [
    "model_03 = prepare_conv3d_model_03()\n",
    "optimizer = optimizers.adam_v2.Adam()\n",
    "model_03.compile(optimizer, loss='categorical_crossentropy', metrics=['categorical_accuracy'])\n",
    "model_03.summary()"
   ]
  },
  {
   "cell_type": "code",
   "execution_count": 64,
   "id": "54cb72e4",
   "metadata": {},
   "outputs": [],
   "source": [
    "training_data_gen = gesture_generator(TRAIN_DIR, train_doc, batch_size, img_idx, height, width)\n",
    "validation_data_gen = gesture_generator(VAL_DIR, val_doc, batch_size, img_idx, height, width)"
   ]
  },
  {
   "cell_type": "code",
   "execution_count": 65,
   "id": "e0c8e325",
   "metadata": {},
   "outputs": [
    {
     "name": "stdout",
     "output_type": "stream",
     "text": [
      "Epoch 1/20\n",
      "34/34 [==============================] - ETA: 0s - loss: 1.6181 - categorical_accuracy: 0.2172\n",
      "Epoch 00001: val_loss improved from inf to 1.60914, saving model to MODELS/model_init_2023-10-0117_50_41.071095/model-00001-1.61809-0.21719-1.60914-0.21000.h5\n",
      "34/34 [==============================] - 105s 3s/step - loss: 1.6181 - categorical_accuracy: 0.2172 - val_loss: 1.6091 - val_categorical_accuracy: 0.2100 - lr: 0.0010\n",
      "Epoch 2/20\n",
      "34/34 [==============================] - ETA: 0s - loss: 1.5387 - categorical_accuracy: 0.2745\n",
      "Epoch 00002: val_loss improved from 1.60914 to 1.40639, saving model to MODELS/model_init_2023-10-0117_50_41.071095/model-00002-1.53865-0.27451-1.40639-0.37000.h5\n",
      "34/34 [==============================] - 104s 3s/step - loss: 1.5387 - categorical_accuracy: 0.2745 - val_loss: 1.4064 - val_categorical_accuracy: 0.3700 - lr: 0.0010\n",
      "Epoch 3/20\n",
      "34/34 [==============================] - ETA: 0s - loss: 1.3179 - categorical_accuracy: 0.3771\n",
      "Epoch 00003: val_loss improved from 1.40639 to 1.19981, saving model to MODELS/model_init_2023-10-0117_50_41.071095/model-00003-1.31785-0.37707-1.19981-0.45000.h5\n",
      "34/34 [==============================] - 105s 3s/step - loss: 1.3179 - categorical_accuracy: 0.3771 - val_loss: 1.1998 - val_categorical_accuracy: 0.4500 - lr: 0.0010\n",
      "Epoch 4/20\n",
      "34/34 [==============================] - ETA: 0s - loss: 1.2205 - categorical_accuracy: 0.4615\n",
      "Epoch 00004: val_loss did not improve from 1.19981\n",
      "34/34 [==============================] - 104s 3s/step - loss: 1.2205 - categorical_accuracy: 0.4615 - val_loss: 1.2695 - val_categorical_accuracy: 0.3600 - lr: 0.0010\n",
      "Epoch 5/20\n",
      "34/34 [==============================] - ETA: 0s - loss: 1.1015 - categorical_accuracy: 0.5249\n",
      "Epoch 00005: val_loss improved from 1.19981 to 0.92227, saving model to MODELS/model_init_2023-10-0117_50_41.071095/model-00005-1.10155-0.52489-0.92227-0.55000.h5\n",
      "34/34 [==============================] - 104s 3s/step - loss: 1.1015 - categorical_accuracy: 0.5249 - val_loss: 0.9223 - val_categorical_accuracy: 0.5500 - lr: 0.0010\n",
      "Epoch 6/20\n",
      "34/34 [==============================] - ETA: 0s - loss: 0.8887 - categorical_accuracy: 0.5958\n",
      "Epoch 00006: val_loss improved from 0.92227 to 0.72526, saving model to MODELS/model_init_2023-10-0117_50_41.071095/model-00006-0.88869-0.59578-0.72526-0.69000.h5\n",
      "34/34 [==============================] - 104s 3s/step - loss: 0.8887 - categorical_accuracy: 0.5958 - val_loss: 0.7253 - val_categorical_accuracy: 0.6900 - lr: 0.0010\n",
      "Epoch 7/20\n",
      "34/34 [==============================] - ETA: 0s - loss: 0.6288 - categorical_accuracy: 0.7391\n",
      "Epoch 00007: val_loss improved from 0.72526 to 0.60162, saving model to MODELS/model_init_2023-10-0117_50_41.071095/model-00007-0.62876-0.73906-0.60162-0.73000.h5\n",
      "34/34 [==============================] - 105s 3s/step - loss: 0.6288 - categorical_accuracy: 0.7391 - val_loss: 0.6016 - val_categorical_accuracy: 0.7300 - lr: 0.0010\n",
      "Epoch 8/20\n",
      "34/34 [==============================] - ETA: 0s - loss: 0.5139 - categorical_accuracy: 0.7843\n",
      "Epoch 00008: val_loss did not improve from 0.60162\n",
      "34/34 [==============================] - 105s 3s/step - loss: 0.5139 - categorical_accuracy: 0.7843 - val_loss: 0.6104 - val_categorical_accuracy: 0.7100 - lr: 0.0010\n",
      "Epoch 9/20\n",
      "34/34 [==============================] - ETA: 0s - loss: 0.4275 - categorical_accuracy: 0.8009\n",
      "Epoch 00009: val_loss did not improve from 0.60162\n",
      "\n",
      "Epoch 00009: ReduceLROnPlateau reducing learning rate to 0.00010000000474974513.\n",
      "34/34 [==============================] - 104s 3s/step - loss: 0.4275 - categorical_accuracy: 0.8009 - val_loss: 1.3423 - val_categorical_accuracy: 0.6100 - lr: 0.0010\n",
      "Epoch 10/20\n",
      "34/34 [==============================] - ETA: 0s - loss: 0.4955 - categorical_accuracy: 0.8009\n",
      "Epoch 00010: val_loss improved from 0.60162 to 0.40272, saving model to MODELS/model_init_2023-10-0117_50_41.071095/model-00010-0.49546-0.80090-0.40272-0.87000.h5\n",
      "34/34 [==============================] - 104s 3s/step - loss: 0.4955 - categorical_accuracy: 0.8009 - val_loss: 0.4027 - val_categorical_accuracy: 0.8700 - lr: 1.0000e-04\n",
      "Epoch 11/20\n",
      "34/34 [==============================] - ETA: 0s - loss: 0.2862 - categorical_accuracy: 0.8839\n",
      "Epoch 00011: val_loss improved from 0.40272 to 0.35906, saving model to MODELS/model_init_2023-10-0117_50_41.071095/model-00011-0.28616-0.88386-0.35906-0.85000.h5\n",
      "34/34 [==============================] - 104s 3s/step - loss: 0.2862 - categorical_accuracy: 0.8839 - val_loss: 0.3591 - val_categorical_accuracy: 0.8500 - lr: 1.0000e-04\n",
      "Epoch 12/20\n",
      "34/34 [==============================] - ETA: 0s - loss: 0.2446 - categorical_accuracy: 0.8989\n",
      "Epoch 00012: val_loss improved from 0.35906 to 0.35344, saving model to MODELS/model_init_2023-10-0117_50_41.071095/model-00012-0.24459-0.89894-0.35344-0.84000.h5\n",
      "34/34 [==============================] - 105s 3s/step - loss: 0.2446 - categorical_accuracy: 0.8989 - val_loss: 0.3534 - val_categorical_accuracy: 0.8400 - lr: 1.0000e-04\n",
      "Epoch 13/20\n",
      "34/34 [==============================] - ETA: 0s - loss: 0.2270 - categorical_accuracy: 0.9140\n",
      "Epoch 00013: val_loss did not improve from 0.35344\n",
      "34/34 [==============================] - 103s 3s/step - loss: 0.2270 - categorical_accuracy: 0.9140 - val_loss: 0.3692 - val_categorical_accuracy: 0.8400 - lr: 1.0000e-04\n",
      "Epoch 14/20\n",
      "34/34 [==============================] - ETA: 0s - loss: 0.2071 - categorical_accuracy: 0.9170\n",
      "Epoch 00014: val_loss improved from 0.35344 to 0.32033, saving model to MODELS/model_init_2023-10-0117_50_41.071095/model-00014-0.20710-0.91704-0.32033-0.88000.h5\n",
      "34/34 [==============================] - 105s 3s/step - loss: 0.2071 - categorical_accuracy: 0.9170 - val_loss: 0.3203 - val_categorical_accuracy: 0.8800 - lr: 1.0000e-04\n",
      "Epoch 15/20\n",
      "34/34 [==============================] - ETA: 0s - loss: 0.1638 - categorical_accuracy: 0.9367\n",
      "Epoch 00015: val_loss improved from 0.32033 to 0.27111, saving model to MODELS/model_init_2023-10-0117_50_41.071095/model-00015-0.16380-0.93665-0.27111-0.89000.h5\n",
      "34/34 [==============================] - 104s 3s/step - loss: 0.1638 - categorical_accuracy: 0.9367 - val_loss: 0.2711 - val_categorical_accuracy: 0.8900 - lr: 1.0000e-04\n",
      "Epoch 16/20\n",
      "34/34 [==============================] - ETA: 0s - loss: 0.1532 - categorical_accuracy: 0.9472\n",
      "Epoch 00016: val_loss did not improve from 0.27111\n",
      "34/34 [==============================] - 104s 3s/step - loss: 0.1532 - categorical_accuracy: 0.9472 - val_loss: 0.3172 - val_categorical_accuracy: 0.8600 - lr: 1.0000e-04\n",
      "Epoch 17/20\n",
      "34/34 [==============================] - ETA: 0s - loss: 0.1182 - categorical_accuracy: 0.9623\n",
      "Epoch 00017: val_loss did not improve from 0.27111\n",
      "\n",
      "Epoch 00017: ReduceLROnPlateau reducing learning rate to 1.0000000474974514e-05.\n",
      "34/34 [==============================] - 105s 3s/step - loss: 0.1182 - categorical_accuracy: 0.9623 - val_loss: 0.2956 - val_categorical_accuracy: 0.8900 - lr: 1.0000e-04\n",
      "Epoch 18/20\n",
      "34/34 [==============================] - ETA: 0s - loss: 0.1130 - categorical_accuracy: 0.9608\n",
      "Epoch 00018: val_loss did not improve from 0.27111\n",
      "34/34 [==============================] - 105s 3s/step - loss: 0.1130 - categorical_accuracy: 0.9608 - val_loss: 0.2781 - val_categorical_accuracy: 0.8900 - lr: 1.0000e-05\n",
      "Epoch 19/20\n",
      "34/34 [==============================] - ETA: 0s - loss: 0.1070 - categorical_accuracy: 0.9593\n",
      "Epoch 00019: val_loss did not improve from 0.27111\n",
      "\n",
      "Epoch 00019: ReduceLROnPlateau reducing learning rate to 1.0000000656873453e-06.\n",
      "34/34 [==============================] - 104s 3s/step - loss: 0.1070 - categorical_accuracy: 0.9593 - val_loss: 0.3513 - val_categorical_accuracy: 0.8200 - lr: 1.0000e-05\n",
      "Epoch 20/20\n",
      "34/34 [==============================] - ETA: 0s - loss: 0.1096 - categorical_accuracy: 0.9653\n",
      "Epoch 00020: val_loss did not improve from 0.27111\n",
      "34/34 [==============================] - 104s 3s/step - loss: 0.1096 - categorical_accuracy: 0.9653 - val_loss: 0.3222 - val_categorical_accuracy: 0.8600 - lr: 1.0000e-06\n"
     ]
    }
   ],
   "source": [
    "#fit_generator is deprecated.. using model.fit with generator objects...\n",
    "\n",
    "history_03 = model_03.fit(x=training_data_gen, steps_per_epoch=steps_per_epoch, epochs=num_epochs, verbose=1,\n",
    "                       callbacks=callbacks_list, validation_data=validation_data_gen,\n",
    "                       validation_steps=validation_steps)"
   ]
  },
  {
   "cell_type": "code",
   "execution_count": 66,
   "id": "9fe3b52d",
   "metadata": {},
   "outputs": [
    {
     "data": {
      "image/png": "[encoded data removed]",
      "text/plain": [
       "<Figure size 576x576 with 2 Axes>"
      ]
     },
     "metadata": {
      "needs_background": "light"
     },
     "output_type": "display_data"
    }
   ],
   "source": [
    "visualize_outputs(history_03, epoch=num_epochs)"
   ]
  },
  {
   "cell_type": "code",
   "execution_count": null,
   "id": "07a57a62",
   "metadata": {},
   "outputs": [],
   "source": []
  },
  {
   "cell_type": "markdown",
   "id": "1ba5f7ba",
   "metadata": {},
   "source": [
    "### Model-04\n",
    "\n",
    "- Experimenting the same model with a reduced image size to 100x100"
   ]
  },
  {
   "cell_type": "code",
   "execution_count": 67,
   "id": "ad7f05c3",
   "metadata": {},
   "outputs": [],
   "source": [
    "height = 100 # image width\n",
    "width = 100 # image height\n",
    "\n",
    "batch_size = 20 #experiment with the batch size\n",
    "\n",
    "num_epochs = 20\n",
    "LrPlateau_patience = 2\n",
    "LrPlateau_mode = 'auto'\n",
    "LrPlateau_factor = 0.1\n",
    "LrPlateau_fmin_lr = 0.0001\n"
   ]
  },
  {
   "cell_type": "code",
   "execution_count": 68,
   "id": "6f6b1dd5",
   "metadata": {},
   "outputs": [
    {
     "name": "stdout",
     "output_type": "stream",
     "text": [
      "WARNING:tensorflow:`period` argument is deprecated. Please use `save_freq` to specify the frequency in number of batches seen.\n"
     ]
    }
   ],
   "source": [
    "curr_dt_time = datetime.datetime.now()\n",
    "LR = ReduceLROnPlateau(monitor='val_loss',\n",
    "                       factor=LrPlateau_factor,\n",
    "                       patience=LrPlateau_patience,\n",
    "                       fmin_lr=LrPlateau_fmin_lr, verbose=1)\n",
    "\n",
    "callbacks_list = [model_callbacks(curr_dt_time, MODEL_SAVE_DIR), LR]\n",
    "steps_per_epoch, validation_steps = get_steps_info(len(train_doc), len(val_doc), batch_size)"
   ]
  },
  {
   "cell_type": "code",
   "execution_count": 69,
   "id": "f25a2f4d",
   "metadata": {},
   "outputs": [
    {
     "name": "stdout",
     "output_type": "stream",
     "text": [
      "Epochs 20\n",
      "steps_per_epoch 34\n",
      "validation_steps 5\n"
     ]
    }
   ],
   "source": [
    "print('Epochs', num_epochs)\n",
    "print('steps_per_epoch', steps_per_epoch)\n",
    "print('validation_steps', validation_steps)"
   ]
  },
  {
   "cell_type": "code",
   "execution_count": 70,
   "id": "258eddc7",
   "metadata": {},
   "outputs": [
    {
     "name": "stdout",
     "output_type": "stream",
     "text": [
      "Model: \"sequential_7\"\n",
      "_________________________________________________________________\n",
      " Layer (type)                Output Shape              Param #   \n",
      "=================================================================\n",
      " conv3d_16 (Conv3D)          (None, 20, 100, 100, 32)  2624      \n",
      "                                                                 \n",
      " activation_24 (Activation)  (None, 20, 100, 100, 32)  0         \n",
      "                                                                 \n",
      " max_pooling3d_16 (MaxPoolin  (None, 10, 50, 50, 32)   0         \n",
      " g3D)                                                            \n",
      "                                                                 \n",
      " conv3d_17 (Conv3D)          (None, 10, 50, 50, 64)    55360     \n",
      "                                                                 \n",
      " activation_25 (Activation)  (None, 10, 50, 50, 64)    0         \n",
      "                                                                 \n",
      " max_pooling3d_17 (MaxPoolin  (None, 5, 25, 25, 64)    0         \n",
      " g3D)                                                            \n",
      "                                                                 \n",
      " conv3d_18 (Conv3D)          (None, 5, 25, 25, 64)     110656    \n",
      "                                                                 \n",
      " activation_26 (Activation)  (None, 5, 25, 25, 64)     0         \n",
      "                                                                 \n",
      " max_pooling3d_18 (MaxPoolin  (None, 3, 13, 13, 64)    0         \n",
      " g3D)                                                            \n",
      "                                                                 \n",
      " conv3d_19 (Conv3D)          (None, 3, 13, 13, 128)    221312    \n",
      "                                                                 \n",
      " activation_27 (Activation)  (None, 3, 13, 13, 128)    0         \n",
      "                                                                 \n",
      " max_pooling3d_19 (MaxPoolin  (None, 1, 5, 5, 128)     0         \n",
      " g3D)                                                            \n",
      "                                                                 \n",
      " conv3d_20 (Conv3D)          (None, 1, 5, 5, 128)      442496    \n",
      "                                                                 \n",
      " activation_28 (Activation)  (None, 1, 5, 5, 128)      0         \n",
      "                                                                 \n",
      " max_pooling3d_20 (MaxPoolin  (None, 1, 3, 3, 128)     0         \n",
      " g3D)                                                            \n",
      "                                                                 \n",
      " flatten_4 (Flatten)         (None, 1152)              0         \n",
      "                                                                 \n",
      " dense_10 (Dense)            (None, 256)               295168    \n",
      "                                                                 \n",
      " dense_11 (Dense)            (None, 128)               32896     \n",
      "                                                                 \n",
      " dense_12 (Dense)            (None, 64)                8256      \n",
      "                                                                 \n",
      " activation_29 (Activation)  (None, 64)                0         \n",
      "                                                                 \n",
      " dropout_4 (Dropout)         (None, 64)                0         \n",
      "                                                                 \n",
      " dense_13 (Dense)            (None, 5)                 325       \n",
      "                                                                 \n",
      " activation_30 (Activation)  (None, 5)                 0         \n",
      "                                                                 \n",
      "=================================================================\n",
      "Total params: 1,169,093\n",
      "Trainable params: 1,169,093\n",
      "Non-trainable params: 0\n",
      "_________________________________________________________________\n"
     ]
    }
   ],
   "source": [
    "model_04 = prepare_conv3d_model_03()\n",
    "optimizer = optimizers.adam_v2.Adam()\n",
    "model_04.compile(optimizer, loss='categorical_crossentropy', metrics=['categorical_accuracy'])\n",
    "model_04.summary()"
   ]
  },
  {
   "cell_type": "code",
   "execution_count": 71,
   "id": "1e17c69a",
   "metadata": {},
   "outputs": [],
   "source": [
    "training_data_gen = gesture_generator(TRAIN_DIR, train_doc, batch_size, img_idx, height, width)\n",
    "validation_data_gen = gesture_generator(VAL_DIR, val_doc, batch_size, img_idx, height, width)"
   ]
  },
  {
   "cell_type": "code",
   "execution_count": 72,
   "id": "d928a550",
   "metadata": {},
   "outputs": [
    {
     "name": "stdout",
     "output_type": "stream",
     "text": [
      "Epoch 1/20\n",
      "34/34 [==============================] - ETA: 0s - loss: 1.6784 - categorical_accuracy: 0.1961\n",
      "Epoch 00001: val_loss improved from inf to 1.61099, saving model to MODELS/model_init_2023-10-0118_25_29.766805/model-00001-1.67844-0.19608-1.61099-0.16000.h5\n",
      "34/34 [==============================] - 104s 3s/step - loss: 1.6784 - categorical_accuracy: 0.1961 - val_loss: 1.6110 - val_categorical_accuracy: 0.1600 - lr: 0.0010\n",
      "Epoch 2/20\n",
      "34/34 [==============================] - ETA: 0s - loss: 1.6110 - categorical_accuracy: 0.1719\n",
      "Epoch 00002: val_loss improved from 1.61099 to 1.60968, saving model to MODELS/model_init_2023-10-0118_25_29.766805/model-00002-1.61099-0.17195-1.60968-0.20000.h5\n",
      "34/34 [==============================] - 103s 3s/step - loss: 1.6110 - categorical_accuracy: 0.1719 - val_loss: 1.6097 - val_categorical_accuracy: 0.2000 - lr: 0.0010\n",
      "Epoch 3/20\n",
      "34/34 [==============================] - ETA: 0s - loss: 1.6061 - categorical_accuracy: 0.1976\n",
      "Epoch 00003: val_loss improved from 1.60968 to 1.50367, saving model to MODELS/model_init_2023-10-0118_25_29.766805/model-00003-1.60612-0.19759-1.50367-0.34000.h5\n",
      "34/34 [==============================] - 103s 3s/step - loss: 1.6061 - categorical_accuracy: 0.1976 - val_loss: 1.5037 - val_categorical_accuracy: 0.3400 - lr: 0.0010\n",
      "Epoch 4/20\n",
      "34/34 [==============================] - ETA: 0s - loss: 1.5883 - categorical_accuracy: 0.2247\n",
      "Epoch 00004: val_loss did not improve from 1.50367\n",
      "34/34 [==============================] - 102s 3s/step - loss: 1.5883 - categorical_accuracy: 0.2247 - val_loss: 1.6122 - val_categorical_accuracy: 0.1800 - lr: 0.0010\n",
      "Epoch 5/20\n",
      "34/34 [==============================] - ETA: 0s - loss: 1.6113 - categorical_accuracy: 0.1946\n",
      "Epoch 00005: val_loss did not improve from 1.50367\n",
      "\n",
      "Epoch 00005: ReduceLROnPlateau reducing learning rate to 0.00010000000474974513.\n",
      "34/34 [==============================] - 103s 3s/step - loss: 1.6113 - categorical_accuracy: 0.1946 - val_loss: 1.6095 - val_categorical_accuracy: 0.1800 - lr: 0.0010\n",
      "Epoch 6/20\n",
      "34/34 [==============================] - ETA: 0s - loss: 1.6094 - categorical_accuracy: 0.1946\n",
      "Epoch 00006: val_loss did not improve from 1.50367\n",
      "34/34 [==============================] - 102s 3s/step - loss: 1.6094 - categorical_accuracy: 0.1946 - val_loss: 1.6090 - val_categorical_accuracy: 0.2100 - lr: 1.0000e-04\n",
      "Epoch 7/20\n",
      "34/34 [==============================] - ETA: 0s - loss: 1.6091 - categorical_accuracy: 0.2097\n",
      "Epoch 00007: val_loss did not improve from 1.50367\n",
      "\n",
      "Epoch 00007: ReduceLROnPlateau reducing learning rate to 1.0000000474974514e-05.\n",
      "34/34 [==============================] - 102s 3s/step - loss: 1.6091 - categorical_accuracy: 0.2097 - val_loss: 1.6088 - val_categorical_accuracy: 0.1700 - lr: 1.0000e-04\n",
      "Epoch 8/20\n",
      "34/34 [==============================] - ETA: 0s - loss: 1.6088 - categorical_accuracy: 0.2157\n",
      "Epoch 00011: val_loss did not improve from 1.50367\n",
      "\n",
      "Epoch 00011: ReduceLROnPlateau reducing learning rate to 1.0000001111620805e-07.\n",
      "34/34 [==============================] - 102s 3s/step - loss: 1.6088 - categorical_accuracy: 0.2157 - val_loss: 1.6088 - val_categorical_accuracy: 0.1800 - lr: 1.0000e-06\n",
      "Epoch 12/20\n",
      "34/34 [==============================] - ETA: 0s - loss: 1.6090 - categorical_accuracy: 0.2097\n",
      "Epoch 00012: val_loss did not improve from 1.50367\n",
      "34/34 [==============================] - 104s 3s/step - loss: 1.6090 - categorical_accuracy: 0.2097 - val_loss: 1.6089 - val_categorical_accuracy: 0.1800 - lr: 1.0000e-07\n",
      "Epoch 13/20\n",
      "34/34 [==============================] - ETA: 0s - loss: 1.6097 - categorical_accuracy: 0.1931\n",
      "Epoch 00013: val_loss did not improve from 1.50367\n",
      "\n",
      "Epoch 00013: ReduceLROnPlateau reducing learning rate to 1.000000082740371e-08.\n",
      "34/34 [==============================] - 103s 3s/step - loss: 1.6097 - categorical_accuracy: 0.1931 - val_loss: 1.6089 - val_categorical_accuracy: 0.2000 - lr: 1.0000e-07\n",
      "Epoch 14/20\n",
      "34/34 [==============================] - ETA: 0s - loss: 1.6092 - categorical_accuracy: 0.2112\n",
      "Epoch 00014: val_loss did not improve from 1.50367\n",
      "34/34 [==============================] - 103s 3s/step - loss: 1.6092 - categorical_accuracy: 0.2112 - val_loss: 1.6093 - val_categorical_accuracy: 0.1700 - lr: 1.0000e-08\n",
      "Epoch 15/20\n",
      "34/34 [==============================] - ETA: 0s - loss: 1.6093 - categorical_accuracy: 0.2006\n",
      "Epoch 00015: val_loss did not improve from 1.50367\n",
      "\n",
      "Epoch 00015: ReduceLROnPlateau reducing learning rate to 1.000000082740371e-09.\n",
      "34/34 [==============================] - 103s 3s/step - loss: 1.6093 - categorical_accuracy: 0.2006 - val_loss: 1.6082 - val_categorical_accuracy: 0.2100 - lr: 1.0000e-08\n",
      "Epoch 16/20\n",
      "34/34 [==============================] - ETA: 0s - loss: 1.6083 - categorical_accuracy: 0.2157\n",
      "Epoch 00016: val_loss did not improve from 1.50367\n",
      "34/34 [==============================] - 102s 3s/step - loss: 1.6083 - categorical_accuracy: 0.2157 - val_loss: 1.6088 - val_categorical_accuracy: 0.1800 - lr: 1.0000e-09\n",
      "Epoch 17/20\n",
      "34/34 [==============================] - ETA: 0s - loss: 1.6091 - categorical_accuracy: 0.2006\n",
      "Epoch 00017: val_loss did not improve from 1.50367\n",
      "\n",
      "Epoch 00017: ReduceLROnPlateau reducing learning rate to 1.000000082740371e-10.\n",
      "34/34 [==============================] - 102s 3s/step - loss: 1.6091 - categorical_accuracy: 0.2006 - val_loss: 1.6088 - val_categorical_accuracy: 0.2100 - lr: 1.0000e-09\n",
      "Epoch 18/20\n",
      "34/34 [==============================] - ETA: 0s - loss: 1.6099 - categorical_accuracy: 0.1855\n",
      "Epoch 00018: val_loss did not improve from 1.50367\n",
      "34/34 [==============================] - 103s 3s/step - loss: 1.6099 - categorical_accuracy: 0.1855 - val_loss: 1.6084 - val_categorical_accuracy: 0.1200 - lr: 1.0000e-10\n",
      "Epoch 19/20\n",
      "34/34 [==============================] - ETA: 0s - loss: 1.6089 - categorical_accuracy: 0.2081\n",
      "Epoch 00019: val_loss did not improve from 1.50367\n",
      "\n",
      "Epoch 00019: ReduceLROnPlateau reducing learning rate to 1.000000082740371e-11.\n",
      "34/34 [==============================] - 103s 3s/step - loss: 1.6089 - categorical_accuracy: 0.2081 - val_loss: 1.6088 - val_categorical_accuracy: 0.1700 - lr: 1.0000e-10\n",
      "Epoch 20/20\n",
      "34/34 [==============================] - ETA: 0s - loss: 1.6096 - categorical_accuracy: 0.2172\n",
      "Epoch 00020: val_loss did not improve from 1.50367\n",
      "34/34 [==============================] - 102s 3s/step - loss: 1.6096 - categorical_accuracy: 0.2172 - val_loss: 1.6078 - val_categorical_accuracy: 0.2100 - lr: 1.0000e-11\n"
     ]
    }
   ],
   "source": [
    "#fit_generator is deprecated.. using model.fit with generator objects...\n",
    "\n",
    "history_04 = model_04.fit(x=training_data_gen, steps_per_epoch=steps_per_epoch, epochs=num_epochs, verbose=1,\n",
    "                       callbacks=callbacks_list, validation_data=validation_data_gen,\n",
    "                       validation_steps=validation_steps)"
   ]
  },
  {
   "cell_type": "code",
   "execution_count": 73,
   "id": "b241473d",
   "metadata": {},
   "outputs": [
    {
     "data": {
      "image/png": "[encoded data removed]",
      "text/plain": [
       "<Figure size 576x576 with 2 Axes>"
      ]
     },
     "metadata": {
      "needs_background": "light"
     },
     "output_type": "display_data"
    }
   ],
   "source": [
    "visualize_outputs(history_04, epoch=num_epochs)"
   ]
  },
  {
   "cell_type": "markdown",
   "id": "38cf275f",
   "metadata": {},
   "source": [
    "#### Observations\n",
    "\n",
    "- No improvement in the accuracy levels. \n",
    "- Loss has also increased. No improvement in reducing the image size. \n",
    "- Total params: 1,169,093 Trainable params: 1,169,093"
   ]
  },
  {
   "cell_type": "markdown",
   "id": "4010b3d7",
   "metadata": {},
   "source": [
    "### Model-05\n",
    "- The problem is to identify the gesture and has no relation with the colors of the image. Hence, trying out to grayscale the image so as to reduce the layers and parameters. "
   ]
  },
  {
   "cell_type": "markdown",
   "id": "4c9fab08",
   "metadata": {},
   "source": [
    "import cv2\n",
    "\n",
    "def process_batch_grayscale(source_path, folders_list, batch, batch_size, img_idx, height=120, width=120):\n",
    "    print(img_idx)\n",
    "    num_images = len(img_idx)\n",
    "    batch_data   = np.zeros((batch_size, num_images, height, width, 1)) # 3 is the number of channels RGB\n",
    "    batch_labels = np.zeros((batch_size, 5)) # batch_labels is the one hot representation of the output\n",
    "\n",
    "    for folder in range(batch_size): # iterate over the batch_size\n",
    "        imgs = os.listdir(source_path+'/'+ folders_list[folder + (batch*batch_size)].split(';')[0]) # read all the images in the folder\n",
    "        for idx,item in enumerate(img_idx): #  Iterate over the frames/images of a folder to read them in\n",
    "            image = imread(source_path+'/'+ folders_list[folder + (batch*batch_size)].strip().split(';')[0]+'/'+imgs[item]).astype(np.float32)\n",
    "\n",
    "            #crop the images and resize them. Note that the images are of 2 different shape\n",
    "            #and the conv3D will throw error if the inputs in a batch have different shapes\n",
    "            h, w, c = image.shape\n",
    "            if w == 160:\n",
    "                image = image[: 20:140, :] #Crop Horizontal edges to make it a square image\n",
    "            image = resize(image, (height, width), anti_aliasing=True)\n",
    "            \n",
    "            batch_data[folder,idx,:,:,0] = cv2.cvtColor(image, cv2.COLOR_BGR2GRAY)\n",
    "\n",
    "            #batch_data[folder,idx,:,:,0] = (image[...,0])/255 #normalise and feed in the image\n",
    "            #batch_data[folder,idx,:,:,1] = (image[...,1])/255 #normalise and feed in the image\n",
    "            #batch_data[folder,idx,:,:,2] = (image[...,2])/255 #normalise and feed in the image\n",
    "\n",
    "        batch_labels[folder, int(folders_list[folder + (batch*batch_size)].strip().split(';')[2])] = 1\n",
    "\n",
    "    yield batch_data, batch_labels #you yield the batch_data and the batch_labels, remember what does yield do\n",
    "\n",
    "\n",
    "def gesture_generator_grayscale(source_path, folder_list, batch_size, img_idx, height=120, width=120):\n",
    "    #total_frames = 30\n",
    "    #num_images = len(img_idx)\n",
    "    print(type(img_idx), img_idx)\n",
    "    while True:\n",
    "        number_of_batches = len(folder_list)//batch_size # calculate the number of batches\n",
    "        randomized_folders_list = np.random.permutation(folder_list)\n",
    "\n",
    "        for batch in range(number_of_batches): # we iterate over the number of batches\n",
    "            for batch_data, batch_labels in process_batch(source_path, randomized_folders_list, batch, batch_size, img_idx, height, width):\n",
    "                yield batch_data, batch_labels\n",
    "\n",
    "            # Remaining (would be < than the batch size) = total - (number_of_batches * batch_size)\n",
    "            remaining_batch_size = len(folder_list) - (number_of_batches * batch_size)\n",
    "            if (remaining_batch_size > 0):\n",
    "                for batch_data, batch_labels in process_batch(source_path, randomized_folders_list, batch, remaining_batch_size, img_idx, height, width):\n",
    "                    yield batch_data, batch_labels"
   ]
  },
  {
   "cell_type": "code",
   "execution_count": 80,
   "id": "cd422963",
   "metadata": {},
   "outputs": [],
   "source": [
    "def prepare_conv3d_grayscale_model_05(num_classes, color_channels = 3):\n",
    "    model = Sequential()\n",
    "    model.add(Conv3D(32, (3,3,3), padding='same', input_shape=(num_images, height, width, color_channels)))\n",
    "    model.add(Activation('relu'))\n",
    "    model.add(MaxPooling3D(pool_size=(2, 2, 2), padding='same'))\n",
    "\n",
    "    model.add(Conv3D(64, (3,3,3), padding='same'))\n",
    "    model.add(Activation('relu'))\n",
    "    model.add(MaxPooling3D(pool_size=(2, 2, 2), padding='same'))\n",
    "\n",
    "    model.add(Conv3D(64, (3,3,3), padding='same'))\n",
    "    model.add(Activation('relu'))\n",
    "    model.add(MaxPooling3D(pool_size=(2, 2, 2), padding='same'))\n",
    "\n",
    "    model.add(Conv3D(128, (3,3,3), padding='same'))\n",
    "    model.add(Activation('relu'))\n",
    "    model.add(MaxPooling3D(pool_size=(3, 3, 2), padding='same'))\n",
    "\n",
    "    model.add(Conv3D(256, (3,3,3), padding='same'))\n",
    "    model.add(Activation('relu'))\n",
    "    model.add(MaxPooling3D(pool_size=(2, 2, 2), padding='same'))\n",
    "\n",
    "    model.add(Flatten())\n",
    "    model.add(Dense(256))\n",
    "    model.add(Dense(128))\n",
    "    model.add(Dense(64))\n",
    "    model.add(Activation('relu'))\n",
    "    model.add(Dropout(0.20))\n",
    "\n",
    "    model.add(Dense(num_classes))\n",
    "    model.add(Activation('softmax'))\n",
    "    return model"
   ]
  },
  {
   "cell_type": "code",
   "execution_count": 81,
   "id": "38b3a503",
   "metadata": {},
   "outputs": [],
   "source": [
    "height = 120 # image width\n",
    "width = 120 # image height\n",
    "\n",
    "batch_size = 30 #experiment with the batch size\n",
    "\n",
    "num_epochs = 20\n",
    "LrPlateau_patience = 2\n",
    "LrPlateau_mode = 'auto'\n",
    "LrPlateau_factor = 0.2\n",
    "LrPlateau_fmin_lr = 0.0001\n"
   ]
  },
  {
   "cell_type": "code",
   "execution_count": 82,
   "id": "69336b0f",
   "metadata": {},
   "outputs": [
    {
     "name": "stdout",
     "output_type": "stream",
     "text": [
      "WARNING:tensorflow:`period` argument is deprecated. Please use `save_freq` to specify the frequency in number of batches seen.\n"
     ]
    }
   ],
   "source": [
    "\n",
    "curr_dt_time = datetime.datetime.now()\n",
    "LR = ReduceLROnPlateau(monitor='val_loss',\n",
    "                       factor=LrPlateau_factor,\n",
    "                       patience=LrPlateau_patience,\n",
    "                       fmin_lr=LrPlateau_fmin_lr, verbose=1)\n",
    "\n",
    "callbacks_list = [model_callbacks(curr_dt_time, MODEL_SAVE_DIR), LR]\n",
    "steps_per_epoch, validation_steps = get_steps_info(len(train_doc), len(val_doc), batch_size)\n"
   ]
  },
  {
   "cell_type": "code",
   "execution_count": 83,
   "id": "2b592704",
   "metadata": {},
   "outputs": [
    {
     "name": "stdout",
     "output_type": "stream",
     "text": [
      "Epochs 20\n",
      "steps_per_epoch 23\n",
      "validation_steps 4\n"
     ]
    }
   ],
   "source": [
    "print('Epochs', num_epochs)\n",
    "print('steps_per_epoch', steps_per_epoch)\n",
    "print('validation_steps', validation_steps)"
   ]
  },
  {
   "cell_type": "code",
   "execution_count": 84,
   "id": "e4982729",
   "metadata": {},
   "outputs": [
    {
     "name": "stdout",
     "output_type": "stream",
     "text": [
      "Model: \"sequential_9\"\n",
      "_________________________________________________________________\n",
      " Layer (type)                Output Shape              Param #   \n",
      "=================================================================\n",
      " conv3d_21 (Conv3D)          (None, 20, 120, 120, 32)  896       \n",
      "                                                                 \n",
      " activation_31 (Activation)  (None, 20, 120, 120, 32)  0         \n",
      "                                                                 \n",
      " max_pooling3d_21 (MaxPoolin  (None, 10, 60, 60, 32)   0         \n",
      " g3D)                                                            \n",
      "                                                                 \n",
      " conv3d_22 (Conv3D)          (None, 10, 60, 60, 64)    55360     \n",
      "                                                                 \n",
      " activation_32 (Activation)  (None, 10, 60, 60, 64)    0         \n",
      "                                                                 \n",
      " max_pooling3d_22 (MaxPoolin  (None, 5, 30, 30, 64)    0         \n",
      " g3D)                                                            \n",
      "                                                                 \n",
      " conv3d_23 (Conv3D)          (None, 5, 30, 30, 64)     110656    \n",
      "                                                                 \n",
      " activation_33 (Activation)  (None, 5, 30, 30, 64)     0         \n",
      "                                                                 \n",
      " max_pooling3d_23 (MaxPoolin  (None, 3, 15, 15, 64)    0         \n",
      " g3D)                                                            \n",
      "                                                                 \n",
      " conv3d_24 (Conv3D)          (None, 3, 15, 15, 128)    221312    \n",
      "                                                                 \n",
      " activation_34 (Activation)  (None, 3, 15, 15, 128)    0         \n",
      "                                                                 \n",
      " max_pooling3d_24 (MaxPoolin  (None, 1, 5, 8, 128)     0         \n",
      " g3D)                                                            \n",
      "                                                                 \n",
      " conv3d_25 (Conv3D)          (None, 1, 5, 8, 256)      884992    \n",
      "                                                                 \n",
      " activation_35 (Activation)  (None, 1, 5, 8, 256)      0         \n",
      "                                                                 \n",
      " max_pooling3d_25 (MaxPoolin  (None, 1, 3, 4, 256)     0         \n",
      " g3D)                                                            \n",
      "                                                                 \n",
      " flatten_5 (Flatten)         (None, 3072)              0         \n",
      "                                                                 \n",
      " dense_14 (Dense)            (None, 256)               786688    \n",
      "                                                                 \n",
      " dense_15 (Dense)            (None, 128)               32896     \n",
      "                                                                 \n",
      " dense_16 (Dense)            (None, 64)                8256      \n",
      "                                                                 \n",
      " activation_36 (Activation)  (None, 64)                0         \n",
      "                                                                 \n",
      " dropout_5 (Dropout)         (None, 64)                0         \n",
      "                                                                 \n",
      " dense_17 (Dense)            (None, 5)                 325       \n",
      "                                                                 \n",
      " activation_37 (Activation)  (None, 5)                 0         \n",
      "                                                                 \n",
      "=================================================================\n",
      "Total params: 2,101,381\n",
      "Trainable params: 2,101,381\n",
      "Non-trainable params: 0\n",
      "_________________________________________________________________\n"
     ]
    }
   ],
   "source": [
    "model_05 = prepare_conv3d_grayscale_model_05(num_classes, 1)\n",
    "optimizer = optimizers.adam_v2.Adam()\n",
    "model_05.compile(optimizer, loss='categorical_crossentropy', metrics=['categorical_accuracy'])\n",
    "model_05.summary()"
   ]
  },
  {
   "cell_type": "code",
   "execution_count": 85,
   "id": "bce8672b",
   "metadata": {},
   "outputs": [],
   "source": [
    "training_data_gen = gesture_generator(TRAIN_DIR, train_doc, batch_size, img_idx, height, width, channels=1)\n",
    "validation_data_gen = gesture_generator(VAL_DIR, val_doc, batch_size, img_idx, height, width, channels=1)"
   ]
  },
  {
   "cell_type": "code",
   "execution_count": 86,
   "id": "75d67a1f",
   "metadata": {},
   "outputs": [
    {
     "name": "stdout",
     "output_type": "stream",
     "text": [
      "Epoch 1/20\n",
      "23/23 [==============================] - ETA: 0s - loss: 4.0005 - categorical_accuracy: 0.1991\n",
      "Epoch 00001: val_loss improved from inf to 1.59697, saving model to MODELS/model_init_2023-10-0119_06_19.253625/model-00001-4.00055-0.19910-1.59697-0.21000.h5\n",
      "23/23 [==============================] - 99s 4s/step - loss: 4.0005 - categorical_accuracy: 0.1991 - val_loss: 1.5970 - val_categorical_accuracy: 0.2100 - lr: 0.0010\n",
      "Epoch 2/20\n",
      "23/23 [==============================] - ETA: 0s - loss: 1.5847 - categorical_accuracy: 0.2519\n",
      "Epoch 00002: val_loss improved from 1.59697 to 1.49737, saving model to MODELS/model_init_2023-10-0119_06_19.253625/model-00002-1.58466-0.25189-1.49737-0.26000.h5\n",
      "23/23 [==============================] - 98s 4s/step - loss: 1.5847 - categorical_accuracy: 0.2519 - val_loss: 1.4974 - val_categorical_accuracy: 0.2600 - lr: 0.0010\n",
      "Epoch 3/20\n",
      "23/23 [==============================] - ETA: 0s - loss: 1.4983 - categorical_accuracy: 0.2926\n",
      "Epoch 00003: val_loss improved from 1.49737 to 1.28720, saving model to MODELS/model_init_2023-10-0119_06_19.253625/model-00003-1.49835-0.29261-1.28720-0.44000.h5\n",
      "23/23 [==============================] - 97s 4s/step - loss: 1.4983 - categorical_accuracy: 0.2926 - val_loss: 1.2872 - val_categorical_accuracy: 0.4400 - lr: 0.0010\n",
      "Epoch 4/20\n",
      "23/23 [==============================] - ETA: 0s - loss: 1.3058 - categorical_accuracy: 0.4193\n",
      "Epoch 00004: val_loss did not improve from 1.28720\n",
      "23/23 [==============================] - 95s 4s/step - loss: 1.3058 - categorical_accuracy: 0.4193 - val_loss: 1.7358 - val_categorical_accuracy: 0.3000 - lr: 0.0010\n",
      "Epoch 5/20\n",
      "23/23 [==============================] - ETA: 0s - loss: 1.3237 - categorical_accuracy: 0.4208\n",
      "Epoch 00005: val_loss improved from 1.28720 to 1.06863, saving model to MODELS/model_init_2023-10-0119_06_19.253625/model-00005-1.32366-0.42081-1.06863-0.51000.h5\n",
      "23/23 [==============================] - 99s 4s/step - loss: 1.3237 - categorical_accuracy: 0.4208 - val_loss: 1.0686 - val_categorical_accuracy: 0.5100 - lr: 0.0010\n",
      "Epoch 6/20\n",
      "23/23 [==============================] - ETA: 0s - loss: 1.1834 - categorical_accuracy: 0.4977\n",
      "Epoch 00006: val_loss did not improve from 1.06863\n",
      "23/23 [==============================] - 98s 4s/step - loss: 1.1834 - categorical_accuracy: 0.4977 - val_loss: 1.3403 - val_categorical_accuracy: 0.4500 - lr: 0.0010\n",
      "Epoch 7/20\n",
      "23/23 [==============================] - ETA: 0s - loss: 1.2270 - categorical_accuracy: 0.4465\n",
      "Epoch 00007: val_loss improved from 1.06863 to 0.91044, saving model to MODELS/model_init_2023-10-0119_06_19.253625/model-00007-1.22700-0.44646-0.91044-0.57000.h5\n",
      "23/23 [==============================] - 99s 5s/step - loss: 1.2270 - categorical_accuracy: 0.4465 - val_loss: 0.9104 - val_categorical_accuracy: 0.5700 - lr: 0.0010\n",
      "Epoch 8/20\n",
      "23/23 [==============================] - ETA: 0s - loss: 0.8503 - categorical_accuracy: 0.6350\n",
      "Epoch 00008: val_loss did not improve from 0.91044\n",
      "23/23 [==============================] - 96s 4s/step - loss: 0.8503 - categorical_accuracy: 0.6350 - val_loss: 1.0625 - val_categorical_accuracy: 0.6100 - lr: 0.0010\n",
      "Epoch 9/20\n",
      "23/23 [==============================] - ETA: 0s - loss: 0.7992 - categorical_accuracy: 0.6712\n",
      "Epoch 00009: val_loss improved from 0.91044 to 0.67123, saving model to MODELS/model_init_2023-10-0119_06_19.253625/model-00009-0.79920-0.67119-0.67123-0.77000.h5\n",
      "23/23 [==============================] - 98s 4s/step - loss: 0.7992 - categorical_accuracy: 0.6712 - val_loss: 0.6712 - val_categorical_accuracy: 0.7700 - lr: 0.0010\n",
      "Epoch 10/20\n",
      "23/23 [==============================] - ETA: 0s - loss: 0.6437 - categorical_accuracy: 0.7421\n",
      "Epoch 00010: val_loss did not improve from 0.67123\n",
      "23/23 [==============================] - 97s 4s/step - loss: 0.6437 - categorical_accuracy: 0.7421 - val_loss: 0.6829 - val_categorical_accuracy: 0.7500 - lr: 0.0010\n",
      "Epoch 11/20\n",
      "23/23 [==============================] - ETA: 0s - loss: 0.4492 - categorical_accuracy: 0.8205\n",
      "Epoch 00011: val_loss did not improve from 0.67123\n",
      "\n",
      "Epoch 00011: ReduceLROnPlateau reducing learning rate to 0.00020000000949949026.\n",
      "23/23 [==============================] - 99s 5s/step - loss: 0.4492 - categorical_accuracy: 0.8205 - val_loss: 1.4311 - val_categorical_accuracy: 0.5600 - lr: 0.0010\n",
      "Epoch 12/20\n",
      "23/23 [==============================] - ETA: 0s - loss: 0.4240 - categorical_accuracy: 0.8492\n",
      "Epoch 00012: val_loss improved from 0.67123 to 0.51392, saving model to MODELS/model_init_2023-10-0119_06_19.253625/model-00012-0.42397-0.84917-0.51392-0.78000.h5\n",
      "23/23 [==============================] - 96s 4s/step - loss: 0.4240 - categorical_accuracy: 0.8492 - val_loss: 0.5139 - val_categorical_accuracy: 0.7800 - lr: 2.0000e-04\n",
      "Epoch 13/20\n",
      "23/23 [==============================] - ETA: 0s - loss: 0.2751 - categorical_accuracy: 0.9035\n",
      "Epoch 00013: val_loss improved from 0.51392 to 0.46952, saving model to MODELS/model_init_2023-10-0119_06_19.253625/model-00013-0.27510-0.90347-0.46952-0.82000.h5\n",
      "23/23 [==============================] - 99s 4s/step - loss: 0.2751 - categorical_accuracy: 0.9035 - val_loss: 0.4695 - val_categorical_accuracy: 0.8200 - lr: 2.0000e-04\n",
      "Epoch 14/20\n",
      "23/23 [==============================] - ETA: 0s - loss: 0.2116 - categorical_accuracy: 0.9201\n",
      "Epoch 00014: val_loss improved from 0.46952 to 0.43782, saving model to MODELS/model_init_2023-10-0119_06_19.253625/model-00014-0.21157-0.92006-0.43782-0.83000.h5\n",
      "23/23 [==============================] - 98s 4s/step - loss: 0.2116 - categorical_accuracy: 0.9201 - val_loss: 0.4378 - val_categorical_accuracy: 0.8300 - lr: 2.0000e-04\n",
      "Epoch 15/20\n",
      "23/23 [==============================] - ETA: 0s - loss: 0.1765 - categorical_accuracy: 0.9336\n",
      "Epoch 00015: val_loss improved from 0.43782 to 0.42625, saving model to MODELS/model_init_2023-10-0119_06_19.253625/model-00015-0.17646-0.93363-0.42625-0.86000.h5\n",
      "23/23 [==============================] - 98s 4s/step - loss: 0.1765 - categorical_accuracy: 0.9336 - val_loss: 0.4263 - val_categorical_accuracy: 0.8600 - lr: 2.0000e-04\n",
      "Epoch 16/20\n",
      "23/23 [==============================] - ETA: 0s - loss: 0.1446 - categorical_accuracy: 0.9487\n",
      "Epoch 00016: val_loss did not improve from 0.42625\n",
      "23/23 [==============================] - 96s 4s/step - loss: 0.1446 - categorical_accuracy: 0.9487 - val_loss: 0.5388 - val_categorical_accuracy: 0.8300 - lr: 2.0000e-04\n",
      "Epoch 17/20\n",
      "23/23 [==============================] - ETA: 0s - loss: 0.1266 - categorical_accuracy: 0.9563\n",
      "Epoch 00017: val_loss did not improve from 0.42625\n",
      "\n",
      "Epoch 00017: ReduceLROnPlateau reducing learning rate to 4.0000001899898055e-05.\n",
      "23/23 [==============================] - 98s 4s/step - loss: 0.1266 - categorical_accuracy: 0.9563 - val_loss: 0.4597 - val_categorical_accuracy: 0.8800 - lr: 2.0000e-04\n",
      "Epoch 18/20\n",
      "23/23 [==============================] - ETA: 0s - loss: 0.0916 - categorical_accuracy: 0.9744\n",
      "Epoch 00018: val_loss did not improve from 0.42625\n",
      "23/23 [==============================] - 99s 4s/step - loss: 0.0916 - categorical_accuracy: 0.9744 - val_loss: 0.6948 - val_categorical_accuracy: 0.8200 - lr: 4.0000e-05\n",
      "Epoch 19/20\n",
      "23/23 [==============================] - ETA: 0s - loss: 0.0828 - categorical_accuracy: 0.9774\n",
      "Epoch 00019: val_loss did not improve from 0.42625\n",
      "\n",
      "Epoch 00019: ReduceLROnPlateau reducing learning rate to 8.000000525498762e-06.\n",
      "23/23 [==============================] - 98s 4s/step - loss: 0.0828 - categorical_accuracy: 0.9774 - val_loss: 0.4412 - val_categorical_accuracy: 0.8500 - lr: 4.0000e-05\n",
      "Epoch 20/20\n",
      "23/23 [==============================] - ETA: 0s - loss: 0.0783 - categorical_accuracy: 0.9789\n",
      "Epoch 00020: val_loss did not improve from 0.42625\n",
      "23/23 [==============================] - 96s 4s/step - loss: 0.0783 - categorical_accuracy: 0.9789 - val_loss: 0.6138 - val_categorical_accuracy: 0.8300 - lr: 8.0000e-06\n"
     ]
    }
   ],
   "source": [
    "#fit_generator is deprecated.. using model.fit with generator objects...\n",
    "history_05 = model_05.fit(x=training_data_gen, steps_per_epoch=steps_per_epoch, epochs=num_epochs, verbose=1,\n",
    "                       callbacks=callbacks_list, validation_data=validation_data_gen,\n",
    "                       validation_steps=validation_steps)"
   ]
  },
  {
   "cell_type": "code",
   "execution_count": 87,
   "id": "eb8b4ef1",
   "metadata": {},
   "outputs": [
    {
     "data": {
      "image/png": "[encoded data removed]",
      "text/plain": [
       "<Figure size 576x576 with 2 Axes>"
      ]
     },
     "metadata": {
      "needs_background": "light"
     },
     "output_type": "display_data"
    }
   ],
   "source": [
    "visualize_outputs(history_05, epoch=num_epochs)"
   ]
  },
  {
   "cell_type": "code",
   "execution_count": null,
   "id": "806528a5",
   "metadata": {},
   "outputs": [],
   "source": []
  },
  {
   "cell_type": "code",
   "execution_count": null,
   "id": "3744fcd3",
   "metadata": {},
   "outputs": [],
   "source": []
  },
  {
   "cell_type": "markdown",
   "id": "7d0eb057",
   "metadata": {},
   "source": [
    "### MODEL 6\n",
    "- With Reduced Batch Size"
   ]
  },
  {
   "cell_type": "code",
   "execution_count": null,
   "id": "6ae23d4f",
   "metadata": {},
   "outputs": [],
   "source": [
    "height = 120 # image width\n",
    "width = 120 # image height\n",
    "\n",
    "batch_size = 10 #experiment with the batch size\n",
    "img_idx = np.arange(5, 26, 2) #create a list of image numbers you want to use for a particular video\n",
    "num_epochs = 20\n",
    "LrPlateau_patience = 2\n",
    "LrPlateau_mode = 'auto'\n",
    "LrPlateau_factor = 0.2\n",
    "LrPlateau_fmin_lr = 0.1\n"
   ]
  },
  {
   "cell_type": "code",
   "execution_count": null,
   "id": "b6c7415c",
   "metadata": {},
   "outputs": [],
   "source": [
    "\n",
    "curr_dt_time = datetime.datetime.now()\n",
    "LR = ReduceLROnPlateau(monitor='val_loss',\n",
    "                       factor=LrPlateau_factor,\n",
    "                       patience=LrPlateau_patience,\n",
    "                       fmin_lr=LrPlateau_fmin_lr, verbose=1)\n",
    "\n",
    "callbacks_list = [model_callbacks(curr_dt_time, MODEL_SAVE_DIR), LR]\n",
    "steps_per_epoch, validation_steps = get_steps_info(len(train_doc), len(val_doc), batch_size)\n"
   ]
  },
  {
   "cell_type": "code",
   "execution_count": null,
   "id": "de865354",
   "metadata": {},
   "outputs": [],
   "source": [
    "print('Epochs', num_epochs)\n",
    "print('steps_per_epoch', steps_per_epoch)\n",
    "print('validation_steps', validation_steps)"
   ]
  },
  {
   "cell_type": "code",
   "execution_count": null,
   "id": "fdcd56d0",
   "metadata": {},
   "outputs": [],
   "source": [
    "training_data_gen = gesture_generator_grayscale(TRAIN_DIR, train_doc, batch_size, img_idx, height, width)\n",
    "validation_data_gen = gesture_generator_grayscale(VAL_DIR, val_doc, batch_size, img_idx, height, width)"
   ]
  },
  {
   "cell_type": "code",
   "execution_count": null,
   "id": "78d4e08b",
   "metadata": {},
   "outputs": [],
   "source": [
    "model_06 = prepare_conv3d_grayscale_model_05(num_classes)\n",
    "optimizer = optimizers.adam_v2.Adam()\n",
    "model_06.compile(optimizer, loss='categorical_crossentropy', metrics=['categorical_accuracy'])\n",
    "model_06.summary()"
   ]
  },
  {
   "cell_type": "code",
   "execution_count": null,
   "id": "da2d8b19",
   "metadata": {},
   "outputs": [],
   "source": [
    "#fit_generator is deprecated.. using model.fit with generator objects...\n",
    "history_06 = model_06.fit(x=training_data_gen, steps_per_epoch=steps_per_epoch, epochs=num_epochs, verbose=1,\n",
    "                       callbacks=callbacks_list, validation_data=validation_data_gen,\n",
    "                       validation_steps=validation_steps)"
   ]
  },
  {
   "cell_type": "code",
   "execution_count": null,
   "id": "914cce62",
   "metadata": {},
   "outputs": [],
   "source": [
    "visualize_outputs(history_06, epoch=num_epochs)"
   ]
  },
  {
   "cell_type": "code",
   "execution_count": null,
   "id": "65116654",
   "metadata": {},
   "outputs": [],
   "source": []
  },
  {
   "cell_type": "code",
   "execution_count": null,
   "id": "e56e9a51",
   "metadata": {},
   "outputs": [],
   "source": [
    "#TODO::: CNN-RNN"
   ]
  },
  {
   "cell_type": "code",
   "execution_count": null,
   "id": "212ecf1e",
   "metadata": {},
   "outputs": [],
   "source": []
  },
  {
   "cell_type": "code",
   "execution_count": null,
   "id": "1700de09",
   "metadata": {},
   "outputs": [],
   "source": []
  },
  {
   "cell_type": "code",
   "execution_count": null,
   "id": "a63b7650",
   "metadata": {},
   "outputs": [],
   "source": []
  },
  {
   "cell_type": "code",
   "execution_count": null,
   "id": "9e6d8c0e",
   "metadata": {},
   "outputs": [],
   "source": []
  },
  {
   "cell_type": "code",
   "execution_count": null,
   "id": "ebc6347c",
   "metadata": {},
   "outputs": [],
   "source": []
  },
  {
   "cell_type": "code",
   "execution_count": null,
   "id": "9ca677f8",
   "metadata": {},
   "outputs": [],
   "source": []
  },
  {
   "cell_type": "code",
   "execution_count": null,
   "id": "8c966e5f",
   "metadata": {},
   "outputs": [],
   "source": []
  },
  {
   "cell_type": "code",
   "execution_count": null,
   "id": "6d3f658b",
   "metadata": {},
   "outputs": [],
   "source": []
  },
  {
   "cell_type": "code",
   "execution_count": null,
   "id": "bc8b745d",
   "metadata": {},
   "outputs": [],
   "source": []
  },
  {
   "cell_type": "code",
   "execution_count": null,
   "id": "de181b5b",
   "metadata": {},
   "outputs": [],
   "source": []
  },
  {
   "cell_type": "code",
   "execution_count": null,
   "id": "5e8519be",
   "metadata": {},
   "outputs": [],
   "source": []
  },
  {
   "cell_type": "code",
   "execution_count": null,
   "id": "fe53c09c",
   "metadata": {},
   "outputs": [],
   "source": []
  },
  {
   "cell_type": "code",
   "execution_count": null,
   "id": "622846ec",
   "metadata": {},
   "outputs": [],
   "source": []
  },
  {
   "cell_type": "code",
   "execution_count": null,
   "id": "feedcaba",
   "metadata": {},
   "outputs": [],
   "source": []
  },
  {
   "cell_type": "code",
   "execution_count": null,
   "id": "a26548a2",
   "metadata": {},
   "outputs": [],
   "source": []
  },
  {
   "cell_type": "code",
   "execution_count": null,
   "id": "66335517",
   "metadata": {},
   "outputs": [],
   "source": []
  },
  {
   "cell_type": "code",
   "execution_count": null,
   "id": "a15aede7",
   "metadata": {},
   "outputs": [],
   "source": []
  },
  {
   "cell_type": "code",
   "execution_count": null,
   "id": "64c63b1b",
   "metadata": {},
   "outputs": [],
   "source": []
  },
  {
   "cell_type": "code",
   "execution_count": null,
   "id": "442929bc",
   "metadata": {},
   "outputs": [],
   "source": []
  }
 ],
 "metadata": {
  "kernelspec": {
   "display_name": "Python 3 (ipykernel)",
   "language": "python",
   "name": "python3"
  },
  "language_info": {
   "codemirror_mode": {
    "name": "ipython",
    "version": 3
   },
   "file_extension": ".py",
   "mimetype": "text/x-python",
   "name": "python",
   "nbconvert_exporter": "python",
   "pygments_lexer": "ipython3",
   "version": "3.8.10"
  }
 },
 "nbformat": 4,
 "nbformat_minor": 5
}
