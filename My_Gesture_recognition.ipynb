{
 "cells": [
  {
   "cell_type": "markdown",
   "id": "3361da44",
   "metadata": {},
   "source": [
    "# Gesture Recognition Project\n",
    "\n",
    "**To Run on JarvisLabs.ai**"
   ]
  },
  {
   "cell_type": "code",
   "execution_count": 3,
   "id": "b4e5339e",
   "metadata": {},
   "outputs": [],
   "source": [
    "import numpy as np\n",
    "import os\n",
    "import matplotlib.pyplot as plt\n",
    "#from scipy.misc import imread, imresize\n",
    "#from imageio import imread #using instead of imread from scipy.misc\n",
    "#from scipy.misc import imresize\n",
    "from skimage.io import imread #using instead of imread from scipy.misc\n",
    "from skimage.transform import resize #use resize instead of imresize\n",
    "import datetime\n",
    "import os\n",
    "import tensorflow as tf\n",
    "import keras\n",
    "from keras.models import Sequential, Model\n",
    "from keras.layers import Dense, Dropout, Flatten, BatchNormalization, Activation, TimeDistributed\n",
    "from keras.layers import Conv3D, MaxPooling3D, Conv2D, MaxPooling2D\n",
    "from keras.regularizers import l2\n",
    "from keras import optimizers\n",
    "from tensorflow.python.keras.utils.data_utils import Sequence\n",
    "from keras.callbacks import ModelCheckpoint, ReduceLROnPlateau"
   ]
  },
  {
   "cell_type": "code",
   "execution_count": 4,
   "id": "b2bed1ab",
   "metadata": {},
   "outputs": [
    {
     "name": "stdout",
     "output_type": "stream",
     "text": [
      "Training data:  /datasets/Project_data/train\n",
      "Validation data:  /datasets/Project_data/val\n"
     ]
    }
   ],
   "source": [
    "BASE_DIRECTORY = '/datasets/Project_data'\n",
    "TRAIN_DIR = '{0}/train'.format(BASE_DIRECTORY)\n",
    "VAL_DIR = '{0}/val'.format(BASE_DIRECTORY)\n",
    "MODEL_SAVE_DIR = 'MODELS'\n",
    "\n",
    "total_frames = 30\n",
    "\n",
    "print('Training data: ', TRAIN_DIR)\n",
    "print('Validation data: ', VAL_DIR)"
   ]
  },
  {
   "cell_type": "code",
   "execution_count": 5,
   "id": "86601969",
   "metadata": {},
   "outputs": [],
   "source": [
    "np.random.seed(30)\n",
    "import random as rn\n",
    "rn.seed(30)\n",
    "from keras import backend as K\n",
    "import tensorflow as tf\n",
    "#tf.set_random_seed(30)\n",
    "tf.random.set_seed(30)"
   ]
  },
  {
   "cell_type": "code",
   "execution_count": 6,
   "id": "c264a89f",
   "metadata": {},
   "outputs": [
    {
     "name": "stdout",
     "output_type": "stream",
     "text": [
      "Training data: 663\n",
      "Validation data: 100\n"
     ]
    }
   ],
   "source": [
    "#train_doc = np.random.permutation(open('/notebooks/storage/Final_data/Collated_training/train.csv').readlines())\n",
    "#val_doc = np.random.permutation(open('/notebooks/storage/Final_data/Collated_training/val.csv').readlines())\n",
    "\n",
    "train_doc = np.random.permutation(open('{0}/train.csv'.format(BASE_DIRECTORY)).readlines())\n",
    "val_doc = np.random.permutation(open('{0}/val.csv'.format(BASE_DIRECTORY)).readlines())\n",
    "\n",
    "batch_size = 20 #experiment with the batch size\n",
    "print(\"Training data:\" , len(train_doc))\n",
    "print(\"Validation data:\", len(val_doc))"
   ]
  },
  {
   "cell_type": "code",
   "execution_count": null,
   "id": "46fd668a",
   "metadata": {},
   "outputs": [],
   "source": []
  },
  {
   "cell_type": "code",
   "execution_count": 7,
   "id": "3ebbd7aa",
   "metadata": {},
   "outputs": [
    {
     "name": "stdout",
     "output_type": "stream",
     "text": [
      "['Thumbs up', 'Thumbs down', 'Left swipe', 'Right swipe', 'Stop']\n",
      "5\n"
     ]
    }
   ],
   "source": [
    "classes = ['Thumbs up', 'Thumbs down','Left swipe', 'Right swipe', 'Stop']\n",
    "print(classes)\n",
    "num_classes = len(classes)\n",
    "print(num_classes)"
   ]
  },
  {
   "cell_type": "markdown",
   "id": "11c5f2fc",
   "metadata": {},
   "source": [
    "## Generator\r\n",
    "This is one of the most important part of the code. The overall structure of the generator has been given. In the generator, you are going to preprocess the images as you have images of 2 different dimensions as well as create a batch of video frames. You have to experiment with img_idx, y,z and normalization such that you get high accuracy."
   ]
  },
  {
   "cell_type": "markdown",
   "id": "2ba8b06d",
   "metadata": {},
   "source": [
    "#### Generator & Support Functions"
   ]
  },
  {
   "cell_type": "code",
   "execution_count": 8,
   "id": "05113eae",
   "metadata": {},
   "outputs": [],
   "source": [
    "import cv2\n",
    "def process_batch(source_path, folders_list, batch, batch_size, num_frames, img_idx,  height, width, channels = 3): #num_frames=20,\n",
    "    #num_frames = len(img_idx)\n",
    "    batch_data   = np.zeros((batch_size, num_frames, height, width, channels)) # 3 is the number of channels RGB\n",
    "    batch_labels = np.zeros((batch_size, 5)) # batch_labels is the one hot representation of the output           \n",
    "\n",
    "    for folder in range(batch_size): # iterate over the batch_size\n",
    "        imgs = os.listdir(source_path+'/'+ folders_list[folder + (batch*batch_size)].split(';')[0]) # read all the images in the folder\n",
    "        for idx,item in enumerate(img_idx): #  Iterate over the frames/images of a folder to read them in\n",
    "            image = imread(source_path+'/'+ folders_list[folder + (batch*batch_size)].strip().split(';')[0]+'/'+imgs[item]).astype(np.float32)\n",
    "\n",
    "            #crop the images and resize them. Note that the images are of 2 different shape \n",
    "            #and the conv3D will throw error if the inputs in a batch have different shapes                    \n",
    "            h, w, c = image.shape\n",
    "            image = resize(image, (height, width), anti_aliasing=True)\n",
    "            \n",
    "            if(channels == 3):\n",
    "                batch_data[folder,idx,:,:,0] = (image[...,0])/255 #normalise and feed in the image\n",
    "                batch_data[folder,idx,:,:,1] = (image[...,1])/255 #normalise and feed in the image\n",
    "                batch_data[folder,idx,:,:,2] = (image[...,2])/255 #normalise and feed in the image\n",
    "            else:\n",
    "                batch_data[folder,idx,:,:,0] =  cv2.cvtColor(image, cv2.COLOR_BGR2GRAY)\n",
    "        batch_labels[folder, int(folders_list[folder + (batch*batch_size)].strip().split(';')[2])] = 1\n",
    "    yield batch_data, batch_labels #you yield the batch_data and the batch_labels, remember what does yield do"
   ]
  },
  {
   "cell_type": "code",
   "execution_count": 9,
   "id": "5bb26fa2",
   "metadata": {},
   "outputs": [],
   "source": [
    "def gesture_generator(source_path, folder_list, batch_size, num_images = 20, height=120, width=120, channels=3):\n",
    "    img_idx = len(np.round(np.linspace(0,total_frames-1, num_images)).astype(int))\n",
    "    while True:\n",
    "        randomized_folders_list = np.random.permutation(folder_list)\n",
    "        num_batches = len(randomized_folders_list)//batch_size # calculate the number of batches\n",
    "        img_idx = np.round(np.linspace(0,total_frames-1, num_images)).astype(int) #create a list of image numbers you want to use for a particular video\n",
    "\n",
    "        for batch in range(num_batches): # we iterate over the number of batches\n",
    "            for X, y in process_batch(source_path, randomized_folders_list, batch, batch_size, num_images, img_idx, height, width, channels):\n",
    "                yield X, y\n",
    "        \n",
    "        remaining_batch_size = len(folder_list)%batch_size\n",
    "        if(remaining_batch_size):\n",
    "            for X, y in process_batch(source_path, randomized_folders_list, batch, remaining_batch_size, num_images, img_idx, height, width, channels):\n",
    "                yield X, y"
   ]
  },
  {
   "cell_type": "code",
   "execution_count": 10,
   "id": "ec8c04a5",
   "metadata": {},
   "outputs": [],
   "source": [
    "def visualize_outputs(fit_data, epoch):\n",
    "    acc = fit_data.history['categorical_accuracy']\n",
    "    val_acc = fit_data.history['val_categorical_accuracy']\n",
    "\n",
    "    loss = fit_data.history['loss']\n",
    "    val_loss = fit_data.history['val_loss']\n",
    "\n",
    "    epochs_range = range(epoch)\n",
    "\n",
    "    plt.figure(figsize=(8, 8))\n",
    "    plt.subplot(1, 2, 1)\n",
    "    plt.plot(epochs_range, acc, label='Training Accuracy')\n",
    "    plt.plot(epochs_range, val_acc, label='Validation Accuracy')\n",
    "    plt.legend(loc='lower right')\n",
    "    plt.title('Training and Validation Accuracy')\n",
    "\n",
    "    plt.subplot(1, 2, 2)\n",
    "    plt.plot(epochs_range, loss, label='Training Loss')\n",
    "    plt.plot(epochs_range, val_loss, label='Validation Loss')\n",
    "    plt.legend(loc='upper right')\n",
    "    plt.title('Training and Validation Loss')\n",
    "    plt.show()"
   ]
  },
  {
   "cell_type": "code",
   "execution_count": 11,
   "id": "b599057d",
   "metadata": {},
   "outputs": [],
   "source": [
    "def model_callbacks(curr_dt_time, save_folder_name):\n",
    "    model_name = 'model_init' + '_' + str(curr_dt_time).replace(' ','').replace(':','_') + '/'\n",
    "    save_file_path = save_folder_name + '/' + model_name + '/'\n",
    "    if not os.path.exists(save_file_path):\n",
    "        os.makedirs(save_file_path, mode=0o666)\n",
    "    filepath = save_file_path + 'model-{epoch:05d}-{loss:.5f}-{categorical_accuracy:.5f}-{val_loss:.5f}-{val_categorical_accuracy:.5f}.h5'\n",
    "    checkpoint = ModelCheckpoint(filepath, monitor='val_loss', verbose=1, save_best_only=True, save_weights_only=False, mode='auto', period=1)\n",
    "\n",
    "    #LR = # write the REducelronplateau code here\n",
    "    #LR = ReduceLROnPlateau(monitor='val_loss', factor=0.1, patience=2, fmin_lr=0.00001, verbose=1)\n",
    "    #return [checkpoint, LR]\n",
    "    return checkpoint"
   ]
  },
  {
   "cell_type": "code",
   "execution_count": 12,
   "id": "8482d16d",
   "metadata": {},
   "outputs": [],
   "source": [
    "def get_steps_info(num_train_sequences, num_val_sequences, batch_size):\n",
    "    if (num_train_sequences%batch_size) == 0:\n",
    "        steps_per_epoch = int(num_train_sequences/batch_size)\n",
    "    else:\n",
    "        steps_per_epoch = (num_train_sequences//batch_size) + 1\n",
    "\n",
    "    if (num_val_sequences%batch_size) == 0:\n",
    "        validation_steps = int(num_val_sequences/batch_size)\n",
    "    else:\n",
    "        validation_steps = (num_val_sequences//batch_size) + 1\n",
    "    return steps_per_epoch, validation_steps"
   ]
  },
  {
   "cell_type": "code",
   "execution_count": 15,
   "id": "3051a351",
   "metadata": {},
   "outputs": [
    {
     "data": {
      "text/plain": [
       "range(0, 33)"
      ]
     },
     "execution_count": 15,
     "metadata": {},
     "output_type": "execute_result"
    }
   ],
   "source": []
  },
  {
   "cell_type": "markdown",
   "id": "a3a770cd",
   "metadata": {},
   "source": [
    "## Prepare a Model\n",
    "### 1. Create a Conv3D + RNN (GRU)"
   ]
  },
  {
   "cell_type": "markdown",
   "id": "347533be",
   "metadata": {},
   "source": [
    "### Model-01"
   ]
  },
  {
   "cell_type": "markdown",
   "id": "e291b527",
   "metadata": {},
   "source": [
    "import keras\n",
    "from keras.models import Sequential, Model\n",
    "from keras.layers import Dense, Dropout, Flatten, BatchNormalization, Activation\n",
    "from keras.layers import Conv3D, MaxPooling3D, Conv2D, MaxPooling2D\n",
    "from keras.callbacks import ModelCheckpoint, ReduceLROnPlateau\n",
    "from keras.regularizers import l2\n",
    "from keras import optimizers\n",
    "from tensorflow.python.keras.utils.data_utils import Sequence"
   ]
  },
  {
   "cell_type": "code",
   "execution_count": 16,
   "id": "7188111b",
   "metadata": {},
   "outputs": [],
   "source": [
    "height = 120 # image width\n",
    "width = 120 # image height\n",
    "\n",
    "num_images = 20\n",
    "batch_size = 20 #experiment with the batch size\n",
    "#img_idx = len(np.round(np.linspace(0,total_frames-1,num_images)).astype(int))\n",
    "\n",
    "num_epochs = 15\n",
    "LrPlateau_patience = 2\n",
    "LrPlateau_mode = 'auto'\n",
    "LrPlateau_factor = 0.1\n",
    "LrPlateau_fmin_lr = 0.00001"
   ]
  },
  {
   "cell_type": "code",
   "execution_count": 33,
   "id": "e21969db",
   "metadata": {},
   "outputs": [],
   "source": [
    "def prepare_conv3d_model(channels=3):\n",
    "    model = Sequential()\n",
    "    model.add(Conv3D(32, (3,3, 3), padding='same', input_shape=(num_images, height, width, channels)))\n",
    "    model.add(Activation('relu'))\n",
    "    model.add(MaxPooling3D(pool_size=(2, 2, 2)))\n",
    "\n",
    "    model.add(Conv3D(64, (3,3,3), padding='same'))\n",
    "    model.add(Activation('relu'))\n",
    "    model.add(BatchNormalization())\n",
    "    model.add(MaxPooling3D(pool_size=(2, 2, 2)))\n",
    "\n",
    "    model.add(Conv3D(64, (3,3,3), padding='same'))\n",
    "    model.add(Activation('relu'))\n",
    "    model.add(MaxPooling3D(pool_size=(2, 2, 2)))\n",
    "\n",
    "    model.add(Flatten())\n",
    "    model.add(Dense(128))\n",
    "    model.add(Activation('relu'))\n",
    "    model.add(Dropout(0.20))\n",
    "\n",
    "    model.add(Dense(num_classes))\n",
    "    model.add(Activation('softmax'))\n",
    "    return model"
   ]
  },
  {
   "cell_type": "code",
   "execution_count": null,
   "id": "01bb962b",
   "metadata": {},
   "outputs": [],
   "source": []
  },
  {
   "cell_type": "code",
   "execution_count": 36,
   "id": "94d3c36d",
   "metadata": {},
   "outputs": [
    {
     "name": "stdout",
     "output_type": "stream",
     "text": [
      "Model: \"sequential_3\"\n",
      "_________________________________________________________________\n",
      " Layer (type)                Output Shape              Param #   \n",
      "=================================================================\n",
      " conv3d_3 (Conv3D)           (None, 20, 120, 120, 32)  2624      \n",
      "                                                                 \n",
      " activation_5 (Activation)   (None, 20, 120, 120, 32)  0         \n",
      "                                                                 \n",
      " max_pooling3d_3 (MaxPooling  (None, 10, 60, 60, 32)   0         \n",
      " 3D)                                                             \n",
      "                                                                 \n",
      " conv3d_4 (Conv3D)           (None, 10, 60, 60, 64)    55360     \n",
      "                                                                 \n",
      " activation_6 (Activation)   (None, 10, 60, 60, 64)    0         \n",
      "                                                                 \n",
      " batch_normalization_1 (Batc  (None, 10, 60, 60, 64)   256       \n",
      " hNormalization)                                                 \n",
      "                                                                 \n",
      " max_pooling3d_4 (MaxPooling  (None, 5, 30, 30, 64)    0         \n",
      " 3D)                                                             \n",
      "                                                                 \n",
      " conv3d_5 (Conv3D)           (None, 5, 30, 30, 64)     110656    \n",
      "                                                                 \n",
      " activation_7 (Activation)   (None, 5, 30, 30, 64)     0         \n",
      "                                                                 \n",
      " max_pooling3d_5 (MaxPooling  (None, 2, 15, 15, 64)    0         \n",
      " 3D)                                                             \n",
      "                                                                 \n",
      " flatten_1 (Flatten)         (None, 28800)             0         \n",
      "                                                                 \n",
      " dense_2 (Dense)             (None, 128)               3686528   \n",
      "                                                                 \n",
      " activation_8 (Activation)   (None, 128)               0         \n",
      "                                                                 \n",
      " dropout_1 (Dropout)         (None, 128)               0         \n",
      "                                                                 \n",
      " dense_3 (Dense)             (None, 5)                 645       \n",
      "                                                                 \n",
      " activation_9 (Activation)   (None, 5)                 0         \n",
      "                                                                 \n",
      "=================================================================\n",
      "Total params: 3,856,069\n",
      "Trainable params: 3,855,941\n",
      "Non-trainable params: 128\n",
      "_________________________________________________________________\n"
     ]
    }
   ],
   "source": [
    "model_01 = prepare_conv3d_model()\n",
    "optimizer = keras.optimizers.adam_v2.Adam()\n",
    "model_01.compile(optimizer, loss='categorical_crossentropy', metrics=['categorical_accuracy'])\n",
    "model_01.summary()"
   ]
  },
  {
   "cell_type": "code",
   "execution_count": 37,
   "id": "ad64d952",
   "metadata": {},
   "outputs": [],
   "source": [
    "height = 120 # image width\n",
    "width = 120 # image height\n",
    "\n",
    "num_images = 20\n",
    "batch_size = 20 #experiment with the batch size\n",
    "img_idx = len(np.round(np.linspace(0,total_frames-1,num_images)).astype(int))\n",
    "\n",
    "num_epochs = 15\n",
    "LrPlateau_patience = 2\n",
    "LrPlateau_mode = 'auto'\n",
    "LrPlateau_factor = 0.1\n",
    "LrPlateau_fmin_lr = 0.00001"
   ]
  },
  {
   "cell_type": "code",
   "execution_count": 38,
   "id": "61f59e16",
   "metadata": {},
   "outputs": [
    {
     "name": "stdout",
     "output_type": "stream",
     "text": [
      "WARNING:tensorflow:`period` argument is deprecated. Please use `save_freq` to specify the frequency in number of batches seen.\n"
     ]
    }
   ],
   "source": [
    "curr_dt_time = datetime.datetime.now()\n",
    "LR = ReduceLROnPlateau(monitor='val_loss',\n",
    "                       factor=LrPlateau_factor,\n",
    "                       patience=LrPlateau_patience,\n",
    "                       fmin_lr=LrPlateau_fmin_lr, verbose=1)\n",
    "\n",
    "callbacks_list = [model_callbacks(curr_dt_time, MODEL_SAVE_DIR), LR]\n",
    "steps_per_epoch, validation_steps = get_steps_info(len(train_doc), len(val_doc), batch_size)"
   ]
  },
  {
   "cell_type": "code",
   "execution_count": 39,
   "id": "f0b675b2",
   "metadata": {},
   "outputs": [
    {
     "name": "stdout",
     "output_type": "stream",
     "text": [
      "Epochs 15\n",
      "steps_per_epoch 34\n",
      "validation_steps 5\n"
     ]
    }
   ],
   "source": [
    "print('Epochs', num_epochs)\n",
    "print('steps_per_epoch', steps_per_epoch)\n",
    "print('validation_steps', validation_steps)"
   ]
  },
  {
   "cell_type": "code",
   "execution_count": 40,
   "id": "62923cf0",
   "metadata": {},
   "outputs": [],
   "source": [
    "training_data_gen = gesture_generator(source_path=TRAIN_DIR, folder_list=train_doc, batch_size=batch_size, num_images=20, height=height, width=width)\n",
    "validation_data_gen = gesture_generator(source_path=VAL_DIR, folder_list=val_doc, batch_size=batch_size, num_images=20, height=height, width=width)"
   ]
  },
  {
   "cell_type": "code",
   "execution_count": 41,
   "id": "5ec16f52",
   "metadata": {},
   "outputs": [
    {
     "name": "stdout",
     "output_type": "stream",
     "text": [
      "Epoch 1/15\n"
     ]
    },
    {
     "name": "stderr",
     "output_type": "stream",
     "text": [
      "2023-10-01 16:24:45.501897: I tensorflow/stream_executor/cuda/cuda_dnn.cc:377] Loaded cuDNN version 8302\n",
      "2023-10-01 16:24:49.817502: I tensorflow/stream_executor/cuda/cuda_blas.cc:1792] TensorFloat-32 will be used for the matrix multiplication. This will only be logged once.\n"
     ]
    },
    {
     "name": "stdout",
     "output_type": "stream",
     "text": [
      "34/34 [==============================] - ETA: 0s - loss: 3.8520 - categorical_accuracy: 0.3137\n",
      "Epoch 00001: val_loss improved from inf to 1.58935, saving model to MODELS/model_init_2023-10-0116_24_36.808265/model-00001-3.85200-0.31373-1.58935-0.24000.h5\n",
      "34/34 [==============================] - 128s 4s/step - loss: 3.8520 - categorical_accuracy: 0.3137 - val_loss: 1.5893 - val_categorical_accuracy: 0.2400 - lr: 0.0010\n",
      "Epoch 2/15\n",
      "34/34 [==============================] - ETA: 0s - loss: 1.1666 - categorical_accuracy: 0.5294\n",
      "Epoch 00002: val_loss improved from 1.58935 to 1.57039, saving model to MODELS/model_init_2023-10-0116_24_36.808265/model-00002-1.16660-0.52941-1.57039-0.20000.h5\n",
      "34/34 [==============================] - 105s 3s/step - loss: 1.1666 - categorical_accuracy: 0.5294 - val_loss: 1.5704 - val_categorical_accuracy: 0.2000 - lr: 0.0010\n",
      "Epoch 3/15\n",
      "34/34 [==============================] - ETA: 0s - loss: 0.8654 - categorical_accuracy: 0.6621\n",
      "Epoch 00003: val_loss improved from 1.57039 to 1.46263, saving model to MODELS/model_init_2023-10-0116_24_36.808265/model-00003-0.86542-0.66214-1.46263-0.24000.h5\n",
      "34/34 [==============================] - 104s 3s/step - loss: 0.8654 - categorical_accuracy: 0.6621 - val_loss: 1.4626 - val_categorical_accuracy: 0.2400 - lr: 0.0010\n",
      "Epoch 4/15\n",
      "34/34 [==============================] - ETA: 0s - loss: 0.6299 - categorical_accuracy: 0.7602\n",
      "Epoch 00004: val_loss improved from 1.46263 to 1.21449, saving model to MODELS/model_init_2023-10-0116_24_36.808265/model-00004-0.62986-0.76018-1.21449-0.48000.h5\n",
      "34/34 [==============================] - 105s 3s/step - loss: 0.6299 - categorical_accuracy: 0.7602 - val_loss: 1.2145 - val_categorical_accuracy: 0.4800 - lr: 0.0010\n",
      "Epoch 5/15\n",
      "34/34 [==============================] - ETA: 0s - loss: 0.4967 - categorical_accuracy: 0.8205\n",
      "Epoch 00005: val_loss did not improve from 1.21449\n",
      "34/34 [==============================] - 105s 3s/step - loss: 0.4967 - categorical_accuracy: 0.8205 - val_loss: 1.2334 - val_categorical_accuracy: 0.4300 - lr: 0.0010\n",
      "Epoch 6/15\n",
      "34/34 [==============================] - ETA: 0s - loss: 0.3100 - categorical_accuracy: 0.8899\n",
      "Epoch 00006: val_loss improved from 1.21449 to 1.18941, saving model to MODELS/model_init_2023-10-0116_24_36.808265/model-00006-0.31004-0.88989-1.18941-0.52000.h5\n",
      "34/34 [==============================] - 104s 3s/step - loss: 0.3100 - categorical_accuracy: 0.8899 - val_loss: 1.1894 - val_categorical_accuracy: 0.5200 - lr: 0.0010\n",
      "Epoch 7/15\n",
      "34/34 [==============================] - ETA: 0s - loss: 0.2417 - categorical_accuracy: 0.9080\n",
      "Epoch 00007: val_loss improved from 1.18941 to 0.80947, saving model to MODELS/model_init_2023-10-0116_24_36.808265/model-00007-0.24169-0.90799-0.80947-0.73000.h5\n",
      "34/34 [==============================] - 104s 3s/step - loss: 0.2417 - categorical_accuracy: 0.9080 - val_loss: 0.8095 - val_categorical_accuracy: 0.7300 - lr: 0.0010\n",
      "Epoch 8/15\n",
      "34/34 [==============================] - ETA: 0s - loss: 0.1794 - categorical_accuracy: 0.9427\n",
      "Epoch 00008: val_loss improved from 0.80947 to 0.71634, saving model to MODELS/model_init_2023-10-0116_24_36.808265/model-00008-0.17945-0.94268-0.71634-0.79000.h5\n",
      "34/34 [==============================] - 104s 3s/step - loss: 0.1794 - categorical_accuracy: 0.9427 - val_loss: 0.7163 - val_categorical_accuracy: 0.7900 - lr: 0.0010\n",
      "Epoch 9/15\n",
      "34/34 [==============================] - ETA: 0s - loss: 0.1485 - categorical_accuracy: 0.9532\n",
      "Epoch 00009: val_loss improved from 0.71634 to 0.67415, saving model to MODELS/model_init_2023-10-0116_24_36.808265/model-00009-0.14852-0.95324-0.67415-0.74000.h5\n",
      "34/34 [==============================] - 104s 3s/step - loss: 0.1485 - categorical_accuracy: 0.9532 - val_loss: 0.6742 - val_categorical_accuracy: 0.7400 - lr: 0.0010\n",
      "Epoch 10/15\n",
      "34/34 [==============================] - ETA: 0s - loss: 0.1336 - categorical_accuracy: 0.9578\n",
      "Epoch 00010: val_loss did not improve from 0.67415\n",
      "34/34 [==============================] - 105s 3s/step - loss: 0.1336 - categorical_accuracy: 0.9578 - val_loss: 0.8914 - val_categorical_accuracy: 0.7200 - lr: 0.0010\n",
      "Epoch 11/15\n",
      "34/34 [==============================] - ETA: 0s - loss: 0.1781 - categorical_accuracy: 0.9382\n",
      "Epoch 00011: val_loss did not improve from 0.67415\n",
      "\n",
      "Epoch 00011: ReduceLROnPlateau reducing learning rate to 0.00010000000474974513.\n",
      "34/34 [==============================] - 104s 3s/step - loss: 0.1781 - categorical_accuracy: 0.9382 - val_loss: 1.7715 - val_categorical_accuracy: 0.5000 - lr: 0.0010\n",
      "Epoch 12/15\n",
      "34/34 [==============================] - ETA: 0s - loss: 0.1042 - categorical_accuracy: 0.9623\n",
      "Epoch 00012: val_loss improved from 0.67415 to 0.59323, saving model to MODELS/model_init_2023-10-0116_24_36.808265/model-00012-0.10417-0.96229-0.59323-0.84000.h5\n",
      "34/34 [==============================] - 104s 3s/step - loss: 0.1042 - categorical_accuracy: 0.9623 - val_loss: 0.5932 - val_categorical_accuracy: 0.8400 - lr: 1.0000e-04\n",
      "Epoch 13/15\n",
      "34/34 [==============================] - ETA: 0s - loss: 0.0626 - categorical_accuracy: 0.9819\n",
      "Epoch 00013: val_loss improved from 0.59323 to 0.51398, saving model to MODELS/model_init_2023-10-0116_24_36.808265/model-00013-0.06255-0.98190-0.51398-0.89000.h5\n",
      "34/34 [==============================] - 104s 3s/step - loss: 0.0626 - categorical_accuracy: 0.9819 - val_loss: 0.5140 - val_categorical_accuracy: 0.8900 - lr: 1.0000e-04\n",
      "Epoch 14/15\n",
      "34/34 [==============================] - ETA: 0s - loss: 0.0515 - categorical_accuracy: 0.9879\n",
      "Epoch 00014: val_loss improved from 0.51398 to 0.34432, saving model to MODELS/model_init_2023-10-0116_24_36.808265/model-00014-0.05152-0.98793-0.34432-0.91000.h5\n",
      "34/34 [==============================] - 104s 3s/step - loss: 0.0515 - categorical_accuracy: 0.9879 - val_loss: 0.3443 - val_categorical_accuracy: 0.9100 - lr: 1.0000e-04\n",
      "Epoch 15/15\n",
      "34/34 [==============================] - ETA: 0s - loss: 0.0508 - categorical_accuracy: 0.9819\n",
      "Epoch 00015: val_loss did not improve from 0.34432\n",
      "34/34 [==============================] - 104s 3s/step - loss: 0.0508 - categorical_accuracy: 0.9819 - val_loss: 0.3765 - val_categorical_accuracy: 0.9000 - lr: 1.0000e-04\n"
     ]
    }
   ],
   "source": [
    "#fit_generator is deprecated.. using model.fit with generator objects...\n",
    "\n",
    "history = model_01.fit(x=training_data_gen, steps_per_epoch=steps_per_epoch, epochs=num_epochs, verbose=1,\n",
    "                       callbacks=callbacks_list, validation_data=validation_data_gen,\n",
    "                       validation_steps=validation_steps)"
   ]
  },
  {
   "cell_type": "code",
   "execution_count": 42,
   "id": "d9368097",
   "metadata": {},
   "outputs": [
    {
     "data": {
      "image/png": "[encoded data removed]",
      "text/plain": [
       "<Figure size 576x576 with 2 Axes>"
      ]
     },
     "metadata": {
      "needs_background": "light"
     },
     "output_type": "display_data"
    }
   ],
   "source": [
    "visualize_outputs(history, epoch=num_epochs)"
   ]
  },
  {
   "cell_type": "markdown",
   "id": "46830f14",
   "metadata": {},
   "source": [
    "#### Observations\n",
    "\n",
    "- The model is able to achieve only 98% accuracy. The validation loss is ~90%. \n",
    "- The diff. is not huge. however the loss doesn't get a flatline.. \n",
    "- The model is trained for 15 epochs. We can try to increase the epochs count to check for better accuracy metrics.\n",
    "- The model shows no signs of overfitting as the difference between the train and validation loss is very less.\n",
    "- Total params: 3,856,069\n",
    "Trainable params: 3,855,941\n",
    "Non-trainable params: 128)"
   ]
  },
  {
   "cell_type": "markdown",
   "id": "8493014d",
   "metadata": {},
   "source": [
    "### Model-02:"
   ]
  },
  {
   "cell_type": "markdown",
   "id": "648c8562",
   "metadata": {},
   "source": [
    "- Increasig the epochs to 20\n",
    "- Increasing the batch size from 20 -> 30\n",
    "- Adjust the Learning Rate Factor to a smaller value... "
   ]
  },
  {
   "cell_type": "code",
   "execution_count": 50,
   "id": "f3a2fa89",
   "metadata": {},
   "outputs": [],
   "source": [
    "def prepare_conv3d_model_02():\n",
    "    model = Sequential()\n",
    "    model.add(Conv3D(32, (3,3,3), padding='same', input_shape=(num_images, height, width, 3)))\n",
    "    model.add(Activation('relu'))\n",
    "    model.add(MaxPooling3D(pool_size=(2, 2, 2), padding='same'))\n",
    "\n",
    "    model.add(Conv3D(64, (3,3,3), padding='same'))\n",
    "    model.add(Activation('relu'))\n",
    "    model.add(MaxPooling3D(pool_size=(2, 2, 2), padding='same'))\n",
    "\n",
    "    model.add(Conv3D(64, (3,3,3), padding='same'))\n",
    "    model.add(Activation('relu'))\n",
    "    model.add(MaxPooling3D(pool_size=(2, 2, 2), padding='same'))\n",
    "\n",
    "    model.add(Conv3D(128, (3,3,3), padding='same'))\n",
    "    model.add(Activation('relu'))\n",
    "    model.add(MaxPooling3D(pool_size=(3, 3, 3), padding='same'))\n",
    "\n",
    "    model.add(Conv3D(128, (3,3,3), padding='same'))\n",
    "    model.add(Activation('relu'))\n",
    "    model.add(BatchNormalization())\n",
    "    model.add(MaxPooling3D(pool_size=(2, 2, 2), padding='same'))\n",
    "\n",
    "    model.add(Flatten())\n",
    "    model.add(Dense(128))\n",
    "    model.add(Activation('relu'))\n",
    "    model.add(Dropout(0.20))\n",
    "\n",
    "    model.add(Dense(num_classes))\n",
    "    model.add(Activation('softmax'))\n",
    "    return model"
   ]
  },
  {
   "cell_type": "code",
   "execution_count": 51,
   "id": "a8947865",
   "metadata": {},
   "outputs": [],
   "source": [
    "height = 120 # image width\n",
    "width = 120 # image height\n",
    "\n",
    "num_images = 20\n",
    "batch_size = 30 #experiment with the batch size\n",
    "img_idx = len(np.round(np.linspace(0,total_frames-1,num_images)).astype(int))\n",
    "\n",
    "num_epochs = 20\n",
    "\n",
    "LrPlateau_patience = 2\n",
    "LrPlateau_mode = 'auto'\n",
    "LrPlateau_factor = 0.1\n",
    "LrPlateau_fmin_lr = 0.0001\n"
   ]
  },
  {
   "cell_type": "code",
   "execution_count": 52,
   "id": "5da7d538",
   "metadata": {},
   "outputs": [
    {
     "name": "stdout",
     "output_type": "stream",
     "text": [
      "WARNING:tensorflow:`period` argument is deprecated. Please use `save_freq` to specify the frequency in number of batches seen.\n"
     ]
    }
   ],
   "source": [
    "curr_dt_time = datetime.datetime.now()\n",
    "LR = ReduceLROnPlateau(monitor='val_loss',\n",
    "                       factor=LrPlateau_factor,\n",
    "                       patience=LrPlateau_patience,\n",
    "                       fmin_lr=LrPlateau_fmin_lr, verbose=1)\n",
    "\n",
    "callbacks_list = [model_callbacks(curr_dt_time, MODEL_SAVE_DIR), LR]\n",
    "steps_per_epoch, validation_steps = get_steps_info(len(train_doc), len(val_doc), batch_size)"
   ]
  },
  {
   "cell_type": "code",
   "execution_count": 53,
   "id": "240e9d64",
   "metadata": {},
   "outputs": [
    {
     "name": "stdout",
     "output_type": "stream",
     "text": [
      "Epochs 20\n",
      "steps_per_epoch 23\n",
      "validation_steps 4\n"
     ]
    }
   ],
   "source": [
    "print('Epochs', num_epochs)\n",
    "print('steps_per_epoch', steps_per_epoch)\n",
    "print('validation_steps', validation_steps)"
   ]
  },
  {
   "cell_type": "code",
   "execution_count": 54,
   "id": "c4a24475",
   "metadata": {},
   "outputs": [
    {
     "name": "stdout",
     "output_type": "stream",
     "text": [
      "Model: \"sequential_5\"\n",
      "_________________________________________________________________\n",
      " Layer (type)                Output Shape              Param #   \n",
      "=================================================================\n",
      " conv3d_6 (Conv3D)           (None, 20, 120, 120, 32)  2624      \n",
      "                                                                 \n",
      " activation_10 (Activation)  (None, 20, 120, 120, 32)  0         \n",
      "                                                                 \n",
      " max_pooling3d_6 (MaxPooling  (None, 10, 60, 60, 32)   0         \n",
      " 3D)                                                             \n",
      "                                                                 \n",
      " conv3d_7 (Conv3D)           (None, 10, 60, 60, 64)    55360     \n",
      "                                                                 \n",
      " activation_11 (Activation)  (None, 10, 60, 60, 64)    0         \n",
      "                                                                 \n",
      " max_pooling3d_7 (MaxPooling  (None, 5, 30, 30, 64)    0         \n",
      " 3D)                                                             \n",
      "                                                                 \n",
      " conv3d_8 (Conv3D)           (None, 5, 30, 30, 64)     110656    \n",
      "                                                                 \n",
      " activation_12 (Activation)  (None, 5, 30, 30, 64)     0         \n",
      "                                                                 \n",
      " max_pooling3d_8 (MaxPooling  (None, 3, 15, 15, 64)    0         \n",
      " 3D)                                                             \n",
      "                                                                 \n",
      " conv3d_9 (Conv3D)           (None, 3, 15, 15, 128)    221312    \n",
      "                                                                 \n",
      " activation_13 (Activation)  (None, 3, 15, 15, 128)    0         \n",
      "                                                                 \n",
      " max_pooling3d_9 (MaxPooling  (None, 1, 5, 5, 128)     0         \n",
      " 3D)                                                             \n",
      "                                                                 \n",
      " conv3d_10 (Conv3D)          (None, 1, 5, 5, 128)      442496    \n",
      "                                                                 \n",
      " activation_14 (Activation)  (None, 1, 5, 5, 128)      0         \n",
      "                                                                 \n",
      " batch_normalization_2 (Batc  (None, 1, 5, 5, 128)     512       \n",
      " hNormalization)                                                 \n",
      "                                                                 \n",
      " max_pooling3d_10 (MaxPoolin  (None, 1, 3, 3, 128)     0         \n",
      " g3D)                                                            \n",
      "                                                                 \n",
      " flatten_2 (Flatten)         (None, 1152)              0         \n",
      "                                                                 \n",
      " dense_4 (Dense)             (None, 128)               147584    \n",
      "                                                                 \n",
      " activation_15 (Activation)  (None, 128)               0         \n",
      "                                                                 \n",
      " dropout_2 (Dropout)         (None, 128)               0         \n",
      "                                                                 \n",
      " dense_5 (Dense)             (None, 5)                 645       \n",
      "                                                                 \n",
      " activation_16 (Activation)  (None, 5)                 0         \n",
      "                                                                 \n",
      "=================================================================\n",
      "Total params: 981,189\n",
      "Trainable params: 980,933\n",
      "Non-trainable params: 256\n",
      "_________________________________________________________________\n"
     ]
    }
   ],
   "source": [
    "model_02 = prepare_conv3d_model_02()\n",
    "optimizer = optimizers.adam_v2.Adam()\n",
    "model_02.compile(optimizer, loss='categorical_crossentropy', metrics=['categorical_accuracy'])\n",
    "model_02.summary()"
   ]
  },
  {
   "cell_type": "code",
   "execution_count": 55,
   "id": "b076838e",
   "metadata": {},
   "outputs": [],
   "source": [
    "training_data_gen = gesture_generator(TRAIN_DIR, train_doc, batch_size, img_idx, height, width)\n",
    "validation_data_gen = gesture_generator(VAL_DIR, val_doc, batch_size, img_idx, height, width)"
   ]
  },
  {
   "cell_type": "code",
   "execution_count": 56,
   "id": "cba58519",
   "metadata": {},
   "outputs": [
    {
     "name": "stdout",
     "output_type": "stream",
     "text": [
      "Epoch 1/20\n",
      "23/23 [==============================] - ETA: 0s - loss: 1.3608 - categorical_accuracy: 0.3906\n",
      "Epoch 00001: val_loss improved from inf to 1.51263, saving model to MODELS/model_init_2023-10-0117_15_58.407071/model-00001-1.36077-0.39065-1.51263-0.25000.h5\n",
      "23/23 [==============================] - 105s 5s/step - loss: 1.3608 - categorical_accuracy: 0.3906 - val_loss: 1.5126 - val_categorical_accuracy: 0.2500 - lr: 0.0010\n",
      "Epoch 2/20\n",
      "23/23 [==============================] - ETA: 0s - loss: 1.0056 - categorical_accuracy: 0.5732\n",
      "Epoch 00002: val_loss did not improve from 1.51263\n",
      "23/23 [==============================] - 104s 5s/step - loss: 1.0056 - categorical_accuracy: 0.5732 - val_loss: 1.5459 - val_categorical_accuracy: 0.2800 - lr: 0.0010\n",
      "Epoch 3/20\n",
      "23/23 [==============================] - ETA: 0s - loss: 0.7678 - categorical_accuracy: 0.6953\n",
      "Epoch 00003: val_loss improved from 1.51263 to 1.34116, saving model to MODELS/model_init_2023-10-0117_15_58.407071/model-00003-0.76783-0.69532-1.34116-0.37000.h5\n",
      "23/23 [==============================] - 105s 5s/step - loss: 0.7678 - categorical_accuracy: 0.6953 - val_loss: 1.3412 - val_categorical_accuracy: 0.3700 - lr: 0.0010\n",
      "Epoch 4/20\n",
      "23/23 [==============================] - ETA: 0s - loss: 0.6190 - categorical_accuracy: 0.7436\n",
      "Epoch 00004: val_loss improved from 1.34116 to 1.27609, saving model to MODELS/model_init_2023-10-0117_15_58.407071/model-00004-0.61903-0.74359-1.27609-0.43000.h5\n",
      "23/23 [==============================] - 102s 5s/step - loss: 0.6190 - categorical_accuracy: 0.7436 - val_loss: 1.2761 - val_categorical_accuracy: 0.4300 - lr: 0.0010\n",
      "Epoch 5/20\n",
      "23/23 [==============================] - ETA: 0s - loss: 0.5059 - categorical_accuracy: 0.7828\n",
      "Epoch 00005: val_loss improved from 1.27609 to 0.96155, saving model to MODELS/model_init_2023-10-0117_15_58.407071/model-00005-0.50590-0.78281-0.96155-0.71000.h5\n",
      "23/23 [==============================] - 104s 5s/step - loss: 0.5059 - categorical_accuracy: 0.7828 - val_loss: 0.9615 - val_categorical_accuracy: 0.7100 - lr: 0.0010\n",
      "Epoch 6/20\n",
      "23/23 [==============================] - ETA: 0s - loss: 0.3729 - categorical_accuracy: 0.8567\n",
      "Epoch 00006: val_loss improved from 0.96155 to 0.84047, saving model to MODELS/model_init_2023-10-0117_15_58.407071/model-00006-0.37294-0.85671-0.84047-0.83000.h5\n",
      "23/23 [==============================] - 105s 5s/step - loss: 0.3729 - categorical_accuracy: 0.8567 - val_loss: 0.8405 - val_categorical_accuracy: 0.8300 - lr: 0.0010\n",
      "Epoch 7/20\n",
      "23/23 [==============================] - ETA: 0s - loss: 0.3503 - categorical_accuracy: 0.8612\n",
      "Epoch 00007: val_loss improved from 0.84047 to 0.82378, saving model to MODELS/model_init_2023-10-0117_15_58.407071/model-00007-0.35025-0.86124-0.82378-0.68000.h5\n",
      "23/23 [==============================] - 104s 5s/step - loss: 0.3503 - categorical_accuracy: 0.8612 - val_loss: 0.8238 - val_categorical_accuracy: 0.6800 - lr: 0.0010\n",
      "Epoch 8/20\n",
      "23/23 [==============================] - ETA: 0s - loss: 0.3114 - categorical_accuracy: 0.8793\n",
      "Epoch 00008: val_loss improved from 0.82378 to 0.57602, saving model to MODELS/model_init_2023-10-0117_15_58.407071/model-00008-0.31144-0.87934-0.57602-0.87000.h5\n",
      "23/23 [==============================] - 101s 5s/step - loss: 0.3114 - categorical_accuracy: 0.8793 - val_loss: 0.5760 - val_categorical_accuracy: 0.8700 - lr: 0.0010\n",
      "Epoch 9/20\n",
      "23/23 [==============================] - ETA: 0s - loss: 0.2228 - categorical_accuracy: 0.9216\n",
      "Epoch 00009: val_loss improved from 0.57602 to 0.54845, saving model to MODELS/model_init_2023-10-0117_15_58.407071/model-00009-0.22279-0.92157-0.54845-0.81000.h5\n",
      "23/23 [==============================] - 104s 5s/step - loss: 0.2228 - categorical_accuracy: 0.9216 - val_loss: 0.5485 - val_categorical_accuracy: 0.8100 - lr: 0.0010\n",
      "Epoch 10/20\n",
      "23/23 [==============================] - ETA: 0s - loss: 0.2523 - categorical_accuracy: 0.9080\n",
      "Epoch 00010: val_loss did not improve from 0.54845\n",
      "23/23 [==============================] - 106s 5s/step - loss: 0.2523 - categorical_accuracy: 0.9080 - val_loss: 0.8335 - val_categorical_accuracy: 0.6800 - lr: 0.0010\n",
      "Epoch 11/20\n",
      "23/23 [==============================] - ETA: 0s - loss: 0.2707 - categorical_accuracy: 0.9080\n",
      "Epoch 00011: val_loss did not improve from 0.54845\n",
      "\n",
      "Epoch 00011: ReduceLROnPlateau reducing learning rate to 0.00010000000474974513.\n",
      "23/23 [==============================] - 104s 5s/step - loss: 0.2707 - categorical_accuracy: 0.9080 - val_loss: 0.7656 - val_categorical_accuracy: 0.6700 - lr: 0.0010\n",
      "Epoch 12/20\n",
      "23/23 [==============================] - ETA: 0s - loss: 0.1840 - categorical_accuracy: 0.9382\n",
      "Epoch 00012: val_loss improved from 0.54845 to 0.45081, saving model to MODELS/model_init_2023-10-0117_15_58.407071/model-00012-0.18398-0.93816-0.45081-0.84000.h5\n",
      "23/23 [==============================] - 102s 5s/step - loss: 0.1840 - categorical_accuracy: 0.9382 - val_loss: 0.4508 - val_categorical_accuracy: 0.8400 - lr: 1.0000e-04\n",
      "Epoch 13/20\n",
      "23/23 [==============================] - ETA: 0s - loss: 0.1152 - categorical_accuracy: 0.9623\n",
      "Epoch 00013: val_loss improved from 0.45081 to 0.36644, saving model to MODELS/model_init_2023-10-0117_15_58.407071/model-00013-0.11524-0.96229-0.36644-0.87000.h5\n",
      "23/23 [==============================] - 104s 5s/step - loss: 0.1152 - categorical_accuracy: 0.9623 - val_loss: 0.3664 - val_categorical_accuracy: 0.8700 - lr: 1.0000e-04\n",
      "Epoch 14/20\n",
      "23/23 [==============================] - ETA: 0s - loss: 0.0729 - categorical_accuracy: 0.9864\n",
      "Epoch 00014: val_loss improved from 0.36644 to 0.34443, saving model to MODELS/model_init_2023-10-0117_15_58.407071/model-00014-0.07288-0.98643-0.34443-0.88000.h5\n",
      "23/23 [==============================] - 104s 5s/step - loss: 0.0729 - categorical_accuracy: 0.9864 - val_loss: 0.3444 - val_categorical_accuracy: 0.8800 - lr: 1.0000e-04\n",
      "Epoch 15/20\n",
      "23/23 [==============================] - ETA: 0s - loss: 0.0694 - categorical_accuracy: 0.9819\n",
      "Epoch 00015: val_loss improved from 0.34443 to 0.21853, saving model to MODELS/model_init_2023-10-0117_15_58.407071/model-00015-0.06936-0.98190-0.21853-0.92000.h5\n",
      "23/23 [==============================] - 104s 5s/step - loss: 0.0694 - categorical_accuracy: 0.9819 - val_loss: 0.2185 - val_categorical_accuracy: 0.9200 - lr: 1.0000e-04\n",
      "Epoch 16/20\n",
      "23/23 [==============================] - ETA: 0s - loss: 0.0567 - categorical_accuracy: 0.9879\n",
      "Epoch 00016: val_loss did not improve from 0.21853\n",
      "23/23 [==============================] - 102s 5s/step - loss: 0.0567 - categorical_accuracy: 0.9879 - val_loss: 0.2815 - val_categorical_accuracy: 0.9100 - lr: 1.0000e-04\n",
      "Epoch 17/20\n",
      "23/23 [==============================] - ETA: 0s - loss: 0.0531 - categorical_accuracy: 0.9925\n",
      "Epoch 00017: val_loss did not improve from 0.21853\n",
      "\n",
      "Epoch 00017: ReduceLROnPlateau reducing learning rate to 1.0000000474974514e-05.\n",
      "23/23 [==============================] - 105s 5s/step - loss: 0.0531 - categorical_accuracy: 0.9925 - val_loss: 0.3046 - val_categorical_accuracy: 0.9000 - lr: 1.0000e-04\n",
      "Epoch 18/20\n",
      "23/23 [==============================] - ETA: 0s - loss: 0.0574 - categorical_accuracy: 0.9864\n",
      "Epoch 00018: val_loss improved from 0.21853 to 0.21484, saving model to MODELS/model_init_2023-10-0117_15_58.407071/model-00018-0.05745-0.98643-0.21484-0.93000.h5\n",
      "23/23 [==============================] - 104s 5s/step - loss: 0.0574 - categorical_accuracy: 0.9864 - val_loss: 0.2148 - val_categorical_accuracy: 0.9300 - lr: 1.0000e-05\n",
      "Epoch 19/20\n",
      "23/23 [==============================] - ETA: 0s - loss: 0.0553 - categorical_accuracy: 0.9834\n",
      "Epoch 00019: val_loss did not improve from 0.21484\n",
      "23/23 [==============================] - 104s 5s/step - loss: 0.0553 - categorical_accuracy: 0.9834 - val_loss: 0.2752 - val_categorical_accuracy: 0.9300 - lr: 1.0000e-05\n",
      "Epoch 20/20\n",
      "23/23 [==============================] - ETA: 0s - loss: 0.0474 - categorical_accuracy: 0.9925\n",
      "Epoch 00020: val_loss did not improve from 0.21484\n",
      "\n",
      "Epoch 00020: ReduceLROnPlateau reducing learning rate to 1.0000000656873453e-06.\n",
      "23/23 [==============================] - 102s 5s/step - loss: 0.0474 - categorical_accuracy: 0.9925 - val_loss: 0.3113 - val_categorical_accuracy: 0.9100 - lr: 1.0000e-05\n"
     ]
    }
   ],
   "source": [
    "#fit_generator is deprecated.. using model.fit with generator objects...\n",
    "\n",
    "history_02 = model_02.fit(x=training_data_gen, steps_per_epoch=steps_per_epoch, epochs=num_epochs, verbose=1,\n",
    "                       callbacks=callbacks_list, validation_data=validation_data_gen,\n",
    "                       validation_steps=validation_steps)"
   ]
  },
  {
   "cell_type": "code",
   "execution_count": 57,
   "id": "442963f3",
   "metadata": {},
   "outputs": [
    {
     "data": {
      "image/png": "[encoded data removed]",
      "text/plain": [
       "<Figure size 576x576 with 2 Axes>"
      ]
     },
     "metadata": {
      "needs_background": "light"
     },
     "output_type": "display_data"
    }
   ],
   "source": [
    "visualize_outputs(history_02, epoch=num_epochs)"
   ]
  },
  {
   "cell_type": "markdown",
   "id": "57f651a9",
   "metadata": {},
   "source": [
    "### Observations\n",
    "\n",
    "- The Loss graph is not stablized and also the there is no improvement in the accuracy. \n",
    "- Total params: 981,189 Trainable params: 980,933 Non-trainable params: 256"
   ]
  },
  {
   "cell_type": "markdown",
   "id": "044d7154",
   "metadata": {},
   "source": [
    "### MODEL-03\n",
    "\n",
    "- Experiment with increasing the Dense layers.\n",
    "- Adjust Learning Rate Plateau factor."
   ]
  },
  {
   "cell_type": "code",
   "execution_count": null,
   "id": "4218272a",
   "metadata": {},
   "outputs": [],
   "source": []
  },
  {
   "cell_type": "code",
   "execution_count": 59,
   "id": "2e95fcac",
   "metadata": {},
   "outputs": [],
   "source": [
    "def prepare_conv3d_model_03():\n",
    "    model = Sequential()\n",
    "    model.add(Conv3D(32, (3,3,3), padding='same', input_shape=(num_images, height, width, 3)))\n",
    "    model.add(Activation('relu'))\n",
    "    model.add(MaxPooling3D(pool_size=(2, 2, 2), padding='same'))\n",
    "\n",
    "    model.add(Conv3D(64, (3,3,3), padding='same'))\n",
    "    model.add(Activation('relu'))\n",
    "    model.add(MaxPooling3D(pool_size=(2, 2, 2), padding='same'))\n",
    "\n",
    "    model.add(Conv3D(64, (3,3,3), padding='same'))\n",
    "    model.add(Activation('relu'))\n",
    "    model.add(MaxPooling3D(pool_size=(2, 2, 2), padding='same'))\n",
    "\n",
    "    model.add(Conv3D(128, (3,3,3), padding='same'))\n",
    "    model.add(Activation('relu'))\n",
    "    model.add(MaxPooling3D(pool_size=(3, 3, 3), padding='same'))\n",
    "\n",
    "    model.add(Conv3D(128, (3,3,3), padding='same'))\n",
    "    model.add(Activation('relu'))\n",
    "    model.add(MaxPooling3D(pool_size=(2, 2, 2), padding='same'))\n",
    "\n",
    "    model.add(Flatten())\n",
    "    model.add(Dense(256))\n",
    "    model.add(Dense(128))\n",
    "    model.add(Dense(64))\n",
    "    model.add(Activation('relu'))\n",
    "    model.add(Dropout(0.20))\n",
    "\n",
    "    model.add(Dense(num_classes))\n",
    "    model.add(Activation('softmax'))\n",
    "    return model"
   ]
  },
  {
   "cell_type": "code",
   "execution_count": null,
   "id": "666bdd76",
   "metadata": {},
   "outputs": [],
   "source": []
  },
  {
   "cell_type": "code",
   "execution_count": 60,
   "id": "dfbbc0da",
   "metadata": {},
   "outputs": [],
   "source": [
    "height = 120 # image width\n",
    "width = 120 # image height\n",
    "\n",
    "batch_size = 20 #experiment with the batch size\n",
    "img_idx = len(np.round(np.linspace(0,total_frames-1,num_images)).astype(int))\n",
    "num_epochs = 20\n",
    "\n",
    "LrPlateau_patience = 2\n",
    "LrPlateau_mode = 'auto'\n",
    "LrPlateau_factor = 0.1\n",
    "LrPlateau_fmin_lr = 0.0001\n"
   ]
  },
  {
   "cell_type": "code",
   "execution_count": 61,
   "id": "d178a5f4",
   "metadata": {},
   "outputs": [
    {
     "name": "stdout",
     "output_type": "stream",
     "text": [
      "WARNING:tensorflow:`period` argument is deprecated. Please use `save_freq` to specify the frequency in number of batches seen.\n"
     ]
    }
   ],
   "source": [
    "curr_dt_time = datetime.datetime.now()\n",
    "LR = ReduceLROnPlateau(monitor='val_loss',\n",
    "                       factor=LrPlateau_factor,\n",
    "                       patience=LrPlateau_patience,\n",
    "                       fmin_lr=LrPlateau_fmin_lr, verbose=1)\n",
    "\n",
    "callbacks_list = [model_callbacks(curr_dt_time, MODEL_SAVE_DIR), LR]\n",
    "steps_per_epoch, validation_steps = get_steps_info(len(train_doc), len(val_doc), batch_size)"
   ]
  },
  {
   "cell_type": "code",
   "execution_count": 62,
   "id": "c68ae1f9",
   "metadata": {},
   "outputs": [
    {
     "name": "stdout",
     "output_type": "stream",
     "text": [
      "Epochs 20\n",
      "steps_per_epoch 34\n",
      "validation_steps 5\n"
     ]
    }
   ],
   "source": [
    "print('Epochs', num_epochs)\n",
    "print('steps_per_epoch', steps_per_epoch)\n",
    "print('validation_steps', validation_steps)"
   ]
  },
  {
   "cell_type": "code",
   "execution_count": 63,
   "id": "dd6c7f21",
   "metadata": {},
   "outputs": [
    {
     "name": "stdout",
     "output_type": "stream",
     "text": [
      "Model: \"sequential_6\"\n",
      "_________________________________________________________________\n",
      " Layer (type)                Output Shape              Param #   \n",
      "=================================================================\n",
      " conv3d_11 (Conv3D)          (None, 20, 120, 120, 32)  2624      \n",
      "                                                                 \n",
      " activation_17 (Activation)  (None, 20, 120, 120, 32)  0         \n",
      "                                                                 \n",
      " max_pooling3d_11 (MaxPoolin  (None, 10, 60, 60, 32)   0         \n",
      " g3D)                                                            \n",
      "                                                                 \n",
      " conv3d_12 (Conv3D)          (None, 10, 60, 60, 64)    55360     \n",
      "                                                                 \n",
      " activation_18 (Activation)  (None, 10, 60, 60, 64)    0         \n",
      "                                                                 \n",
      " max_pooling3d_12 (MaxPoolin  (None, 5, 30, 30, 64)    0         \n",
      " g3D)                                                            \n",
      "                                                                 \n",
      " conv3d_13 (Conv3D)          (None, 5, 30, 30, 64)     110656    \n",
      "                                                                 \n",
      " activation_19 (Activation)  (None, 5, 30, 30, 64)     0         \n",
      "                                                                 \n",
      " max_pooling3d_13 (MaxPoolin  (None, 3, 15, 15, 64)    0         \n",
      " g3D)                                                            \n",
      "                                                                 \n",
      " conv3d_14 (Conv3D)          (None, 3, 15, 15, 128)    221312    \n",
      "                                                                 \n",
      " activation_20 (Activation)  (None, 3, 15, 15, 128)    0         \n",
      "                                                                 \n",
      " max_pooling3d_14 (MaxPoolin  (None, 1, 5, 5, 128)     0         \n",
      " g3D)                                                            \n",
      "                                                                 \n",
      " conv3d_15 (Conv3D)          (None, 1, 5, 5, 128)      442496    \n",
      "                                                                 \n",
      " activation_21 (Activation)  (None, 1, 5, 5, 128)      0         \n",
      "                                                                 \n",
      " max_pooling3d_15 (MaxPoolin  (None, 1, 3, 3, 128)     0         \n",
      " g3D)                                                            \n",
      "                                                                 \n",
      " flatten_3 (Flatten)         (None, 1152)              0         \n",
      "                                                                 \n",
      " dense_6 (Dense)             (None, 256)               295168    \n",
      "                                                                 \n",
      " dense_7 (Dense)             (None, 128)               32896     \n",
      "                                                                 \n",
      " dense_8 (Dense)             (None, 64)                8256      \n",
      "                                                                 \n",
      " activation_22 (Activation)  (None, 64)                0         \n",
      "                                                                 \n",
      " dropout_3 (Dropout)         (None, 64)                0         \n",
      "                                                                 \n",
      " dense_9 (Dense)             (None, 5)                 325       \n",
      "                                                                 \n",
      " activation_23 (Activation)  (None, 5)                 0         \n",
      "                                                                 \n",
      "=================================================================\n",
      "Total params: 1,169,093\n",
      "Trainable params: 1,169,093\n",
      "Non-trainable params: 0\n",
      "_________________________________________________________________\n"
     ]
    }
   ],
   "source": [
    "model_03 = prepare_conv3d_model_03()\n",
    "optimizer = optimizers.adam_v2.Adam()\n",
    "model_03.compile(optimizer, loss='categorical_crossentropy', metrics=['categorical_accuracy'])\n",
    "model_03.summary()"
   ]
  },
  {
   "cell_type": "code",
   "execution_count": 64,
   "id": "26c52803",
   "metadata": {},
   "outputs": [],
   "source": [
    "training_data_gen = gesture_generator(TRAIN_DIR, train_doc, batch_size, img_idx, height, width)\n",
    "validation_data_gen = gesture_generator(VAL_DIR, val_doc, batch_size, img_idx, height, width)"
   ]
  },
  {
   "cell_type": "code",
   "execution_count": 65,
   "id": "546e1ad5",
   "metadata": {},
   "outputs": [
    {
     "name": "stdout",
     "output_type": "stream",
     "text": [
      "Epoch 1/20\n",
      "34/34 [==============================] - ETA: 0s - loss: 1.6181 - categorical_accuracy: 0.2172\n",
      "Epoch 00001: val_loss improved from inf to 1.60914, saving model to MODELS/model_init_2023-10-0117_50_41.071095/model-00001-1.61809-0.21719-1.60914-0.21000.h5\n",
      "34/34 [==============================] - 105s 3s/step - loss: 1.6181 - categorical_accuracy: 0.2172 - val_loss: 1.6091 - val_categorical_accuracy: 0.2100 - lr: 0.0010\n",
      "Epoch 2/20\n",
      "34/34 [==============================] - ETA: 0s - loss: 1.5387 - categorical_accuracy: 0.2745\n",
      "Epoch 00002: val_loss improved from 1.60914 to 1.40639, saving model to MODELS/model_init_2023-10-0117_50_41.071095/model-00002-1.53865-0.27451-1.40639-0.37000.h5\n",
      "34/34 [==============================] - 104s 3s/step - loss: 1.5387 - categorical_accuracy: 0.2745 - val_loss: 1.4064 - val_categorical_accuracy: 0.3700 - lr: 0.0010\n",
      "Epoch 3/20\n",
      "34/34 [==============================] - ETA: 0s - loss: 1.3179 - categorical_accuracy: 0.3771\n",
      "Epoch 00003: val_loss improved from 1.40639 to 1.19981, saving model to MODELS/model_init_2023-10-0117_50_41.071095/model-00003-1.31785-0.37707-1.19981-0.45000.h5\n",
      "34/34 [==============================] - 105s 3s/step - loss: 1.3179 - categorical_accuracy: 0.3771 - val_loss: 1.1998 - val_categorical_accuracy: 0.4500 - lr: 0.0010\n",
      "Epoch 4/20\n",
      "34/34 [==============================] - ETA: 0s - loss: 1.2205 - categorical_accuracy: 0.4615\n",
      "Epoch 00004: val_loss did not improve from 1.19981\n",
      "34/34 [==============================] - 104s 3s/step - loss: 1.2205 - categorical_accuracy: 0.4615 - val_loss: 1.2695 - val_categorical_accuracy: 0.3600 - lr: 0.0010\n",
      "Epoch 5/20\n",
      "34/34 [==============================] - ETA: 0s - loss: 1.1015 - categorical_accuracy: 0.5249\n",
      "Epoch 00005: val_loss improved from 1.19981 to 0.92227, saving model to MODELS/model_init_2023-10-0117_50_41.071095/model-00005-1.10155-0.52489-0.92227-0.55000.h5\n",
      "34/34 [==============================] - 104s 3s/step - loss: 1.1015 - categorical_accuracy: 0.5249 - val_loss: 0.9223 - val_categorical_accuracy: 0.5500 - lr: 0.0010\n",
      "Epoch 6/20\n",
      "34/34 [==============================] - ETA: 0s - loss: 0.8887 - categorical_accuracy: 0.5958\n",
      "Epoch 00006: val_loss improved from 0.92227 to 0.72526, saving model to MODELS/model_init_2023-10-0117_50_41.071095/model-00006-0.88869-0.59578-0.72526-0.69000.h5\n",
      "34/34 [==============================] - 104s 3s/step - loss: 0.8887 - categorical_accuracy: 0.5958 - val_loss: 0.7253 - val_categorical_accuracy: 0.6900 - lr: 0.0010\n",
      "Epoch 7/20\n",
      "34/34 [==============================] - ETA: 0s - loss: 0.6288 - categorical_accuracy: 0.7391\n",
      "Epoch 00007: val_loss improved from 0.72526 to 0.60162, saving model to MODELS/model_init_2023-10-0117_50_41.071095/model-00007-0.62876-0.73906-0.60162-0.73000.h5\n",
      "34/34 [==============================] - 105s 3s/step - loss: 0.6288 - categorical_accuracy: 0.7391 - val_loss: 0.6016 - val_categorical_accuracy: 0.7300 - lr: 0.0010\n",
      "Epoch 8/20\n",
      "34/34 [==============================] - ETA: 0s - loss: 0.5139 - categorical_accuracy: 0.7843\n",
      "Epoch 00008: val_loss did not improve from 0.60162\n",
      "34/34 [==============================] - 105s 3s/step - loss: 0.5139 - categorical_accuracy: 0.7843 - val_loss: 0.6104 - val_categorical_accuracy: 0.7100 - lr: 0.0010\n",
      "Epoch 9/20\n",
      "34/34 [==============================] - ETA: 0s - loss: 0.4275 - categorical_accuracy: 0.8009\n",
      "Epoch 00009: val_loss did not improve from 0.60162\n",
      "\n",
      "Epoch 00009: ReduceLROnPlateau reducing learning rate to 0.00010000000474974513.\n",
      "34/34 [==============================] - 104s 3s/step - loss: 0.4275 - categorical_accuracy: 0.8009 - val_loss: 1.3423 - val_categorical_accuracy: 0.6100 - lr: 0.0010\n",
      "Epoch 10/20\n",
      "34/34 [==============================] - ETA: 0s - loss: 0.4955 - categorical_accuracy: 0.8009\n",
      "Epoch 00010: val_loss improved from 0.60162 to 0.40272, saving model to MODELS/model_init_2023-10-0117_50_41.071095/model-00010-0.49546-0.80090-0.40272-0.87000.h5\n",
      "34/34 [==============================] - 104s 3s/step - loss: 0.4955 - categorical_accuracy: 0.8009 - val_loss: 0.4027 - val_categorical_accuracy: 0.8700 - lr: 1.0000e-04\n",
      "Epoch 11/20\n",
      "34/34 [==============================] - ETA: 0s - loss: 0.2862 - categorical_accuracy: 0.8839\n",
      "Epoch 00011: val_loss improved from 0.40272 to 0.35906, saving model to MODELS/model_init_2023-10-0117_50_41.071095/model-00011-0.28616-0.88386-0.35906-0.85000.h5\n",
      "34/34 [==============================] - 104s 3s/step - loss: 0.2862 - categorical_accuracy: 0.8839 - val_loss: 0.3591 - val_categorical_accuracy: 0.8500 - lr: 1.0000e-04\n",
      "Epoch 12/20\n",
      "34/34 [==============================] - ETA: 0s - loss: 0.2446 - categorical_accuracy: 0.8989\n",
      "Epoch 00012: val_loss improved from 0.35906 to 0.35344, saving model to MODELS/model_init_2023-10-0117_50_41.071095/model-00012-0.24459-0.89894-0.35344-0.84000.h5\n",
      "34/34 [==============================] - 105s 3s/step - loss: 0.2446 - categorical_accuracy: 0.8989 - val_loss: 0.3534 - val_categorical_accuracy: 0.8400 - lr: 1.0000e-04\n",
      "Epoch 13/20\n",
      "34/34 [==============================] - ETA: 0s - loss: 0.2270 - categorical_accuracy: 0.9140\n",
      "Epoch 00013: val_loss did not improve from 0.35344\n",
      "34/34 [==============================] - 103s 3s/step - loss: 0.2270 - categorical_accuracy: 0.9140 - val_loss: 0.3692 - val_categorical_accuracy: 0.8400 - lr: 1.0000e-04\n",
      "Epoch 14/20\n",
      "34/34 [==============================] - ETA: 0s - loss: 0.2071 - categorical_accuracy: 0.9170\n",
      "Epoch 00014: val_loss improved from 0.35344 to 0.32033, saving model to MODELS/model_init_2023-10-0117_50_41.071095/model-00014-0.20710-0.91704-0.32033-0.88000.h5\n",
      "34/34 [==============================] - 105s 3s/step - loss: 0.2071 - categorical_accuracy: 0.9170 - val_loss: 0.3203 - val_categorical_accuracy: 0.8800 - lr: 1.0000e-04\n",
      "Epoch 15/20\n",
      "34/34 [==============================] - ETA: 0s - loss: 0.1638 - categorical_accuracy: 0.9367\n",
      "Epoch 00015: val_loss improved from 0.32033 to 0.27111, saving model to MODELS/model_init_2023-10-0117_50_41.071095/model-00015-0.16380-0.93665-0.27111-0.89000.h5\n",
      "34/34 [==============================] - 104s 3s/step - loss: 0.1638 - categorical_accuracy: 0.9367 - val_loss: 0.2711 - val_categorical_accuracy: 0.8900 - lr: 1.0000e-04\n",
      "Epoch 16/20\n",
      "34/34 [==============================] - ETA: 0s - loss: 0.1532 - categorical_accuracy: 0.9472\n",
      "Epoch 00016: val_loss did not improve from 0.27111\n",
      "34/34 [==============================] - 104s 3s/step - loss: 0.1532 - categorical_accuracy: 0.9472 - val_loss: 0.3172 - val_categorical_accuracy: 0.8600 - lr: 1.0000e-04\n",
      "Epoch 17/20\n",
      "34/34 [==============================] - ETA: 0s - loss: 0.1182 - categorical_accuracy: 0.9623\n",
      "Epoch 00017: val_loss did not improve from 0.27111\n",
      "\n",
      "Epoch 00017: ReduceLROnPlateau reducing learning rate to 1.0000000474974514e-05.\n",
      "34/34 [==============================] - 105s 3s/step - loss: 0.1182 - categorical_accuracy: 0.9623 - val_loss: 0.2956 - val_categorical_accuracy: 0.8900 - lr: 1.0000e-04\n",
      "Epoch 18/20\n",
      "34/34 [==============================] - ETA: 0s - loss: 0.1130 - categorical_accuracy: 0.9608\n",
      "Epoch 00018: val_loss did not improve from 0.27111\n",
      "34/34 [==============================] - 105s 3s/step - loss: 0.1130 - categorical_accuracy: 0.9608 - val_loss: 0.2781 - val_categorical_accuracy: 0.8900 - lr: 1.0000e-05\n",
      "Epoch 19/20\n",
      "34/34 [==============================] - ETA: 0s - loss: 0.1070 - categorical_accuracy: 0.9593\n",
      "Epoch 00019: val_loss did not improve from 0.27111\n",
      "\n",
      "Epoch 00019: ReduceLROnPlateau reducing learning rate to 1.0000000656873453e-06.\n",
      "34/34 [==============================] - 104s 3s/step - loss: 0.1070 - categorical_accuracy: 0.9593 - val_loss: 0.3513 - val_categorical_accuracy: 0.8200 - lr: 1.0000e-05\n",
      "Epoch 20/20\n",
      "34/34 [==============================] - ETA: 0s - loss: 0.1096 - categorical_accuracy: 0.9653\n",
      "Epoch 00020: val_loss did not improve from 0.27111\n",
      "34/34 [==============================] - 104s 3s/step - loss: 0.1096 - categorical_accuracy: 0.9653 - val_loss: 0.3222 - val_categorical_accuracy: 0.8600 - lr: 1.0000e-06\n"
     ]
    }
   ],
   "source": [
    "#fit_generator is deprecated.. using model.fit with generator objects...\n",
    "\n",
    "history_03 = model_03.fit(x=training_data_gen, steps_per_epoch=steps_per_epoch, epochs=num_epochs, verbose=1,\n",
    "                       callbacks=callbacks_list, validation_data=validation_data_gen,\n",
    "                       validation_steps=validation_steps)"
   ]
  },
  {
   "cell_type": "code",
   "execution_count": 66,
   "id": "182f41f0",
   "metadata": {},
   "outputs": [
    {
     "data": {
      "image/png": "[encoded data removed]",
      "text/plain": [
       "<Figure size 576x576 with 2 Axes>"
      ]
     },
     "metadata": {
      "needs_background": "light"
     },
     "output_type": "display_data"
    }
   ],
   "source": [
    "visualize_outputs(history_03, epoch=num_epochs)"
   ]
  },
  {
   "cell_type": "code",
   "execution_count": null,
   "id": "397408c4",
   "metadata": {},
   "outputs": [],
   "source": []
  },
  {
   "cell_type": "markdown",
   "id": "9e2433f1",
   "metadata": {},
   "source": [
    "### Model-04\n",
    "\n",
    "- Experimenting the same model with a reduced image size to 100x100"
   ]
  },
  {
   "cell_type": "code",
   "execution_count": 67,
   "id": "58bebd6f",
   "metadata": {},
   "outputs": [],
   "source": [
    "height = 100 # image width\n",
    "width = 100 # image height\n",
    "\n",
    "batch_size = 20 #experiment with the batch size\n",
    "\n",
    "num_epochs = 20\n",
    "LrPlateau_patience = 2\n",
    "LrPlateau_mode = 'auto'\n",
    "LrPlateau_factor = 0.1\n",
    "LrPlateau_fmin_lr = 0.0001\n"
   ]
  },
  {
   "cell_type": "code",
   "execution_count": 68,
   "id": "574be0f4",
   "metadata": {},
   "outputs": [
    {
     "name": "stdout",
     "output_type": "stream",
     "text": [
      "WARNING:tensorflow:`period` argument is deprecated. Please use `save_freq` to specify the frequency in number of batches seen.\n"
     ]
    }
   ],
   "source": [
    "curr_dt_time = datetime.datetime.now()\n",
    "LR = ReduceLROnPlateau(monitor='val_loss',\n",
    "                       factor=LrPlateau_factor,\n",
    "                       patience=LrPlateau_patience,\n",
    "                       fmin_lr=LrPlateau_fmin_lr, verbose=1)\n",
    "\n",
    "callbacks_list = [model_callbacks(curr_dt_time, MODEL_SAVE_DIR), LR]\n",
    "steps_per_epoch, validation_steps = get_steps_info(len(train_doc), len(val_doc), batch_size)"
   ]
  },
  {
   "cell_type": "code",
   "execution_count": 69,
   "id": "ca4c5664",
   "metadata": {},
   "outputs": [
    {
     "name": "stdout",
     "output_type": "stream",
     "text": [
      "Epochs 20\n",
      "steps_per_epoch 34\n",
      "validation_steps 5\n"
     ]
    }
   ],
   "source": [
    "print('Epochs', num_epochs)\n",
    "print('steps_per_epoch', steps_per_epoch)\n",
    "print('validation_steps', validation_steps)"
   ]
  },
  {
   "cell_type": "code",
   "execution_count": 70,
   "id": "c3fc8f30",
   "metadata": {},
   "outputs": [
    {
     "name": "stdout",
     "output_type": "stream",
     "text": [
      "Model: \"sequential_7\"\n",
      "_________________________________________________________________\n",
      " Layer (type)                Output Shape              Param #   \n",
      "=================================================================\n",
      " conv3d_16 (Conv3D)          (None, 20, 100, 100, 32)  2624      \n",
      "                                                                 \n",
      " activation_24 (Activation)  (None, 20, 100, 100, 32)  0         \n",
      "                                                                 \n",
      " max_pooling3d_16 (MaxPoolin  (None, 10, 50, 50, 32)   0         \n",
      " g3D)                                                            \n",
      "                                                                 \n",
      " conv3d_17 (Conv3D)          (None, 10, 50, 50, 64)    55360     \n",
      "                                                                 \n",
      " activation_25 (Activation)  (None, 10, 50, 50, 64)    0         \n",
      "                                                                 \n",
      " max_pooling3d_17 (MaxPoolin  (None, 5, 25, 25, 64)    0         \n",
      " g3D)                                                            \n",
      "                                                                 \n",
      " conv3d_18 (Conv3D)          (None, 5, 25, 25, 64)     110656    \n",
      "                                                                 \n",
      " activation_26 (Activation)  (None, 5, 25, 25, 64)     0         \n",
      "                                                                 \n",
      " max_pooling3d_18 (MaxPoolin  (None, 3, 13, 13, 64)    0         \n",
      " g3D)                                                            \n",
      "                                                                 \n",
      " conv3d_19 (Conv3D)          (None, 3, 13, 13, 128)    221312    \n",
      "                                                                 \n",
      " activation_27 (Activation)  (None, 3, 13, 13, 128)    0         \n",
      "                                                                 \n",
      " max_pooling3d_19 (MaxPoolin  (None, 1, 5, 5, 128)     0         \n",
      " g3D)                                                            \n",
      "                                                                 \n",
      " conv3d_20 (Conv3D)          (None, 1, 5, 5, 128)      442496    \n",
      "                                                                 \n",
      " activation_28 (Activation)  (None, 1, 5, 5, 128)      0         \n",
      "                                                                 \n",
      " max_pooling3d_20 (MaxPoolin  (None, 1, 3, 3, 128)     0         \n",
      " g3D)                                                            \n",
      "                                                                 \n",
      " flatten_4 (Flatten)         (None, 1152)              0         \n",
      "                                                                 \n",
      " dense_10 (Dense)            (None, 256)               295168    \n",
      "                                                                 \n",
      " dense_11 (Dense)            (None, 128)               32896     \n",
      "                                                                 \n",
      " dense_12 (Dense)            (None, 64)                8256      \n",
      "                                                                 \n",
      " activation_29 (Activation)  (None, 64)                0         \n",
      "                                                                 \n",
      " dropout_4 (Dropout)         (None, 64)                0         \n",
      "                                                                 \n",
      " dense_13 (Dense)            (None, 5)                 325       \n",
      "                                                                 \n",
      " activation_30 (Activation)  (None, 5)                 0         \n",
      "                                                                 \n",
      "=================================================================\n",
      "Total params: 1,169,093\n",
      "Trainable params: 1,169,093\n",
      "Non-trainable params: 0\n",
      "_________________________________________________________________\n"
     ]
    }
   ],
   "source": [
    "model_04 = prepare_conv3d_model_03()\n",
    "optimizer = optimizers.adam_v2.Adam()\n",
    "model_04.compile(optimizer, loss='categorical_crossentropy', metrics=['categorical_accuracy'])\n",
    "model_04.summary()"
   ]
  },
  {
   "cell_type": "code",
   "execution_count": 71,
   "id": "b9415cc7",
   "metadata": {},
   "outputs": [],
   "source": [
    "training_data_gen = gesture_generator(TRAIN_DIR, train_doc, batch_size, img_idx, height, width)\n",
    "validation_data_gen = gesture_generator(VAL_DIR, val_doc, batch_size, img_idx, height, width)"
   ]
  },
  {
   "cell_type": "code",
   "execution_count": 72,
   "id": "03278654",
   "metadata": {},
   "outputs": [
    {
     "name": "stdout",
     "output_type": "stream",
     "text": [
      "Epoch 1/20\n",
      "34/34 [==============================] - ETA: 0s - loss: 1.6784 - categorical_accuracy: 0.1961\n",
      "Epoch 00001: val_loss improved from inf to 1.61099, saving model to MODELS/model_init_2023-10-0118_25_29.766805/model-00001-1.67844-0.19608-1.61099-0.16000.h5\n",
      "34/34 [==============================] - 104s 3s/step - loss: 1.6784 - categorical_accuracy: 0.1961 - val_loss: 1.6110 - val_categorical_accuracy: 0.1600 - lr: 0.0010\n",
      "Epoch 2/20\n",
      "34/34 [==============================] - ETA: 0s - loss: 1.6110 - categorical_accuracy: 0.1719\n",
      "Epoch 00002: val_loss improved from 1.61099 to 1.60968, saving model to MODELS/model_init_2023-10-0118_25_29.766805/model-00002-1.61099-0.17195-1.60968-0.20000.h5\n",
      "34/34 [==============================] - 103s 3s/step - loss: 1.6110 - categorical_accuracy: 0.1719 - val_loss: 1.6097 - val_categorical_accuracy: 0.2000 - lr: 0.0010\n",
      "Epoch 3/20\n",
      "34/34 [==============================] - ETA: 0s - loss: 1.6061 - categorical_accuracy: 0.1976\n",
      "Epoch 00003: val_loss improved from 1.60968 to 1.50367, saving model to MODELS/model_init_2023-10-0118_25_29.766805/model-00003-1.60612-0.19759-1.50367-0.34000.h5\n",
      "34/34 [==============================] - 103s 3s/step - loss: 1.6061 - categorical_accuracy: 0.1976 - val_loss: 1.5037 - val_categorical_accuracy: 0.3400 - lr: 0.0010\n",
      "Epoch 4/20\n",
      "34/34 [==============================] - ETA: 0s - loss: 1.5883 - categorical_accuracy: 0.2247\n",
      "Epoch 00004: val_loss did not improve from 1.50367\n",
      "34/34 [==============================] - 102s 3s/step - loss: 1.5883 - categorical_accuracy: 0.2247 - val_loss: 1.6122 - val_categorical_accuracy: 0.1800 - lr: 0.0010\n",
      "Epoch 5/20\n",
      "34/34 [==============================] - ETA: 0s - loss: 1.6113 - categorical_accuracy: 0.1946\n",
      "Epoch 00005: val_loss did not improve from 1.50367\n",
      "\n",
      "Epoch 00005: ReduceLROnPlateau reducing learning rate to 0.00010000000474974513.\n",
      "34/34 [==============================] - 103s 3s/step - loss: 1.6113 - categorical_accuracy: 0.1946 - val_loss: 1.6095 - val_categorical_accuracy: 0.1800 - lr: 0.0010\n",
      "Epoch 6/20\n",
      "34/34 [==============================] - ETA: 0s - loss: 1.6094 - categorical_accuracy: 0.1946\n",
      "Epoch 00006: val_loss did not improve from 1.50367\n",
      "34/34 [==============================] - 102s 3s/step - loss: 1.6094 - categorical_accuracy: 0.1946 - val_loss: 1.6090 - val_categorical_accuracy: 0.2100 - lr: 1.0000e-04\n",
      "Epoch 7/20\n",
      "34/34 [==============================] - ETA: 0s - loss: 1.6091 - categorical_accuracy: 0.2097\n",
      "Epoch 00007: val_loss did not improve from 1.50367\n",
      "\n",
      "Epoch 00007: ReduceLROnPlateau reducing learning rate to 1.0000000474974514e-05.\n",
      "34/34 [==============================] - 102s 3s/step - loss: 1.6091 - categorical_accuracy: 0.2097 - val_loss: 1.6088 - val_categorical_accuracy: 0.1700 - lr: 1.0000e-04\n",
      "Epoch 8/20\n",
      "34/34 [==============================] - ETA: 0s - loss: 1.6088 - categorical_accuracy: 0.2157\n",
      "Epoch 00011: val_loss did not improve from 1.50367\n",
      "\n",
      "Epoch 00011: ReduceLROnPlateau reducing learning rate to 1.0000001111620805e-07.\n",
      "34/34 [==============================] - 102s 3s/step - loss: 1.6088 - categorical_accuracy: 0.2157 - val_loss: 1.6088 - val_categorical_accuracy: 0.1800 - lr: 1.0000e-06\n",
      "Epoch 12/20\n",
      "34/34 [==============================] - ETA: 0s - loss: 1.6090 - categorical_accuracy: 0.2097\n",
      "Epoch 00012: val_loss did not improve from 1.50367\n",
      "34/34 [==============================] - 104s 3s/step - loss: 1.6090 - categorical_accuracy: 0.2097 - val_loss: 1.6089 - val_categorical_accuracy: 0.1800 - lr: 1.0000e-07\n",
      "Epoch 13/20\n",
      "34/34 [==============================] - ETA: 0s - loss: 1.6097 - categorical_accuracy: 0.1931\n",
      "Epoch 00013: val_loss did not improve from 1.50367\n",
      "\n",
      "Epoch 00013: ReduceLROnPlateau reducing learning rate to 1.000000082740371e-08.\n",
      "34/34 [==============================] - 103s 3s/step - loss: 1.6097 - categorical_accuracy: 0.1931 - val_loss: 1.6089 - val_categorical_accuracy: 0.2000 - lr: 1.0000e-07\n",
      "Epoch 14/20\n",
      "34/34 [==============================] - ETA: 0s - loss: 1.6092 - categorical_accuracy: 0.2112\n",
      "Epoch 00014: val_loss did not improve from 1.50367\n",
      "34/34 [==============================] - 103s 3s/step - loss: 1.6092 - categorical_accuracy: 0.2112 - val_loss: 1.6093 - val_categorical_accuracy: 0.1700 - lr: 1.0000e-08\n",
      "Epoch 15/20\n",
      "34/34 [==============================] - ETA: 0s - loss: 1.6093 - categorical_accuracy: 0.2006\n",
      "Epoch 00015: val_loss did not improve from 1.50367\n",
      "\n",
      "Epoch 00015: ReduceLROnPlateau reducing learning rate to 1.000000082740371e-09.\n",
      "34/34 [==============================] - 103s 3s/step - loss: 1.6093 - categorical_accuracy: 0.2006 - val_loss: 1.6082 - val_categorical_accuracy: 0.2100 - lr: 1.0000e-08\n",
      "Epoch 16/20\n",
      "34/34 [==============================] - ETA: 0s - loss: 1.6083 - categorical_accuracy: 0.2157\n",
      "Epoch 00016: val_loss did not improve from 1.50367\n",
      "34/34 [==============================] - 102s 3s/step - loss: 1.6083 - categorical_accuracy: 0.2157 - val_loss: 1.6088 - val_categorical_accuracy: 0.1800 - lr: 1.0000e-09\n",
      "Epoch 17/20\n",
      "34/34 [==============================] - ETA: 0s - loss: 1.6091 - categorical_accuracy: 0.2006\n",
      "Epoch 00017: val_loss did not improve from 1.50367\n",
      "\n",
      "Epoch 00017: ReduceLROnPlateau reducing learning rate to 1.000000082740371e-10.\n",
      "34/34 [==============================] - 102s 3s/step - loss: 1.6091 - categorical_accuracy: 0.2006 - val_loss: 1.6088 - val_categorical_accuracy: 0.2100 - lr: 1.0000e-09\n",
      "Epoch 18/20\n",
      "34/34 [==============================] - ETA: 0s - loss: 1.6099 - categorical_accuracy: 0.1855\n",
      "Epoch 00018: val_loss did not improve from 1.50367\n",
      "34/34 [==============================] - 103s 3s/step - loss: 1.6099 - categorical_accuracy: 0.1855 - val_loss: 1.6084 - val_categorical_accuracy: 0.1200 - lr: 1.0000e-10\n",
      "Epoch 19/20\n",
      "34/34 [==============================] - ETA: 0s - loss: 1.6089 - categorical_accuracy: 0.2081\n",
      "Epoch 00019: val_loss did not improve from 1.50367\n",
      "\n",
      "Epoch 00019: ReduceLROnPlateau reducing learning rate to 1.000000082740371e-11.\n",
      "34/34 [==============================] - 103s 3s/step - loss: 1.6089 - categorical_accuracy: 0.2081 - val_loss: 1.6088 - val_categorical_accuracy: 0.1700 - lr: 1.0000e-10\n",
      "Epoch 20/20\n",
      "34/34 [==============================] - ETA: 0s - loss: 1.6096 - categorical_accuracy: 0.2172\n",
      "Epoch 00020: val_loss did not improve from 1.50367\n",
      "34/34 [==============================] - 102s 3s/step - loss: 1.6096 - categorical_accuracy: 0.2172 - val_loss: 1.6078 - val_categorical_accuracy: 0.2100 - lr: 1.0000e-11\n"
     ]
    }
   ],
   "source": [
    "#fit_generator is deprecated.. using model.fit with generator objects...\n",
    "\n",
    "history_04 = model_04.fit(x=training_data_gen, steps_per_epoch=steps_per_epoch, epochs=num_epochs, verbose=1,\n",
    "                       callbacks=callbacks_list, validation_data=validation_data_gen,\n",
    "                       validation_steps=validation_steps)"
   ]
  },
  {
   "cell_type": "code",
   "execution_count": 73,
   "id": "4e17a18f",
   "metadata": {},
   "outputs": [
    {
     "data": {
      "image/png": "[encoded data removed]",
      "text/plain": [
       "<Figure size 576x576 with 2 Axes>"
      ]
     },
     "metadata": {
      "needs_background": "light"
     },
     "output_type": "display_data"
    }
   ],
   "source": [
    "visualize_outputs(history_04, epoch=num_epochs)"
   ]
  },
  {
   "cell_type": "markdown",
   "id": "c6055465",
   "metadata": {},
   "source": [
    "#### Observations\n",
    "\n",
    "- No improvement in the accuracy levels. \n",
    "- Loss has also increased. No improvement in reducing the image size. \n",
    "- Total params: 1,169,093 Trainable params: 1,169,093"
   ]
  },
  {
   "cell_type": "markdown",
   "id": "b211f023",
   "metadata": {},
   "source": [
    "### Model-05\n",
    "- The problem is to identify the gesture and has no relation with the colors of the image. Hence, trying out to grayscale the image so as to reduce the layers and parameters. "
   ]
  },
  {
   "cell_type": "markdown",
   "id": "23c01131",
   "metadata": {},
   "source": [
    "import cv2\n",
    "\n",
    "def process_batch_grayscale(source_path, folders_list, batch, batch_size, img_idx, height=120, width=120):\n",
    "    print(img_idx)\n",
    "    num_images = len(img_idx)\n",
    "    batch_data   = np.zeros((batch_size, num_images, height, width, 1)) # 3 is the number of channels RGB\n",
    "    batch_labels = np.zeros((batch_size, 5)) # batch_labels is the one hot representation of the output\n",
    "\n",
    "    for folder in range(batch_size): # iterate over the batch_size\n",
    "        imgs = os.listdir(source_path+'/'+ folders_list[folder + (batch*batch_size)].split(';')[0]) # read all the images in the folder\n",
    "        for idx,item in enumerate(img_idx): #  Iterate over the frames/images of a folder to read them in\n",
    "            image = imread(source_path+'/'+ folders_list[folder + (batch*batch_size)].strip().split(';')[0]+'/'+imgs[item]).astype(np.float32)\n",
    "\n",
    "            #crop the images and resize them. Note that the images are of 2 different shape\n",
    "            #and the conv3D will throw error if the inputs in a batch have different shapes\n",
    "            h, w, c = image.shape\n",
    "            if w == 160:\n",
    "                image = image[: 20:140, :] #Crop Horizontal edges to make it a square image\n",
    "            image = resize(image, (height, width), anti_aliasing=True)\n",
    "            \n",
    "            batch_data[folder,idx,:,:,0] = cv2.cvtColor(image, cv2.COLOR_BGR2GRAY)\n",
    "\n",
    "            #batch_data[folder,idx,:,:,0] = (image[...,0])/255 #normalise and feed in the image\n",
    "            #batch_data[folder,idx,:,:,1] = (image[...,1])/255 #normalise and feed in the image\n",
    "            #batch_data[folder,idx,:,:,2] = (image[...,2])/255 #normalise and feed in the image\n",
    "\n",
    "        batch_labels[folder, int(folders_list[folder + (batch*batch_size)].strip().split(';')[2])] = 1\n",
    "\n",
    "    yield batch_data, batch_labels #you yield the batch_data and the batch_labels, remember what does yield do\n",
    "\n",
    "\n",
    "def gesture_generator_grayscale(source_path, folder_list, batch_size, img_idx, height=120, width=120):\n",
    "    #total_frames = 30\n",
    "    #num_images = len(img_idx)\n",
    "    print(type(img_idx), img_idx)\n",
    "    while True:\n",
    "        number_of_batches = len(folder_list)//batch_size # calculate the number of batches\n",
    "        randomized_folders_list = np.random.permutation(folder_list)\n",
    "\n",
    "        for batch in range(number_of_batches): # we iterate over the number of batches\n",
    "            for batch_data, batch_labels in process_batch(source_path, randomized_folders_list, batch, batch_size, img_idx, height, width):\n",
    "                yield batch_data, batch_labels\n",
    "\n",
    "            # Remaining (would be < than the batch size) = total - (number_of_batches * batch_size)\n",
    "            remaining_batch_size = len(folder_list) - (number_of_batches * batch_size)\n",
    "            if (remaining_batch_size > 0):\n",
    "                for batch_data, batch_labels in process_batch(source_path, randomized_folders_list, batch, remaining_batch_size, img_idx, height, width):\n",
    "                    yield batch_data, batch_labels"
   ]
  },
  {
   "cell_type": "code",
   "execution_count": 80,
   "id": "24cf7b76",
   "metadata": {},
   "outputs": [],
   "source": [
    "def prepare_conv3d_grayscale_model_05(num_classes, color_channels = 3):\n",
    "    model = Sequential()\n",
    "    model.add(Conv3D(32, (3,3,3), padding='same', input_shape=(num_images, height, width, color_channels)))\n",
    "    model.add(Activation('relu'))\n",
    "    model.add(MaxPooling3D(pool_size=(2, 2, 2), padding='same'))\n",
    "\n",
    "    model.add(Conv3D(64, (3,3,3), padding='same'))\n",
    "    model.add(Activation('relu'))\n",
    "    model.add(MaxPooling3D(pool_size=(2, 2, 2), padding='same'))\n",
    "\n",
    "    model.add(Conv3D(64, (3,3,3), padding='same'))\n",
    "    model.add(Activation('relu'))\n",
    "    model.add(MaxPooling3D(pool_size=(2, 2, 2), padding='same'))\n",
    "\n",
    "    model.add(Conv3D(128, (3,3,3), padding='same'))\n",
    "    model.add(Activation('relu'))\n",
    "    model.add(MaxPooling3D(pool_size=(3, 3, 2), padding='same'))\n",
    "\n",
    "    model.add(Conv3D(256, (3,3,3), padding='same'))\n",
    "    model.add(Activation('relu'))\n",
    "    model.add(MaxPooling3D(pool_size=(2, 2, 2), padding='same'))\n",
    "\n",
    "    model.add(Flatten())\n",
    "    model.add(Dense(256))\n",
    "    model.add(Dense(128))\n",
    "    model.add(Dense(64))\n",
    "    model.add(Activation('relu'))\n",
    "    model.add(Dropout(0.20))\n",
    "\n",
    "    model.add(Dense(num_classes))\n",
    "    model.add(Activation('softmax'))\n",
    "    return model"
   ]
  },
  {
   "cell_type": "code",
   "execution_count": 81,
   "id": "10521c01",
   "metadata": {},
   "outputs": [],
   "source": [
    "height = 120 # image width\n",
    "width = 120 # image height\n",
    "\n",
    "batch_size = 30 #experiment with the batch size\n",
    "\n",
    "num_epochs = 20\n",
    "LrPlateau_patience = 2\n",
    "LrPlateau_mode = 'auto'\n",
    "LrPlateau_factor = 0.2\n",
    "LrPlateau_fmin_lr = 0.0001\n"
   ]
  },
  {
   "cell_type": "code",
   "execution_count": 82,
   "id": "cc43e1ab",
   "metadata": {},
   "outputs": [
    {
     "name": "stdout",
     "output_type": "stream",
     "text": [
      "WARNING:tensorflow:`period` argument is deprecated. Please use `save_freq` to specify the frequency in number of batches seen.\n"
     ]
    }
   ],
   "source": [
    "\n",
    "curr_dt_time = datetime.datetime.now()\n",
    "LR = ReduceLROnPlateau(monitor='val_loss',\n",
    "                       factor=LrPlateau_factor,\n",
    "                       patience=LrPlateau_patience,\n",
    "                       fmin_lr=LrPlateau_fmin_lr, verbose=1)\n",
    "\n",
    "callbacks_list = [model_callbacks(curr_dt_time, MODEL_SAVE_DIR), LR]\n",
    "steps_per_epoch, validation_steps = get_steps_info(len(train_doc), len(val_doc), batch_size)\n"
   ]
  },
  {
   "cell_type": "code",
   "execution_count": 83,
   "id": "9414d4ce",
   "metadata": {},
   "outputs": [
    {
     "name": "stdout",
     "output_type": "stream",
     "text": [
      "Epochs 20\n",
      "steps_per_epoch 23\n",
      "validation_steps 4\n"
     ]
    }
   ],
   "source": [
    "print('Epochs', num_epochs)\n",
    "print('steps_per_epoch', steps_per_epoch)\n",
    "print('validation_steps', validation_steps)"
   ]
  },
  {
   "cell_type": "code",
   "execution_count": 84,
   "id": "c123052e",
   "metadata": {},
   "outputs": [
    {
     "name": "stdout",
     "output_type": "stream",
     "text": [
      "Model: \"sequential_9\"\n",
      "_________________________________________________________________\n",
      " Layer (type)                Output Shape              Param #   \n",
      "=================================================================\n",
      " conv3d_21 (Conv3D)          (None, 20, 120, 120, 32)  896       \n",
      "                                                                 \n",
      " activation_31 (Activation)  (None, 20, 120, 120, 32)  0         \n",
      "                                                                 \n",
      " max_pooling3d_21 (MaxPoolin  (None, 10, 60, 60, 32)   0         \n",
      " g3D)                                                            \n",
      "                                                                 \n",
      " conv3d_22 (Conv3D)          (None, 10, 60, 60, 64)    55360     \n",
      "                                                                 \n",
      " activation_32 (Activation)  (None, 10, 60, 60, 64)    0         \n",
      "                                                                 \n",
      " max_pooling3d_22 (MaxPoolin  (None, 5, 30, 30, 64)    0         \n",
      " g3D)                                                            \n",
      "                                                                 \n",
      " conv3d_23 (Conv3D)          (None, 5, 30, 30, 64)     110656    \n",
      "                                                                 \n",
      " activation_33 (Activation)  (None, 5, 30, 30, 64)     0         \n",
      "                                                                 \n",
      " max_pooling3d_23 (MaxPoolin  (None, 3, 15, 15, 64)    0         \n",
      " g3D)                                                            \n",
      "                                                                 \n",
      " conv3d_24 (Conv3D)          (None, 3, 15, 15, 128)    221312    \n",
      "                                                                 \n",
      " activation_34 (Activation)  (None, 3, 15, 15, 128)    0         \n",
      "                                                                 \n",
      " max_pooling3d_24 (MaxPoolin  (None, 1, 5, 8, 128)     0         \n",
      " g3D)                                                            \n",
      "                                                                 \n",
      " conv3d_25 (Conv3D)          (None, 1, 5, 8, 256)      884992    \n",
      "                                                                 \n",
      " activation_35 (Activation)  (None, 1, 5, 8, 256)      0         \n",
      "                                                                 \n",
      " max_pooling3d_25 (MaxPoolin  (None, 1, 3, 4, 256)     0         \n",
      " g3D)                                                            \n",
      "                                                                 \n",
      " flatten_5 (Flatten)         (None, 3072)              0         \n",
      "                                                                 \n",
      " dense_14 (Dense)            (None, 256)               786688    \n",
      "                                                                 \n",
      " dense_15 (Dense)            (None, 128)               32896     \n",
      "                                                                 \n",
      " dense_16 (Dense)            (None, 64)                8256      \n",
      "                                                                 \n",
      " activation_36 (Activation)  (None, 64)                0         \n",
      "                                                                 \n",
      " dropout_5 (Dropout)         (None, 64)                0         \n",
      "                                                                 \n",
      " dense_17 (Dense)            (None, 5)                 325       \n",
      "                                                                 \n",
      " activation_37 (Activation)  (None, 5)                 0         \n",
      "                                                                 \n",
      "=================================================================\n",
      "Total params: 2,101,381\n",
      "Trainable params: 2,101,381\n",
      "Non-trainable params: 0\n",
      "_________________________________________________________________\n"
     ]
    }
   ],
   "source": [
    "model_05 = prepare_conv3d_grayscale_model_05(num_classes, 1)\n",
    "optimizer = optimizers.adam_v2.Adam()\n",
    "model_05.compile(optimizer, loss='categorical_crossentropy', metrics=['categorical_accuracy'])\n",
    "model_05.summary()"
   ]
  },
  {
   "cell_type": "code",
   "execution_count": 85,
   "id": "41e1b523",
   "metadata": {},
   "outputs": [],
   "source": [
    "training_data_gen = gesture_generator(TRAIN_DIR, train_doc, batch_size, img_idx, height, width, channels=1)\n",
    "validation_data_gen = gesture_generator(VAL_DIR, val_doc, batch_size, img_idx, height, width, channels=1)"
   ]
  },
  {
   "cell_type": "code",
   "execution_count": 86,
   "id": "572f93ea",
   "metadata": {},
   "outputs": [
    {
     "name": "stdout",
     "output_type": "stream",
     "text": [
      "Epoch 1/20\n",
      "23/23 [==============================] - ETA: 0s - loss: 4.0005 - categorical_accuracy: 0.1991\n",
      "Epoch 00001: val_loss improved from inf to 1.59697, saving model to MODELS/model_init_2023-10-0119_06_19.253625/model-00001-4.00055-0.19910-1.59697-0.21000.h5\n",
      "23/23 [==============================] - 99s 4s/step - loss: 4.0005 - categorical_accuracy: 0.1991 - val_loss: 1.5970 - val_categorical_accuracy: 0.2100 - lr: 0.0010\n",
      "Epoch 2/20\n",
      "23/23 [==============================] - ETA: 0s - loss: 1.5847 - categorical_accuracy: 0.2519\n",
      "Epoch 00002: val_loss improved from 1.59697 to 1.49737, saving model to MODELS/model_init_2023-10-0119_06_19.253625/model-00002-1.58466-0.25189-1.49737-0.26000.h5\n",
      "23/23 [==============================] - 98s 4s/step - loss: 1.5847 - categorical_accuracy: 0.2519 - val_loss: 1.4974 - val_categorical_accuracy: 0.2600 - lr: 0.0010\n",
      "Epoch 3/20\n",
      "23/23 [==============================] - ETA: 0s - loss: 1.4983 - categorical_accuracy: 0.2926\n",
      "Epoch 00003: val_loss improved from 1.49737 to 1.28720, saving model to MODELS/model_init_2023-10-0119_06_19.253625/model-00003-1.49835-0.29261-1.28720-0.44000.h5\n",
      "23/23 [==============================] - 97s 4s/step - loss: 1.4983 - categorical_accuracy: 0.2926 - val_loss: 1.2872 - val_categorical_accuracy: 0.4400 - lr: 0.0010\n",
      "Epoch 4/20\n",
      "23/23 [==============================] - ETA: 0s - loss: 1.3058 - categorical_accuracy: 0.4193\n",
      "Epoch 00004: val_loss did not improve from 1.28720\n",
      "23/23 [==============================] - 95s 4s/step - loss: 1.3058 - categorical_accuracy: 0.4193 - val_loss: 1.7358 - val_categorical_accuracy: 0.3000 - lr: 0.0010\n",
      "Epoch 5/20\n",
      "23/23 [==============================] - ETA: 0s - loss: 1.3237 - categorical_accuracy: 0.4208\n",
      "Epoch 00005: val_loss improved from 1.28720 to 1.06863, saving model to MODELS/model_init_2023-10-0119_06_19.253625/model-00005-1.32366-0.42081-1.06863-0.51000.h5\n",
      "23/23 [==============================] - 99s 4s/step - loss: 1.3237 - categorical_accuracy: 0.4208 - val_loss: 1.0686 - val_categorical_accuracy: 0.5100 - lr: 0.0010\n",
      "Epoch 6/20\n",
      "23/23 [==============================] - ETA: 0s - loss: 1.1834 - categorical_accuracy: 0.4977\n",
      "Epoch 00006: val_loss did not improve from 1.06863\n",
      "23/23 [==============================] - 98s 4s/step - loss: 1.1834 - categorical_accuracy: 0.4977 - val_loss: 1.3403 - val_categorical_accuracy: 0.4500 - lr: 0.0010\n",
      "Epoch 7/20\n",
      "23/23 [==============================] - ETA: 0s - loss: 1.2270 - categorical_accuracy: 0.4465\n",
      "Epoch 00007: val_loss improved from 1.06863 to 0.91044, saving model to MODELS/model_init_2023-10-0119_06_19.253625/model-00007-1.22700-0.44646-0.91044-0.57000.h5\n",
      "23/23 [==============================] - 99s 5s/step - loss: 1.2270 - categorical_accuracy: 0.4465 - val_loss: 0.9104 - val_categorical_accuracy: 0.5700 - lr: 0.0010\n",
      "Epoch 8/20\n",
      "23/23 [==============================] - ETA: 0s - loss: 0.8503 - categorical_accuracy: 0.6350\n",
      "Epoch 00008: val_loss did not improve from 0.91044\n",
      "23/23 [==============================] - 96s 4s/step - loss: 0.8503 - categorical_accuracy: 0.6350 - val_loss: 1.0625 - val_categorical_accuracy: 0.6100 - lr: 0.0010\n",
      "Epoch 9/20\n",
      "23/23 [==============================] - ETA: 0s - loss: 0.7992 - categorical_accuracy: 0.6712\n",
      "Epoch 00009: val_loss improved from 0.91044 to 0.67123, saving model to MODELS/model_init_2023-10-0119_06_19.253625/model-00009-0.79920-0.67119-0.67123-0.77000.h5\n",
      "23/23 [==============================] - 98s 4s/step - loss: 0.7992 - categorical_accuracy: 0.6712 - val_loss: 0.6712 - val_categorical_accuracy: 0.7700 - lr: 0.0010\n",
      "Epoch 10/20\n",
      "23/23 [==============================] - ETA: 0s - loss: 0.6437 - categorical_accuracy: 0.7421\n",
      "Epoch 00010: val_loss did not improve from 0.67123\n",
      "23/23 [==============================] - 97s 4s/step - loss: 0.6437 - categorical_accuracy: 0.7421 - val_loss: 0.6829 - val_categorical_accuracy: 0.7500 - lr: 0.0010\n",
      "Epoch 11/20\n",
      "23/23 [==============================] - ETA: 0s - loss: 0.4492 - categorical_accuracy: 0.8205\n",
      "Epoch 00011: val_loss did not improve from 0.67123\n",
      "\n",
      "Epoch 00011: ReduceLROnPlateau reducing learning rate to 0.00020000000949949026.\n",
      "23/23 [==============================] - 99s 5s/step - loss: 0.4492 - categorical_accuracy: 0.8205 - val_loss: 1.4311 - val_categorical_accuracy: 0.5600 - lr: 0.0010\n",
      "Epoch 12/20\n",
      "23/23 [==============================] - ETA: 0s - loss: 0.4240 - categorical_accuracy: 0.8492\n",
      "Epoch 00012: val_loss improved from 0.67123 to 0.51392, saving model to MODELS/model_init_2023-10-0119_06_19.253625/model-00012-0.42397-0.84917-0.51392-0.78000.h5\n",
      "23/23 [==============================] - 96s 4s/step - loss: 0.4240 - categorical_accuracy: 0.8492 - val_loss: 0.5139 - val_categorical_accuracy: 0.7800 - lr: 2.0000e-04\n",
      "Epoch 13/20\n",
      "23/23 [==============================] - ETA: 0s - loss: 0.2751 - categorical_accuracy: 0.9035\n",
      "Epoch 00013: val_loss improved from 0.51392 to 0.46952, saving model to MODELS/model_init_2023-10-0119_06_19.253625/model-00013-0.27510-0.90347-0.46952-0.82000.h5\n",
      "23/23 [==============================] - 99s 4s/step - loss: 0.2751 - categorical_accuracy: 0.9035 - val_loss: 0.4695 - val_categorical_accuracy: 0.8200 - lr: 2.0000e-04\n",
      "Epoch 14/20\n",
      "23/23 [==============================] - ETA: 0s - loss: 0.2116 - categorical_accuracy: 0.9201\n",
      "Epoch 00014: val_loss improved from 0.46952 to 0.43782, saving model to MODELS/model_init_2023-10-0119_06_19.253625/model-00014-0.21157-0.92006-0.43782-0.83000.h5\n",
      "23/23 [==============================] - 98s 4s/step - loss: 0.2116 - categorical_accuracy: 0.9201 - val_loss: 0.4378 - val_categorical_accuracy: 0.8300 - lr: 2.0000e-04\n",
      "Epoch 15/20\n",
      "23/23 [==============================] - ETA: 0s - loss: 0.1765 - categorical_accuracy: 0.9336\n",
      "Epoch 00015: val_loss improved from 0.43782 to 0.42625, saving model to MODELS/model_init_2023-10-0119_06_19.253625/model-00015-0.17646-0.93363-0.42625-0.86000.h5\n",
      "23/23 [==============================] - 98s 4s/step - loss: 0.1765 - categorical_accuracy: 0.9336 - val_loss: 0.4263 - val_categorical_accuracy: 0.8600 - lr: 2.0000e-04\n",
      "Epoch 16/20\n",
      "23/23 [==============================] - ETA: 0s - loss: 0.1446 - categorical_accuracy: 0.9487\n",
      "Epoch 00016: val_loss did not improve from 0.42625\n",
      "23/23 [==============================] - 96s 4s/step - loss: 0.1446 - categorical_accuracy: 0.9487 - val_loss: 0.5388 - val_categorical_accuracy: 0.8300 - lr: 2.0000e-04\n",
      "Epoch 17/20\n",
      "23/23 [==============================] - ETA: 0s - loss: 0.1266 - categorical_accuracy: 0.9563\n",
      "Epoch 00017: val_loss did not improve from 0.42625\n",
      "\n",
      "Epoch 00017: ReduceLROnPlateau reducing learning rate to 4.0000001899898055e-05.\n",
      "23/23 [==============================] - 98s 4s/step - loss: 0.1266 - categorical_accuracy: 0.9563 - val_loss: 0.4597 - val_categorical_accuracy: 0.8800 - lr: 2.0000e-04\n",
      "Epoch 18/20\n",
      "23/23 [==============================] - ETA: 0s - loss: 0.0916 - categorical_accuracy: 0.9744\n",
      "Epoch 00018: val_loss did not improve from 0.42625\n",
      "23/23 [==============================] - 99s 4s/step - loss: 0.0916 - categorical_accuracy: 0.9744 - val_loss: 0.6948 - val_categorical_accuracy: 0.8200 - lr: 4.0000e-05\n",
      "Epoch 19/20\n",
      "23/23 [==============================] - ETA: 0s - loss: 0.0828 - categorical_accuracy: 0.9774\n",
      "Epoch 00019: val_loss did not improve from 0.42625\n",
      "\n",
      "Epoch 00019: ReduceLROnPlateau reducing learning rate to 8.000000525498762e-06.\n",
      "23/23 [==============================] - 98s 4s/step - loss: 0.0828 - categorical_accuracy: 0.9774 - val_loss: 0.4412 - val_categorical_accuracy: 0.8500 - lr: 4.0000e-05\n",
      "Epoch 20/20\n",
      "23/23 [==============================] - ETA: 0s - loss: 0.0783 - categorical_accuracy: 0.9789\n",
      "Epoch 00020: val_loss did not improve from 0.42625\n",
      "23/23 [==============================] - 96s 4s/step - loss: 0.0783 - categorical_accuracy: 0.9789 - val_loss: 0.6138 - val_categorical_accuracy: 0.8300 - lr: 8.0000e-06\n"
     ]
    }
   ],
   "source": [
    "#fit_generator is deprecated.. using model.fit with generator objects...\n",
    "history_05 = model_05.fit(x=training_data_gen, steps_per_epoch=steps_per_epoch, epochs=num_epochs, verbose=1,\n",
    "                       callbacks=callbacks_list, validation_data=validation_data_gen,\n",
    "                       validation_steps=validation_steps)"
   ]
  },
  {
   "cell_type": "code",
   "execution_count": 87,
   "id": "249a4126",
   "metadata": {},
   "outputs": [
    {
     "data": {
      "image/png": "[encoded data removed]",
      "text/plain": [
       "<Figure size 576x576 with 2 Axes>"
      ]
     },
     "metadata": {
      "needs_background": "light"
     },
     "output_type": "display_data"
    }
   ],
   "source": [
    "visualize_outputs(history_05, epoch=num_epochs)"
   ]
  },
  {
   "cell_type": "code",
   "execution_count": null,
   "id": "c30cbe23",
   "metadata": {},
   "outputs": [],
   "source": []
  },
  {
   "cell_type": "code",
   "execution_count": null,
   "id": "0ec3aca5",
   "metadata": {},
   "outputs": [],
   "source": []
  },
  {
   "cell_type": "markdown",
   "id": "5e6a6749",
   "metadata": {},
   "source": [
    "### MODEL 6\n",
    "- With Reduced Batch Size"
   ]
  },
  {
   "cell_type": "code",
   "execution_count": null,
   "id": "bbc9572f",
   "metadata": {},
   "outputs": [],
   "source": [
    "height = 120 # image width\n",
    "width = 120 # image height\n",
    "\n",
    "batch_size = 10 #experiment with the batch size\n",
    "img_idx = np.arange(5, 26, 2) #create a list of image numbers you want to use for a particular video\n",
    "num_epochs = 20\n",
    "LrPlateau_patience = 2\n",
    "LrPlateau_mode = 'auto'\n",
    "LrPlateau_factor = 0.2\n",
    "LrPlateau_fmin_lr = 0.1\n"
   ]
  },
  {
   "cell_type": "code",
   "execution_count": null,
   "id": "5b00c1c1",
   "metadata": {},
   "outputs": [],
   "source": [
    "\n",
    "curr_dt_time = datetime.datetime.now()\n",
    "LR = ReduceLROnPlateau(monitor='val_loss',\n",
    "                       factor=LrPlateau_factor,\n",
    "                       patience=LrPlateau_patience,\n",
    "                       fmin_lr=LrPlateau_fmin_lr, verbose=1)\n",
    "\n",
    "callbacks_list = [model_callbacks(curr_dt_time, MODEL_SAVE_DIR), LR]\n",
    "steps_per_epoch, validation_steps = get_steps_info(len(train_doc), len(val_doc), batch_size)\n"
   ]
  },
  {
   "cell_type": "code",
   "execution_count": null,
   "id": "a3aff556",
   "metadata": {},
   "outputs": [],
   "source": [
    "print('Epochs', num_epochs)\n",
    "print('steps_per_epoch', steps_per_epoch)\n",
    "print('validation_steps', validation_steps)"
   ]
  },
  {
   "cell_type": "code",
   "execution_count": null,
   "id": "519656c6",
   "metadata": {},
   "outputs": [],
   "source": [
    "training_data_gen = gesture_generator_grayscale(TRAIN_DIR, train_doc, batch_size, img_idx, height, width)\n",
    "validation_data_gen = gesture_generator_grayscale(VAL_DIR, val_doc, batch_size, img_idx, height, width)"
   ]
  },
  {
   "cell_type": "code",
   "execution_count": null,
   "id": "a765a94d",
   "metadata": {},
   "outputs": [],
   "source": [
    "model_06 = prepare_conv3d_grayscale_model_05(num_classes)\n",
    "optimizer = optimizers.adam_v2.Adam()\n",
    "model_06.compile(optimizer, loss='categorical_crossentropy', metrics=['categorical_accuracy'])\n",
    "model_06.summary()"
   ]
  },
  {
   "cell_type": "code",
   "execution_count": null,
   "id": "287d387a",
   "metadata": {},
   "outputs": [],
   "source": [
    "#fit_generator is deprecated.. using model.fit with generator objects...\n",
    "history_06 = model_06.fit(x=training_data_gen, steps_per_epoch=steps_per_epoch, epochs=num_epochs, verbose=1,\n",
    "                       callbacks=callbacks_list, validation_data=validation_data_gen,\n",
    "                       validation_steps=validation_steps)"
   ]
  },
  {
   "cell_type": "code",
   "execution_count": null,
   "id": "00d409f4",
   "metadata": {},
   "outputs": [],
   "source": [
    "visualize_outputs(history_06, epoch=num_epochs)"
   ]
  },
  {
   "cell_type": "code",
   "execution_count": null,
   "id": "6894c3b6",
   "metadata": {},
   "outputs": [],
   "source": []
  },
  {
   "cell_type": "code",
   "execution_count": null,
   "id": "81bbb78e",
   "metadata": {},
   "outputs": [],
   "source": [
    "#TODO::: CNN-RNN"
   ]
  },
  {
   "cell_type": "markdown",
   "id": "e3dc6ef4",
   "metadata": {},
   "source": [
    "### Model 7 - CNN-> RNN\n",
    "\n",
    "- Using Time Distributed CNN Layers, whose output is forwarded to a RNN layer (LSTM)"
   ]
  },
  {
   "cell_type": "code",
   "execution_count": 13,
   "id": "2febac0e",
   "metadata": {},
   "outputs": [],
   "source": [
    " def process_cnn_batch_data(source_path, t, batch, batch_size, num_frames, img_idx, height, width, channels=3, remaining_seq=0):\n",
    "    seq_len = remaining_seq if remaining_seq else batch_size\n",
    "    batch_data = np.zeros((seq_len, num_frames, height, width, channels))\n",
    "    batch_labels = np.zeros((seq_len, num_classes))\n",
    "\n",
    "    for folder in range(seq_len):\n",
    "        imgs = os.listdir(source_path+'/'+ t[folder + (batch*batch_size)].split(';')[0])\n",
    "        for idx,item in enumerate(img_idx):\n",
    "            image = imread(source_path+'/'+ t[folder + (batch*batch_size)].strip().split(';')[0]+'/'+imgs[item]).astype(np.float32)\n",
    "            image_resized=resize(image,(height, width, channels))\n",
    "\n",
    "            batch_data[folder,idx,:,:,0] = (image_resized[:,:,0])/255\n",
    "            batch_data[folder,idx,:,:,1] = (image_resized[:,:,1])/255\n",
    "            batch_data[folder,idx,:,:,2] = (image_resized[:,:,2])/255\n",
    "        batch_labels[folder, int(t[folder + (batch*batch_size)].strip().split(';')[2])] = 1\n",
    "    return(batch_data,batch_labels)"
   ]
  },
  {
   "cell_type": "code",
   "execution_count": 14,
   "id": "0c519073",
   "metadata": {},
   "outputs": [],
   "source": [
    "def cnn_generator(source_path, folder_list, batch_size, num_frames, img_idx, height, width, channels=1):\n",
    "    #img_idx = np.round(np.linspace(0,total_frames-1,self.frames_to_sample)).astype(int)\n",
    "\n",
    "    while True:\n",
    "        t = np.random.permutation(folder_list)\n",
    "        num_batches = len(t)//batch_size\n",
    "\n",
    "        for batch in range(num_batches):\n",
    "            batch_data, batch_labels= process_cnn_batch_data(source_path, t, batch, batch_size, num_frames, img_idx, height, width, channels)\n",
    "            yield batch_data, batch_labels\n",
    "\n",
    "        remaining_seq=len(t)%batch_size\n",
    "\n",
    "        if (remaining_seq != 0):\n",
    "            batch_data, batch_labels= process_cnn_batch_data(source_path, t, num_batches, batch_size, num_frames, img_idx, height, width, channels, remaining_seq = remaining_seq)\n",
    "            yield batch_data, batch_labels"
   ]
  },
  {
   "cell_type": "code",
   "execution_count": 51,
   "id": "e6cf8c0f",
   "metadata": {},
   "outputs": [],
   "source": [
    "def get_rnn_cnn_model(num_classes, num_frames, height, width, channels):\n",
    "\n",
    "    model = Sequential()\n",
    "\n",
    "    model.add(TimeDistributed(Conv2D(16, (3, 3) , padding='same', activation='relu'),\n",
    "                              input_shape=(num_frames, height, width, channels)))\n",
    "    model.add(TimeDistributed(BatchNormalization()))\n",
    "    model.add(TimeDistributed(MaxPooling2D((2, 2))))\n",
    "\n",
    "    model.add(TimeDistributed(Conv2D(32, (3, 3) , padding='same', activation='relu')))\n",
    "    model.add(TimeDistributed(BatchNormalization()))\n",
    "    model.add(TimeDistributed(MaxPooling2D((2, 2))))\n",
    "\n",
    "    model.add(TimeDistributed(Conv2D(64, (3, 3) , padding='same', activation='relu')))\n",
    "    model.add(TimeDistributed(BatchNormalization()))\n",
    "    model.add(TimeDistributed(MaxPooling2D((2, 2))))\n",
    "\n",
    "    model.add(TimeDistributed(Conv2D(128, (3, 3) , padding='same', activation='relu')))\n",
    "    model.add(TimeDistributed(BatchNormalization()))\n",
    "    model.add(TimeDistributed(MaxPooling2D((2, 2))))\n",
    "\n",
    "    model.add(TimeDistributed(Conv2D(256, (3, 3) , padding='same', activation='relu')))\n",
    "    model.add(TimeDistributed(BatchNormalization()))\n",
    "    model.add(TimeDistributed(MaxPooling2D((2, 2))))\n",
    "\n",
    "    model.add(TimeDistributed(Flatten()))\n",
    "\n",
    "    model.add(keras.layers.LSTM(64))\n",
    "    model.add(Dropout(0.25))\n",
    "\n",
    "    model.add(Dense(64,activation='relu'))\n",
    "    model.add(Dropout(0.25))\n",
    "\n",
    "    model.add(Dense(num_classes, activation='softmax'))\n",
    "    return model"
   ]
  },
  {
   "cell_type": "code",
   "execution_count": 52,
   "id": "6251f766",
   "metadata": {},
   "outputs": [],
   "source": [
    "height = 120 # image width\n",
    "width = 120 # image height\n",
    "\n",
    "num_images = 20\n",
    "batch_size = 30 #experiment with the batch size\n",
    "img_idx = np.round(np.linspace(0,total_frames-1,num_images)).astype(int)\n",
    "\n",
    "num_epochs = 20\n",
    "\n",
    "LrPlateau_patience = 2\n",
    "LrPlateau_mode = 'auto'\n",
    "LrPlateau_factor = 0.1\n",
    "LrPlateau_fmin_lr = 0.0001\n",
    "channels = 3"
   ]
  },
  {
   "cell_type": "code",
   "execution_count": 53,
   "id": "58daf593",
   "metadata": {},
   "outputs": [],
   "source": [
    "IMG_SHAPE = (height, width, channels)"
   ]
  },
  {
   "cell_type": "code",
   "execution_count": 54,
   "id": "d495958b",
   "metadata": {},
   "outputs": [
    {
     "name": "stdout",
     "output_type": "stream",
     "text": [
      "WARNING:tensorflow:`period` argument is deprecated. Please use `save_freq` to specify the frequency in number of batches seen.\n"
     ]
    }
   ],
   "source": [
    "curr_dt_time = datetime.datetime.now()\n",
    "LR = ReduceLROnPlateau(monitor='val_loss',\n",
    "                       factor=LrPlateau_factor,\n",
    "                       patience=LrPlateau_patience,\n",
    "                       fmin_lr=LrPlateau_fmin_lr, verbose=1)\n",
    "\n",
    "callbacks_list = [model_callbacks(curr_dt_time, MODEL_SAVE_DIR), LR]\n",
    "steps_per_epoch, validation_steps = get_steps_info(len(train_doc), len(val_doc), batch_size)"
   ]
  },
  {
   "cell_type": "code",
   "execution_count": 55,
   "id": "7af0fd3c",
   "metadata": {},
   "outputs": [
    {
     "name": "stdout",
     "output_type": "stream",
     "text": [
      "Epochs 20\n",
      "steps_per_epoch 23\n",
      "validation_steps 4\n"
     ]
    }
   ],
   "source": [
    "print('Epochs', num_epochs)\n",
    "print('steps_per_epoch', steps_per_epoch)\n",
    "print('validation_steps', validation_steps)"
   ]
  },
  {
   "cell_type": "code",
   "execution_count": 56,
   "id": "9e454deb",
   "metadata": {},
   "outputs": [],
   "source": [
    "rnn_cnn_model = get_rnn_cnn_model(num_classes, num_images, height, width, channels)"
   ]
  },
  {
   "cell_type": "code",
   "execution_count": 57,
   "id": "4d8336f3",
   "metadata": {},
   "outputs": [
    {
     "name": "stdout",
     "output_type": "stream",
     "text": [
      "Model: \"sequential_3\"\n",
      "_________________________________________________________________\n",
      " Layer (type)                Output Shape              Param #   \n",
      "=================================================================\n",
      " time_distributed_32 (TimeDi  (None, 20, 120, 120, 16)  448      \n",
      " stributed)                                                      \n",
      "                                                                 \n",
      " time_distributed_33 (TimeDi  (None, 20, 120, 120, 16)  64       \n",
      " stributed)                                                      \n",
      "                                                                 \n",
      " time_distributed_34 (TimeDi  (None, 20, 60, 60, 16)   0         \n",
      " stributed)                                                      \n",
      "                                                                 \n",
      " time_distributed_35 (TimeDi  (None, 20, 60, 60, 32)   4640      \n",
      " stributed)                                                      \n",
      "                                                                 \n",
      " time_distributed_36 (TimeDi  (None, 20, 60, 60, 32)   128       \n",
      " stributed)                                                      \n",
      "                                                                 \n",
      " time_distributed_37 (TimeDi  (None, 20, 30, 30, 32)   0         \n",
      " stributed)                                                      \n",
      "                                                                 \n",
      " time_distributed_38 (TimeDi  (None, 20, 30, 30, 64)   18496     \n",
      " stributed)                                                      \n",
      "                                                                 \n",
      " time_distributed_39 (TimeDi  (None, 20, 30, 30, 64)   256       \n",
      " stributed)                                                      \n",
      "                                                                 \n",
      " time_distributed_40 (TimeDi  (None, 20, 15, 15, 64)   0         \n",
      " stributed)                                                      \n",
      "                                                                 \n",
      " time_distributed_41 (TimeDi  (None, 20, 15, 15, 128)  73856     \n",
      " stributed)                                                      \n",
      "                                                                 \n",
      " time_distributed_42 (TimeDi  (None, 20, 15, 15, 128)  512       \n",
      " stributed)                                                      \n",
      "                                                                 \n",
      " time_distributed_43 (TimeDi  (None, 20, 7, 7, 128)    0         \n",
      " stributed)                                                      \n",
      "                                                                 \n",
      " time_distributed_44 (TimeDi  (None, 20, 7, 7, 256)    295168    \n",
      " stributed)                                                      \n",
      "                                                                 \n",
      " time_distributed_45 (TimeDi  (None, 20, 7, 7, 256)    1024      \n",
      " stributed)                                                      \n",
      "                                                                 \n",
      " time_distributed_46 (TimeDi  (None, 20, 3, 3, 256)    0         \n",
      " stributed)                                                      \n",
      "                                                                 \n",
      " time_distributed_47 (TimeDi  (None, 20, 2304)         0         \n",
      " stributed)                                                      \n",
      "                                                                 \n",
      " lstm_2 (LSTM)               (None, 64)                606464    \n",
      "                                                                 \n",
      " dropout_4 (Dropout)         (None, 64)                0         \n",
      "                                                                 \n",
      " dense_4 (Dense)             (None, 64)                4160      \n",
      "                                                                 \n",
      " dropout_5 (Dropout)         (None, 64)                0         \n",
      "                                                                 \n",
      " dense_5 (Dense)             (None, 5)                 325       \n",
      "                                                                 \n",
      "=================================================================\n",
      "Total params: 1,005,541\n",
      "Trainable params: 1,004,549\n",
      "Non-trainable params: 992\n",
      "_________________________________________________________________\n"
     ]
    }
   ],
   "source": [
    "optimizer = optimizers.adam_v2.Adam()\n",
    "\n",
    "#optimizer = optimizers.Adam()\n",
    "rnn_cnn_model.compile(optimizer, loss='categorical_crossentropy', metrics=['categorical_accuracy'])\n",
    "#rnn_cnn_model.build(input_shape=IMG_SHAPE)\n",
    "rnn_cnn_model.summary()"
   ]
  },
  {
   "cell_type": "code",
   "execution_count": 58,
   "id": "ed7b721e",
   "metadata": {},
   "outputs": [],
   "source": [
    "training_data_gen = cnn_generator(TRAIN_DIR, train_doc, batch_size, num_images, img_idx, height, width, channels=3)\n",
    "validation_data_gen = cnn_generator(VAL_DIR, val_doc, batch_size, num_images, img_idx, height, width, channels=3)"
   ]
  },
  {
   "cell_type": "code",
   "execution_count": 59,
   "id": "df60fb07",
   "metadata": {},
   "outputs": [
    {
     "name": "stdout",
     "output_type": "stream",
     "text": [
      "Epoch 1/20\n"
     ]
    },
    {
     "name": "stderr",
     "output_type": "stream",
     "text": [
      "2023-10-02 17:19:07.898683: I tensorflow/stream_executor/cuda/cuda_dnn.cc:377] Loaded cuDNN version 8302\n"
     ]
    },
    {
     "name": "stdout",
     "output_type": "stream",
     "text": [
      "23/23 [==============================] - ETA: 0s - loss: 1.5073 - categorical_accuracy: 0.3379\n",
      "Epoch 00001: val_loss improved from inf to 1.76807, saving model to MODELS/model_init_2023-10-0217_18_58.874990/model-00001-1.50730-0.33786-1.76807-0.21000.h5\n",
      "23/23 [==============================] - 113s 5s/step - loss: 1.5073 - categorical_accuracy: 0.3379 - val_loss: 1.7681 - val_categorical_accuracy: 0.2100 - lr: 0.0010\n",
      "Epoch 2/20\n",
      "23/23 [==============================] - ETA: 0s - loss: 1.2635 - categorical_accuracy: 0.4796\n",
      "Epoch 00002: val_loss improved from 1.76807 to 1.73453, saving model to MODELS/model_init_2023-10-0217_18_58.874990/model-00002-1.26351-0.47964-1.73453-0.23000.h5\n",
      "23/23 [==============================] - 109s 5s/step - loss: 1.2635 - categorical_accuracy: 0.4796 - val_loss: 1.7345 - val_categorical_accuracy: 0.2300 - lr: 0.0010\n",
      "Epoch 3/20\n",
      "23/23 [==============================] - ETA: 0s - loss: 1.0598 - categorical_accuracy: 0.6018\n",
      "Epoch 00003: val_loss did not improve from 1.73453\n",
      "23/23 [==============================] - 106s 5s/step - loss: 1.0598 - categorical_accuracy: 0.6018 - val_loss: 2.0252 - val_categorical_accuracy: 0.1500 - lr: 0.0010\n",
      "Epoch 4/20\n",
      "23/23 [==============================] - ETA: 0s - loss: 0.8962 - categorical_accuracy: 0.6772\n",
      "Epoch 00004: val_loss did not improve from 1.73453\n",
      "\n",
      "Epoch 00004: ReduceLROnPlateau reducing learning rate to 0.00010000000474974513.\n",
      "23/23 [==============================] - 106s 5s/step - loss: 0.8962 - categorical_accuracy: 0.6772 - val_loss: 1.9334 - val_categorical_accuracy: 0.2200 - lr: 0.0010\n",
      "Epoch 5/20\n",
      "23/23 [==============================] - ETA: 0s - loss: 0.7663 - categorical_accuracy: 0.7421\n",
      "Epoch 00005: val_loss did not improve from 1.73453\n",
      "23/23 [==============================] - 107s 5s/step - loss: 0.7663 - categorical_accuracy: 0.7421 - val_loss: 2.0507 - val_categorical_accuracy: 0.2200 - lr: 1.0000e-04\n",
      "Epoch 6/20\n",
      "23/23 [==============================] - ETA: 0s - loss: 0.7081 - categorical_accuracy: 0.7557\n",
      "Epoch 00006: val_loss did not improve from 1.73453\n",
      "\n",
      "Epoch 00006: ReduceLROnPlateau reducing learning rate to 1.0000000474974514e-05.\n",
      "23/23 [==============================] - 108s 5s/step - loss: 0.7081 - categorical_accuracy: 0.7557 - val_loss: 2.2519 - val_categorical_accuracy: 0.2000 - lr: 1.0000e-04\n",
      "Epoch 7/20\n",
      "23/23 [==============================] - ETA: 0s - loss: 0.6669 - categorical_accuracy: 0.7798\n",
      "Epoch 00007: val_loss did not improve from 1.73453\n",
      "23/23 [==============================] - 106s 5s/step - loss: 0.6669 - categorical_accuracy: 0.7798 - val_loss: 2.0679 - val_categorical_accuracy: 0.2900 - lr: 1.0000e-05\n",
      "Epoch 8/20\n",
      "23/23 [==============================] - ETA: 0s - loss: 0.6824 - categorical_accuracy: 0.7753\n",
      "Epoch 00008: val_loss did not improve from 1.73453\n",
      "\n",
      "Epoch 00008: ReduceLROnPlateau reducing learning rate to 1.0000000656873453e-06.\n",
      "23/23 [==============================] - 103s 5s/step - loss: 0.6824 - categorical_accuracy: 0.7753 - val_loss: 2.1660 - val_categorical_accuracy: 0.2600 - lr: 1.0000e-05\n",
      "Epoch 9/20\n",
      "23/23 [==============================] - ETA: 0s - loss: 0.6562 - categorical_accuracy: 0.7843\n",
      "Epoch 00009: val_loss did not improve from 1.73453\n",
      "23/23 [==============================] - 106s 5s/step - loss: 0.6562 - categorical_accuracy: 0.7843 - val_loss: 2.1919 - val_categorical_accuracy: 0.2600 - lr: 1.0000e-06\n",
      "Epoch 10/20\n",
      "23/23 [==============================] - ETA: 0s - loss: 0.6583 - categorical_accuracy: 0.7828\n",
      "Epoch 00010: val_loss did not improve from 1.73453\n",
      "\n",
      "Epoch 00010: ReduceLROnPlateau reducing learning rate to 1.0000001111620805e-07.\n",
      "23/23 [==============================] - 106s 5s/step - loss: 0.6583 - categorical_accuracy: 0.7828 - val_loss: 2.1734 - val_categorical_accuracy: 0.3000 - lr: 1.0000e-06\n",
      "Epoch 11/20\n",
      "23/23 [==============================] - ETA: 0s - loss: 0.6450 - categorical_accuracy: 0.7919\n",
      "Epoch 00011: val_loss did not improve from 1.73453\n",
      "23/23 [==============================] - 108s 5s/step - loss: 0.6450 - categorical_accuracy: 0.7919 - val_loss: 2.2057 - val_categorical_accuracy: 0.2700 - lr: 1.0000e-07\n",
      "Epoch 12/20\n",
      "23/23 [==============================] - ETA: 0s - loss: 0.6680 - categorical_accuracy: 0.7964\n",
      "Epoch 00012: val_loss did not improve from 1.73453\n",
      "\n",
      "Epoch 00012: ReduceLROnPlateau reducing learning rate to 1.000000082740371e-08.\n",
      "23/23 [==============================] - 103s 5s/step - loss: 0.6680 - categorical_accuracy: 0.7964 - val_loss: 2.0595 - val_categorical_accuracy: 0.2800 - lr: 1.0000e-07\n",
      "Epoch 13/20\n",
      "23/23 [==============================] - ETA: 0s - loss: 0.6604 - categorical_accuracy: 0.8024\n",
      "Epoch 00013: val_loss did not improve from 1.73453\n",
      "23/23 [==============================] - 106s 5s/step - loss: 0.6604 - categorical_accuracy: 0.8024 - val_loss: 2.0924 - val_categorical_accuracy: 0.3100 - lr: 1.0000e-08\n",
      "Epoch 14/20\n",
      "23/23 [==============================] - ETA: 0s - loss: 0.6274 - categorical_accuracy: 0.7903\n",
      "Epoch 00014: val_loss did not improve from 1.73453\n",
      "\n",
      "Epoch 00014: ReduceLROnPlateau reducing learning rate to 1.000000082740371e-09.\n",
      "23/23 [==============================] - 105s 5s/step - loss: 0.6274 - categorical_accuracy: 0.7903 - val_loss: 2.0641 - val_categorical_accuracy: 0.3200 - lr: 1.0000e-08\n",
      "Epoch 15/20\n",
      "23/23 [==============================] - ETA: 0s - loss: 0.6334 - categorical_accuracy: 0.8145\n",
      "Epoch 00015: val_loss did not improve from 1.73453\n",
      "23/23 [==============================] - 104s 5s/step - loss: 0.6334 - categorical_accuracy: 0.8145 - val_loss: 1.8445 - val_categorical_accuracy: 0.4100 - lr: 1.0000e-09\n",
      "Epoch 16/20\n",
      "23/23 [==============================] - ETA: 0s - loss: 0.6415 - categorical_accuracy: 0.7949\n",
      "Epoch 00016: val_loss did not improve from 1.73453\n",
      "\n",
      "Epoch 00016: ReduceLROnPlateau reducing learning rate to 1.000000082740371e-10.\n",
      "23/23 [==============================] - 103s 5s/step - loss: 0.6415 - categorical_accuracy: 0.7949 - val_loss: 1.8919 - val_categorical_accuracy: 0.3900 - lr: 1.0000e-09\n",
      "Epoch 17/20\n",
      "23/23 [==============================] - ETA: 0s - loss: 0.6392 - categorical_accuracy: 0.8024\n",
      "Epoch 00017: val_loss did not improve from 1.73453\n",
      "23/23 [==============================] - 105s 5s/step - loss: 0.6392 - categorical_accuracy: 0.8024 - val_loss: 1.8925 - val_categorical_accuracy: 0.3800 - lr: 1.0000e-10\n",
      "Epoch 18/20\n",
      "23/23 [==============================] - ETA: 0s - loss: 0.6619 - categorical_accuracy: 0.7813\n",
      "Epoch 00018: val_loss did not improve from 1.73453\n",
      "\n",
      "Epoch 00018: ReduceLROnPlateau reducing learning rate to 1.000000082740371e-11.\n",
      "23/23 [==============================] - 105s 5s/step - loss: 0.6619 - categorical_accuracy: 0.7813 - val_loss: 1.8540 - val_categorical_accuracy: 0.4000 - lr: 1.0000e-10\n",
      "Epoch 19/20\n",
      "23/23 [==============================] - ETA: 0s - loss: 0.6367 - categorical_accuracy: 0.8054\n",
      "Epoch 00019: val_loss did not improve from 1.73453\n",
      "23/23 [==============================] - 108s 5s/step - loss: 0.6367 - categorical_accuracy: 0.8054 - val_loss: 1.8489 - val_categorical_accuracy: 0.3700 - lr: 1.0000e-11\n",
      "Epoch 20/20\n",
      "23/23 [==============================] - ETA: 0s - loss: 0.6711 - categorical_accuracy: 0.7798\n",
      "Epoch 00020: val_loss improved from 1.73453 to 1.64715, saving model to MODELS/model_init_2023-10-0217_18_58.874990/model-00020-0.67111-0.77979-1.64715-0.41000.h5\n",
      "23/23 [==============================] - 102s 5s/step - loss: 0.6711 - categorical_accuracy: 0.7798 - val_loss: 1.6472 - val_categorical_accuracy: 0.4100 - lr: 1.0000e-11\n"
     ]
    }
   ],
   "source": [
    "#fit_generator is deprecated.. using model.fit with generator objects...\n",
    "history_07 = rnn_cnn_model.fit(x=training_data_gen, steps_per_epoch=steps_per_epoch, epochs=num_epochs, verbose=1,\n",
    "                               callbacks=callbacks_list, validation_data=validation_data_gen,\n",
    "                               validation_steps=validation_steps)"
   ]
  },
  {
   "cell_type": "code",
   "execution_count": 60,
   "id": "4bef7e4e",
   "metadata": {},
   "outputs": [
    {
     "data": {
      "image/png": "[encoded data removed]",
      "text/plain": [
       "<Figure size 576x576 with 2 Axes>"
      ]
     },
     "metadata": {
      "needs_background": "light"
     },
     "output_type": "display_data"
    }
   ],
   "source": [
    "visualize_outputs(history_07, epoch=num_epochs)"
   ]
  },
  {
   "cell_type": "code",
   "execution_count": null,
   "id": "f150d654",
   "metadata": {},
   "outputs": [],
   "source": []
  },
  {
   "cell_type": "code",
   "execution_count": null,
   "id": "3f94e008",
   "metadata": {},
   "outputs": [],
   "source": []
  },
  {
   "cell_type": "markdown",
   "id": "710803ed",
   "metadata": {},
   "source": [
    "### MODEL-8 - GRU"
   ]
  },
  {
   "cell_type": "code",
   "execution_count": 1,
   "id": "e4233444",
   "metadata": {},
   "outputs": [],
   "source": [
    "def get_rnn_cnn_model_gru(num_classes, num_frames, height, width, channels):\n",
    "\n",
    "    model = Sequential()\n",
    "\n",
    "    model.add(TimeDistributed(Conv2D(16, (3, 3) , padding='same', activation='relu'),\n",
    "                              input_shape=(num_frames, height, width, channels)))\n",
    "    model.add(TimeDistributed(BatchNormalization()))\n",
    "    model.add(TimeDistributed(MaxPooling2D((2, 2))))\n",
    "\n",
    "    model.add(TimeDistributed(Conv2D(32, (3, 3) , padding='same', activation='relu')))\n",
    "    model.add(TimeDistributed(BatchNormalization()))\n",
    "    model.add(TimeDistributed(MaxPooling2D((2, 2))))\n",
    "\n",
    "    model.add(TimeDistributed(Conv2D(64, (3, 3) , padding='same', activation='relu')))\n",
    "    model.add(TimeDistributed(BatchNormalization()))\n",
    "    model.add(TimeDistributed(MaxPooling2D((2, 2))))\n",
    "\n",
    "    model.add(TimeDistributed(Conv2D(128, (3, 3) , padding='same', activation='relu')))\n",
    "    model.add(TimeDistributed(BatchNormalization()))\n",
    "    model.add(TimeDistributed(MaxPooling2D((2, 2))))\n",
    "\n",
    "    model.add(TimeDistributed(Conv2D(256, (3, 3) , padding='same', activation='relu')))\n",
    "    model.add(TimeDistributed(BatchNormalization()))\n",
    "    model.add(TimeDistributed(MaxPooling2D((2, 2))))\n",
    "\n",
    "    model.add(TimeDistributed(Flatten()))\n",
    "\n",
    "    model.add(keras.layers.GRU(64))\n",
    "    model.add(Dropout(0.25))\n",
    "\n",
    "    model.add(Dense(64,activation='relu'))\n",
    "    model.add(Dropout(0.25))\n",
    "\n",
    "    model.add(Dense(num_classes, activation='softmax'))\n",
    "    return model"
   ]
  },
  {
   "cell_type": "code",
   "execution_count": 16,
   "id": "849be8b6",
   "metadata": {},
   "outputs": [],
   "source": [
    "height = 120 # image width\n",
    "width = 120 # image height\n",
    "\n",
    "num_images = 20\n",
    "batch_size = 30 #experiment with the batch size\n",
    "img_idx = np.round(np.linspace(0,total_frames-1,num_images)).astype(int)\n",
    "\n",
    "num_epochs = 20\n",
    "\n",
    "LrPlateau_patience = 2\n",
    "LrPlateau_mode = 'auto'\n",
    "LrPlateau_factor = 0.1\n",
    "LrPlateau_fmin_lr = 0.0001\n",
    "channels = 3\n",
    "\n",
    "IMG_SHAPE = (height, width, channels)"
   ]
  },
  {
   "cell_type": "code",
   "execution_count": 17,
   "id": "228cae6c",
   "metadata": {},
   "outputs": [
    {
     "name": "stdout",
     "output_type": "stream",
     "text": [
      "WARNING:tensorflow:`period` argument is deprecated. Please use `save_freq` to specify the frequency in number of batches seen.\n"
     ]
    }
   ],
   "source": [
    "curr_dt_time = datetime.datetime.now()\n",
    "LR = ReduceLROnPlateau(monitor='val_loss',\n",
    "                       factor=LrPlateau_factor,\n",
    "                       patience=LrPlateau_patience,\n",
    "                       fmin_lr=LrPlateau_fmin_lr, verbose=1)\n",
    "\n",
    "callbacks_list = [model_callbacks(curr_dt_time, MODEL_SAVE_DIR), LR]\n",
    "steps_per_epoch, validation_steps = get_steps_info(len(train_doc), len(val_doc), batch_size)"
   ]
  },
  {
   "cell_type": "code",
   "execution_count": 18,
   "id": "43e13e7a",
   "metadata": {},
   "outputs": [
    {
     "name": "stdout",
     "output_type": "stream",
     "text": [
      "Epochs 20\n",
      "steps_per_epoch 23\n",
      "validation_steps 4\n"
     ]
    }
   ],
   "source": [
    "print('Epochs', num_epochs)\n",
    "print('steps_per_epoch', steps_per_epoch)\n",
    "print('validation_steps', validation_steps)"
   ]
  },
  {
   "cell_type": "code",
   "execution_count": 20,
   "id": "59172f30",
   "metadata": {},
   "outputs": [
    {
     "name": "stderr",
     "output_type": "stream",
     "text": [
      "2023-10-03 13:45:37.078375: W tensorflow/core/common_runtime/gpu/gpu_bfc_allocator.cc:39] Overriding allow_growth setting because the TF_FORCE_GPU_ALLOW_GROWTH environment variable is set. Original config value was 0.\n",
      "2023-10-03 13:45:37.078907: I tensorflow/core/common_runtime/gpu/gpu_device.cc:1525] Created device /job:localhost/replica:0/task:0/device:GPU:0 with 14796 MB memory:  -> device: 0, name: Quadro RTX 5000, pci bus id: 0000:1e:00.0, compute capability: 7.5\n"
     ]
    }
   ],
   "source": [
    "rnn_cnn_model_gru = get_rnn_cnn_model_gru(num_classes, num_images, height, width, channels)"
   ]
  },
  {
   "cell_type": "code",
   "execution_count": 21,
   "id": "0e24971f",
   "metadata": {},
   "outputs": [
    {
     "name": "stdout",
     "output_type": "stream",
     "text": [
      "Model: \"sequential\"\n",
      "_________________________________________________________________\n",
      " Layer (type)                Output Shape              Param #   \n",
      "=================================================================\n",
      " time_distributed (TimeDistr  (None, 20, 120, 120, 16)  448      \n",
      " ibuted)                                                         \n",
      "                                                                 \n",
      " time_distributed_1 (TimeDis  (None, 20, 120, 120, 16)  64       \n",
      " tributed)                                                       \n",
      "                                                                 \n",
      " time_distributed_2 (TimeDis  (None, 20, 60, 60, 16)   0         \n",
      " tributed)                                                       \n",
      "                                                                 \n",
      " time_distributed_3 (TimeDis  (None, 20, 60, 60, 32)   4640      \n",
      " tributed)                                                       \n",
      "                                                                 \n",
      " time_distributed_4 (TimeDis  (None, 20, 60, 60, 32)   128       \n",
      " tributed)                                                       \n",
      "                                                                 \n",
      " time_distributed_5 (TimeDis  (None, 20, 30, 30, 32)   0         \n",
      " tributed)                                                       \n",
      "                                                                 \n",
      " time_distributed_6 (TimeDis  (None, 20, 30, 30, 64)   18496     \n",
      " tributed)                                                       \n",
      "                                                                 \n",
      " time_distributed_7 (TimeDis  (None, 20, 30, 30, 64)   256       \n",
      " tributed)                                                       \n",
      "                                                                 \n",
      " time_distributed_8 (TimeDis  (None, 20, 15, 15, 64)   0         \n",
      " tributed)                                                       \n",
      "                                                                 \n",
      " time_distributed_9 (TimeDis  (None, 20, 15, 15, 128)  73856     \n",
      " tributed)                                                       \n",
      "                                                                 \n",
      " time_distributed_10 (TimeDi  (None, 20, 15, 15, 128)  512       \n",
      " stributed)                                                      \n",
      "                                                                 \n",
      " time_distributed_11 (TimeDi  (None, 20, 7, 7, 128)    0         \n",
      " stributed)                                                      \n",
      "                                                                 \n",
      " time_distributed_12 (TimeDi  (None, 20, 7, 7, 256)    295168    \n",
      " stributed)                                                      \n",
      "                                                                 \n",
      " time_distributed_13 (TimeDi  (None, 20, 7, 7, 256)    1024      \n",
      " stributed)                                                      \n",
      "                                                                 \n",
      " time_distributed_14 (TimeDi  (None, 20, 3, 3, 256)    0         \n",
      " stributed)                                                      \n",
      "                                                                 \n",
      " time_distributed_15 (TimeDi  (None, 20, 2304)         0         \n",
      " stributed)                                                      \n",
      "                                                                 \n",
      " gru (GRU)                   (None, 64)                455040    \n",
      "                                                                 \n",
      " dropout (Dropout)           (None, 64)                0         \n",
      "                                                                 \n",
      " dense (Dense)               (None, 64)                4160      \n",
      "                                                                 \n",
      " dropout_1 (Dropout)         (None, 64)                0         \n",
      "                                                                 \n",
      " dense_1 (Dense)             (None, 5)                 325       \n",
      "                                                                 \n",
      "=================================================================\n",
      "Total params: 854,117\n",
      "Trainable params: 853,125\n",
      "Non-trainable params: 992\n",
      "_________________________________________________________________\n"
     ]
    }
   ],
   "source": [
    "optimizer = optimizers.adam_v2.Adam()\n",
    "#optimizer = optimizers.Adam()\n",
    "rnn_cnn_model_gru.compile(optimizer, loss='categorical_crossentropy', metrics=['categorical_accuracy'])\n",
    "rnn_cnn_model_gru.summary()"
   ]
  },
  {
   "cell_type": "code",
   "execution_count": 22,
   "id": "76d6af1b",
   "metadata": {},
   "outputs": [],
   "source": [
    "training_data_gen = cnn_generator(TRAIN_DIR, train_doc, batch_size, num_images, img_idx, height, width, channels=3)\n",
    "validation_data_gen = cnn_generator(VAL_DIR, val_doc, batch_size, num_images, img_idx, height, width, channels=3)"
   ]
  },
  {
   "cell_type": "code",
   "execution_count": 23,
   "id": "dd14720e",
   "metadata": {},
   "outputs": [
    {
     "name": "stdout",
     "output_type": "stream",
     "text": [
      "Epoch 1/20\n"
     ]
    },
    {
     "name": "stderr",
     "output_type": "stream",
     "text": [
      "2023-10-03 13:46:06.180792: I tensorflow/stream_executor/cuda/cuda_dnn.cc:377] Loaded cuDNN version 8302\n"
     ]
    },
    {
     "name": "stdout",
     "output_type": "stream",
     "text": [
      "23/23 [==============================] - ETA: 0s - loss: 1.5107 - categorical_accuracy: 0.3575\n",
      "Epoch 00001: val_loss improved from inf to 1.87971, saving model to MODELS/model_init_2023-10-0313_44_58.904782/model-00001-1.51065-0.35747-1.87971-0.30000.h5\n",
      "23/23 [==============================] - 114s 5s/step - loss: 1.5107 - categorical_accuracy: 0.3575 - val_loss: 1.8797 - val_categorical_accuracy: 0.3000 - lr: 0.0010\n",
      "Epoch 2/20\n",
      "23/23 [==============================] - ETA: 0s - loss: 1.0820 - categorical_accuracy: 0.5762\n",
      "Epoch 00002: val_loss did not improve from 1.87971\n",
      "23/23 [==============================] - 104s 5s/step - loss: 1.0820 - categorical_accuracy: 0.5762 - val_loss: 2.1157 - val_categorical_accuracy: 0.3900 - lr: 0.0010\n",
      "Epoch 3/20\n",
      "23/23 [==============================] - ETA: 0s - loss: 0.8816 - categorical_accuracy: 0.6667\n",
      "Epoch 00003: val_loss did not improve from 1.87971\n",
      "\n",
      "Epoch 00003: ReduceLROnPlateau reducing learning rate to 0.00010000000474974513.\n",
      "23/23 [==============================] - 103s 5s/step - loss: 0.8816 - categorical_accuracy: 0.6667 - val_loss: 2.7914 - val_categorical_accuracy: 0.2100 - lr: 0.0010\n",
      "Epoch 4/20\n",
      "23/23 [==============================] - ETA: 0s - loss: 0.7209 - categorical_accuracy: 0.7376\n",
      "Epoch 00004: val_loss did not improve from 1.87971\n",
      "23/23 [==============================] - 101s 5s/step - loss: 0.7209 - categorical_accuracy: 0.7376 - val_loss: 2.7795 - val_categorical_accuracy: 0.2200 - lr: 1.0000e-04\n",
      "Epoch 5/20\n",
      "23/23 [==============================] - ETA: 0s - loss: 0.6720 - categorical_accuracy: 0.7647\n",
      "Epoch 00005: val_loss did not improve from 1.87971\n",
      "\n",
      "Epoch 00005: ReduceLROnPlateau reducing learning rate to 1.0000000474974514e-05.\n",
      "23/23 [==============================] - 105s 5s/step - loss: 0.6720 - categorical_accuracy: 0.7647 - val_loss: 3.0818 - val_categorical_accuracy: 0.2100 - lr: 1.0000e-04\n",
      "Epoch 6/20\n",
      "23/23 [==============================] - ETA: 0s - loss: 0.6117 - categorical_accuracy: 0.7768\n",
      "Epoch 00006: val_loss did not improve from 1.87971\n",
      "23/23 [==============================] - 103s 5s/step - loss: 0.6117 - categorical_accuracy: 0.7768 - val_loss: 2.9369 - val_categorical_accuracy: 0.2500 - lr: 1.0000e-05\n",
      "Epoch 7/20\n",
      "23/23 [==============================] - ETA: 0s - loss: 0.6319 - categorical_accuracy: 0.7903\n",
      "Epoch 00007: val_loss did not improve from 1.87971\n",
      "\n",
      "Epoch 00007: ReduceLROnPlateau reducing learning rate to 1.0000000656873453e-06.\n",
      "23/23 [==============================] - 105s 5s/step - loss: 0.6319 - categorical_accuracy: 0.7903 - val_loss: 3.1002 - val_categorical_accuracy: 0.1800 - lr: 1.0000e-05\n",
      "Epoch 8/20\n",
      "23/23 [==============================] - ETA: 0s - loss: 0.6101 - categorical_accuracy: 0.7873\n",
      "Epoch 00008: val_loss did not improve from 1.87971\n",
      "23/23 [==============================] - 101s 5s/step - loss: 0.6101 - categorical_accuracy: 0.7873 - val_loss: 3.0003 - val_categorical_accuracy: 0.1900 - lr: 1.0000e-06\n",
      "Epoch 9/20\n",
      "23/23 [==============================] - ETA: 0s - loss: 0.5787 - categorical_accuracy: 0.8009\n",
      "Epoch 00009: val_loss did not improve from 1.87971\n",
      "\n",
      "Epoch 00009: ReduceLROnPlateau reducing learning rate to 1.0000001111620805e-07.\n",
      "23/23 [==============================] - 103s 5s/step - loss: 0.5787 - categorical_accuracy: 0.8009 - val_loss: 2.9216 - val_categorical_accuracy: 0.2100 - lr: 1.0000e-06\n",
      "Epoch 10/20\n",
      "23/23 [==============================] - ETA: 0s - loss: 0.6016 - categorical_accuracy: 0.8024\n",
      "Epoch 00010: val_loss did not improve from 1.87971\n",
      "23/23 [==============================] - 104s 5s/step - loss: 0.6016 - categorical_accuracy: 0.8024 - val_loss: 2.8252 - val_categorical_accuracy: 0.2000 - lr: 1.0000e-07\n",
      "Epoch 11/20\n",
      "23/23 [==============================] - ETA: 0s - loss: 0.5759 - categorical_accuracy: 0.7994\n",
      "Epoch 00011: val_loss did not improve from 1.87971\n",
      "\n",
      "Epoch 00011: ReduceLROnPlateau reducing learning rate to 1.000000082740371e-08.\n",
      "23/23 [==============================] - 104s 5s/step - loss: 0.5759 - categorical_accuracy: 0.7994 - val_loss: 2.9129 - val_categorical_accuracy: 0.2000 - lr: 1.0000e-07\n",
      "Epoch 12/20\n",
      "23/23 [==============================] - ETA: 0s - loss: 0.5952 - categorical_accuracy: 0.7783\n",
      "Epoch 00012: val_loss did not improve from 1.87971\n",
      "23/23 [==============================] - 101s 5s/step - loss: 0.5952 - categorical_accuracy: 0.7783 - val_loss: 2.6869 - val_categorical_accuracy: 0.2700 - lr: 1.0000e-08\n",
      "Epoch 13/20\n",
      "23/23 [==============================] - ETA: 0s - loss: 0.5898 - categorical_accuracy: 0.7964\n",
      "Epoch 00013: val_loss did not improve from 1.87971\n",
      "\n",
      "Epoch 00013: ReduceLROnPlateau reducing learning rate to 1.000000082740371e-09.\n",
      "23/23 [==============================] - 103s 5s/step - loss: 0.5898 - categorical_accuracy: 0.7964 - val_loss: 2.6323 - val_categorical_accuracy: 0.2700 - lr: 1.0000e-08\n",
      "Epoch 14/20\n",
      "23/23 [==============================] - ETA: 0s - loss: 0.5675 - categorical_accuracy: 0.8069\n",
      "Epoch 00014: val_loss did not improve from 1.87971\n",
      "23/23 [==============================] - 104s 5s/step - loss: 0.5675 - categorical_accuracy: 0.8069 - val_loss: 2.6816 - val_categorical_accuracy: 0.2600 - lr: 1.0000e-09\n",
      "Epoch 15/20\n",
      "23/23 [==============================] - ETA: 0s - loss: 0.5770 - categorical_accuracy: 0.8220\n",
      "Epoch 00015: val_loss did not improve from 1.87971\n",
      "\n",
      "Epoch 00015: ReduceLROnPlateau reducing learning rate to 1.000000082740371e-10.\n",
      "23/23 [==============================] - 106s 5s/step - loss: 0.5770 - categorical_accuracy: 0.8220 - val_loss: 2.5472 - val_categorical_accuracy: 0.2300 - lr: 1.0000e-09\n",
      "Epoch 16/20\n",
      "23/23 [==============================] - ETA: 0s - loss: 0.6113 - categorical_accuracy: 0.7843\n",
      "Epoch 00016: val_loss did not improve from 1.87971\n",
      "23/23 [==============================] - 100s 5s/step - loss: 0.6113 - categorical_accuracy: 0.7843 - val_loss: 2.4810 - val_categorical_accuracy: 0.3200 - lr: 1.0000e-10\n",
      "Epoch 17/20\n",
      "23/23 [==============================] - ETA: 0s - loss: 0.5811 - categorical_accuracy: 0.8024\n",
      "Epoch 00017: val_loss did not improve from 1.87971\n",
      "\n",
      "Epoch 00017: ReduceLROnPlateau reducing learning rate to 1.000000082740371e-11.\n",
      "23/23 [==============================] - 103s 5s/step - loss: 0.5811 - categorical_accuracy: 0.8024 - val_loss: 2.3918 - val_categorical_accuracy: 0.3000 - lr: 1.0000e-10\n",
      "Epoch 18/20\n",
      "23/23 [==============================] - ETA: 0s - loss: 0.6023 - categorical_accuracy: 0.7919\n",
      "Epoch 00018: val_loss did not improve from 1.87971\n",
      "23/23 [==============================] - 104s 5s/step - loss: 0.6023 - categorical_accuracy: 0.7919 - val_loss: 2.4009 - val_categorical_accuracy: 0.3300 - lr: 1.0000e-11\n",
      "Epoch 19/20\n",
      "23/23 [==============================] - ETA: 0s - loss: 0.5671 - categorical_accuracy: 0.8024\n",
      "Epoch 00019: val_loss did not improve from 1.87971\n",
      "\n",
      "Epoch 00019: ReduceLROnPlateau reducing learning rate to 1.000000082740371e-12.\n",
      "23/23 [==============================] - 105s 5s/step - loss: 0.5671 - categorical_accuracy: 0.8024 - val_loss: 2.1255 - val_categorical_accuracy: 0.3400 - lr: 1.0000e-11\n",
      "Epoch 20/20\n",
      "23/23 [==============================] - ETA: 0s - loss: 0.5826 - categorical_accuracy: 0.8054\n",
      "Epoch 00020: val_loss did not improve from 1.87971\n",
      "23/23 [==============================] - 100s 5s/step - loss: 0.5826 - categorical_accuracy: 0.8054 - val_loss: 2.0793 - val_categorical_accuracy: 0.3500 - lr: 1.0000e-12\n"
     ]
    }
   ],
   "source": [
    "#fit_generator is deprecated.. using model.fit with generator objects...\n",
    "history_08 = rnn_cnn_model_gru.fit(x=training_data_gen, steps_per_epoch=steps_per_epoch, epochs=num_epochs, verbose=1,\n",
    "                                   callbacks=callbacks_list, validation_data=validation_data_gen,\n",
    "                                   validation_steps=validation_steps)"
   ]
  },
  {
   "cell_type": "code",
   "execution_count": 24,
   "id": "f24003e3",
   "metadata": {},
   "outputs": [
    {
     "data": {
      "image/png": "[encoded data removed]",
      "text/plain": [
       "<Figure size 576x576 with 2 Axes>"
      ]
     },
     "metadata": {
      "needs_background": "light"
     },
     "output_type": "display_data"
    }
   ],
   "source": [
    "visualize_outputs(history_08, epoch=num_epochs)"
   ]
  },
  {
   "cell_type": "code",
   "execution_count": null,
   "id": "50198d7a",
   "metadata": {},
   "outputs": [],
   "source": []
  },
  {
   "cell_type": "code",
   "execution_count": null,
   "id": "13495dd6",
   "metadata": {},
   "outputs": [],
   "source": []
  },
  {
   "cell_type": "markdown",
   "id": "bc623a3c",
   "metadata": {},
   "source": [
    "#### MODEL 08- Transfer Learning - Mobilenet"
   ]
  },
  {
   "cell_type": "code",
   "execution_count": null,
   "id": "eb1ce390",
   "metadata": {},
   "outputs": [],
   "source": []
  },
  {
   "cell_type": "code",
   "execution_count": 25,
   "id": "5ca80bde",
   "metadata": {},
   "outputs": [],
   "source": [
    "def get_lstm_model_with_transfer_learning(cnn_model, num_classes, num_images, height, width, channels):\n",
    "    model = Sequential()\n",
    "    model.add(TimeDistributed(cnn_model, input_shape=(num_images, height, width, channels)))\n",
    "\n",
    "    for each_layer in model.layers:\n",
    "        each_layer.trainable = False\n",
    "\n",
    "    model.add(TimeDistributed(BatchNormalization()))\n",
    "    model.add(TimeDistributed(MaxPooling2D((2,2))))\n",
    "    model.add(TimeDistributed(Flatten()))\n",
    "\n",
    "    model.add(keras.layers.LSTM(128))\n",
    "    model.add(Dropout(0.25))\n",
    "\n",
    "    model.add(Dense(num_classes, activation='softmax'))\n",
    "\n",
    "    return model"
   ]
  },
  {
   "cell_type": "code",
   "execution_count": 26,
   "id": "195621d5",
   "metadata": {},
   "outputs": [],
   "source": [
    "height = 120 # image width\n",
    "width = 120 # image height\n",
    "\n",
    "num_images = 20\n",
    "batch_size = 30 #experiment with the batch size\n",
    "img_idx = np.round(np.linspace(0,total_frames-1,num_images)).astype(int)\n",
    "\n",
    "num_epochs = 20\n",
    "\n",
    "LrPlateau_patience = 2\n",
    "LrPlateau_mode = 'auto'\n",
    "LrPlateau_factor = 0.1\n",
    "LrPlateau_fmin_lr = 0.0001\n",
    "channels = 3\n",
    "\n",
    "IMG_SHAPE = (height, width, channels)"
   ]
  },
  {
   "cell_type": "code",
   "execution_count": 27,
   "id": "a70ad606",
   "metadata": {},
   "outputs": [
    {
     "name": "stdout",
     "output_type": "stream",
     "text": [
      "WARNING:tensorflow:`period` argument is deprecated. Please use `save_freq` to specify the frequency in number of batches seen.\n"
     ]
    }
   ],
   "source": [
    "curr_dt_time = datetime.datetime.now()\n",
    "LR = ReduceLROnPlateau(monitor='val_loss',\n",
    "                       factor=LrPlateau_factor,\n",
    "                       patience=LrPlateau_patience,\n",
    "                       fmin_lr=LrPlateau_fmin_lr, verbose=1)\n",
    "\n",
    "callbacks_list = [model_callbacks(curr_dt_time, MODEL_SAVE_DIR), LR]\n",
    "steps_per_epoch, validation_steps = get_steps_info(len(train_doc), len(val_doc), batch_size)"
   ]
  },
  {
   "cell_type": "code",
   "execution_count": 28,
   "id": "a976c273",
   "metadata": {},
   "outputs": [
    {
     "name": "stdout",
     "output_type": "stream",
     "text": [
      "Epochs 20\n",
      "steps_per_epoch 23\n",
      "validation_steps 4\n"
     ]
    }
   ],
   "source": [
    "print('Epochs', num_epochs)\n",
    "print('steps_per_epoch', steps_per_epoch)\n",
    "print('validation_steps', validation_steps)"
   ]
  },
  {
   "cell_type": "code",
   "execution_count": 29,
   "id": "a22e2e55",
   "metadata": {},
   "outputs": [
    {
     "name": "stdout",
     "output_type": "stream",
     "text": [
      "WARNING:tensorflow:`input_shape` is undefined or non-square, or `rows` is not in [128, 160, 192, 224]. Weights for input shape (224, 224) will be loaded as the default.\n",
      "Downloading data from https://storage.googleapis.com/tensorflow/keras-applications/mobilenet/mobilenet_1_0_224_tf_no_top.h5\n",
      "17227776/17225924 [==============================] - 2s 0us/step\n",
      "17235968/17225924 [==============================] - 2s 0us/step\n"
     ]
    }
   ],
   "source": [
    "mobilenet_model = tf.keras.applications.MobileNet(weights='imagenet', include_top=False)"
   ]
  },
  {
   "cell_type": "code",
   "execution_count": 30,
   "id": "fe38e87a",
   "metadata": {},
   "outputs": [],
   "source": [
    "rnn_cnn_transfer_model_lstm = get_lstm_model_with_transfer_learning(mobilenet_model, num_classes, num_images, height, width, channels)"
   ]
  },
  {
   "cell_type": "code",
   "execution_count": 31,
   "id": "576228d6",
   "metadata": {},
   "outputs": [
    {
     "name": "stdout",
     "output_type": "stream",
     "text": [
      "Model: \"sequential_1\"\n",
      "_________________________________________________________________\n",
      " Layer (type)                Output Shape              Param #   \n",
      "=================================================================\n",
      " time_distributed_16 (TimeDi  (None, 20, 3, 3, 1024)   3228864   \n",
      " stributed)                                                      \n",
      "                                                                 \n",
      " time_distributed_17 (TimeDi  (None, 20, 3, 3, 1024)   4096      \n",
      " stributed)                                                      \n",
      "                                                                 \n",
      " time_distributed_18 (TimeDi  (None, 20, 1, 1, 1024)   0         \n",
      " stributed)                                                      \n",
      "                                                                 \n",
      " time_distributed_19 (TimeDi  (None, 20, 1024)         0         \n",
      " stributed)                                                      \n",
      "                                                                 \n",
      " lstm (LSTM)                 (None, 128)               590336    \n",
      "                                                                 \n",
      " dropout_2 (Dropout)         (None, 128)               0         \n",
      "                                                                 \n",
      " dense_2 (Dense)             (None, 5)                 645       \n",
      "                                                                 \n",
      "=================================================================\n",
      "Total params: 3,823,941\n",
      "Trainable params: 593,029\n",
      "Non-trainable params: 3,230,912\n",
      "_________________________________________________________________\n"
     ]
    }
   ],
   "source": [
    "optimizer = optimizers.adam_v2.Adam()\n",
    "#optimizer = optimizers.Adam()\n",
    "rnn_cnn_transfer_model_lstm.compile(optimizer, loss='categorical_crossentropy', metrics=['categorical_accuracy'])\n",
    "rnn_cnn_transfer_model_lstm.summary()"
   ]
  },
  {
   "cell_type": "code",
   "execution_count": 32,
   "id": "e7deecc9",
   "metadata": {},
   "outputs": [],
   "source": [
    "training_data_gen = cnn_generator(TRAIN_DIR, train_doc, batch_size, num_images, img_idx, height, width, channels=3)\n",
    "validation_data_gen = cnn_generator(VAL_DIR, val_doc, batch_size, num_images, img_idx, height, width, channels=3)"
   ]
  },
  {
   "cell_type": "code",
   "execution_count": 33,
   "id": "fdc98c6c",
   "metadata": {},
   "outputs": [
    {
     "name": "stdout",
     "output_type": "stream",
     "text": [
      "Epoch 1/20\n",
      "23/23 [==============================] - ETA: 0s - loss: 1.2749 - categorical_accuracy: 0.4827\n",
      "Epoch 00001: val_loss improved from inf to 1.02260, saving model to MODELS/model_init_2023-10-0314_20_36.973516/model-00001-1.27495-0.48265-1.02260-0.58000.h5\n",
      "23/23 [==============================] - 108s 5s/step - loss: 1.2749 - categorical_accuracy: 0.4827 - val_loss: 1.0226 - val_categorical_accuracy: 0.5800 - lr: 0.0010\n",
      "Epoch 2/20\n",
      "23/23 [==============================] - ETA: 0s - loss: 0.4562 - categorical_accuracy: 0.8959\n",
      "Epoch 00002: val_loss improved from 1.02260 to 0.67107, saving model to MODELS/model_init_2023-10-0314_20_36.973516/model-00002-0.45625-0.89593-0.67107-0.79000.h5\n",
      "23/23 [==============================] - 105s 5s/step - loss: 0.4562 - categorical_accuracy: 0.8959 - val_loss: 0.6711 - val_categorical_accuracy: 0.7900 - lr: 0.0010\n",
      "Epoch 3/20\n",
      "23/23 [==============================] - ETA: 0s - loss: 0.2088 - categorical_accuracy: 0.9563\n",
      "Epoch 00003: val_loss did not improve from 0.67107\n",
      "23/23 [==============================] - 104s 5s/step - loss: 0.2088 - categorical_accuracy: 0.9563 - val_loss: 0.7611 - val_categorical_accuracy: 0.7700 - lr: 0.0010\n",
      "Epoch 4/20\n",
      "23/23 [==============================] - ETA: 0s - loss: 0.1050 - categorical_accuracy: 0.9910\n",
      "Epoch 00004: val_loss improved from 0.67107 to 0.61873, saving model to MODELS/model_init_2023-10-0314_20_36.973516/model-00004-0.10503-0.99095-0.61873-0.78000.h5\n",
      "23/23 [==============================] - 102s 5s/step - loss: 0.1050 - categorical_accuracy: 0.9910 - val_loss: 0.6187 - val_categorical_accuracy: 0.7800 - lr: 0.0010\n",
      "Epoch 5/20\n",
      "23/23 [==============================] - ETA: 0s - loss: 0.0528 - categorical_accuracy: 0.9955\n",
      "Epoch 00005: val_loss improved from 0.61873 to 0.58221, saving model to MODELS/model_init_2023-10-0314_20_36.973516/model-00005-0.05279-0.99548-0.58221-0.77000.h5\n",
      "23/23 [==============================] - 105s 5s/step - loss: 0.0528 - categorical_accuracy: 0.9955 - val_loss: 0.5822 - val_categorical_accuracy: 0.7700 - lr: 0.0010\n",
      "Epoch 6/20\n",
      "23/23 [==============================] - ETA: 0s - loss: 0.0284 - categorical_accuracy: 1.0000\n",
      "Epoch 00006: val_loss did not improve from 0.58221\n",
      "23/23 [==============================] - 105s 5s/step - loss: 0.0284 - categorical_accuracy: 1.0000 - val_loss: 0.6021 - val_categorical_accuracy: 0.7700 - lr: 0.0010\n",
      "Epoch 7/20\n",
      "23/23 [==============================] - ETA: 0s - loss: 0.0230 - categorical_accuracy: 1.0000\n",
      "Epoch 00007: val_loss did not improve from 0.58221\n",
      "\n",
      "Epoch 00007: ReduceLROnPlateau reducing learning rate to 0.00010000000474974513.\n",
      "23/23 [==============================] - 104s 5s/step - loss: 0.0230 - categorical_accuracy: 1.0000 - val_loss: 0.6289 - val_categorical_accuracy: 0.7800 - lr: 0.0010\n",
      "Epoch 8/20\n",
      "23/23 [==============================] - ETA: 0s - loss: 0.0170 - categorical_accuracy: 1.0000\n",
      "Epoch 00008: val_loss improved from 0.58221 to 0.53867, saving model to MODELS/model_init_2023-10-0314_20_36.973516/model-00008-0.01700-1.00000-0.53867-0.77000.h5\n",
      "23/23 [==============================] - 101s 5s/step - loss: 0.0170 - categorical_accuracy: 1.0000 - val_loss: 0.5387 - val_categorical_accuracy: 0.7700 - lr: 1.0000e-04\n",
      "Epoch 9/20\n",
      "23/23 [==============================] - ETA: 0s - loss: 0.0174 - categorical_accuracy: 1.0000\n",
      "Epoch 00009: val_loss did not improve from 0.53867\n",
      "23/23 [==============================] - 105s 5s/step - loss: 0.0174 - categorical_accuracy: 1.0000 - val_loss: 0.5717 - val_categorical_accuracy: 0.8000 - lr: 1.0000e-04\n",
      "Epoch 10/20\n",
      "23/23 [==============================] - ETA: 0s - loss: 0.0149 - categorical_accuracy: 1.0000\n",
      "Epoch 00010: val_loss did not improve from 0.53867\n",
      "\n",
      "Epoch 00010: ReduceLROnPlateau reducing learning rate to 1.0000000474974514e-05.\n",
      "23/23 [==============================] - 103s 5s/step - loss: 0.0149 - categorical_accuracy: 1.0000 - val_loss: 0.7199 - val_categorical_accuracy: 0.7600 - lr: 1.0000e-04\n",
      "Epoch 11/20\n",
      "23/23 [==============================] - ETA: 0s - loss: 0.0150 - categorical_accuracy: 1.0000\n",
      "Epoch 00011: val_loss did not improve from 0.53867\n",
      "23/23 [==============================] - 104s 5s/step - loss: 0.0150 - categorical_accuracy: 1.0000 - val_loss: 0.5495 - val_categorical_accuracy: 0.7800 - lr: 1.0000e-05\n",
      "Epoch 12/20\n",
      "23/23 [==============================] - ETA: 0s - loss: 0.0170 - categorical_accuracy: 1.0000\n",
      "Epoch 00012: val_loss did not improve from 0.53867\n",
      "\n",
      "Epoch 00012: ReduceLROnPlateau reducing learning rate to 1.0000000656873453e-06.\n",
      "23/23 [==============================] - 101s 5s/step - loss: 0.0170 - categorical_accuracy: 1.0000 - val_loss: 0.5522 - val_categorical_accuracy: 0.7800 - lr: 1.0000e-05\n",
      "Epoch 13/20\n",
      "23/23 [==============================] - ETA: 0s - loss: 0.0145 - categorical_accuracy: 1.0000\n",
      "Epoch 00013: val_loss did not improve from 0.53867\n",
      "23/23 [==============================] - 105s 5s/step - loss: 0.0145 - categorical_accuracy: 1.0000 - val_loss: 0.5869 - val_categorical_accuracy: 0.7700 - lr: 1.0000e-06\n",
      "Epoch 14/20\n",
      "23/23 [==============================] - ETA: 0s - loss: 0.0171 - categorical_accuracy: 0.9985\n",
      "Epoch 00014: val_loss did not improve from 0.53867\n",
      "\n",
      "Epoch 00014: ReduceLROnPlateau reducing learning rate to 1.0000001111620805e-07.\n",
      "23/23 [==============================] - 103s 5s/step - loss: 0.0171 - categorical_accuracy: 0.9985 - val_loss: 0.5950 - val_categorical_accuracy: 0.7900 - lr: 1.0000e-06\n",
      "Epoch 15/20\n",
      "23/23 [==============================] - ETA: 0s - loss: 0.0151 - categorical_accuracy: 1.0000\n",
      "Epoch 00015: val_loss improved from 0.53867 to 0.50686, saving model to MODELS/model_init_2023-10-0314_20_36.973516/model-00015-0.01509-1.00000-0.50686-0.78000.h5\n",
      "23/23 [==============================] - 105s 5s/step - loss: 0.0151 - categorical_accuracy: 1.0000 - val_loss: 0.5069 - val_categorical_accuracy: 0.7800 - lr: 1.0000e-07\n",
      "Epoch 16/20\n",
      "23/23 [==============================] - ETA: 0s - loss: 0.0145 - categorical_accuracy: 1.0000\n",
      "Epoch 00016: val_loss did not improve from 0.50686\n",
      "23/23 [==============================] - 100s 5s/step - loss: 0.0145 - categorical_accuracy: 1.0000 - val_loss: 0.6552 - val_categorical_accuracy: 0.7500 - lr: 1.0000e-07\n",
      "Epoch 17/20\n",
      "23/23 [==============================] - ETA: 0s - loss: 0.0138 - categorical_accuracy: 1.0000\n",
      "Epoch 00017: val_loss did not improve from 0.50686\n",
      "\n",
      "Epoch 00017: ReduceLROnPlateau reducing learning rate to 1.000000082740371e-08.\n",
      "23/23 [==============================] - 104s 5s/step - loss: 0.0138 - categorical_accuracy: 1.0000 - val_loss: 0.5907 - val_categorical_accuracy: 0.7700 - lr: 1.0000e-07\n",
      "Epoch 18/20\n",
      "23/23 [==============================] - ETA: 0s - loss: 0.0149 - categorical_accuracy: 1.0000\n",
      "Epoch 00018: val_loss did not improve from 0.50686\n",
      "23/23 [==============================] - 104s 5s/step - loss: 0.0149 - categorical_accuracy: 1.0000 - val_loss: 0.7146 - val_categorical_accuracy: 0.7700 - lr: 1.0000e-08\n",
      "Epoch 19/20\n",
      "23/23 [==============================] - ETA: 0s - loss: 0.0133 - categorical_accuracy: 1.0000\n",
      "Epoch 00019: val_loss improved from 0.50686 to 0.47085, saving model to MODELS/model_init_2023-10-0314_20_36.973516/model-00019-0.01328-1.00000-0.47085-0.82000.h5\n",
      "23/23 [==============================] - 104s 5s/step - loss: 0.0133 - categorical_accuracy: 1.0000 - val_loss: 0.4709 - val_categorical_accuracy: 0.8200 - lr: 1.0000e-08\n",
      "Epoch 20/20\n",
      "23/23 [==============================] - ETA: 0s - loss: 0.0168 - categorical_accuracy: 1.0000\n",
      "Epoch 00020: val_loss did not improve from 0.47085\n",
      "23/23 [==============================] - 102s 5s/step - loss: 0.0168 - categorical_accuracy: 1.0000 - val_loss: 0.5613 - val_categorical_accuracy: 0.7600 - lr: 1.0000e-08\n"
     ]
    }
   ],
   "source": [
    "#fit_generator is deprecated.. using model.fit with generator objects...\n",
    "history_09 = rnn_cnn_transfer_model_lstm.fit(x=training_data_gen, steps_per_epoch=steps_per_epoch, epochs=num_epochs, verbose=1,\n",
    "                                             callbacks=callbacks_list, validation_data=validation_data_gen,\n",
    "                                             validation_steps=validation_steps)"
   ]
  },
  {
   "cell_type": "code",
   "execution_count": 34,
   "id": "87d0624e",
   "metadata": {},
   "outputs": [
    {
     "data": {
      "image/png": "[encoded data removed]",
      "text/plain": [
       "<Figure size 576x576 with 2 Axes>"
      ]
     },
     "metadata": {
      "needs_background": "light"
     },
     "output_type": "display_data"
    }
   ],
   "source": [
    "visualize_outputs(history_09, epoch=num_epochs)"
   ]
  },
  {
   "cell_type": "code",
   "execution_count": 43,
   "id": "aba869f4",
   "metadata": {},
   "outputs": [],
   "source": [
    "def get_gru_model_with_transfer_learning(cnn_model, num_classes, num_images, height, width, channels):\n",
    "    model = Sequential()\n",
    "    model.add(TimeDistributed(cnn_model, input_shape=(num_images, height, width, channels)))\n",
    "\n",
    "    for each_layer in model.layers:\n",
    "        each_layer.trainable = False\n",
    "\n",
    "    model.add(TimeDistributed(BatchNormalization()))\n",
    "    model.add(TimeDistributed(MaxPooling2D((2,2))))\n",
    "    model.add(TimeDistributed(Flatten()))\n",
    "\n",
    "    model.add(keras.layers.GRU(128, recurrent_dropout=0.15))\n",
    "    model.add(Dropout(0.25))\n",
    "\n",
    "    model.add(Dense(num_classes, activation='softmax'))\n",
    "\n",
    "    return model"
   ]
  },
  {
   "cell_type": "code",
   "execution_count": 44,
   "id": "d483d677",
   "metadata": {},
   "outputs": [
    {
     "name": "stdout",
     "output_type": "stream",
     "text": [
      "WARNING:tensorflow:Layer gru_4 will not use cuDNN kernels since it doesn't meet the criteria. It will use a generic GPU kernel as fallback when running on GPU.\n"
     ]
    }
   ],
   "source": [
    "rnn_cnn_transfer_model_gru = get_gru_model_with_transfer_learning(mobilenet_model, num_classes, num_images, height, width, channels)"
   ]
  },
  {
   "cell_type": "code",
   "execution_count": 45,
   "id": "f3bd8f88",
   "metadata": {},
   "outputs": [
    {
     "name": "stdout",
     "output_type": "stream",
     "text": [
      "Model: \"sequential_4\"\n",
      "_________________________________________________________________\n",
      " Layer (type)                Output Shape              Param #   \n",
      "=================================================================\n",
      " time_distributed_28 (TimeDi  (None, 20, 3, 3, 1024)   3228864   \n",
      " stributed)                                                      \n",
      "                                                                 \n",
      " time_distributed_29 (TimeDi  (None, 20, 3, 3, 1024)   4096      \n",
      " stributed)                                                      \n",
      "                                                                 \n",
      " time_distributed_30 (TimeDi  (None, 20, 1, 1, 1024)   0         \n",
      " stributed)                                                      \n",
      "                                                                 \n",
      " time_distributed_31 (TimeDi  (None, 20, 1024)         0         \n",
      " stributed)                                                      \n",
      "                                                                 \n",
      " gru_4 (GRU)                 (None, 128)               443136    \n",
      "                                                                 \n",
      " dropout_4 (Dropout)         (None, 128)               0         \n",
      "                                                                 \n",
      " dense_4 (Dense)             (None, 5)                 645       \n",
      "                                                                 \n",
      "=================================================================\n",
      "Total params: 3,676,741\n",
      "Trainable params: 445,829\n",
      "Non-trainable params: 3,230,912\n",
      "_________________________________________________________________\n"
     ]
    }
   ],
   "source": [
    "optimizer = optimizers.adam_v2.Adam()\n",
    "#optimizer = optimizers.Adam()\n",
    "rnn_cnn_transfer_model_gru.compile(optimizer, loss='categorical_crossentropy', metrics=['categorical_accuracy'])\n",
    "rnn_cnn_transfer_model_gru.summary()"
   ]
  },
  {
   "cell_type": "code",
   "execution_count": 46,
   "id": "fbd64245",
   "metadata": {},
   "outputs": [],
   "source": [
    "training_data_gen = cnn_generator(TRAIN_DIR, train_doc, batch_size, num_images, img_idx, height, width, channels=3)\n",
    "validation_data_gen = cnn_generator(VAL_DIR, val_doc, batch_size, num_images, img_idx, height, width, channels=3)"
   ]
  },
  {
   "cell_type": "code",
   "execution_count": null,
   "id": "d4a3d542",
   "metadata": {},
   "outputs": [],
   "source": []
  },
  {
   "cell_type": "code",
   "execution_count": 47,
   "id": "1842fdcf",
   "metadata": {},
   "outputs": [
    {
     "name": "stdout",
     "output_type": "stream",
     "text": [
      "Epoch 1/20\n",
      "23/23 [==============================] - ETA: 0s - loss: 1.3680 - categorical_accuracy: 0.4796\n",
      "Epoch 00001: val_loss did not improve from 0.47085\n",
      "23/23 [==============================] - 109s 5s/step - loss: 1.3680 - categorical_accuracy: 0.4796 - val_loss: 0.8503 - val_categorical_accuracy: 0.6800 - lr: 0.0010\n",
      "Epoch 2/20\n",
      "23/23 [==============================] - ETA: 0s - loss: 0.3813 - categorical_accuracy: 0.8748\n",
      "Epoch 00002: val_loss did not improve from 0.47085\n",
      "23/23 [==============================] - 107s 5s/step - loss: 0.3813 - categorical_accuracy: 0.8748 - val_loss: 0.7684 - val_categorical_accuracy: 0.7200 - lr: 0.0010\n",
      "Epoch 3/20\n",
      "23/23 [==============================] - ETA: 0s - loss: 0.1672 - categorical_accuracy: 0.9713\n",
      "Epoch 00003: val_loss did not improve from 0.47085\n",
      "23/23 [==============================] - 106s 5s/step - loss: 0.1672 - categorical_accuracy: 0.9713 - val_loss: 0.5490 - val_categorical_accuracy: 0.8000 - lr: 0.0010\n",
      "Epoch 4/20\n",
      "23/23 [==============================] - ETA: 0s - loss: 0.1135 - categorical_accuracy: 0.9864\n",
      "Epoch 00004: val_loss did not improve from 0.47085\n",
      "23/23 [==============================] - 103s 5s/step - loss: 0.1135 - categorical_accuracy: 0.9864 - val_loss: 0.6053 - val_categorical_accuracy: 0.7900 - lr: 0.0010\n",
      "Epoch 5/20\n",
      "23/23 [==============================] - ETA: 0s - loss: 0.0814 - categorical_accuracy: 0.9940\n",
      "Epoch 00005: val_loss did not improve from 0.47085\n",
      "23/23 [==============================] - 106s 5s/step - loss: 0.0814 - categorical_accuracy: 0.9940 - val_loss: 0.5233 - val_categorical_accuracy: 0.8200 - lr: 0.0010\n",
      "Epoch 6/20\n",
      "23/23 [==============================] - ETA: 0s - loss: 0.0523 - categorical_accuracy: 0.9970\n",
      "Epoch 00006: val_loss did not improve from 0.47085\n",
      "23/23 [==============================] - 105s 5s/step - loss: 0.0523 - categorical_accuracy: 0.9970 - val_loss: 0.5078 - val_categorical_accuracy: 0.8200 - lr: 0.0010\n",
      "Epoch 7/20\n",
      "23/23 [==============================] - ETA: 0s - loss: 0.0459 - categorical_accuracy: 0.9985\n",
      "Epoch 00007: val_loss did not improve from 0.47085\n",
      "23/23 [==============================] - 107s 5s/step - loss: 0.0459 - categorical_accuracy: 0.9985 - val_loss: 0.5302 - val_categorical_accuracy: 0.8100 - lr: 0.0010\n",
      "Epoch 8/20\n",
      "23/23 [==============================] - ETA: 0s - loss: 0.0294 - categorical_accuracy: 0.9985\n",
      "Epoch 00008: val_loss did not improve from 0.47085\n",
      "23/23 [==============================] - 101s 5s/step - loss: 0.0294 - categorical_accuracy: 0.9985 - val_loss: 0.4791 - val_categorical_accuracy: 0.8100 - lr: 0.0010\n",
      "Epoch 9/20\n",
      "23/23 [==============================] - ETA: 0s - loss: 0.0201 - categorical_accuracy: 1.0000\n",
      "Epoch 00009: val_loss did not improve from 0.47085\n",
      "23/23 [==============================] - 105s 5s/step - loss: 0.0201 - categorical_accuracy: 1.0000 - val_loss: 0.4979 - val_categorical_accuracy: 0.8100 - lr: 0.0010\n",
      "Epoch 10/20\n",
      "23/23 [==============================] - ETA: 0s - loss: 0.0136 - categorical_accuracy: 1.0000\n",
      "Epoch 00010: val_loss did not improve from 0.47085\n",
      "\n",
      "Epoch 00010: ReduceLROnPlateau reducing learning rate to 0.00010000000474974513.\n",
      "23/23 [==============================] - 105s 5s/step - loss: 0.0136 - categorical_accuracy: 1.0000 - val_loss: 0.5022 - val_categorical_accuracy: 0.8400 - lr: 0.0010\n",
      "Epoch 11/20\n",
      "23/23 [==============================] - ETA: 0s - loss: 0.0126 - categorical_accuracy: 1.0000\n",
      "Epoch 00011: val_loss did not improve from 0.47085\n",
      "23/23 [==============================] - 105s 5s/step - loss: 0.0126 - categorical_accuracy: 1.0000 - val_loss: 0.5546 - val_categorical_accuracy: 0.8200 - lr: 1.0000e-04\n",
      "Epoch 12/20\n",
      "23/23 [==============================] - ETA: 0s - loss: 0.0130 - categorical_accuracy: 0.9985\n",
      "Epoch 00012: val_loss improved from 0.47085 to 0.45921, saving model to MODELS/model_init_2023-10-0314_20_36.973516/model-00012-0.01300-0.99849-0.45921-0.83000.h5\n",
      "23/23 [==============================] - 101s 5s/step - loss: 0.0130 - categorical_accuracy: 0.9985 - val_loss: 0.4592 - val_categorical_accuracy: 0.8300 - lr: 1.0000e-04\n",
      "Epoch 13/20\n",
      "23/23 [==============================] - ETA: 0s - loss: 0.0129 - categorical_accuracy: 1.0000\n",
      "Epoch 00013: val_loss did not improve from 0.45921\n",
      "23/23 [==============================] - 103s 5s/step - loss: 0.0129 - categorical_accuracy: 1.0000 - val_loss: 0.4946 - val_categorical_accuracy: 0.8100 - lr: 1.0000e-04\n",
      "Epoch 14/20\n",
      "23/23 [==============================] - ETA: 0s - loss: 0.0132 - categorical_accuracy: 1.0000\n",
      "Epoch 00014: val_loss did not improve from 0.45921\n",
      "\n",
      "Epoch 00014: ReduceLROnPlateau reducing learning rate to 1.0000000474974514e-05.\n",
      "23/23 [==============================] - 104s 5s/step - loss: 0.0132 - categorical_accuracy: 1.0000 - val_loss: 0.4740 - val_categorical_accuracy: 0.8200 - lr: 1.0000e-04\n",
      "Epoch 15/20\n",
      "23/23 [==============================] - ETA: 0s - loss: 0.0144 - categorical_accuracy: 1.0000\n",
      "Epoch 00015: val_loss did not improve from 0.45921\n",
      "23/23 [==============================] - 105s 5s/step - loss: 0.0144 - categorical_accuracy: 1.0000 - val_loss: 0.4975 - val_categorical_accuracy: 0.7900 - lr: 1.0000e-05\n",
      "Epoch 16/20\n",
      "23/23 [==============================] - ETA: 0s - loss: 0.0107 - categorical_accuracy: 1.0000\n",
      "Epoch 00016: val_loss did not improve from 0.45921\n",
      "\n",
      "Epoch 00016: ReduceLROnPlateau reducing learning rate to 1.0000000656873453e-06.\n",
      "23/23 [==============================] - 101s 5s/step - loss: 0.0107 - categorical_accuracy: 1.0000 - val_loss: 0.5260 - val_categorical_accuracy: 0.8100 - lr: 1.0000e-05\n",
      "Epoch 17/20\n",
      "23/23 [==============================] - ETA: 0s - loss: 0.0101 - categorical_accuracy: 1.0000\n",
      "Epoch 00017: val_loss did not improve from 0.45921\n",
      "23/23 [==============================] - 103s 5s/step - loss: 0.0101 - categorical_accuracy: 1.0000 - val_loss: 0.4941 - val_categorical_accuracy: 0.8100 - lr: 1.0000e-06\n",
      "Epoch 18/20\n",
      "23/23 [==============================] - ETA: 0s - loss: 0.0128 - categorical_accuracy: 1.0000\n",
      "Epoch 00018: val_loss improved from 0.45921 to 0.42659, saving model to MODELS/model_init_2023-10-0314_20_36.973516/model-00018-0.01277-1.00000-0.42659-0.84000.h5\n",
      "23/23 [==============================] - 104s 5s/step - loss: 0.0128 - categorical_accuracy: 1.0000 - val_loss: 0.4266 - val_categorical_accuracy: 0.8400 - lr: 1.0000e-06\n",
      "Epoch 19/20\n",
      "23/23 [==============================] - ETA: 0s - loss: 0.0120 - categorical_accuracy: 1.0000\n",
      "Epoch 00019: val_loss did not improve from 0.42659\n",
      "23/23 [==============================] - 104s 5s/step - loss: 0.0120 - categorical_accuracy: 1.0000 - val_loss: 0.4813 - val_categorical_accuracy: 0.8200 - lr: 1.0000e-06\n",
      "Epoch 20/20\n",
      "23/23 [==============================] - ETA: 0s - loss: 0.0126 - categorical_accuracy: 1.0000\n",
      "Epoch 00020: val_loss improved from 0.42659 to 0.39128, saving model to MODELS/model_init_2023-10-0314_20_36.973516/model-00020-0.01258-1.00000-0.39128-0.85000.h5\n",
      "23/23 [==============================] - 102s 5s/step - loss: 0.0126 - categorical_accuracy: 1.0000 - val_loss: 0.3913 - val_categorical_accuracy: 0.8500 - lr: 1.0000e-06\n"
     ]
    }
   ],
   "source": [
    "#fit_generator is deprecated.. using model.fit with generator objects...\n",
    "history_10 = rnn_cnn_transfer_model_gru.fit(x=training_data_gen, steps_per_epoch=steps_per_epoch, epochs=num_epochs, verbose=1,\n",
    "                                             callbacks=callbacks_list, validation_data=validation_data_gen,\n",
    "                                             validation_steps=validation_steps)"
   ]
  },
  {
   "cell_type": "code",
   "execution_count": 48,
   "id": "6aa87202",
   "metadata": {},
   "outputs": [
    {
     "data": {
      "image/png": "[encoded data removed]",
      "text/plain": [
       "<Figure size 576x576 with 2 Axes>"
      ]
     },
     "metadata": {
      "needs_background": "light"
     },
     "output_type": "display_data"
    }
   ],
   "source": [
    "visualize_outputs(history_10, epoch=num_epochs)"
   ]
  },
  {
   "cell_type": "code",
   "execution_count": null,
   "id": "ae67a776",
   "metadata": {},
   "outputs": [],
   "source": []
  }
 ],
 "metadata": {
  "kernelspec": {
   "display_name": "Python 3 (ipykernel)",
   "language": "python",
   "name": "python3"
  },
  "language_info": {
   "codemirror_mode": {
    "name": "ipython",
    "version": 3
   },
   "file_extension": ".py",
   "mimetype": "text/x-python",
   "name": "python",
   "nbconvert_exporter": "python",
   "pygments_lexer": "ipython3",
   "version": "3.8.10"
  }
 },
 "nbformat": 4,
 "nbformat_minor": 5
}
