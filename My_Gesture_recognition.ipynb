{
 "cells": [
  {
   "cell_type": "code",
   "execution_count": 1,
   "id": "2e767abf-7ce2-4ed5-8fd9-592434077b13",
   "metadata": {},
   "outputs": [],
   "source": [
    "import numpy as np\n",
    "import os\n",
    "\n",
    "#from scipy.misc import imread, imresize\n",
    "#from imageio import imread #using instead of imread from scipy.misc\n",
    "#from scipy.misc import imresize\n",
    "from skimage.io import imread #using instead of imread from scipy.misc\n",
    "from skimage.transform import resize #use resize instead of imresize\n",
    "import datetime\n",
    "import os\n",
    "\n",
    "import keras\n",
    "from keras.models import Sequential, Model\n",
    "from keras.layers import Dense, Dropout, Flatten, BatchNormalization, Activation\n",
    "from keras.layers import Conv3D, MaxPooling3D, Conv2D, MaxPooling2D\n",
    "from keras.regularizers import l2\n",
    "from keras import optimizers\n",
    "from tensorflow.python.keras.utils.data_utils import Sequence\n"
   ]
  },
  {
   "cell_type": "code",
   "execution_count": null,
   "id": "0f156edb-3a35-4b94-ba07-75dd28a6de37",
   "metadata": {},
   "outputs": [],
   "source": []
  },
  {
   "cell_type": "code",
   "execution_count": 2,
   "id": "5ec983c7-b1f0-4588-bbb5-61995d0dffdc",
   "metadata": {},
   "outputs": [],
   "source": [
    "np.random.seed(30)\n",
    "import random as rn\n",
    "rn.seed(30)\n",
    "from keras import backend as K\n",
    "import tensorflow as tf\n",
    "#tf.set_random_seed(30)"
   ]
  },
  {
   "cell_type": "code",
   "execution_count": 3,
   "id": "c8d57876-877b-4a8a-9a11-c6c06afc9c77",
   "metadata": {},
   "outputs": [
    {
     "name": "stdout",
     "output_type": "stream",
     "text": [
      "Training data: 663\n",
      "Validation data: 100\n"
     ]
    }
   ],
   "source": [
    "#train_doc = np.random.permutation(open('/notebooks/storage/Final_data/Collated_training/train.csv').readlines())\n",
    "#val_doc = np.random.permutation(open('/notebooks/storage/Final_data/Collated_training/val.csv').readlines())\n",
    "\n",
    "train_doc = np.random.permutation(open('Project_data/train.csv').readlines())\n",
    "val_doc = np.random.permutation(open('Project_data/val.csv').readlines())\n",
    "\n",
    "batch_size = 20 #experiment with the batch size\n",
    "print(\"Training data:\" , len(train_doc))\n",
    "print(\"Validation data:\", len(val_doc))"
   ]
  },
  {
   "cell_type": "code",
   "execution_count": 4,
   "id": "71c35aef-409e-44f9-90fe-1355e4a3e503",
   "metadata": {},
   "outputs": [],
   "source": [
    "height = 120 # image width\n",
    "width = 120 # image height\n",
    "img_idx = np.arange(0, 30, 2) #create a list of image numbers you want to use for a particular video"
   ]
  },
  {
   "cell_type": "code",
   "execution_count": 5,
   "id": "415be0ab-925c-4eac-a816-8d3c52e55de4",
   "metadata": {},
   "outputs": [
    {
     "name": "stdout",
     "output_type": "stream",
     "text": [
      "['Thumbs up', 'Thumbs down', 'Left swipe', 'Right swipe', 'Stop']\n",
      "5\n"
     ]
    }
   ],
   "source": [
    "classes = ['Thumbs up', 'Thumbs down','Left swipe', 'Right swipe', 'Stop']\n",
    "print(classes)\n",
    "num_classes = len(classes)\n",
    "print(num_classes)"
   ]
  },
  {
   "cell_type": "markdown",
   "id": "617e7493-b0e1-47de-a035-53654d30c70f",
   "metadata": {},
   "source": [
    "## Generator\r\n",
    "This is one of the most important part of the code. The overall structure of the generator has been given. In the generator, you are going to preprocess the images as you have images of 2 different dimensions as well as create a batch of video frames. You have to experiment with img_idx, y,z and normalization such that you get high accuracy."
   ]
  },
  {
   "cell_type": "markdown",
   "id": "37f11be2-dab5-4ba5-a66a-9d0165d0fda5",
   "metadata": {
    "jp-MarkdownHeadingCollapsed": true
   },
   "source": [
    "##### Starter Generator Logic"
   ]
  },
  {
   "cell_type": "markdown",
   "id": "4074f198-4241-46d8-8295-18bc2b128d50",
   "metadata": {},
   "source": [
    "def generator(source_path, folder_list, batch_size):\n",
    "    y = 100 # image width\n",
    "    z = 100 # image height\n",
    "\n",
    "    print( 'Source path = ', source_path, '; batch size =', batch_size)\n",
    "    img_idx = np.arange(0,30,2) #create a list of image numbers you want to use for a particular video\n",
    "    while True:\n",
    "        t = np.random.permutation(folder_list)\n",
    "        num_batches = len(t)//batch_size  # calculate the number of batches #no. of sequences/batch_size... #1 seq = 1 video... #eg: seq => 100/10 = 10\n",
    "        print('Total Sequences :', num_batches * batch_size)\n",
    "        x = len(img_idx)\n",
    "        for batch in range(num_batches): # we iterate over the number of batches\n",
    "            batch_data = np.zeros((batch_size,x,y,z,3)) # x is the number of images you use for each video, (y,z) is the final size of the input images and 3 is the number of channels RGB\n",
    "            batch_labels = np.zeros((batch_size,5)) # batch_labels is the one hot representation of the output\n",
    "            for folder in range(batch_size): # iterate over the batch_size\n",
    "                imgs = os.listdir(source_path+'/'+ t[folder + (batch*batch_size)].split(';')[0]) # read all the images in the folder\n",
    "                for idx,item in enumerate(img_idx): #  Iterate iver the frames/images of a folder to read them in\n",
    "                    image = imread(source_path+'/'+ t[folder + (batch*batch_size)].strip().split(';')[0]+'/'+imgs[item]).astype(np.float32)\n",
    "\n",
    "                    #crop the images and resize them. Note that the images are of 2 different shape\n",
    "                    #and the conv3D will throw error if the inputs in a batch have different shapes\n",
    "                    if image.shape[1] == 160:\n",
    "                        image = image[:, 20:140, :] # Cropping  20 px from the sides...  to make it a square image.\n",
    "\n",
    "                    res_image = resize(image=image, output_shape=(y, z), anti_aliasing=True)\n",
    "\n",
    "                    batch_data[folder,idx,:,:,0] = res_image[:,:,0] #normalise and feed in the image\n",
    "                    batch_data[folder,idx,:,:,1] = res_image[:,:,1] #normalise and feed in the image\n",
    "                    batch_data[folder,idx,:,:,2] = res_image[:,:,2] #normalise and feed in the image\n",
    "\n",
    "                batch_labels[folder, int(t[folder + (batch*batch_size)].strip().split(';')[2])] = 1\n",
    "            yield batch_data, batch_labels #you yield the batch_data and the batch_labels, remember what does yield do\n",
    "        # write the code for the remaining data points which are left after full batches"
   ]
  },
  {
   "cell_type": "markdown",
   "id": "beb2acc4-c329-4ba6-98e1-2f1ceb9d723b",
   "metadata": {},
   "source": [
    "#### Generator & Support Functions"
   ]
  },
  {
   "cell_type": "code",
   "execution_count": 19,
   "id": "3dcb7617-1b0d-433b-adb6-feaf1691d6b2",
   "metadata": {},
   "outputs": [],
   "source": [
    "def gesture_generator(source_path, folder_list, batch_size, img_idx, height=120, width=120, augment=False):\n",
    "    total_frames = 30\n",
    "    num_images = len(img_idx)\n",
    "    while True:\n",
    "        t = np.random.permutation(folder_list)\n",
    "        num_batches = len(t)//batch_size # calculate the number of batches\n",
    "        #img_idx = sorted(rn.sample(range(0, total_frames), num_images)) #create a list of image numbers you want to use for a particular video\n",
    "        #img_idx = np.round(np.linspace(0,total_frames-1,num_images)).astype(int) #create a list of image numbers you want to use for a particular video\n",
    "\n",
    "        for batch in range(num_batches): # we iterate over the number of batches\n",
    "            batch_data   = np.zeros((batch_size, num_images, height, width, 3)) # 3 is the number of channels RGB\n",
    "            batch_labels = np.zeros((batch_size, 5)) # batch_labels is the one hot representation of the output\n",
    "\n",
    "            for folder in range(batch_size): # iterate over the batch_size\n",
    "                imgs = os.listdir(source_path+'/'+ t[folder + (batch*batch_size)].split(';')[0]) # read all the images in the folder\n",
    "                for idx,item in enumerate(img_idx): #  Iterate over the frames/images of a folder to read them in\n",
    "                    image = imread(source_path+'/'+ t[folder + (batch*batch_size)].strip().split(';')[0]+'/'+imgs[item]).astype(np.float32)\n",
    "\n",
    "                    #crop the images and resize them. Note that the images are of 2 different shape\n",
    "                    #and the conv3D will throw error if the inputs in a batch have different shapes\n",
    "                    h, w, c = image.shape\n",
    "                    if w == 160:\n",
    "                        image = image[: 20:140, :] #Crop Horizontal edges to make it a square image\n",
    "                    image = resize(image, (height, width), anti_aliasing=True)\n",
    "\n",
    "                    batch_data[folder,idx,:,:,0] = (image[...,0])/255 #normalise and feed in the image\n",
    "                    batch_data[folder,idx,:,:,1] = (image[...,1])/255 #normalise and feed in the image\n",
    "                    batch_data[folder,idx,:,:,2] = (image[...,2])/255 #normalise and feed in the image\n",
    "\n",
    "                batch_labels[folder, int(t[folder + (batch*batch_size)].strip().split(';')[2])] = 1\n",
    "\n",
    "            yield batch_data, batch_labels #you yield the batch_data and the batch_labels, remember what does yield do\n",
    "\n",
    "        # write the code for the remaining data points which are left after full batches\n",
    "        if (len(t)%batch_size):\n",
    "            remaining_batch_size = len(t)%batch_size\n",
    "            batch_data   = np.zeros((remaining_batch_size, num_images, height, width,3)) # 3 is the number of channels RGB\n",
    "            batch_labels = np.zeros((remaining_batch_size,5)) # batch_labels is the one hot representation of the output\n",
    "\n",
    "            for folder in range(remaining_batch_size): # iterate over the batch_size\n",
    "                imgs = os.listdir(source_path+'/'+ t[folder + (num_batches*batch_size)].split(';')[0]) # read all the images in the folder\n",
    "                for idx,item in enumerate(img_idx): #  Iterate iver the frames/images of a folder to read them in\n",
    "                    image = imread(source_path+'/'+ t[folder + (num_batches*batch_size)].strip().split(';')[0]+'/'+imgs[item]).astype(np.float32)\n",
    "\n",
    "                    #crop the images and resize them. Note that the images are of 2 different shape\n",
    "                    #and the conv3D will throw error if the inputs in a batch have different shapes\n",
    "                    h, w, c = image.shape\n",
    "                    image = resize(image, (height, width), anti_aliasing=True)\n",
    "\n",
    "                    # Randomly transform few images of few folders; note that folders are randomly shuffled in each epoch too\n",
    "                    if augment:\n",
    "                        if np.random.randn() > 0:\n",
    "                            image = datagen.random_transform(image)\n",
    "\n",
    "                    batch_data[folder,idx,:,:,0] = (image[...,0])/255 #normalise and feed in the image\n",
    "                    batch_data[folder,idx,:,:,1] = (image[...,1])/255 #normalise and feed in the image\n",
    "                    batch_data[folder,idx,:,:,2] = (image[...,2])/255 #normalise and feed in the image\n",
    "\n",
    "                batch_labels[folder, int(t[folder + (num_batches*batch_size)].strip().split(';')[2])] = 1\n",
    "\n",
    "            yield batch_data, batch_labels #you yield the batch_data and the batch_labels, remember what does yield do"
   ]
  },
  {
   "cell_type": "code",
   "execution_count": 7,
   "id": "cefbba76-27a7-49a4-ae50-36787fa79d3a",
   "metadata": {},
   "outputs": [],
   "source": [
    "def process_batch(source_path, batch, batch_size, frame_ids, height, width):\n",
    "    frame_rate = len(frame_ids)\n",
    "    batch_data   = np.zeros((batch_size, frame_rate, height, width, 3)) # 3 is the number of channels RGB\n",
    "    batch_labels = np.zeros((batch_size, 5)) # batch_labels is the one hot representation of the output\n",
    "\n",
    "    for folder in range(batch_size): # iterate over the batch_size\n",
    "        #print('Processing Dir:', source_path+'/'+ t[folder + (batch*batch_size)].split(';')[0])\n",
    "        imgs = os.listdir(source_path+'/'+ t[folder + (batch*batch_size)].split(';')[0]) # read all the images in the folder\n",
    "        for idx,item in enumerate(frame_ids): #  Iterate over the frames/images of a folder to read them in\n",
    "            image = imread(source_path+'/'+ t[folder + (batch*batch_size)].strip().split(';')[0]+'/'+imgs[item]).astype(np.float32)\n",
    "\n",
    "            #crop the images and resize them. Note that the images are of 2 different shape\n",
    "            #and the conv3D will throw error if the inputs in a batch have different shapes\n",
    "            #h, w, c = image.shape\n",
    "            image = resize(image, (height, width), anti_aliasing=True)\n",
    "\n",
    "            batch_data[folder,idx,:,:,0] = (image[...,0])/255 #normalise and feed in the image\n",
    "            batch_data[folder,idx,:,:,1] = (image[...,1])/255 #normalise and feed in the image\n",
    "            batch_data[folder,idx,:,:,2] = (image[...,2])/255 #normalise and feed in the image\n",
    "        batch_labels[folder, int(t[folder + (batch*batch_size)].strip().split(';')[2])] = 1\n",
    "    yield batch_data, batch_labels\n"
   ]
  },
  {
   "cell_type": "code",
   "execution_count": 8,
   "id": "a7b2fc78-8ab6-45c5-aa28-f0af7055c3bc",
   "metadata": {},
   "outputs": [],
   "source": [
    "def gesture_generator_OLD(source_path, folder_list, batch_size, frame_ids, height, width):\n",
    "    print( 'Source path = ', source_path, '; batch size =', batch_size)\n",
    "    #img_ids = np.arange(0,30,2) #create a list of image numbers you want to use for a particular video\n",
    "    while True:\n",
    "        t = np.random.permutation(folder_list)\n",
    "        num_batches = len(folder_list)//batch_size  # calculate the number of batches #no. of sequences/batch_size... @ 1 seq = 1 video.. (eg: seq => 100/10 = 10)\n",
    "        print('Total Sequences :', num_batches * batch_size)\n",
    "        for batch in range(num_batches): # we iterate over the number of batches\n",
    "            frame_rate = len(frame_ids)\n",
    "            for X, y in process_batch(source_path, batch, batch_size, frame_ids, height, width):\n",
    "                yield X, y\n",
    "        # write the code for the remaining data points which are left after full batches\n",
    "        rem_batches = len(folder_list) % batch_size\n",
    "        if rem_batches > 0:\n",
    "            for X, y in process_batch(source_path, batch, rem_batches, frame_ids, height, width):\n",
    "                yield X, y"
   ]
  },
  {
   "cell_type": "code",
   "execution_count": null,
   "id": "6cd96d00-8818-4f2a-acde-2456bc5ee200",
   "metadata": {},
   "outputs": [],
   "source": []
  },
  {
   "cell_type": "code",
   "execution_count": 9,
   "id": "1c5edeb3-1a81-47bb-8805-e8d080cd6941",
   "metadata": {},
   "outputs": [
    {
     "data": {
      "text/plain": [
       "range(0, 33)"
      ]
     },
     "execution_count": 9,
     "metadata": {},
     "output_type": "execute_result"
    }
   ],
   "source": [
    "t = np.random.permutation(train_doc)\n",
    "nb = len(t)//batch_size\n",
    "range(nb)"
   ]
  },
  {
   "cell_type": "markdown",
   "id": "a62d9a0f-1b6a-4f19-a6f7-99ade99780f0",
   "metadata": {},
   "source": [
    "## Prepare a Model"
   ]
  },
  {
   "cell_type": "markdown",
   "id": "b876f842-c13c-4a29-ab18-aa233aea4203",
   "metadata": {},
   "source": [
    "### 1. Create a Conv3D + RNN (GRU)"
   ]
  },
  {
   "cell_type": "code",
   "execution_count": 10,
   "id": "7acffdb9-c15c-4bb2-be45-c36431d0bdc3",
   "metadata": {},
   "outputs": [],
   "source": [
    "import keras\n",
    "from keras.models import Sequential, Model\n",
    "from keras.layers import Dense, Dropout, Flatten, BatchNormalization, Activation\n",
    "from keras.layers import Conv3D, MaxPooling3D, Conv2D, MaxPooling2D\n",
    "from keras.callbacks import ModelCheckpoint, ReduceLROnPlateau\n",
    "from keras.regularizers import l2\n",
    "from keras import optimizers\n",
    "from tensorflow.python.keras.utils.data_utils import Sequence"
   ]
  },
  {
   "cell_type": "code",
   "execution_count": 11,
   "id": "d8dccd8b-024c-4b99-8220-3d7331e7530b",
   "metadata": {},
   "outputs": [],
   "source": [
    "def prepare_conv3d_model():\n",
    "    model = Sequential()\n",
    "    model.add(Conv3D(32, (3,3,3), padding='same', input_shape=(len(img_idx), height, width, 3)))\n",
    "    model.add(Activation('relu'))\n",
    "    model.add(MaxPooling3D(pool_size=(2, 2, 2)))\n",
    "\n",
    "    model.add(Conv3D(64, (3,3,3), padding='same'))\n",
    "    model.add(Activation('relu'))\n",
    "    model.add(BatchNormalization())\n",
    "    model.add(MaxPooling3D(pool_size=(2, 2, 2)))\n",
    "\n",
    "    model.add(Conv3D(64, (3,3,3), padding='same'))\n",
    "    model.add(Activation('relu'))\n",
    "    model.add(MaxPooling3D(pool_size=(2, 2, 2)))\n",
    "\n",
    "    model.add(Flatten())\n",
    "    model.add(Dense(128))\n",
    "    model.add(Activation('relu'))\n",
    "    model.add(Dropout(0.20))\n",
    "\n",
    "    model.add(Dense(num_classes))\n",
    "    model.add(Activation('softmax'))\n",
    "    return model"
   ]
  },
  {
   "cell_type": "code",
   "execution_count": null,
   "id": "012bc23c-284b-490d-9413-5ef1b08e6cf7",
   "metadata": {},
   "outputs": [],
   "source": []
  },
  {
   "cell_type": "code",
   "execution_count": 12,
   "id": "457c5b39-a5ea-489b-b283-3699e61d56bb",
   "metadata": {},
   "outputs": [],
   "source": [
    "def model_callbacks(curr_dt_time, save_folder_name):\n",
    "    model_name = 'model_init' + '_' + str(curr_dt_time).replace(' ','').replace(':','_') + '/'\n",
    "    save_file_path = save_folder_name + '/' + model_name + '/'\n",
    "    if not os.path.exists(save_file_path):\n",
    "        os.makedirs(save_file_path, mode=0o666)\n",
    "    filepath = save_file_path + 'model-{epoch:05d}-{loss:.5f}-{categorical_accuracy:.5f}-{val_loss:.5f}-{val_categorical_accuracy:.5f}.h5'\n",
    "    checkpoint = ModelCheckpoint(filepath, monitor='val_loss', verbose=1, save_best_only=False, save_weights_only=False, mode='auto', period=1)\n",
    "    #LR = # write the REducelronplateau code here\n",
    "    LR = ReduceLROnPlateau(monitor='val_loss', factor=0.1, patience=2, fmin_lr=0.00001, verbose=1)\n",
    "    return [checkpoint, LR]"
   ]
  },
  {
   "cell_type": "code",
   "execution_count": 13,
   "id": "fc047270-2be9-4827-8bcf-b995287f42fb",
   "metadata": {},
   "outputs": [],
   "source": [
    "def get_steps_info(num_train_sequences, num_val_sequences, batch_size):\n",
    "    if (num_train_sequences%batch_size) == 0:\n",
    "        steps_per_epoch = int(num_train_sequences/batch_size)\n",
    "    else:\n",
    "        steps_per_epoch = (num_train_sequences//batch_size) + 1\n",
    "\n",
    "    if (num_val_sequences%batch_size) == 0:\n",
    "        validation_steps = int(num_val_sequences/batch_size)\n",
    "    else:\n",
    "        validation_steps = (num_val_sequences//batch_size) + 1\n",
    "    return steps_per_epoch, validation_steps"
   ]
  },
  {
   "cell_type": "code",
   "execution_count": null,
   "id": "29ad8d5c-3f8b-4d23-b23e-587fa5f1e412",
   "metadata": {},
   "outputs": [],
   "source": [
    "conv_3d_model = prepare_conv3d_model()\n",
    "optimizer = optimizers.Adam()\n",
    "conv_3d_model.compile(optimizer, loss='categorical_crossentropy', metrics=['categorical_accuracy'])\n",
    "conv_3d_model.summary()"
   ]
  },
  {
   "cell_type": "code",
   "execution_count": 15,
   "id": "3bb89209-c274-4bf8-88fa-f07d2068555d",
   "metadata": {},
   "outputs": [
    {
     "name": "stdout",
     "output_type": "stream",
     "text": [
      "WARNING:tensorflow:`period` argument is deprecated. Please use `save_freq` to specify the frequency in number of batches seen.\n"
     ]
    }
   ],
   "source": [
    "curr_dt_time = datetime.datetime.now()\n",
    "num_epochs = 10\n",
    "callbacks_list = model_callbacks(curr_dt_time, \"d:\\model_conv3D_1\")\n",
    "steps_per_epoch, validation_steps = get_steps_info(len(train_doc), len(val_doc), batch_size)"
   ]
  },
  {
   "cell_type": "code",
   "execution_count": 16,
   "id": "6b02a905-692b-4ae5-8026-925012888438",
   "metadata": {},
   "outputs": [
    {
     "name": "stdout",
     "output_type": "stream",
     "text": [
      "Epochs 10\n",
      "steps_per_epoch 34\n",
      "validation_steps 5\n"
     ]
    }
   ],
   "source": [
    "print('Epochs', num_epochs)\n",
    "print('steps_per_epoch', steps_per_epoch)\n",
    "print('validation_steps', validation_steps)"
   ]
  },
  {
   "cell_type": "code",
   "execution_count": 20,
   "id": "d5dea41e-0433-4c5a-bbd5-014832eb5538",
   "metadata": {},
   "outputs": [],
   "source": [
    "training_data_gen = gesture_generator('Project_data/train', train_doc, batch_size, img_idx, height, width)\n",
    "validation_data_gen = gesture_generator('Project_data/val', val_doc, batch_size, img_idx, height, width)"
   ]
  },
  {
   "cell_type": "code",
   "execution_count": 21,
   "id": "89008481-53b7-4c5f-9a4d-445bd5ada92f",
   "metadata": {},
   "outputs": [
    {
     "name": "stdout",
     "output_type": "stream",
     "text": [
      "Epoch 1/10\n",
      "34/34 [==============================] - ETA: 0s - loss: 2.4165 - categorical_accuracy: 0.2293\n",
      "Epoch 1: saving model to d:\\model_conv3D_1/model_init_2023-09-2819_39_00.424063\\model-00001-2.41653-0.22926-1.58495-0.28000.h5\n",
      "34/34 [==============================] - 301s 9s/step - loss: 2.4165 - categorical_accuracy: 0.2293 - val_loss: 1.5850 - val_categorical_accuracy: 0.2800 - lr: 0.0010\n",
      "Epoch 2/10\n"
     ]
    },
    {
     "name": "stderr",
     "output_type": "stream",
     "text": [
      "C:\\Program Files\\Python39\\lib\\site-packages\\keras\\src\\engine\\training.py:3000: UserWarning: You are saving your model as an HDF5 file via `model.save()`. This file format is considered legacy. We recommend using instead the native Keras format, e.g. `model.save('my_model.keras')`.\n",
      "  saving_api.save_model(\n"
     ]
    },
    {
     "name": "stdout",
     "output_type": "stream",
     "text": [
      "34/34 [==============================] - ETA: 0s - loss: 1.4871 - categorical_accuracy: 0.3363\n",
      "Epoch 2: saving model to d:\\model_conv3D_1/model_init_2023-09-2819_39_00.424063\\model-00002-1.48715-0.33635-1.59088-0.22000.h5\n",
      "34/34 [==============================] - 303s 9s/step - loss: 1.4871 - categorical_accuracy: 0.3363 - val_loss: 1.5909 - val_categorical_accuracy: 0.2200 - lr: 0.0010\n",
      "Epoch 3/10\n",
      "34/34 [==============================] - ETA: 0s - loss: 1.4156 - categorical_accuracy: 0.3891\n",
      "Epoch 3: saving model to d:\\model_conv3D_1/model_init_2023-09-2819_39_00.424063\\model-00003-1.41562-0.38914-1.55223-0.29000.h5\n",
      "34/34 [==============================] - 307s 9s/step - loss: 1.4156 - categorical_accuracy: 0.3891 - val_loss: 1.5522 - val_categorical_accuracy: 0.2900 - lr: 0.0010\n",
      "Epoch 4/10\n",
      "34/34 [==============================] - ETA: 0s - loss: 1.4027 - categorical_accuracy: 0.3816\n",
      "Epoch 4: saving model to d:\\model_conv3D_1/model_init_2023-09-2819_39_00.424063\\model-00004-1.40266-0.38160-1.46910-0.43000.h5\n",
      "34/34 [==============================] - 317s 9s/step - loss: 1.4027 - categorical_accuracy: 0.3816 - val_loss: 1.4691 - val_categorical_accuracy: 0.4300 - lr: 0.0010\n",
      "Epoch 5/10\n",
      "34/34 [==============================] - ETA: 0s - loss: 1.3010 - categorical_accuracy: 0.4208\n",
      "Epoch 5: saving model to d:\\model_conv3D_1/model_init_2023-09-2819_39_00.424063\\model-00005-1.30104-0.42081-1.39447-0.39000.h5\n",
      "34/34 [==============================] - 313s 9s/step - loss: 1.3010 - categorical_accuracy: 0.4208 - val_loss: 1.3945 - val_categorical_accuracy: 0.3900 - lr: 0.0010\n",
      "Epoch 6/10\n",
      "34/34 [==============================] - ETA: 0s - loss: 1.2723 - categorical_accuracy: 0.4555\n",
      "Epoch 6: saving model to d:\\model_conv3D_1/model_init_2023-09-2819_39_00.424063\\model-00006-1.27230-0.45551-1.39405-0.46000.h5\n",
      "34/34 [==============================] - 311s 9s/step - loss: 1.2723 - categorical_accuracy: 0.4555 - val_loss: 1.3940 - val_categorical_accuracy: 0.4600 - lr: 0.0010\n",
      "Epoch 7/10\n",
      "34/34 [==============================] - ETA: 0s - loss: 1.2095 - categorical_accuracy: 0.4857\n",
      "Epoch 7: saving model to d:\\model_conv3D_1/model_init_2023-09-2819_39_00.424063\\model-00007-1.20945-0.48567-1.85542-0.38000.h5\n",
      "34/34 [==============================] - 293s 9s/step - loss: 1.2095 - categorical_accuracy: 0.4857 - val_loss: 1.8554 - val_categorical_accuracy: 0.3800 - lr: 0.0010\n",
      "Epoch 8/10\n",
      "34/34 [==============================] - ETA: 0s - loss: 1.1754 - categorical_accuracy: 0.5068\n",
      "Epoch 8: saving model to d:\\model_conv3D_1/model_init_2023-09-2819_39_00.424063\\model-00008-1.17536-0.50679-1.84237-0.37000.h5\n",
      "\n",
      "Epoch 8: ReduceLROnPlateau reducing learning rate to 0.00010000000474974513.\n",
      "34/34 [==============================] - 285s 8s/step - loss: 1.1754 - categorical_accuracy: 0.5068 - val_loss: 1.8424 - val_categorical_accuracy: 0.3700 - lr: 0.0010\n",
      "Epoch 9/10\n",
      "34/34 [==============================] - ETA: 0s - loss: 1.0902 - categorical_accuracy: 0.5626\n",
      "Epoch 9: saving model to d:\\model_conv3D_1/model_init_2023-09-2819_39_00.424063\\model-00009-1.09025-0.56259-1.75385-0.38000.h5\n",
      "34/34 [==============================] - 303s 9s/step - loss: 1.0902 - categorical_accuracy: 0.5626 - val_loss: 1.7539 - val_categorical_accuracy: 0.3800 - lr: 1.0000e-04\n",
      "Epoch 10/10\n",
      "34/34 [==============================] - ETA: 0s - loss: 0.9954 - categorical_accuracy: 0.6199\n",
      "Epoch 10: saving model to d:\\model_conv3D_1/model_init_2023-09-2819_39_00.424063\\model-00010-0.99540-0.61991-1.33466-0.45000.h5\n",
      "34/34 [==============================] - 283s 8s/step - loss: 0.9954 - categorical_accuracy: 0.6199 - val_loss: 1.3347 - val_categorical_accuracy: 0.4500 - lr: 1.0000e-04\n"
     ]
    }
   ],
   "source": [
    "history = conv_3d_model.fit(x=training_data_gen, steps_per_epoch=steps_per_epoch, epochs=num_epochs, verbose=1,\n",
    "                              callbacks=callbacks_list, validation_data=validation_data_gen,\n",
    "                              validation_steps=validation_steps)"
   ]
  },
  {
   "cell_type": "code",
   "execution_count": 28,
   "id": "362a8dcc-7baf-4cca-9b7e-eb01cf105404",
   "metadata": {},
   "outputs": [
    {
     "data": {
      "text/plain": [
       "3"
      ]
     },
     "execution_count": 28,
     "metadata": {},
     "output_type": "execute_result"
    }
   ],
   "source": [
    "#---------------------------------------#\n",
    "len(train_doc) - (len(train_doc) // batch_size) * batch_size"
   ]
  },
  {
   "cell_type": "code",
   "execution_count": 30,
   "id": "7e2d8b40-1646-4634-83ff-3993748c6037",
   "metadata": {},
   "outputs": [
    {
     "data": {
      "text/plain": [
       "3"
      ]
     },
     "execution_count": 30,
     "metadata": {},
     "output_type": "execute_result"
    }
   ],
   "source": [
    "len(train_doc)%batch_size"
   ]
  },
  {
   "cell_type": "code",
   "execution_count": 32,
   "id": "23d53fa1-8e85-4d8c-946b-bdf64011b3d8",
   "metadata": {},
   "outputs": [
    {
     "data": {
      "text/plain": [
       "663"
      ]
     },
     "execution_count": 32,
     "metadata": {},
     "output_type": "execute_result"
    }
   ],
   "source": [
    "len(train_doc)"
   ]
  },
  {
   "cell_type": "code",
   "execution_count": 33,
   "id": "ff567ece-950d-4397-9f09-8f3a26af8303",
   "metadata": {},
   "outputs": [],
   "source": [
    "def process_batch(source_path, folders_list, batch, batch_size, img_idx, height=120, width=120):\n",
    "    num_images = len(img_idx)\n",
    "    batch_data   = np.zeros((batch_size, num_images, height, width, 3)) # 3 is the number of channels RGB\n",
    "    batch_labels = np.zeros((batch_size, 5)) # batch_labels is the one hot representation of the output\n",
    "\n",
    "    for folder in range(batch_size): # iterate over the batch_size\n",
    "        imgs = os.listdir(source_path+'/'+ folders_list[folder + (batch*batch_size)].split(';')[0]) # read all the images in the folder\n",
    "        for idx,item in enumerate(img_idx): #  Iterate over the frames/images of a folder to read them in\n",
    "            image = imread(source_path+'/'+ folders_list[folder + (batch*batch_size)].strip().split(';')[0]+'/'+imgs[item]).astype(np.float32)\n",
    "\n",
    "            #crop the images and resize them. Note that the images are of 2 different shape\n",
    "            #and the conv3D will throw error if the inputs in a batch have different shapes\n",
    "            h, w, c = image.shape\n",
    "            if w == 160:\n",
    "                image = image[: 20:140, :] #Crop Horizontal edges to make it a square image\n",
    "            image = resize(image, (height, width), anti_aliasing=True)\n",
    "\n",
    "            batch_data[folder,idx,:,:,0] = (image[...,0])/255 #normalise and feed in the image\n",
    "            batch_data[folder,idx,:,:,1] = (image[...,1])/255 #normalise and feed in the image\n",
    "            batch_data[folder,idx,:,:,2] = (image[...,2])/255 #normalise and feed in the image\n",
    "\n",
    "        batch_labels[folder, int(folders_list[folder + (batch*batch_size)].strip().split(';')[2])] = 1\n",
    "\n",
    "    yield batch_data, batch_labels #you yield the batch_data and the batch_labels, remember what does yield do"
   ]
  },
  {
   "cell_type": "code",
   "execution_count": 34,
   "id": "83e5a27e-5572-439c-9d39-06a475eebf6d",
   "metadata": {},
   "outputs": [],
   "source": [
    "\n",
    "def gesture_generator_beta(source_path, folder_list, batch_size, img_idx, height=120, width=120):\n",
    "    total_frames = 30\n",
    "    #num_images = len(img_idx)\n",
    "    while True:\n",
    "        number_of_batches = len(folder_list)//batch_size # calculate the number of batches\n",
    "        randomized_folders_list = np.random.permutation(folder_list)\n",
    "\n",
    "        for batch in range(number_of_batches): # we iterate over the number of batches\n",
    "            for batch_data, batch_labels in process_batch(source_path, randomized_folders_list, batch, batch_size, img_idx, height, width):\n",
    "                yield batch_data, batch_labels\n",
    "\n",
    "            # Remaining (would be < than the batch size) = total - (number_of_batches * batch_size)\n",
    "            remaining_batch_size = len(folder_list) - (number_of_batches * batch_size)\n",
    "            if (remaining_batch_size > 0):\n",
    "                for batch_data, batch_labels in process_batch(source_path, randomized_folders_list, batch, remaining_batch_size, img_idx, height, width):\n",
    "                    yield batch_data, batch_labels"
   ]
  },
  {
   "cell_type": "code",
   "execution_count": 38,
   "id": "12db1e3b-2d47-40f7-b750-c639b89021f5",
   "metadata": {},
   "outputs": [],
   "source": [
    "\n",
    "training_data_gen = gesture_generator_beta('Project_data/train', train_doc, batch_size, img_idx, height, width)\n",
    "validation_data_gen = gesture_generator_beta('Project_data/val', val_doc, batch_size, img_idx, height, width)"
   ]
  },
  {
   "cell_type": "code",
   "execution_count": 39,
   "id": "afe033ff-6e52-44dc-a3b4-e43931681a9b",
   "metadata": {},
   "outputs": [
    {
     "name": "stdout",
     "output_type": "stream",
     "text": [
      "Epoch 1/10\n",
      "34/34 [==============================] - ETA: 0s - loss: 0.9714 - categorical_accuracy: 0.6189\n",
      "Epoch 1: saving model to d:\\model_conv3D_1/model_init_2023-09-2819_39_00.424063\\model-00001-0.97139-0.61893-1.33581-0.48000.h5\n",
      "34/34 [==============================] - 205s 6s/step - loss: 0.9714 - categorical_accuracy: 0.6189 - val_loss: 1.3358 - val_categorical_accuracy: 0.4800 - lr: 1.0000e-04\n",
      "Epoch 2/10\n"
     ]
    },
    {
     "name": "stderr",
     "output_type": "stream",
     "text": [
      "C:\\Program Files\\Python39\\lib\\site-packages\\keras\\src\\engine\\training.py:3000: UserWarning: You are saving your model as an HDF5 file via `model.save()`. This file format is considered legacy. We recommend using instead the native Keras format, e.g. `model.save('my_model.keras')`.\n",
      "  saving_api.save_model(\n"
     ]
    },
    {
     "name": "stdout",
     "output_type": "stream",
     "text": [
      "34/34 [==============================] - ETA: 0s - loss: 0.9380 - categorical_accuracy: 0.5959\n",
      "Epoch 2: saving model to d:\\model_conv3D_1/model_init_2023-09-2819_39_00.424063\\model-00002-0.93799-0.59591-1.38900-0.44000.h5\n",
      "34/34 [==============================] - 221s 6s/step - loss: 0.9380 - categorical_accuracy: 0.5959 - val_loss: 1.3890 - val_categorical_accuracy: 0.4400 - lr: 1.0000e-04\n",
      "Epoch 3/10\n",
      "34/34 [==============================] - ETA: 0s - loss: 0.9475 - categorical_accuracy: 0.6368\n",
      "Epoch 3: saving model to d:\\model_conv3D_1/model_init_2023-09-2819_39_00.424063\\model-00003-0.94747-0.63683-1.31035-0.52000.h5\n",
      "34/34 [==============================] - 215s 6s/step - loss: 0.9475 - categorical_accuracy: 0.6368 - val_loss: 1.3103 - val_categorical_accuracy: 0.5200 - lr: 1.0000e-04\n",
      "Epoch 4/10\n",
      "34/34 [==============================] - ETA: 0s - loss: 0.9332 - categorical_accuracy: 0.6240\n",
      "Epoch 4: saving model to d:\\model_conv3D_1/model_init_2023-09-2819_39_00.424063\\model-00004-0.93323-0.62404-1.21933-0.46000.h5\n",
      "34/34 [==============================] - 198s 6s/step - loss: 0.9332 - categorical_accuracy: 0.6240 - val_loss: 1.2193 - val_categorical_accuracy: 0.4600 - lr: 1.0000e-04\n",
      "Epoch 5/10\n",
      "34/34 [==============================] - ETA: 0s - loss: 0.9376 - categorical_accuracy: 0.6240\n",
      "Epoch 5: saving model to d:\\model_conv3D_1/model_init_2023-09-2819_39_00.424063\\model-00005-0.93762-0.62404-1.56174-0.46000.h5\n",
      "34/34 [==============================] - 209s 6s/step - loss: 0.9376 - categorical_accuracy: 0.6240 - val_loss: 1.5617 - val_categorical_accuracy: 0.4600 - lr: 1.0000e-04\n",
      "Epoch 6/10\n",
      "34/34 [==============================] - ETA: 0s - loss: 0.9178 - categorical_accuracy: 0.6368\n",
      "Epoch 6: saving model to d:\\model_conv3D_1/model_init_2023-09-2819_39_00.424063\\model-00006-0.91782-0.63683-1.46257-0.48000.h5\n",
      "\n",
      "Epoch 6: ReduceLROnPlateau reducing learning rate to 1.0000000474974514e-05.\n",
      "34/34 [==============================] - 207s 6s/step - loss: 0.9178 - categorical_accuracy: 0.6368 - val_loss: 1.4626 - val_categorical_accuracy: 0.4800 - lr: 1.0000e-04\n",
      "Epoch 7/10\n",
      "34/34 [==============================] - ETA: 0s - loss: 0.9088 - categorical_accuracy: 0.6317\n",
      "Epoch 7: saving model to d:\\model_conv3D_1/model_init_2023-09-2819_39_00.424063\\model-00007-0.90875-0.63171-1.56281-0.47000.h5\n",
      "34/34 [==============================] - 208s 6s/step - loss: 0.9088 - categorical_accuracy: 0.6317 - val_loss: 1.5628 - val_categorical_accuracy: 0.4700 - lr: 1.0000e-05\n",
      "Epoch 8/10\n",
      "34/34 [==============================] - ETA: 0s - loss: 0.9095 - categorical_accuracy: 0.6317\n",
      "Epoch 8: saving model to d:\\model_conv3D_1/model_init_2023-09-2819_39_00.424063\\model-00008-0.90953-0.63171-1.45327-0.50000.h5\n",
      "\n",
      "Epoch 8: ReduceLROnPlateau reducing learning rate to 1.0000000656873453e-06.\n",
      "34/34 [==============================] - 210s 6s/step - loss: 0.9095 - categorical_accuracy: 0.6317 - val_loss: 1.4533 - val_categorical_accuracy: 0.5000 - lr: 1.0000e-05\n",
      "Epoch 9/10\n",
      "34/34 [==============================] - ETA: 0s - loss: 0.8848 - categorical_accuracy: 0.6240\n",
      "Epoch 9: saving model to d:\\model_conv3D_1/model_init_2023-09-2819_39_00.424063\\model-00009-0.88483-0.62404-1.30833-0.53000.h5\n",
      "34/34 [==============================] - 176s 5s/step - loss: 0.8848 - categorical_accuracy: 0.6240 - val_loss: 1.3083 - val_categorical_accuracy: 0.5300 - lr: 1.0000e-06\n",
      "Epoch 10/10\n",
      "34/34 [==============================] - ETA: 0s - loss: 0.8980 - categorical_accuracy: 0.6752\n",
      "Epoch 10: saving model to d:\\model_conv3D_1/model_init_2023-09-2819_39_00.424063\\model-00010-0.89796-0.67519-1.42941-0.54000.h5\n",
      "\n",
      "Epoch 10: ReduceLROnPlateau reducing learning rate to 1.0000001111620805e-07.\n",
      "34/34 [==============================] - 176s 5s/step - loss: 0.8980 - categorical_accuracy: 0.6752 - val_loss: 1.4294 - val_categorical_accuracy: 0.5400 - lr: 1.0000e-06\n"
     ]
    }
   ],
   "source": [
    "h2 = conv_3d_model.fit(x=training_data_gen, steps_per_epoch=steps_per_epoch, epochs=num_epochs, verbose=1,\n",
    "                              callbacks=callbacks_list, validation_data=validation_data_gen,\n",
    "                              validation_steps=validation_steps)"
   ]
  },
  {
   "cell_type": "code",
   "execution_count": null,
   "id": "844445da-d08c-438c-a15a-c6bd8ad4a145",
   "metadata": {},
   "outputs": [],
   "source": []
  }
 ],
 "metadata": {
  "kernelspec": {
   "display_name": "Python 3 (ipykernel)",
   "language": "python",
   "name": "python3"
  },
  "language_info": {
   "codemirror_mode": {
    "name": "ipython",
    "version": 3
   },
   "file_extension": ".py",
   "mimetype": "text/x-python",
   "name": "python",
   "nbconvert_exporter": "python",
   "pygments_lexer": "ipython3",
   "version": "3.9.13"
  }
 },
 "nbformat": 4,
 "nbformat_minor": 5
}
