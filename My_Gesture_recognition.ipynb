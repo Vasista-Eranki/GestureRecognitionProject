{
 "cells": [
  {
   "cell_type": "code",
   "execution_count": 17,
   "id": "2e767abf-7ce2-4ed5-8fd9-592434077b13",
   "metadata": {},
   "outputs": [],
   "source": [
    "import numpy as np\n",
    "import os\n",
    "import matplotlib.pyplot as plt\n",
    "#from scipy.misc import imread, imresize\n",
    "#from imageio import imread #using instead of imread from scipy.misc\n",
    "#from scipy.misc import imresize\n",
    "from skimage.io import imread #using instead of imread from scipy.misc\n",
    "from skimage.transform import resize #use resize instead of imresize\n",
    "import datetime\n",
    "import os\n",
    "\n",
    "import keras\n",
    "from keras.models import Sequential, Model\n",
    "from keras.layers import Dense, Dropout, Flatten, BatchNormalization, Activation\n",
    "from keras.layers import Conv3D, MaxPooling3D, Conv2D, MaxPooling2D\n",
    "from keras.regularizers import l2\n",
    "from keras import optimizers\n",
    "from tensorflow.python.keras.utils.data_utils import Sequence\n",
    "from keras.callbacks import ModelCheckpoint, ReduceLROnPlateau"
   ]
  },
  {
   "cell_type": "code",
   "execution_count": null,
   "id": "0f156edb-3a35-4b94-ba07-75dd28a6de37",
   "metadata": {},
   "outputs": [],
   "source": []
  },
  {
   "cell_type": "code",
   "execution_count": 2,
   "id": "5ec983c7-b1f0-4588-bbb5-61995d0dffdc",
   "metadata": {},
   "outputs": [],
   "source": [
    "np.random.seed(30)\n",
    "import random as rn\n",
    "rn.seed(30)\n",
    "from keras import backend as K\n",
    "import tensorflow as tf\n",
    "#tf.set_random_seed(30)"
   ]
  },
  {
   "cell_type": "code",
   "execution_count": 3,
   "id": "c8d57876-877b-4a8a-9a11-c6c06afc9c77",
   "metadata": {},
   "outputs": [
    {
     "name": "stdout",
     "output_type": "stream",
     "text": [
      "Training data: 663\n",
      "Validation data: 100\n"
     ]
    }
   ],
   "source": [
    "#train_doc = np.random.permutation(open('/notebooks/storage/Final_data/Collated_training/train.csv').readlines())\n",
    "#val_doc = np.random.permutation(open('/notebooks/storage/Final_data/Collated_training/val.csv').readlines())\n",
    "\n",
    "train_doc = np.random.permutation(open('Project_data/train.csv').readlines())\n",
    "val_doc = np.random.permutation(open('Project_data/val.csv').readlines())\n",
    "\n",
    "batch_size = 20 #experiment with the batch size\n",
    "print(\"Training data:\" , len(train_doc))\n",
    "print(\"Validation data:\", len(val_doc))"
   ]
  },
  {
   "cell_type": "code",
   "execution_count": 4,
   "id": "71c35aef-409e-44f9-90fe-1355e4a3e503",
   "metadata": {},
   "outputs": [],
   "source": [
    "height = 120 # image width\n",
    "width = 120 # image height\n",
    "img_idx = np.arange(0, 30, 2) #create a list of image numbers you want to use for a particular video"
   ]
  },
  {
   "cell_type": "code",
   "execution_count": 5,
   "id": "415be0ab-925c-4eac-a816-8d3c52e55de4",
   "metadata": {},
   "outputs": [
    {
     "name": "stdout",
     "output_type": "stream",
     "text": [
      "['Thumbs up', 'Thumbs down', 'Left swipe', 'Right swipe', 'Stop']\n",
      "5\n"
     ]
    }
   ],
   "source": [
    "classes = ['Thumbs up', 'Thumbs down','Left swipe', 'Right swipe', 'Stop']\n",
    "print(classes)\n",
    "num_classes = len(classes)\n",
    "print(num_classes)"
   ]
  },
  {
   "cell_type": "markdown",
   "id": "617e7493-b0e1-47de-a035-53654d30c70f",
   "metadata": {},
   "source": [
    "## Generator\r\n",
    "This is one of the most important part of the code. The overall structure of the generator has been given. In the generator, you are going to preprocess the images as you have images of 2 different dimensions as well as create a batch of video frames. You have to experiment with img_idx, y,z and normalization such that you get high accuracy."
   ]
  },
  {
   "cell_type": "markdown",
   "id": "37f11be2-dab5-4ba5-a66a-9d0165d0fda5",
   "metadata": {
    "jp-MarkdownHeadingCollapsed": true
   },
   "source": [
    "##### Starter Generator Logic"
   ]
  },
  {
   "cell_type": "markdown",
   "id": "4074f198-4241-46d8-8295-18bc2b128d50",
   "metadata": {},
   "source": [
    "def generator(source_path, folder_list, batch_size):\n",
    "    y = 100 # image width\n",
    "    z = 100 # image height\n",
    "\n",
    "    print( 'Source path = ', source_path, '; batch size =', batch_size)\n",
    "    img_idx = np.arange(0,30,2) #create a list of image numbers you want to use for a particular video\n",
    "    while True:\n",
    "        t = np.random.permutation(folder_list)\n",
    "        num_batches = len(t)//batch_size  # calculate the number of batches #no. of sequences/batch_size... #1 seq = 1 video... #eg: seq => 100/10 = 10\n",
    "        print('Total Sequences :', num_batches * batch_size)\n",
    "        x = len(img_idx)\n",
    "        for batch in range(num_batches): # we iterate over the number of batches\n",
    "            batch_data = np.zeros((batch_size,x,y,z,3)) # x is the number of images you use for each video, (y,z) is the final size of the input images and 3 is the number of channels RGB\n",
    "            batch_labels = np.zeros((batch_size,5)) # batch_labels is the one hot representation of the output\n",
    "            for folder in range(batch_size): # iterate over the batch_size\n",
    "                imgs = os.listdir(source_path+'/'+ t[folder + (batch*batch_size)].split(';')[0]) # read all the images in the folder\n",
    "                for idx,item in enumerate(img_idx): #  Iterate iver the frames/images of a folder to read them in\n",
    "                    image = imread(source_path+'/'+ t[folder + (batch*batch_size)].strip().split(';')[0]+'/'+imgs[item]).astype(np.float32)\n",
    "\n",
    "                    #crop the images and resize them. Note that the images are of 2 different shape\n",
    "                    #and the conv3D will throw error if the inputs in a batch have different shapes\n",
    "                    if image.shape[1] == 160:\n",
    "                        image = image[:, 20:140, :] # Cropping  20 px from the sides...  to make it a square image.\n",
    "\n",
    "                    res_image = resize(image=image, output_shape=(y, z), anti_aliasing=True)\n",
    "\n",
    "                    batch_data[folder,idx,:,:,0] = res_image[:,:,0] #normalise and feed in the image\n",
    "                    batch_data[folder,idx,:,:,1] = res_image[:,:,1] #normalise and feed in the image\n",
    "                    batch_data[folder,idx,:,:,2] = res_image[:,:,2] #normalise and feed in the image\n",
    "\n",
    "                batch_labels[folder, int(t[folder + (batch*batch_size)].strip().split(';')[2])] = 1\n",
    "            yield batch_data, batch_labels #you yield the batch_data and the batch_labels, remember what does yield do\n",
    "        # write the code for the remaining data points which are left after full batches"
   ]
  },
  {
   "cell_type": "markdown",
   "id": "beb2acc4-c329-4ba6-98e1-2f1ceb9d723b",
   "metadata": {},
   "source": [
    "#### Generator & Support Functions"
   ]
  },
  {
   "cell_type": "code",
   "execution_count": 6,
   "id": "3dcb7617-1b0d-433b-adb6-feaf1691d6b2",
   "metadata": {},
   "outputs": [],
   "source": [
    "def process_batch(source_path, folders_list, batch, batch_size, img_idx, height=120, width=120):\n",
    "    num_images = len(img_idx)\n",
    "    batch_data   = np.zeros((batch_size, num_images, height, width, 3)) # 3 is the number of channels RGB\n",
    "    batch_labels = np.zeros((batch_size, 5)) # batch_labels is the one hot representation of the output\n",
    "\n",
    "    for folder in range(batch_size): # iterate over the batch_size\n",
    "        imgs = os.listdir(source_path+'/'+ folders_list[folder + (batch*batch_size)].split(';')[0]) # read all the images in the folder\n",
    "        for idx,item in enumerate(img_idx): #  Iterate over the frames/images of a folder to read them in\n",
    "            image = imread(source_path+'/'+ folders_list[folder + (batch*batch_size)].strip().split(';')[0]+'/'+imgs[item]).astype(np.float32)\n",
    "\n",
    "            #crop the images and resize them. Note that the images are of 2 different shape\n",
    "            #and the conv3D will throw error if the inputs in a batch have different shapes\n",
    "            h, w, c = image.shape\n",
    "            if w == 160:\n",
    "                image = image[: 20:140, :] #Crop Horizontal edges to make it a square image\n",
    "            image = resize(image, (height, width), anti_aliasing=True)\n",
    "\n",
    "            batch_data[folder,idx,:,:,0] = (image[...,0])/255 #normalise and feed in the image\n",
    "            batch_data[folder,idx,:,:,1] = (image[...,1])/255 #normalise and feed in the image\n",
    "            batch_data[folder,idx,:,:,2] = (image[...,2])/255 #normalise and feed in the image\n",
    "\n",
    "        batch_labels[folder, int(folders_list[folder + (batch*batch_size)].strip().split(';')[2])] = 1\n",
    "\n",
    "    yield batch_data, batch_labels #you yield the batch_data and the batch_labels, remember what does yield do"
   ]
  },
  {
   "cell_type": "code",
   "execution_count": 7,
   "id": "cefbba76-27a7-49a4-ae50-36787fa79d3a",
   "metadata": {},
   "outputs": [],
   "source": [
    "def gesture_generator(source_path, folder_list, batch_size, img_idx, height=120, width=120):\n",
    "    #total_frames = 30\n",
    "    #num_images = len(img_idx)\n",
    "    while True:\n",
    "        number_of_batches = len(folder_list)//batch_size # calculate the number of batches\n",
    "        randomized_folders_list = np.random.permutation(folder_list)\n",
    "\n",
    "        for batch in range(number_of_batches): # we iterate over the number of batches\n",
    "            for batch_data, batch_labels in process_batch(source_path, randomized_folders_list, batch, batch_size, img_idx, height, width):\n",
    "                yield batch_data, batch_labels\n",
    "\n",
    "            # Remaining (would be < than the batch size) = total - (number_of_batches * batch_size)\n",
    "            remaining_batch_size = len(folder_list) - (number_of_batches * batch_size)\n",
    "            if (remaining_batch_size > 0):\n",
    "                for batch_data, batch_labels in process_batch(source_path, randomized_folders_list, batch, remaining_batch_size, img_idx, height, width):\n",
    "                    yield batch_data, batch_labels"
   ]
  },
  {
   "cell_type": "code",
   "execution_count": 8,
   "id": "a7b2fc78-8ab6-45c5-aa28-f0af7055c3bc",
   "metadata": {},
   "outputs": [],
   "source": [
    "def plot_loss_accuracy(history):\n",
    "    # list all data in history\n",
    "    print(history.history.keys())\n",
    "    # summarize history for accuracy\n",
    "    plt.plot(history.history['categorical_accuracy'])\n",
    "    plt.plot(history.history['val_categorical_accuracy'])\n",
    "    plt.title('model accuracy')\n",
    "    plt.ylabel('accuracy')\n",
    "    plt.xlabel('epoch')\n",
    "    plt.legend(['train', 'test'], loc='upper left')\n",
    "    plt.show()\n",
    "    # summarize history for loss\n",
    "    plt.plot(history.history['loss'])\n",
    "    plt.plot(history.history['val_loss'])\n",
    "    plt.title('model loss')\n",
    "    plt.ylabel('loss')\n",
    "    plt.xlabel('epoch')\n",
    "    plt.legend(['train', 'test'], loc='upper left')\n",
    "    plt.show()"
   ]
  },
  {
   "cell_type": "code",
   "execution_count": 9,
   "id": "6cd96d00-8818-4f2a-acde-2456bc5ee200",
   "metadata": {},
   "outputs": [],
   "source": [
    "def visualize_outputs(fit_data, epoch):\n",
    "    acc = fit_data.history['categorical_accuracy']\n",
    "    val_acc = fit_data.history['val_categorical_accuracy']\n",
    "\n",
    "    loss = fit_data.history['loss']\n",
    "    val_loss = fit_data.history['val_loss']\n",
    "\n",
    "    epochs_range = range(epoch)\n",
    "\n",
    "    plt.figure(figsize=(8, 8))\n",
    "    plt.subplot(1, 2, 1)\n",
    "    plt.plot(epochs_range, acc, label='Training Accuracy')\n",
    "    plt.plot(epochs_range, val_acc, label='Validation Accuracy')\n",
    "    plt.legend(loc='lower right')\n",
    "    plt.title('Training and Validation Accuracy')\n",
    "\n",
    "    plt.subplot(1, 2, 2)\n",
    "    plt.plot(epochs_range, loss, label='Training Loss')\n",
    "    plt.plot(epochs_range, val_loss, label='Validation Loss')\n",
    "    plt.legend(loc='upper right')\n",
    "    plt.title('Training and Validation Loss')\n",
    "    plt.show()"
   ]
  },
  {
   "cell_type": "code",
   "execution_count": 10,
   "id": "1c5edeb3-1a81-47bb-8805-e8d080cd6941",
   "metadata": {},
   "outputs": [
    {
     "data": {
      "text/plain": [
       "range(0, 33)"
      ]
     },
     "execution_count": 10,
     "metadata": {},
     "output_type": "execute_result"
    }
   ],
   "source": [
    "t = np.random.permutation(train_doc)\n",
    "nb = len(t)//batch_size\n",
    "range(nb)"
   ]
  },
  {
   "cell_type": "markdown",
   "id": "a62d9a0f-1b6a-4f19-a6f7-99ade99780f0",
   "metadata": {},
   "source": [
    "## Prepare a Model"
   ]
  },
  {
   "cell_type": "markdown",
   "id": "b876f842-c13c-4a29-ab18-aa233aea4203",
   "metadata": {},
   "source": [
    "### 1. Create a Conv3D + RNN (GRU)"
   ]
  },
  {
   "cell_type": "markdown",
   "id": "9f33cdea-5104-4cc8-ad21-19a0b0768642",
   "metadata": {},
   "source": [
    "import keras\n",
    "from keras.models import Sequential, Model\n",
    "from keras.layers import Dense, Dropout, Flatten, BatchNormalization, Activation\n",
    "from keras.layers import Conv3D, MaxPooling3D, Conv2D, MaxPooling2D\n",
    "from keras.callbacks import ModelCheckpoint, ReduceLROnPlateau\n",
    "from keras.regularizers import l2\n",
    "from keras import optimizers\n",
    "from tensorflow.python.keras.utils.data_utils import Sequence"
   ]
  },
  {
   "cell_type": "code",
   "execution_count": 11,
   "id": "d8dccd8b-024c-4b99-8220-3d7331e7530b",
   "metadata": {},
   "outputs": [],
   "source": [
    "def prepare_conv3d_model():\n",
    "    model = Sequential()\n",
    "    model.add(Conv3D(32, (3,3,3), padding='same', input_shape=(len(img_idx), height, width, 3)))\n",
    "    model.add(Activation('relu'))\n",
    "    model.add(MaxPooling3D(pool_size=(2, 2, 2)))\n",
    "\n",
    "    model.add(Conv3D(64, (3,3,3), padding='same'))\n",
    "    model.add(Activation('relu'))\n",
    "    model.add(BatchNormalization())\n",
    "    model.add(MaxPooling3D(pool_size=(2, 2, 2)))\n",
    "\n",
    "    model.add(Conv3D(64, (3,3,3), padding='same'))\n",
    "    model.add(Activation('relu'))\n",
    "    model.add(MaxPooling3D(pool_size=(2, 2, 2)))\n",
    "\n",
    "    model.add(Flatten())\n",
    "    model.add(Dense(128))\n",
    "    model.add(Activation('relu'))\n",
    "    model.add(Dropout(0.20))\n",
    "\n",
    "    model.add(Dense(num_classes))\n",
    "    model.add(Activation('softmax'))\n",
    "    return model"
   ]
  },
  {
   "cell_type": "code",
   "execution_count": null,
   "id": "012bc23c-284b-490d-9413-5ef1b08e6cf7",
   "metadata": {},
   "outputs": [],
   "source": []
  },
  {
   "cell_type": "code",
   "execution_count": 12,
   "id": "457c5b39-a5ea-489b-b283-3699e61d56bb",
   "metadata": {},
   "outputs": [],
   "source": [
    "def model_callbacks(curr_dt_time, save_folder_name):\n",
    "    model_name = 'model_init' + '_' + str(curr_dt_time).replace(' ','').replace(':','_') + '/'\n",
    "    save_file_path = save_folder_name + '/' + model_name + '/'\n",
    "    if not os.path.exists(save_file_path):\n",
    "        os.makedirs(save_file_path, mode=0o666)\n",
    "    filepath = save_file_path + 'model-{epoch:05d}-{loss:.5f}-{categorical_accuracy:.5f}-{val_loss:.5f}-{val_categorical_accuracy:.5f}.h5'\n",
    "    checkpoint = ModelCheckpoint(filepath, monitor='val_loss', verbose=1, save_best_only=False, save_weights_only=False, mode='auto', period=1)\n",
    "    #LR = # write the REducelronplateau code here\n",
    "    #LR = ReduceLROnPlateau(monitor='val_loss', factor=0.1, patience=2, fmin_lr=0.00001, verbose=1)\n",
    "    #return [checkpoint, LR]\n",
    "    return checkpoint"
   ]
  },
  {
   "cell_type": "code",
   "execution_count": 13,
   "id": "fc047270-2be9-4827-8bcf-b995287f42fb",
   "metadata": {},
   "outputs": [],
   "source": [
    "def get_steps_info(num_train_sequences, num_val_sequences, batch_size):\n",
    "    if (num_train_sequences%batch_size) == 0:\n",
    "        steps_per_epoch = int(num_train_sequences/batch_size)\n",
    "    else:\n",
    "        steps_per_epoch = (num_train_sequences//batch_size) + 1\n",
    "\n",
    "    if (num_val_sequences%batch_size) == 0:\n",
    "        validation_steps = int(num_val_sequences/batch_size)\n",
    "    else:\n",
    "        validation_steps = (num_val_sequences//batch_size) + 1\n",
    "    return steps_per_epoch, validation_steps"
   ]
  },
  {
   "cell_type": "code",
   "execution_count": 14,
   "id": "29ad8d5c-3f8b-4d23-b23e-587fa5f1e412",
   "metadata": {},
   "outputs": [
    {
     "name": "stdout",
     "output_type": "stream",
     "text": [
      "Model: \"sequential\"\n",
      "_________________________________________________________________\n",
      " Layer (type)                Output Shape              Param #   \n",
      "=================================================================\n",
      " conv3d (Conv3D)             (None, 15, 120, 120, 32   2624      \n",
      "                             )                                   \n",
      "                                                                 \n",
      " activation (Activation)     (None, 15, 120, 120, 32   0         \n",
      "                             )                                   \n",
      "                                                                 \n",
      " max_pooling3d (MaxPooling3  (None, 7, 60, 60, 32)     0         \n",
      " D)                                                              \n",
      "                                                                 \n",
      " conv3d_1 (Conv3D)           (None, 7, 60, 60, 64)     55360     \n",
      "                                                                 \n",
      " activation_1 (Activation)   (None, 7, 60, 60, 64)     0         \n",
      "                                                                 \n",
      " batch_normalization (Batch  (None, 7, 60, 60, 64)     256       \n",
      " Normalization)                                                  \n",
      "                                                                 \n",
      " max_pooling3d_1 (MaxPoolin  (None, 3, 30, 30, 64)     0         \n",
      " g3D)                                                            \n",
      "                                                                 \n",
      " conv3d_2 (Conv3D)           (None, 3, 30, 30, 64)     110656    \n",
      "                                                                 \n",
      " activation_2 (Activation)   (None, 3, 30, 30, 64)     0         \n",
      "                                                                 \n",
      " max_pooling3d_2 (MaxPoolin  (None, 1, 15, 15, 64)     0         \n",
      " g3D)                                                            \n",
      "                                                                 \n",
      " flatten (Flatten)           (None, 14400)             0         \n",
      "                                                                 \n",
      " dense (Dense)               (None, 128)               1843328   \n",
      "                                                                 \n",
      " activation_3 (Activation)   (None, 128)               0         \n",
      "                                                                 \n",
      " dropout (Dropout)           (None, 128)               0         \n",
      "                                                                 \n",
      " dense_1 (Dense)             (None, 5)                 645       \n",
      "                                                                 \n",
      " activation_4 (Activation)   (None, 5)                 0         \n",
      "                                                                 \n",
      "=================================================================\n",
      "Total params: 2012869 (7.68 MB)\n",
      "Trainable params: 2012741 (7.68 MB)\n",
      "Non-trainable params: 128 (512.00 Byte)\n",
      "_________________________________________________________________\n"
     ]
    }
   ],
   "source": [
    "model_01 = prepare_conv3d_model()\n",
    "optimizer = optimizers.Adam()\n",
    "model_01.compile(optimizer, loss='categorical_crossentropy', metrics=['categorical_accuracy'])\n",
    "model_01.summary()"
   ]
  },
  {
   "cell_type": "code",
   "execution_count": 15,
   "id": "87009b5f-44d2-41a5-a172-f79e22438f24",
   "metadata": {},
   "outputs": [],
   "source": [
    "height = 120 # image width\n",
    "width = 120 # image height\n",
    "img_idx = np.arange(0, 30, 2) #create a list of image numbers you want to use for a particular video\n",
    "num_epochs = 15\n",
    "LrPlateau_patience = 2\n",
    "LrPlateau_mode = 'auto'\n",
    "LrPlateau_factor = 0.1\n",
    "LrPlateau_fmin_lr = 0.00001"
   ]
  },
  {
   "cell_type": "code",
   "execution_count": 18,
   "id": "3bb89209-c274-4bf8-88fa-f07d2068555d",
   "metadata": {},
   "outputs": [
    {
     "name": "stdout",
     "output_type": "stream",
     "text": [
      "WARNING:tensorflow:`period` argument is deprecated. Please use `save_freq` to specify the frequency in number of batches seen.\n"
     ]
    }
   ],
   "source": [
    "\n",
    "curr_dt_time = datetime.datetime.now()\n",
    "LR = ReduceLROnPlateau(monitor='val_loss',\n",
    "                       factor=LrPlateau_factor,\n",
    "                       patience=LrPlateau_patience,\n",
    "                       fmin_lr=LrPlateau_fmin_lr, verbose=1)\n",
    "\n",
    "callbacks_list = [model_callbacks(curr_dt_time, \"d:\\model_conv3D_1\"), LR]\n",
    "steps_per_epoch, validation_steps = get_steps_info(len(train_doc), len(val_doc), batch_size)"
   ]
  },
  {
   "cell_type": "code",
   "execution_count": 19,
   "id": "6b02a905-692b-4ae5-8026-925012888438",
   "metadata": {},
   "outputs": [
    {
     "name": "stdout",
     "output_type": "stream",
     "text": [
      "Epochs 15\n",
      "steps_per_epoch 34\n",
      "validation_steps 5\n"
     ]
    }
   ],
   "source": [
    "print('Epochs', num_epochs)\n",
    "print('steps_per_epoch', steps_per_epoch)\n",
    "print('validation_steps', validation_steps)"
   ]
  },
  {
   "cell_type": "code",
   "execution_count": 20,
   "id": "d5dea41e-0433-4c5a-bbd5-014832eb5538",
   "metadata": {},
   "outputs": [],
   "source": [
    "training_data_gen = gesture_generator('Project_data/train', train_doc, batch_size, img_idx, height, width)\n",
    "validation_data_gen = gesture_generator('Project_data/val', val_doc, batch_size, img_idx, height, width)"
   ]
  },
  {
   "cell_type": "code",
   "execution_count": 21,
   "id": "89008481-53b7-4c5f-9a4d-445bd5ada92f",
   "metadata": {},
   "outputs": [
    {
     "name": "stdout",
     "output_type": "stream",
     "text": [
      "Epoch 1/15\n",
      "34/34 [==============================] - ETA: 0s - loss: 2.8901 - categorical_accuracy: 0.2353\n",
      "Epoch 1: saving model to d:\\model_conv3D_1/model_init_2023-09-2922_03_02.244585\\model-00001-2.89014-0.23529-1.62066-0.20000.h5\n",
      "34/34 [==============================] - 201s 6s/step - loss: 2.8901 - categorical_accuracy: 0.2353 - val_loss: 1.6207 - val_categorical_accuracy: 0.2000 - lr: 0.0010\n",
      "Epoch 2/15\n"
     ]
    },
    {
     "name": "stderr",
     "output_type": "stream",
     "text": [
      "C:\\Program Files\\Python39\\lib\\site-packages\\keras\\src\\engine\\training.py:3000: UserWarning: You are saving your model as an HDF5 file via `model.save()`. This file format is considered legacy. We recommend using instead the native Keras format, e.g. `model.save('my_model.keras')`.\n",
      "  saving_api.save_model(\n"
     ]
    },
    {
     "name": "stdout",
     "output_type": "stream",
     "text": [
      "34/34 [==============================] - ETA: 0s - loss: 1.6314 - categorical_accuracy: 0.2583\n",
      "Epoch 2: saving model to d:\\model_conv3D_1/model_init_2023-09-2922_03_02.244585\\model-00002-1.63136-0.25831-1.58360-0.25000.h5\n",
      "34/34 [==============================] - 202s 6s/step - loss: 1.6314 - categorical_accuracy: 0.2583 - val_loss: 1.5836 - val_categorical_accuracy: 0.2500 - lr: 0.0010\n",
      "Epoch 3/15\n",
      "34/34 [==============================] - ETA: 0s - loss: 1.6345 - categorical_accuracy: 0.2737\n",
      "Epoch 3: saving model to d:\\model_conv3D_1/model_init_2023-09-2922_03_02.244585\\model-00003-1.63453-0.27366-1.56845-0.27000.h5\n",
      "34/34 [==============================] - 213s 6s/step - loss: 1.6345 - categorical_accuracy: 0.2737 - val_loss: 1.5684 - val_categorical_accuracy: 0.2700 - lr: 0.0010\n",
      "Epoch 4/15\n",
      "34/34 [==============================] - ETA: 0s - loss: 1.5383 - categorical_accuracy: 0.3146\n",
      "Epoch 4: saving model to d:\\model_conv3D_1/model_init_2023-09-2922_03_02.244585\\model-00004-1.53825-0.31458-1.59057-0.32000.h5\n",
      "34/34 [==============================] - 204s 6s/step - loss: 1.5383 - categorical_accuracy: 0.3146 - val_loss: 1.5906 - val_categorical_accuracy: 0.3200 - lr: 0.0010\n",
      "Epoch 5/15\n",
      "34/34 [==============================] - ETA: 0s - loss: 1.4957 - categorical_accuracy: 0.3376\n",
      "Epoch 5: saving model to d:\\model_conv3D_1/model_init_2023-09-2922_03_02.244585\\model-00005-1.49568-0.33760-1.55387-0.25000.h5\n",
      "34/34 [==============================] - 193s 6s/step - loss: 1.4957 - categorical_accuracy: 0.3376 - val_loss: 1.5539 - val_categorical_accuracy: 0.2500 - lr: 0.0010\n",
      "Epoch 6/15\n",
      "34/34 [==============================] - ETA: 0s - loss: 1.5093 - categorical_accuracy: 0.3350\n",
      "Epoch 6: saving model to d:\\model_conv3D_1/model_init_2023-09-2922_03_02.244585\\model-00006-1.50926-0.33504-1.51980-0.37000.h5\n",
      "34/34 [==============================] - 208s 6s/step - loss: 1.5093 - categorical_accuracy: 0.3350 - val_loss: 1.5198 - val_categorical_accuracy: 0.3700 - lr: 0.0010\n",
      "Epoch 7/15\n",
      "34/34 [==============================] - ETA: 0s - loss: 1.5826 - categorical_accuracy: 0.3248\n",
      "Epoch 7: saving model to d:\\model_conv3D_1/model_init_2023-09-2922_03_02.244585\\model-00007-1.58257-0.32481-1.58679-0.29000.h5\n",
      "34/34 [==============================] - 218s 6s/step - loss: 1.5826 - categorical_accuracy: 0.3248 - val_loss: 1.5868 - val_categorical_accuracy: 0.2900 - lr: 0.0010\n",
      "Epoch 8/15\n",
      "34/34 [==============================] - ETA: 0s - loss: 1.4872 - categorical_accuracy: 0.3095\n",
      "Epoch 8: saving model to d:\\model_conv3D_1/model_init_2023-09-2922_03_02.244585\\model-00008-1.48719-0.30946-1.53681-0.24000.h5\n",
      "\n",
      "Epoch 8: ReduceLROnPlateau reducing learning rate to 0.00010000000474974513.\n",
      "34/34 [==============================] - 216s 6s/step - loss: 1.4872 - categorical_accuracy: 0.3095 - val_loss: 1.5368 - val_categorical_accuracy: 0.2400 - lr: 0.0010\n",
      "Epoch 9/15\n",
      "34/34 [==============================] - ETA: 0s - loss: 1.4327 - categorical_accuracy: 0.3529\n",
      "Epoch 9: saving model to d:\\model_conv3D_1/model_init_2023-09-2922_03_02.244585\\model-00009-1.43270-0.35294-1.49220-0.29000.h5\n",
      "34/34 [==============================] - 201s 6s/step - loss: 1.4327 - categorical_accuracy: 0.3529 - val_loss: 1.4922 - val_categorical_accuracy: 0.2900 - lr: 1.0000e-04\n",
      "Epoch 10/15\n",
      "34/34 [==============================] - ETA: 0s - loss: 1.3973 - categorical_accuracy: 0.4041\n",
      "Epoch 10: saving model to d:\\model_conv3D_1/model_init_2023-09-2922_03_02.244585\\model-00010-1.39728-0.40409-1.45207-0.37000.h5\n",
      "34/34 [==============================] - 226s 7s/step - loss: 1.3973 - categorical_accuracy: 0.4041 - val_loss: 1.4521 - val_categorical_accuracy: 0.3700 - lr: 1.0000e-04\n",
      "Epoch 11/15\n",
      "34/34 [==============================] - ETA: 0s - loss: 1.3663 - categorical_accuracy: 0.3913\n",
      "Epoch 11: saving model to d:\\model_conv3D_1/model_init_2023-09-2922_03_02.244585\\model-00011-1.36627-0.39130-1.43186-0.35000.h5\n",
      "34/34 [==============================] - 204s 6s/step - loss: 1.3663 - categorical_accuracy: 0.3913 - val_loss: 1.4319 - val_categorical_accuracy: 0.3500 - lr: 1.0000e-04\n",
      "Epoch 12/15\n",
      "34/34 [==============================] - ETA: 0s - loss: 1.3159 - categorical_accuracy: 0.4143\n",
      "Epoch 12: saving model to d:\\model_conv3D_1/model_init_2023-09-2922_03_02.244585\\model-00012-1.31588-0.41432-1.47666-0.35000.h5\n",
      "34/34 [==============================] - 196s 6s/step - loss: 1.3159 - categorical_accuracy: 0.4143 - val_loss: 1.4767 - val_categorical_accuracy: 0.3500 - lr: 1.0000e-04\n",
      "Epoch 13/15\n",
      "34/34 [==============================] - ETA: 0s - loss: 1.2611 - categorical_accuracy: 0.4373\n",
      "Epoch 13: saving model to d:\\model_conv3D_1/model_init_2023-09-2922_03_02.244585\\model-00013-1.26107-0.43734-1.35457-0.36000.h5\n",
      "34/34 [==============================] - 200s 6s/step - loss: 1.2611 - categorical_accuracy: 0.4373 - val_loss: 1.3546 - val_categorical_accuracy: 0.3600 - lr: 1.0000e-04\n",
      "Epoch 14/15\n",
      "34/34 [==============================] - ETA: 0s - loss: 1.2592 - categorical_accuracy: 0.4885\n",
      "Epoch 14: saving model to d:\\model_conv3D_1/model_init_2023-09-2922_03_02.244585\\model-00014-1.25923-0.48849-1.33220-0.43000.h5\n",
      "34/34 [==============================] - 213s 6s/step - loss: 1.2592 - categorical_accuracy: 0.4885 - val_loss: 1.3322 - val_categorical_accuracy: 0.4300 - lr: 1.0000e-04\n",
      "Epoch 15/15\n",
      "34/34 [==============================] - ETA: 0s - loss: 1.2757 - categorical_accuracy: 0.4501\n",
      "Epoch 15: saving model to d:\\model_conv3D_1/model_init_2023-09-2922_03_02.244585\\model-00015-1.27568-0.45013-1.37017-0.43000.h5\n",
      "34/34 [==============================] - 201s 6s/step - loss: 1.2757 - categorical_accuracy: 0.4501 - val_loss: 1.3702 - val_categorical_accuracy: 0.4300 - lr: 1.0000e-04\n"
     ]
    }
   ],
   "source": [
    "#fit_generator is deprecated.. using model.fit with generator objects...\n",
    "\n",
    "history = model_01.fit(x=training_data_gen, steps_per_epoch=steps_per_epoch, epochs=num_epochs, verbose=1,\n",
    "                       callbacks=callbacks_list, validation_data=validation_data_gen,\n",
    "                       validation_steps=validation_steps)"
   ]
  },
  {
   "cell_type": "code",
   "execution_count": 22,
   "id": "362a8dcc-7baf-4cca-9b7e-eb01cf105404",
   "metadata": {},
   "outputs": [
    {
     "data": {
      "image/png": "[encoded data removed]",
      "text/plain": [
       "<Figure size 800x800 with 2 Axes>"
      ]
     },
     "metadata": {},
     "output_type": "display_data"
    }
   ],
   "source": [
    "visualize_outputs(history, epoch=num_epochs)"
   ]
  },
  {
   "cell_type": "markdown",
   "id": "1e1e147b-d5d1-48d2-9fdc-59ce83156103",
   "metadata": {},
   "source": [
    "len(train_doc)%batch_size"
   ]
  },
  {
   "cell_type": "markdown",
   "id": "7d75756e-b0b7-4f50-8153-1ca8391200cf",
   "metadata": {},
   "source": [
    "len(train_doc)"
   ]
  },
  {
   "cell_type": "markdown",
   "id": "b4501bbc-208a-448a-9ed4-37c274f05c78",
   "metadata": {},
   "source": [
    "def process_batch(source_path, folders_list, batch, batch_size, img_idx, height=120, width=120):\n",
    "    num_images = len(img_idx)\n",
    "    batch_data   = np.zeros((batch_size, num_images, height, width, 3)) # 3 is the number of channels RGB\n",
    "    batch_labels = np.zeros((batch_size, 5)) # batch_labels is the one hot representation of the output\n",
    "\n",
    "    for folder in range(batch_size): # iterate over the batch_size\n",
    "        imgs = os.listdir(source_path+'/'+ folders_list[folder + (batch*batch_size)].split(';')[0]) # read all the images in the folder\n",
    "        for idx,item in enumerate(img_idx): #  Iterate over the frames/images of a folder to read them in\n",
    "            image = imread(source_path+'/'+ folders_list[folder + (batch*batch_size)].strip().split(';')[0]+'/'+imgs[item]).astype(np.float32)\n",
    "\n",
    "            #crop the images and resize them. Note that the images are of 2 different shape\n",
    "            #and the conv3D will throw error if the inputs in a batch have different shapes\n",
    "            h, w, c = image.shape\n",
    "            if w == 160:\n",
    "                image = image[: 20:140, :] #Crop Horizontal edges to make it a square image\n",
    "            image = resize(image, (height, width), anti_aliasing=True)\n",
    "\n",
    "            batch_data[folder,idx,:,:,0] = (image[...,0])/255 #normalise and feed in the image\n",
    "            batch_data[folder,idx,:,:,1] = (image[...,1])/255 #normalise and feed in the image\n",
    "            batch_data[folder,idx,:,:,2] = (image[...,2])/255 #normalise and feed in the image\n",
    "\n",
    "        batch_labels[folder, int(folders_list[folder + (batch*batch_size)].strip().split(';')[2])] = 1\n",
    "\n",
    "    yield batch_data, batch_labels #you yield the batch_data and the batch_labels, remember what does yield do"
   ]
  },
  {
   "cell_type": "code",
   "execution_count": null,
   "id": "83e5a27e-5572-439c-9d39-06a475eebf6d",
   "metadata": {},
   "outputs": [],
   "source": [
    "\n",
    "def gesture_generator_beta(source_path, folder_list, batch_size, img_idx, height=120, width=120):\n",
    "    total_frames = 30\n",
    "    #num_images = len(img_idx)\n",
    "    while True:\n",
    "        number_of_batches = len(folder_list)//batch_size # calculate the number of batches\n",
    "        randomized_folders_list = np.random.permutation(folder_list)\n",
    "\n",
    "        for batch in range(number_of_batches): # we iterate over the number of batches\n",
    "            for batch_data, batch_labels in process_batch(source_path, randomized_folders_list, batch, batch_size, img_idx, height, width):\n",
    "                yield batch_data, batch_labels\n",
    "\n",
    "            # Remaining (would be < than the batch size) = total - (number_of_batches * batch_size)\n",
    "            remaining_batch_size = len(folder_list) - (number_of_batches * batch_size)\n",
    "            if (remaining_batch_size > 0):\n",
    "                for batch_data, batch_labels in process_batch(source_path, randomized_folders_list, batch, remaining_batch_size, img_idx, height, width):\n",
    "                    yield batch_data, batch_labels"
   ]
  },
  {
   "cell_type": "markdown",
   "id": "cee42f30-15f0-4802-b69a-e55f8c104a2e",
   "metadata": {},
   "source": [
    "\n",
    "training_data_gen = gesture_generator_beta('Project_data/train', train_doc, batch_size, img_idx, height, width)\n",
    "validation_data_gen = gesture_generator_beta('Project_data/val', val_doc, batch_size, img_idx, height, width)"
   ]
  },
  {
   "cell_type": "markdown",
   "id": "1e750cb4-a1db-45cb-bbe0-9c278f5e3667",
   "metadata": {},
   "source": [
    "h2 = conv_3d_model.fit(x=training_data_gen, steps_per_epoch=steps_per_epoch, epochs=num_epochs, verbose=1,\n",
    "                              callbacks=callbacks_list, validation_data=validation_data_gen,\n",
    "                              validation_steps=validation_steps)"
   ]
  },
  {
   "cell_type": "markdown",
   "id": "4e5884ba-c575-4ff8-8920-a2b80442c05d",
   "metadata": {},
   "source": [
    "visualize_outputs(h2, epoch=num_epochs)"
   ]
  },
  {
   "cell_type": "code",
   "execution_count": null,
   "id": "9284a05e-6923-41d4-bbbd-a289c502aa3b",
   "metadata": {},
   "outputs": [],
   "source": []
  }
 ],
 "metadata": {
  "kernelspec": {
   "display_name": "Python 3 (ipykernel)",
   "language": "python",
   "name": "python3"
  },
  "language_info": {
   "codemirror_mode": {
    "name": "ipython",
    "version": 3
   },
   "file_extension": ".py",
   "mimetype": "text/x-python",
   "name": "python",
   "nbconvert_exporter": "python",
   "pygments_lexer": "ipython3",
   "version": "3.9.13"
  }
 },
 "nbformat": 4,
 "nbformat_minor": 5
}
