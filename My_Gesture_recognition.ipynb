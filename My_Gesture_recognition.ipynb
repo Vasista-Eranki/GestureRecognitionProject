{
 "cells": [
  {
   "cell_type": "code",
   "execution_count": 1,
   "id": "2e767abf-7ce2-4ed5-8fd9-592434077b13",
   "metadata": {},
   "outputs": [],
   "source": [
    "import numpy as np\n",
    "import os\n",
    "\n",
    "#from scipy.misc import imread, imresize\n",
    "#from imageio import imread #using instead of imread from scipy.misc\n",
    "#from scipy.misc import imresize\n",
    "from skimage.io import imread #using instead of imread from scipy.misc\n",
    "from skimage.transform import resize #use resize instead of imresize\n",
    "import datetime\n",
    "import os"
   ]
  },
  {
   "cell_type": "code",
   "execution_count": 2,
   "id": "5ec983c7-b1f0-4588-bbb5-61995d0dffdc",
   "metadata": {},
   "outputs": [],
   "source": [
    "np.random.seed(30)\n",
    "import random as rn\n",
    "rn.seed(30)\n",
    "from keras import backend as K\n",
    "import tensorflow as tf\n",
    "#tf.set_random_seed(30)"
   ]
  },
  {
   "cell_type": "code",
   "execution_count": 3,
   "id": "c8d57876-877b-4a8a-9a11-c6c06afc9c77",
   "metadata": {},
   "outputs": [
    {
     "data": {
      "text/plain": [
       "663"
      ]
     },
     "execution_count": 3,
     "metadata": {},
     "output_type": "execute_result"
    }
   ],
   "source": [
    "#train_doc = np.random.permutation(open('/notebooks/storage/Final_data/Collated_training/train.csv').readlines())\n",
    "#val_doc = np.random.permutation(open('/notebooks/storage/Final_data/Collated_training/val.csv').readlines())\n",
    "\n",
    "train_doc = np.random.permutation(open('Project_data/train.csv').readlines())\n",
    "val_doc = np.random.permutation(open('Project_data/val.csv').readlines())\n",
    "\n",
    "batch_size = 20 #experiment with the batch size\n",
    "len(train_doc)"
   ]
  },
  {
   "cell_type": "code",
   "execution_count": 4,
   "id": "71c35aef-409e-44f9-90fe-1355e4a3e503",
   "metadata": {},
   "outputs": [],
   "source": [
    "height = 100 # image width\n",
    "width = 100 # image height\n",
    "img_idx = np.arange(0, 30, 2) #create a list of image numbers you want to use for a particular video"
   ]
  },
  {
   "cell_type": "code",
   "execution_count": 5,
   "id": "415be0ab-925c-4eac-a816-8d3c52e55de4",
   "metadata": {},
   "outputs": [
    {
     "name": "stdout",
     "output_type": "stream",
     "text": [
      "['Thumbs up', 'Thumbs down', 'Left swipe', 'Right swipe', 'Stop']\n",
      "5\n"
     ]
    }
   ],
   "source": [
    "classes = ['Thumbs up', 'Thumbs down','Left swipe', 'Right swipe', 'Stop']\n",
    "print(classes)\n",
    "num_classes = len(classes)\n",
    "print(num_classes)"
   ]
  },
  {
   "cell_type": "markdown",
   "id": "617e7493-b0e1-47de-a035-53654d30c70f",
   "metadata": {},
   "source": [
    "## Generator\r\n",
    "This is one of the most important part of the code. The overall structure of the generator has been given. In the generator, you are going to preprocess the images as you have images of 2 different dimensions as well as create a batch of video frames. You have to experiment with img_idx, y,z and normalization such that you get high accuracy."
   ]
  },
  {
   "cell_type": "markdown",
   "id": "37f11be2-dab5-4ba5-a66a-9d0165d0fda5",
   "metadata": {
    "jp-MarkdownHeadingCollapsed": true
   },
   "source": [
    "##### Starter Generator Logic"
   ]
  },
  {
   "cell_type": "markdown",
   "id": "4074f198-4241-46d8-8295-18bc2b128d50",
   "metadata": {},
   "source": [
    "def generator(source_path, folder_list, batch_size):\n",
    "    y = 100 # image width\n",
    "    z = 100 # image height\n",
    "\n",
    "    print( 'Source path = ', source_path, '; batch size =', batch_size)\n",
    "    img_idx = np.arange(0,30,2) #create a list of image numbers you want to use for a particular video\n",
    "    while True:\n",
    "        t = np.random.permutation(folder_list)\n",
    "        num_batches = len(t)//batch_size  # calculate the number of batches #no. of sequences/batch_size... #1 seq = 1 video... #eg: seq => 100/10 = 10\n",
    "        print('Total Sequences :', num_batches * batch_size)\n",
    "        x = len(img_idx)\n",
    "        for batch in range(num_batches): # we iterate over the number of batches\n",
    "            batch_data = np.zeros((batch_size,x,y,z,3)) # x is the number of images you use for each video, (y,z) is the final size of the input images and 3 is the number of channels RGB\n",
    "            batch_labels = np.zeros((batch_size,5)) # batch_labels is the one hot representation of the output\n",
    "            for folder in range(batch_size): # iterate over the batch_size\n",
    "                imgs = os.listdir(source_path+'/'+ t[folder + (batch*batch_size)].split(';')[0]) # read all the images in the folder\n",
    "                for idx,item in enumerate(img_idx): #  Iterate iver the frames/images of a folder to read them in\n",
    "                    image = imread(source_path+'/'+ t[folder + (batch*batch_size)].strip().split(';')[0]+'/'+imgs[item]).astype(np.float32)\n",
    "\n",
    "                    #crop the images and resize them. Note that the images are of 2 different shape\n",
    "                    #and the conv3D will throw error if the inputs in a batch have different shapes\n",
    "                    if image.shape[1] == 160:\n",
    "                        image = image[:, 20:140, :] # Cropping  20 px from the sides...  to make it a square image.\n",
    "\n",
    "                    res_image = resize(image=image, output_shape=(y, z), anti_aliasing=True)\n",
    "\n",
    "                    batch_data[folder,idx,:,:,0] = res_image[:,:,0] #normalise and feed in the image\n",
    "                    batch_data[folder,idx,:,:,1] = res_image[:,:,1] #normalise and feed in the image\n",
    "                    batch_data[folder,idx,:,:,2] = res_image[:,:,2] #normalise and feed in the image\n",
    "\n",
    "                batch_labels[folder, int(t[folder + (batch*batch_size)].strip().split(';')[2])] = 1\n",
    "            yield batch_data, batch_labels #you yield the batch_data and the batch_labels, remember what does yield do\n",
    "        # write the code for the remaining data points which are left after full batches"
   ]
  },
  {
   "cell_type": "markdown",
   "id": "beb2acc4-c329-4ba6-98e1-2f1ceb9d723b",
   "metadata": {},
   "source": [
    "#### Generator & Support Functions"
   ]
  },
  {
   "cell_type": "code",
   "execution_count": 6,
   "id": "cefbba76-27a7-49a4-ae50-36787fa79d3a",
   "metadata": {},
   "outputs": [],
   "source": [
    "def process_image(source_path, folder_list, batch_size, img_ids,  img_count, height, width):\n",
    "    # we iterate over the number of batches\n",
    "    batch_data = np.zeros((batch_size, img_count, height, width, 3)) # x is the number of images you use for each video, (y,z) is the final size of the input images and 3 is the number of channels RGB\n",
    "    batch_labels = np.zeros((batch_size,5)) # batch_labels is the one hot representation of the output\n",
    "    for folder in range(batch_size): # iterate over the batch_size\n",
    "        imgs = os.listdir(source_path+'/'+ t[folder + (batch*batch_size)].split(';')[0]) # read all the images in the folder\n",
    "        for idx,item in enumerate(img_ids): #  Iterate iver the frames/images of a folder to read them in\n",
    "            image = imread(source_path+'/'+ t[folder + (batch*batch_size)].strip().split(';')[0]+'/'+imgs[item]).astype(np.float32)\n",
    "\n",
    "            #crop the images and resize them. Note that the images are of 2 different shape\n",
    "            #and the conv3D will throw error if the inputs in a batch have different shapes\n",
    "            if image.shape[1] == 160:\n",
    "                image = image[:, 20:140, :] # Cropping  20 px from the sides...  to make it a square image.\n",
    "\n",
    "            res_image = resize(image=image, output_shape=(height, width), anti_aliasing=True)\n",
    "\n",
    "            batch_data[folder,idx,:,:,0] = (res_image[:,:,0] / 255) #normalise and feed in the image\n",
    "            batch_data[folder,idx,:,:,1] = (res_image[:,:,1] / 255) #normalise and feed in the image\n",
    "            batch_data[folder,idx,:,:,2] = (res_image[:,:,2] / 255) #normalise and feed in the image\n",
    "\n",
    "        batch_labels[folder, int(t[folder + (batch*batch_size)].strip().split(';')[2])] = 1\n",
    "    yield batch_data, batch_labels #you yield the batch_data and the batch_labels, remember what does yield do"
   ]
  },
  {
   "cell_type": "code",
   "execution_count": 7,
   "id": "a7b2fc78-8ab6-45c5-aa28-f0af7055c3bc",
   "metadata": {},
   "outputs": [],
   "source": [
    "def generator(source_path, folder_list, batch_size, img_ids, height, width):\n",
    "    print( 'Source path = ', source_path, '; batch size =', batch_size)\n",
    "    #img_ids = np.arange(0,30,2) #create a list of image numbers you want to use for a particular video\n",
    "    while True:\n",
    "        t = np.random.permutation(folder_list)\n",
    "        num_batches = len(t)//batch_size  # calculate the number of batches #no. of sequences/batch_size... @ 1 seq = 1 video.. (eg: seq => 100/10 = 10)\n",
    "        print('Total Sequences :', num_batches * batch_size)\n",
    "        x = len(img_idx)\n",
    "        for batch in range(num_batches): # we iterate over the number of batches\n",
    "            yield process_image(source_path, folder_list, batch_size, img_ids, x, height, width)\n",
    "\n",
    "        # write the code for the remaining data points which are left after full batches\n",
    "        rem_batches = len(t) % batch_size\n",
    "        yield process_image(source_path, folder_list, rem_batches, img_ids, x, height, width)"
   ]
  },
  {
   "cell_type": "code",
   "execution_count": 8,
   "id": "1c5edeb3-1a81-47bb-8805-e8d080cd6941",
   "metadata": {},
   "outputs": [
    {
     "data": {
      "text/plain": [
       "range(0, 33)"
      ]
     },
     "execution_count": 8,
     "metadata": {},
     "output_type": "execute_result"
    }
   ],
   "source": [
    "t = np.random.permutation(train_doc)\n",
    "nb = len(t)//batch_size\n",
    "range(nb)"
   ]
  },
  {
   "cell_type": "markdown",
   "id": "a62d9a0f-1b6a-4f19-a6f7-99ade99780f0",
   "metadata": {},
   "source": [
    "## Prepare a Model"
   ]
  },
  {
   "cell_type": "markdown",
   "id": "b876f842-c13c-4a29-ab18-aa233aea4203",
   "metadata": {},
   "source": [
    "### 1. Create a Conv3D + RNN (GRU)"
   ]
  },
  {
   "cell_type": "code",
   "execution_count": 9,
   "id": "7acffdb9-c15c-4bb2-be45-c36431d0bdc3",
   "metadata": {},
   "outputs": [],
   "source": [
    "import keras\n",
    "from keras.models import Sequential, Model\n",
    "from keras.layers import Dense, Dropout, Flatten, BatchNormalization, Activation\n",
    "from keras.layers import Conv3D, MaxPooling3D, Conv2D, MaxPooling2D\n",
    "from keras.regularizers import l2\n",
    "from keras import optimizers\n",
    "from tensorflow.python.keras.utils.data_utils import Sequence"
   ]
  },
  {
   "cell_type": "code",
   "execution_count": 27,
   "id": "d8dccd8b-024c-4b99-8220-3d7331e7530b",
   "metadata": {},
   "outputs": [],
   "source": [
    "def prepare_conv3d_model():\n",
    "    model = Sequential()\n",
    "    model.add(Conv3D(32, (3,3,3), padding='same', input_shape=(len(img_idx), height, width, 3)))\n",
    "    model.add(Activation('relu'))\n",
    "    model.add(MaxPooling3D(pool_size=(2, 2, 2)))\n",
    "\n",
    "    model.add(Conv3D(64, (3,3,3), padding='same'))\n",
    "    model.add(Activation('relu'))\n",
    "    model.add(BatchNormalization())\n",
    "    model.add(MaxPooling3D(pool_size=(2, 2, 2)))\n",
    "\n",
    "    model.add(Conv3D(64, (3,3,3), padding='same'))\n",
    "    model.add(Activation('relu'))\n",
    "    model.add(MaxPooling3D(pool_size=(2, 2, 2)))\n",
    "\n",
    "    model.add(Flatten())\n",
    "    model.add(Dense(128))\n",
    "    model.add(Activation('relu'))\n",
    "    model.add(Dropout(0.20))\n",
    "\n",
    "    model.add(Dense(num_classes))\n",
    "    model.add(Activation('softmax'))\n",
    "    return model"
   ]
  },
  {
   "cell_type": "code",
   "execution_count": 28,
   "id": "012bc23c-284b-490d-9413-5ef1b08e6cf7",
   "metadata": {},
   "outputs": [
    {
     "name": "stdout",
     "output_type": "stream",
     "text": [
      "Model: \"sequential_4\"\n",
      "_________________________________________________________________\n",
      " Layer (type)                Output Shape              Param #   \n",
      "=================================================================\n",
      " conv3d_12 (Conv3D)          (None, 15, 100, 100, 32   2624      \n",
      "                             )                                   \n",
      "                                                                 \n",
      " activation_20 (Activation)  (None, 15, 100, 100, 32   0         \n",
      "                             )                                   \n",
      "                                                                 \n",
      " max_pooling3d_12 (MaxPooli  (None, 7, 50, 50, 32)     0         \n",
      " ng3D)                                                           \n",
      "                                                                 \n",
      " conv3d_13 (Conv3D)          (None, 7, 50, 50, 64)     55360     \n",
      "                                                                 \n",
      " activation_21 (Activation)  (None, 7, 50, 50, 64)     0         \n",
      "                                                                 \n",
      " batch_normalization_4 (Bat  (None, 7, 50, 50, 64)     256       \n",
      " chNormalization)                                                \n",
      "                                                                 \n",
      " max_pooling3d_13 (MaxPooli  (None, 3, 25, 25, 64)     0         \n",
      " ng3D)                                                           \n",
      "                                                                 \n",
      " conv3d_14 (Conv3D)          (None, 3, 25, 25, 64)     110656    \n",
      "                                                                 \n",
      " activation_22 (Activation)  (None, 3, 25, 25, 64)     0         \n",
      "                                                                 \n",
      " max_pooling3d_14 (MaxPooli  (None, 1, 12, 12, 64)     0         \n",
      " ng3D)                                                           \n",
      "                                                                 \n",
      " flatten_2 (Flatten)         (None, 9216)              0         \n",
      "                                                                 \n",
      " dense_8 (Dense)             (None, 128)               1179776   \n",
      "                                                                 \n",
      " activation_23 (Activation)  (None, 128)               0         \n",
      "                                                                 \n",
      " dropout_4 (Dropout)         (None, 128)               0         \n",
      "                                                                 \n",
      " dense_9 (Dense)             (None, 5)                 645       \n",
      "                                                                 \n",
      " activation_24 (Activation)  (None, 5)                 0         \n",
      "                                                                 \n",
      "=================================================================\n",
      "Total params: 1349317 (5.15 MB)\n",
      "Trainable params: 1349189 (5.15 MB)\n",
      "Non-trainable params: 128 (512.00 Byte)\n",
      "_________________________________________________________________\n"
     ]
    }
   ],
   "source": [
    "conv_3d_model = prepare_conv3d_model()\n",
    "optimizer = optimizers.Adam()\n",
    "conv_3d_model.compile(optimizer, loss='categorical_crossentropy', metrics=['categorical_accuracy'])\n",
    "conv_3d_model.summary()"
   ]
  },
  {
   "cell_type": "code",
   "execution_count": 29,
   "id": "76d513da-c9a4-4a01-a614-c944b368c390",
   "metadata": {},
   "outputs": [],
   "source": [
    "class LossHistory(keras.callbacks.Callback):\n",
    "  def on_train_begin(self, logs={}):\n",
    "    self.losses = []\n",
    "\n",
    "  def on_epoch_end(self, epoch, logs={}):\n",
    "    self.losses.append(logs.get('loss'))"
   ]
  },
  {
   "cell_type": "code",
   "execution_count": 30,
   "id": "9e9452a5-81e6-420f-9ce8-e1770bb771ff",
   "metadata": {},
   "outputs": [
    {
     "name": "stdout",
     "output_type": "stream",
     "text": [
      "Source path =  Project_data/train ; batch size = 20\n",
      "Total Sequences : 660\n"
     ]
    },
    {
     "ename": "AttributeError",
     "evalue": "'generator' object has no attribute 'shape'",
     "output_type": "error",
     "traceback": [
      "\u001b[1;31m---------------------------------------------------------------------------\u001b[0m",
      "\u001b[1;31mAttributeError\u001b[0m                            Traceback (most recent call last)",
      "Cell \u001b[1;32mIn[30], line 9\u001b[0m\n\u001b[0;32m      6\u001b[0m epochs\u001b[38;5;241m=\u001b[39m\u001b[38;5;241m3\u001b[39m\n\u001b[0;32m      8\u001b[0m \u001b[38;5;66;03m#conv_3d_model.fit_generator(generator=training_data_gen, validation_data=validation_data_gen, epochs=epochs, callbacks=[history])\u001b[39;00m\n\u001b[1;32m----> 9\u001b[0m \u001b[43mconv_3d_model\u001b[49m\u001b[38;5;241;43m.\u001b[39;49m\u001b[43mfit\u001b[49m\u001b[43m(\u001b[49m\u001b[43mx\u001b[49m\u001b[38;5;241;43m=\u001b[39;49m\u001b[43mtraining_data_gen\u001b[49m\u001b[43m,\u001b[49m\u001b[43m \u001b[49m\u001b[43mvalidation_data\u001b[49m\u001b[38;5;241;43m=\u001b[39;49m\u001b[43mvalidation_data_gen\u001b[49m\u001b[43m,\u001b[49m\u001b[43m \u001b[49m\u001b[43mepochs\u001b[49m\u001b[38;5;241;43m=\u001b[39;49m\u001b[43mepochs\u001b[49m\u001b[43m,\u001b[49m\n\u001b[0;32m     10\u001b[0m \u001b[43m                  \u001b[49m\u001b[43mverbose\u001b[49m\u001b[38;5;241;43m=\u001b[39;49m\u001b[38;5;241;43m1\u001b[39;49m\u001b[43m,\u001b[49m\u001b[43m \u001b[49m\u001b[43muse_multiprocessing\u001b[49m\u001b[38;5;241;43m=\u001b[39;49m\u001b[38;5;28;43;01mTrue\u001b[39;49;00m\u001b[43m,\u001b[49m\u001b[43m \u001b[49m\u001b[43mcallbacks\u001b[49m\u001b[38;5;241;43m=\u001b[39;49m\u001b[43m[\u001b[49m\u001b[43mhistory\u001b[49m\u001b[43m]\u001b[49m\u001b[43m)\u001b[49m\n\u001b[0;32m     12\u001b[0m plot_data[lr] \u001b[38;5;241m=\u001b[39m history\u001b[38;5;241m.\u001b[39mlosses\n",
      "File \u001b[1;32mC:\\Program Files\\Python39\\lib\\site-packages\\keras\\src\\utils\\traceback_utils.py:70\u001b[0m, in \u001b[0;36mfilter_traceback.<locals>.error_handler\u001b[1;34m(*args, **kwargs)\u001b[0m\n\u001b[0;32m     67\u001b[0m     filtered_tb \u001b[38;5;241m=\u001b[39m _process_traceback_frames(e\u001b[38;5;241m.\u001b[39m__traceback__)\n\u001b[0;32m     68\u001b[0m     \u001b[38;5;66;03m# To get the full stack trace, call:\u001b[39;00m\n\u001b[0;32m     69\u001b[0m     \u001b[38;5;66;03m# `tf.debugging.disable_traceback_filtering()`\u001b[39;00m\n\u001b[1;32m---> 70\u001b[0m     \u001b[38;5;28;01mraise\u001b[39;00m e\u001b[38;5;241m.\u001b[39mwith_traceback(filtered_tb) \u001b[38;5;28;01mfrom\u001b[39;00m \u001b[38;5;28;01mNone\u001b[39;00m\n\u001b[0;32m     71\u001b[0m \u001b[38;5;28;01mfinally\u001b[39;00m:\n\u001b[0;32m     72\u001b[0m     \u001b[38;5;28;01mdel\u001b[39;00m filtered_tb\n",
      "File \u001b[1;32mC:\\Program Files\\Python39\\lib\\site-packages\\keras\\src\\engine\\data_adapter.py:901\u001b[0m, in \u001b[0;36mGeneratorDataAdapter.__init__\u001b[1;34m(self, x, y, sample_weights, workers, use_multiprocessing, max_queue_size, model, **kwargs)\u001b[0m\n\u001b[0;32m    894\u001b[0m     \u001b[38;5;28;01mexcept\u001b[39;00m \u001b[38;5;167;01mNotImplementedError\u001b[39;00m:\n\u001b[0;32m    895\u001b[0m         \u001b[38;5;66;03m# The above call may fail if the model is a container-like class\u001b[39;00m\n\u001b[0;32m    896\u001b[0m         \u001b[38;5;66;03m# that does not implement its own forward pass (e.g. a GAN or\u001b[39;00m\n\u001b[0;32m    897\u001b[0m         \u001b[38;5;66;03m# VAE where the forward pass is handled by subcomponents).  Such\u001b[39;00m\n\u001b[0;32m    898\u001b[0m         \u001b[38;5;66;03m# a model does not need to be built.\u001b[39;00m\n\u001b[0;32m    899\u001b[0m         \u001b[38;5;28;01mpass\u001b[39;00m\n\u001b[1;32m--> 901\u001b[0m \u001b[38;5;28mself\u001b[39m\u001b[38;5;241m.\u001b[39m_first_batch_size \u001b[38;5;241m=\u001b[39m \u001b[38;5;28mint\u001b[39m(\u001b[43mtf\u001b[49m\u001b[38;5;241;43m.\u001b[39;49m\u001b[43mnest\u001b[49m\u001b[38;5;241;43m.\u001b[39;49m\u001b[43mflatten\u001b[49m\u001b[43m(\u001b[49m\u001b[43mpeek\u001b[49m\u001b[43m)\u001b[49m\u001b[43m[\u001b[49m\u001b[38;5;241;43m0\u001b[39;49m\u001b[43m]\u001b[49m\u001b[38;5;241;43m.\u001b[39;49m\u001b[43mshape\u001b[49m[\u001b[38;5;241m0\u001b[39m])\n\u001b[0;32m    903\u001b[0m \u001b[38;5;28;01mdef\u001b[39;00m \u001b[38;5;21m_get_tensor_spec\u001b[39m(t):\n\u001b[0;32m    904\u001b[0m     \u001b[38;5;66;03m# TODO(b/226395276): Remove _with_tensor_ranks_only usage.\u001b[39;00m\n\u001b[0;32m    905\u001b[0m     \u001b[38;5;28;01mreturn\u001b[39;00m type_spec\u001b[38;5;241m.\u001b[39mtype_spec_from_value(t)\u001b[38;5;241m.\u001b[39m_with_tensor_ranks_only()\n",
      "\u001b[1;31mAttributeError\u001b[0m: 'generator' object has no attribute 'shape'"
     ]
    }
   ],
   "source": [
    "history = LossHistory()\n",
    "plot_data = {}\n",
    "\n",
    "training_data_gen = generator('Project_data/train', train_doc, batch_size, img_idx, height, width)\n",
    "validation_data_gen = generator('Project_data/val', val_doc, batch_size, img_idx, height, width)\n",
    "epochs=3\n",
    "\n",
    "#conv_3d_model.fit_generator(generator=training_data_gen, validation_data=validation_data_gen, epochs=epochs, callbacks=[history])\n",
    "conv_3d_model.fit(x=training_data_gen, validation_data=validation_data_gen, epochs=epochs,\n",
    "                  verbose=1, use_multiprocessing=True, callbacks=[history])\n",
    "\n",
    "plot_data[lr] = history.losses"
   ]
  },
  {
   "cell_type": "code",
   "execution_count": 31,
   "id": "bd503178-c665-467b-a400-1d6162f963b5",
   "metadata": {},
   "outputs": [
    {
     "data": {
      "text/plain": [
       "15"
      ]
     },
     "execution_count": 31,
     "metadata": {},
     "output_type": "execute_result"
    }
   ],
   "source": [
    "len(np.arange(0,30,2))"
   ]
  },
  {
   "cell_type": "code",
   "execution_count": null,
   "id": "cc2789c7-2878-4581-8511-138fd67bd0d2",
   "metadata": {},
   "outputs": [],
   "source": [
    "train_doc[:5]"
   ]
  },
  {
   "cell_type": "code",
   "execution_count": null,
   "id": "1e07412c-9a5b-4341-afc4-3126fcc2ead4",
   "metadata": {},
   "outputs": [],
   "source": []
  },
  {
   "cell_type": "code",
   "execution_count": null,
   "id": "5c662d97-0b91-42c9-9d00-3ddf2dc4846f",
   "metadata": {},
   "outputs": [],
   "source": [
    "#\"Project_data\\train\\WIN_20180926_17_00_22_Pro_Stop_new\\WIN_20180926_17_00_22_Pro_00032.png\"\n",
    "#Project_data/train/WIN_20180926_17_00_22_Pro_Stop_new/WIN_20180926_17_00_22_Pro_00032.png\n",
    "\n",
    "img = imread(\"Project_data/val/WIN_20180926_17_33_14_Pro_Right_Swipe_new/WIN_20180926_17_33_14_Pro_00057.png\").astype(np.float32)\n",
    "img.shape[1]\n",
    "import matplotlib.pyplot as plt\n",
    "r_img = resize(image=img[:, 20:140, :], output_shape=(100,100), anti_aliasing=True)\n",
    "plt.imshow(r_img[: ,:, 0], cmap='Reds')\n",
    "plt.show()\n",
    "plt.imshow(r_img[: ,:, 1], cmap='Greens')\n",
    "plt.show()\n",
    "plt.imshow(r_img[: ,:, 2], cmap='Blues')"
   ]
  },
  {
   "cell_type": "code",
   "execution_count": null,
   "id": "9b8a9a06-bfc4-416d-9279-86310ed67f1b",
   "metadata": {},
   "outputs": [],
   "source": [
    "3//2"
   ]
  },
  {
   "cell_type": "code",
   "execution_count": null,
   "id": "d38f01f5-a2fa-4c9b-a96b-4ad9f08a3bbf",
   "metadata": {},
   "outputs": [],
   "source": []
  },
  {
   "cell_type": "code",
   "execution_count": null,
   "id": "529ca8d4-7f7b-4ea8-8bd0-c5cbb277a77b",
   "metadata": {},
   "outputs": [],
   "source": []
  }
 ],
 "metadata": {
  "kernelspec": {
   "display_name": "Python 3 (ipykernel)",
   "language": "python",
   "name": "python3"
  },
  "language_info": {
   "codemirror_mode": {
    "name": "ipython",
    "version": 3
   },
   "file_extension": ".py",
   "mimetype": "text/x-python",
   "name": "python",
   "nbconvert_exporter": "python",
   "pygments_lexer": "ipython3",
   "version": "3.9.13"
  }
 },
 "nbformat": 4,
 "nbformat_minor": 5
}
